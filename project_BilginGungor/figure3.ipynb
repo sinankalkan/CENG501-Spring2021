{
  "nbformat": 4,
  "nbformat_minor": 0,
  "metadata": {
    "colab": {
      "name": "figure3.ipynb",
      "provenance": [],
      "collapsed_sections": []
    },
    "kernelspec": {
      "display_name": "Python 3",
      "language": "python",
      "name": "python3"
    },
    "language_info": {
      "codemirror_mode": {
        "name": "ipython",
        "version": 3
      },
      "file_extension": ".py",
      "mimetype": "text/x-python",
      "name": "python",
      "nbconvert_exporter": "python",
      "pygments_lexer": "ipython3",
      "version": "3.7.10"
    },
    "accelerator": "GPU"
  },
  "cells": [
    {
      "cell_type": "markdown",
      "metadata": {
        "id": "NUGQB8X3vYOf"
      },
      "source": [
        "#Definitions"
      ]
    },
    {
      "cell_type": "code",
      "metadata": {
        "id": "PV-ZfxPRthEi"
      },
      "source": [
        "import torch\n",
        "import torchvision\n",
        "import torchvision.transforms as transforms\n",
        "import numpy as np\n",
        "import matplotlib.pyplot as plt"
      ],
      "execution_count": 1,
      "outputs": []
    },
    {
      "cell_type": "markdown",
      "metadata": {
        "id": "5OhYgAFDvgnE"
      },
      "source": [
        "##Cifar10 Loader"
      ]
    },
    {
      "cell_type": "code",
      "metadata": {
        "id": "4En3HJ93pmc1"
      },
      "source": [
        "def get_cifar10_loaders(batch_size, partial=None, random=None):\n",
        "  transform = transforms.Compose(\n",
        "      [transforms.ToTensor(),\n",
        "      transforms.Normalize((0.5, 0.5, 0.5), (0.5, 0.5, 0.5))])\n",
        "\n",
        "  trainset = torchvision.datasets.CIFAR10(root='./data', train=True,\n",
        "                                          download=True, transform=transform)\n",
        "  \n",
        "  if random is not None:\n",
        "    temp = np.random.randint(10, size=len(trainset))\n",
        "    trainset.targets = [int(label) for label in temp]\n",
        "\n",
        "  if partial is not None:\n",
        "    indices = np.arange(0,len(trainset))\n",
        "    np.random.shuffle(indices)\n",
        "    trainloader = torch.utils.data.DataLoader(trainset, batch_size=batch_size,\n",
        "                                              shuffle=False, num_workers=2, \n",
        "                                              sampler=torch.utils.data.SubsetRandomSampler(indices[:partial]))\n",
        "  else:\n",
        "    trainloader = torch.utils.data.DataLoader(trainset, batch_size=batch_size,\n",
        "                                              shuffle=True, num_workers=2)\n",
        "\n",
        "  testset = torchvision.datasets.CIFAR10(root='./data', train=False,\n",
        "                                        download=True, transform=transform)\n",
        "  testloader = torch.utils.data.DataLoader(testset, batch_size=batch_size,\n",
        "                                          shuffle=False, num_workers=2)\n",
        "  return trainloader, testloader"
      ],
      "execution_count": 3,
      "outputs": []
    },
    {
      "cell_type": "markdown",
      "metadata": {
        "id": "UkUx77ajvkzM"
      },
      "source": [
        "##Resnet implimation\n",
        "\n",
        "It is a slight modification of code from:\n",
        "\n",
        " https://github.com/hysts/pytorch_wrn/blob/master/wrn.py"
      ]
    },
    {
      "cell_type": "code",
      "metadata": {
        "colab": {
          "base_uri": "https://localhost:8080/"
        },
        "id": "7sEVkS5XrhGF",
        "outputId": "6fc5c3ef-93f5-4c14-ef16-261b463ce9d0"
      },
      "source": [
        "!pip install torchinfo"
      ],
      "execution_count": 9,
      "outputs": [
        {
          "output_type": "stream",
          "text": [
            "Collecting torchinfo\n",
            "  Downloading torchinfo-1.5.2-py3-none-any.whl (18 kB)\n",
            "Installing collected packages: torchinfo\n",
            "Successfully installed torchinfo-1.5.2\n"
          ],
          "name": "stdout"
        }
      ]
    },
    {
      "cell_type": "code",
      "metadata": {
        "id": "ZHYq571NoJf0"
      },
      "source": [
        "import torch\n",
        "import torch.nn as nn\n",
        "import torch.optim\n",
        "import torch.utils.data\n",
        "import numpy as np\n",
        "import matplotlib.pyplot as plt\n",
        "from torchinfo import summary\n",
        "\n",
        "\n",
        "def initialize_weights(module):\n",
        "    if isinstance(module, nn.Conv2d):\n",
        "        nn.init.kaiming_normal_(module.weight.data, mode='fan_in')\n",
        "    elif isinstance(module, nn.BatchNorm2d):\n",
        "        module.weight.data.uniform_()\n",
        "        module.bias.data.zero_()\n",
        "    elif isinstance(module, nn.Linear):\n",
        "        module.bias.data.zero_()\n",
        "\n",
        "class BasicBlock(nn.Module):\n",
        "    def __init__(self, in_channels, out_channels, stride, drop_rate):\n",
        "        super(BasicBlock, self).__init__()\n",
        "\n",
        "        self.drop_rate = drop_rate\n",
        "\n",
        "        self._preactivate_both = (in_channels != out_channels)\n",
        "\n",
        "        self.bn1 = nn.BatchNorm2d(in_channels)\n",
        "        self.conv1 = nn.Conv2d(\n",
        "            in_channels,\n",
        "            out_channels,\n",
        "            kernel_size=3,\n",
        "            stride=stride,  # downsample with first conv\n",
        "            padding=1,\n",
        "            bias=False)\n",
        "\n",
        "        self.bn2 = nn.BatchNorm2d(out_channels)\n",
        "        self.conv2 = nn.Conv2d(\n",
        "            out_channels,\n",
        "            out_channels,\n",
        "            kernel_size=3,\n",
        "            stride=1,\n",
        "            padding=1,\n",
        "            bias=False)\n",
        "\n",
        "        self.shortcut = nn.Sequential()\n",
        "        if in_channels != out_channels:\n",
        "            self.shortcut.add_module(\n",
        "                'conv',\n",
        "                nn.Conv2d(\n",
        "                    in_channels,\n",
        "                    out_channels,\n",
        "                    kernel_size=1,\n",
        "                    stride=stride,  # downsample\n",
        "                    padding=0,\n",
        "                    bias=False))\n",
        "\n",
        "    def forward(self, x):\n",
        "        if self._preactivate_both:\n",
        "            x = nn.functional.relu(\n",
        "                self.bn1(x), inplace=True)  # shortcut after preactivation\n",
        "            y = self.conv1(x)\n",
        "        else:\n",
        "            y = nn.functional.relu(\n",
        "                self.bn1(x),\n",
        "                inplace=True)  # preactivation only for residual path\n",
        "            y = self.conv1(y)\n",
        "        if self.drop_rate > 0:\n",
        "            y = nn.functional.dropout(\n",
        "                y, p=self.drop_rate, training=self.training, inplace=False)\n",
        "\n",
        "        y = nn.functional.relu(self.bn2(y), inplace=True)\n",
        "        y = self.conv2(y)\n",
        "        y += self.shortcut(x)\n",
        "        return y\n",
        "\n",
        "class WideResNet(nn.Module):\n",
        "    def __init__(self, depth = 28, widening_factor = 4, base_channels =  16, n_classes =  10 ,  input_shape = (1, 3, 32, 32), drop_rate = 0):\n",
        "        super(WideResNet, self).__init__()\n",
        "\n",
        "        block = BasicBlock\n",
        "        n_blocks_per_stage = (depth - 4) // 6   # 4 blocks per group as in paper\n",
        "        assert n_blocks_per_stage * 6 + 4 == depth\n",
        "\n",
        "        n_channels = [\n",
        "            base_channels, base_channels * widening_factor,\n",
        "            base_channels * 2 * widening_factor,\n",
        "            base_channels * 4 * widening_factor\n",
        "        ]\n",
        "\n",
        "        self.conv = nn.Conv2d(\n",
        "            input_shape[1],\n",
        "            n_channels[0],\n",
        "            kernel_size=5,    \n",
        "            stride=1,\n",
        "            padding=1,\n",
        "            bias=False)   # 3 changed to 5 for better visualization\n",
        "\n",
        "        self.stage1 = self._make_stage(\n",
        "            n_channels[0],\n",
        "            n_channels[1],\n",
        "            n_blocks_per_stage,\n",
        "            block,\n",
        "            stride=1,\n",
        "            drop_rate=drop_rate)\n",
        "        self.stage2 = self._make_stage(\n",
        "            n_channels[1],\n",
        "            n_channels[2],\n",
        "            n_blocks_per_stage,\n",
        "            block,\n",
        "            stride=2,\n",
        "            drop_rate=drop_rate)\n",
        "        self.stage3 = self._make_stage(\n",
        "            n_channels[2],\n",
        "            n_channels[3],\n",
        "            n_blocks_per_stage,\n",
        "            block,\n",
        "            stride=2,\n",
        "            drop_rate=drop_rate)\n",
        "        self.bn = nn.BatchNorm2d(n_channels[3])\n",
        "\n",
        "        # compute conv feature size\n",
        "        with torch.no_grad():\n",
        "            self.feature_size = self._forward_conv(\n",
        "                torch.zeros(*input_shape)).view(-1).shape[0]\n",
        "\n",
        "        self.fc = nn.Linear(self.feature_size, n_classes)\n",
        "\n",
        "        # initialize weights\n",
        "        self.apply(initialize_weights)\n",
        "\n",
        "    def _make_stage(self, in_channels, out_channels, n_blocks, block, stride,\n",
        "                    drop_rate):\n",
        "        stage = nn.Sequential()\n",
        "        for index in range(n_blocks):\n",
        "            block_name = 'block{}'.format(index + 1)\n",
        "            if index == 0:\n",
        "                stage.add_module(\n",
        "                    block_name,\n",
        "                    block(\n",
        "                        in_channels,\n",
        "                        out_channels,\n",
        "                        stride=stride,\n",
        "                        drop_rate=drop_rate))\n",
        "            else:\n",
        "                stage.add_module(\n",
        "                    block_name,\n",
        "                    block(\n",
        "                        out_channels,\n",
        "                        out_channels,\n",
        "                        stride=1,\n",
        "                        drop_rate=drop_rate))\n",
        "        return stage\n",
        "\n",
        "    def _forward_conv(self, x):\n",
        "        x = self.conv(x)\n",
        "        x = self.stage1(x)\n",
        "        x = self.stage2(x)\n",
        "        x = self.stage3(x)\n",
        "        x = nn.functional.relu(self.bn(x), inplace=True)\n",
        "        x = nn.functional.adaptive_avg_pool2d(x, output_size=1)\n",
        "        return x\n",
        "\n",
        "    def forward(self, x):\n",
        "        x = self._forward_conv(x)\n",
        "        x = x.view(x.size(0), -1)\n",
        "        x = self.fc(x)\n",
        "        return x"
      ],
      "execution_count": 15,
      "outputs": []
    },
    {
      "cell_type": "markdown",
      "metadata": {
        "id": "UiXVWREyvyWd"
      },
      "source": [
        "#Optimizer"
      ]
    },
    {
      "cell_type": "code",
      "metadata": {
        "id": "uUbMeU2fuH-E"
      },
      "source": [
        "import torch.optim as optim\n",
        "from torch.optim.lr_scheduler import StepLR\n",
        "def get_training_components(learnable_params, init_lr, step_size=None, gamma=None):\n",
        "  '''\n",
        "  Function to prepare components of the training. These are all the same\n",
        "  throughout the experiments made.\n",
        "  '''\n",
        "  # The problem always be a image classification\n",
        "  criterion = nn.CrossEntropyLoss()\n",
        "  # Which parameters to be updated depends on if the training is done from scratch\n",
        "  # or with pre-trained model.\n",
        "  optimizer = optim.SGD(learnable_params, lr=init_lr, momentum=0.9)\n",
        "  # Step size depends on the # of epoch\n",
        "  if step_size is not None:\n",
        "    scheduler = StepLR(optimizer, step_size, gamma)\n",
        "    return (criterion, optimizer, scheduler)\n",
        "  return (criterion, optimizer)"
      ],
      "execution_count": 22,
      "outputs": []
    },
    {
      "cell_type": "code",
      "metadata": {
        "id": "xTa_k0-irYWE"
      },
      "source": [
        "def get_device():\n",
        "  if torch.cuda.is_available():\n",
        "    print(\"Cuda (GPU support) is available and enabled!\")\n",
        "    device = torch.device(\"cuda\")\n",
        "  else:\n",
        "    print(\"Cuda (GPU support) is not available :(\")\n",
        "    device = torch.device(\"cpu\")"
      ],
      "execution_count": 7,
      "outputs": []
    },
    {
      "cell_type": "markdown",
      "metadata": {
        "id": "gkf4cH83v4cs"
      },
      "source": [
        "#Trainer"
      ]
    },
    {
      "cell_type": "code",
      "metadata": {
        "id": "uEF1uiJZqzgk"
      },
      "source": [
        "def train(model, criterion, optimizer, epochs, dataloader, device, scheduler=None, verbose=True):\n",
        "  \"\"\"\n",
        "    Define the trainer function. We can use this for training any model.\n",
        "    The parameter names are self-explanatory.\n",
        "\n",
        "    Returns: the loss history.\n",
        "  \"\"\"\n",
        "  loss_history = [] \n",
        "  #validloss_history = []\n",
        "  misalignments = []\n",
        "  for epoch in range(epochs):\n",
        "    for i, data in enumerate(dataloader, 0):    \n",
        "      \n",
        "      # Our batch:\n",
        "      inputs, labels = data\n",
        "      inputs = inputs.to(device)\n",
        "      labels = labels.to(device)\n",
        "      #inputs = inputs.to(device)\n",
        "      #labels = labels.to(device)\n",
        "\n",
        "      # zero the gradients as PyTorch accumulates them\n",
        "      optimizer.zero_grad()\n",
        "\n",
        "      # Obtain the scores\n",
        "      outputs = model.forward(inputs)\n",
        "      #validoutputs = model.forward(validinputs)\n",
        "      # Calculate loss\n",
        "      outputs = outputs.to(device)\n",
        "      loss = criterion(outputs, labels)\n",
        "      #valid_loss = criterion(validoutputs, validlabels)\n",
        "      # Backpropagate\n",
        "      loss.backward()\n",
        "\n",
        "      # Update the weights\n",
        "      optimizer.step()\n",
        "\n",
        "      loss_history.append(loss.item())\n",
        "      #validloss_history.append(valid_loss.item())\n",
        "      \n",
        "    if verbose: print(f'Epoch {epoch} / {epochs}: avg. train loss of last 5 iterations {np.sum(loss_history[:-6:-1])/5}')\n",
        "\n",
        "  return loss_history "
      ],
      "execution_count": 25,
      "outputs": []
    },
    {
      "cell_type": "markdown",
      "metadata": {
        "id": "cgp79lFnvcvk"
      },
      "source": [
        "#Training"
      ]
    },
    {
      "cell_type": "code",
      "metadata": {
        "id": "a-DDcqmXuIS0"
      },
      "source": [
        "def get_learnable_parameters(model):\n",
        "  params_to_update = []\n",
        "  for name, param in model.named_parameters():\n",
        "    if param.requires_grad == True:\n",
        "      # print(name)\n",
        "      params_to_update.append(param)\n",
        "  return params_to_update"
      ],
      "execution_count": 19,
      "outputs": []
    },
    {
      "cell_type": "code",
      "metadata": {
        "colab": {
          "base_uri": "https://localhost:8080/",
          "height": 300
        },
        "id": "9TEDcnO7pvBb",
        "outputId": "ecdb8e16-716a-4796-8c52-b3b1da7966c6"
      },
      "source": [
        "trainloader, _ = get_cifar10_loaders(256,random=True)\n",
        "\n",
        "dataiter = iter(trainloader)\n",
        "classes = ['plane', 'car', 'bird', 'cat', 'deer', 'dog', 'frog', 'horse', 'ship', 'truck']\n",
        "S = 4\n",
        "\n",
        "for i in range(S):\n",
        "  for j in range(S):\n",
        "    images, labels = dataiter.next()\n",
        "    X = np.transpose(images[0].numpy()/2+0.5, (1, 2, 0))\n",
        "    y = labels[0]\n",
        "\n",
        "    plt.subplot(S, S, i*S+j+1)\n",
        "    plt.imshow(X)\n",
        "    plt.axis('off')\n",
        "    plt.title(classes[y])\n",
        "    plt.subplots_adjust(hspace = 0.5)\n",
        "\n",
        "plt.show()"
      ],
      "execution_count": 24,
      "outputs": [
        {
          "output_type": "stream",
          "text": [
            "Files already downloaded and verified\n",
            "Files already downloaded and verified\n"
          ],
          "name": "stdout"
        },
        {
          "output_type": "display_data",
          "data": {
            "image/png": "[encoded data removed]",
            "text/plain": [
              "<Figure size 432x288 with 16 Axes>"
            ]
          },
          "metadata": {
            "tags": [],
            "needs_background": "light"
          }
        }
      ]
    },
    {
      "cell_type": "code",
      "metadata": {
        "colab": {
          "base_uri": "https://localhost:8080/"
        },
        "id": "GEc29l0mr2C0",
        "outputId": "60ada057-fd37-42b0-e43f-dc6b47077d00"
      },
      "source": [
        "WRN_28_4 = WideResNet(depth=28,widening_factor=4)\n",
        "device = get_device()\n",
        "WRN_28_4 = WRN_28_4.to(device)\n",
        "#simple_cnn.train()\n",
        "epochs = 1800\n",
        "learning_rate = 0.005"
      ],
      "execution_count": 16,
      "outputs": [
        {
          "output_type": "stream",
          "text": [
            "Cuda (GPU support) is available and enabled!\n"
          ],
          "name": "stdout"
        }
      ]
    },
    {
      "cell_type": "code",
      "metadata": {
        "id": "rkfZ20oTuXen"
      },
      "source": [
        "learnable_parameters = get_learnable_parameters(WRN_28_4)\n",
        "criterion, optimizer = get_training_components(learnable_parameters, learning_rate)"
      ],
      "execution_count": 23,
      "outputs": []
    },
    {
      "cell_type": "code",
      "metadata": {
        "id": "PSIVScjuvICE"
      },
      "source": [
        "loss_history = train(WRN_28_4, criterion, optimizer, epochs, trainloader, device)\n",
        "PATH = \"WRN_28_4.pt\"\n",
        "torch.save(WRN_28_4, PATH)\n",
        "with open('LossHist.npy', 'wb') as f:\n",
        "    np.save(f, loss_history)"
      ],
      "execution_count": null,
      "outputs": []
    },
    {
      "cell_type": "code",
      "metadata": {
        "id": "-dxZONLuxCk0"
      },
      "source": [
        ""
      ],
      "execution_count": null,
      "outputs": []
    }
  ]
}