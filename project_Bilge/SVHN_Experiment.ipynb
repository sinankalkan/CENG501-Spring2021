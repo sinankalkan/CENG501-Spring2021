{
  "nbformat": 4,
  "nbformat_minor": 0,
  "metadata": {
    "colab": {
      "name": "SVHN_Experiment.ipynb",
      "provenance": [],
      "collapsed_sections": [],
      "toc_visible": true
    },
    "kernelspec": {
      "name": "python3",
      "display_name": "Python 3"
    },
    "language_info": {
      "name": "python"
    },
    "accelerator": "GPU"
  },
  "cells": [
    {
      "cell_type": "markdown",
      "metadata": {
        "id": "8IEPaqFM1HsQ"
      },
      "source": [
        "# Libraries"
      ]
    },
    {
      "cell_type": "code",
      "metadata": {
        "colab": {
          "base_uri": "https://localhost:8080/"
        },
        "id": "T2xX56rBSZov",
        "outputId": "3afd9edf-b951-4e2b-c71a-b991160c1224"
      },
      "source": [
        "# google drive access\n",
        "from google.colab import drive\n",
        "drive.mount('/content/drive')\n",
        "\n",
        "%cd drive/MyDrive/Colab Notebooks"
      ],
      "execution_count": null,
      "outputs": [
        {
          "output_type": "stream",
          "text": [
            "Mounted at /content/drive\n",
            "/content/drive/MyDrive/Colab Notebooks\n"
          ],
          "name": "stdout"
        }
      ]
    },
    {
      "cell_type": "code",
      "metadata": {
        "colab": {
          "base_uri": "https://localhost:8080/"
        },
        "id": "DJzY2I1n1Pox",
        "outputId": "18cc8b2d-e516-4e7d-9ec5-21a77276b071"
      },
      "source": [
        "from tqdm import tqdm\n",
        "import numpy as np\n",
        "import matplotlib.pyplot as plt\n",
        "\n",
        "import torch\n",
        "import torch.nn as nn\n",
        "import torch.nn.functional as F\n",
        "import torch.optim as optim\n",
        "from torch.utils.data import Dataset, DataLoader, random_split\n",
        "from torch.utils.tensorboard import SummaryWriter\n",
        "import torchvision\n",
        "from sklearn.metrics import accuracy_score\n",
        "\n",
        "# install and import the torchinfo library\n",
        "!pip install torchinfo\n",
        "from torchinfo import summary"
      ],
      "execution_count": null,
      "outputs": [
        {
          "output_type": "stream",
          "text": [
            "Collecting torchinfo\n",
            "  Downloading https://files.pythonhosted.org/packages/86/3f/1ca9c336e489b2b7ae3f8cc8a361940ce67ffafc184bda0c3e0dc761eaae/torchinfo-1.5.2-py3-none-any.whl\n",
            "Installing collected packages: torchinfo\n",
            "Successfully installed torchinfo-1.5.2\n"
          ],
          "name": "stdout"
        }
      ]
    },
    {
      "cell_type": "markdown",
      "metadata": {
        "id": "fsUnnnTR3p-V"
      },
      "source": [
        "# Model"
      ]
    },
    {
      "cell_type": "code",
      "metadata": {
        "id": "v8jKMSwzNYoG"
      },
      "source": [
        "class CCM(nn.Module):\n",
        "    \"\"\"\n",
        "    Channel wise calibration model:\n",
        "        y = x * Sigmoid(BN(Group_Conv(GAP(x))))\n",
        "    \"\"\"\n",
        "    def __init__(self, in_channel, out_channel):\n",
        "        super(CCM, self).__init__()\n",
        "        self.adapool = nn.AdaptiveAvgPool2d(1)\n",
        "        self.conv = nn.Conv2d(in_channel, out_channel, kernel_size=1, \n",
        "            stride=1, padding=0, groups=in_channel, bias=False)\n",
        "        self.bn = nn.BatchNorm2d(out_channel)\n",
        "        self.sig = nn.Sigmoid()\n",
        "\n",
        "    def forward(self, x):\n",
        "        out = self.adapool(x)\n",
        "        out = self.conv(out)\n",
        "        out = self.bn(out)\n",
        "        out = self.sig(out)\n",
        "        out = x * out\n",
        "        return out\n",
        "\n",
        "\n",
        "class SCM(nn.Module):\n",
        "    \"\"\"\n",
        "    Spatial Calibration Module:\n",
        "        y = x + Group_Conv(x)\n",
        "    \"\"\"\n",
        "    def __init__(self, channel):\n",
        "        super(SCM, self).__init__()\n",
        "        self.conv = nn.Conv2d(channel, channel, kernel_size=3,\n",
        "            stride=1, padding=1, groups=channel, bias=False)\n",
        "\n",
        "    def forward(self, x):\n",
        "        out = self.conv(x)\n",
        "        out = x + out\n",
        "        return out\n",
        "\n",
        "\n",
        "class Shortcut(nn.Module):\n",
        "    \"\"\"\n",
        "    Modified skip connections in ResNet \n",
        "    with calibration modules.\n",
        "    \"\"\"\n",
        "    def __init__(self, in_channel, out_channel, stride=1):\n",
        "        super(Shortcut, self).__init__()\n",
        "        self.conv = nn.Conv2d(in_channel, out_channel, kernel_size=1, \n",
        "            stride=stride, bias=False)\n",
        "        self.scm = SCM(out_channel)\n",
        "        self.bn = nn.BatchNorm2d(out_channel)\n",
        "        self.ccm = CCM(out_channel, out_channel)\n",
        "\n",
        "    def forward(self, x):\n",
        "        out = self.conv(x)\n",
        "        out = self.scm(out)\n",
        "        out = self.bn(out)\n",
        "        out = self.ccm(out)\n",
        "        return out\n",
        "\n",
        "\n",
        "class BasicBlock(nn.Module):\n",
        "    expansion = 1\n",
        "    \"\"\"\n",
        "    Convolutional blocks of ResNet with \n",
        "    skip connections and calibration modules.\n",
        "    \"\"\"\n",
        "    def __init__(self, in_planes, planes, stride=1):\n",
        "        super(BasicBlock, self).__init__()\n",
        "        self.conv1 = nn.Conv2d(in_planes, planes, kernel_size=3, \n",
        "            stride=stride, padding=1, bias=False)\n",
        "        # SCM and CCM for conv1\n",
        "        self.scm1 = SCM(planes)\n",
        "        self.bn1 = nn.BatchNorm2d(planes)\n",
        "        self.ccm1 = CCM(planes, planes)\n",
        "\n",
        "        self.conv2 = nn.Conv2d(planes, planes, kernel_size=3, \n",
        "            stride=1, padding=1, bias=False)\n",
        "        # SCM and CCM for conv2\n",
        "        self.scm2 = SCM(planes)\n",
        "        self.bn2 = nn.BatchNorm2d(planes)\n",
        "        self.ccm2 = CCM(planes, planes)\n",
        "\n",
        "        self.shortcut = None\n",
        "        if stride != 1 or in_planes != self.expansion*planes:\n",
        "            self.shortcut = Shortcut(in_planes, self.expansion*planes, stride)\n",
        "\n",
        "    def forward(self, x):\n",
        "        # conv1 forward pass\n",
        "        out = self.conv1(x)\n",
        "        out = self.scm1(out)\n",
        "        out = self.bn1(out)\n",
        "        out = self.ccm1(out)\n",
        "        out = F.relu(out)\n",
        "        # conv2 forward pass\n",
        "        out = self.conv2(out)\n",
        "        out = self.scm2(out)\n",
        "        out = self.bn2(out)\n",
        "        out = self.ccm2(out)\n",
        "        if self.shortcut is not None:\n",
        "            out += self.shortcut(x)\n",
        "        else:\n",
        "            out += x\n",
        "        out = F.relu(out)\n",
        "        return out\n",
        "\n",
        "\n",
        "class ResNet(nn.Module):\n",
        "    def __init__(self, block, num_blocks, num_classes=10):\n",
        "        super(ResNet, self).__init__()\n",
        "        self.in_planes = 64\n",
        "        # input convolutions\n",
        "        self.conv1 = nn.Conv2d(3, 64, kernel_size=3, stride=1, padding=1, bias=False)\n",
        "        self.scm1 = SCM(64)\n",
        "        self.bn1 = nn.BatchNorm2d(64)\n",
        "        self.ccm1 = CCM(64, 64)\n",
        "        # residual blocks\n",
        "        self.layer1 = self._make_layer(block, 64, num_blocks[0], stride=1)\n",
        "        self.layer2 = self._make_layer(block, 128, num_blocks[1], stride=2)\n",
        "        self.layer3 = self._make_layer(block, 256, num_blocks[2], stride=2)\n",
        "        self.layer4 = self._make_layer(block, 512, num_blocks[3], stride=2)\n",
        "        # classifier head\n",
        "        self.classifier = nn.Linear(512*block.expansion, num_classes)\n",
        "\n",
        "    def _make_layer(self, block, planes, num_blocks, stride):\n",
        "        strides = [stride] + [1]*(num_blocks-1)\n",
        "        layers = []\n",
        "        for stride in strides:\n",
        "            layers.append(block(self.in_planes, planes, stride))\n",
        "            self.in_planes = planes * block.expansion\n",
        "        return nn.Sequential(*layers)\n",
        "\n",
        "    def forward(self, x):\n",
        "        # forward pass of input conv\n",
        "        out = self.conv1(x)\n",
        "        out = self.scm1(out)\n",
        "        out = self.bn1(out)\n",
        "        out = self.ccm1(out)\n",
        "        out = F.relu(out)\n",
        "        # forward pass of residual blocks\n",
        "        out = self.layer1(out)\n",
        "        out = self.layer2(out)\n",
        "        out = self.layer3(out)\n",
        "        out = self.layer4(out)\n",
        "        # forward pass of classifier head\n",
        "        out = F.avg_pool2d(out, 4)\n",
        "        out = out.view(out.size(0), -1)\n",
        "        out = self.classifier(out)\n",
        "        return out\n",
        "\n",
        "\n",
        "def get_resnet18(num_classes=10):\n",
        "    return ResNet(BasicBlock, [2, 2, 2, 2], num_classes=num_classes)"
      ],
      "execution_count": null,
      "outputs": []
    },
    {
      "cell_type": "markdown",
      "metadata": {
        "id": "5yJNql2v1lhe"
      },
      "source": [
        "# Utils"
      ]
    },
    {
      "cell_type": "code",
      "metadata": {
        "id": "Fkz6_fmlaLeo"
      },
      "source": [
        "def freeze_noncalibration_layers(model):\n",
        "    for child in model.children():\n",
        "        # Base model convs are frozen\n",
        "        # print('Child: ', type(child))\n",
        "        if type(child) == nn.Conv2d:\n",
        "            froze_this_layer(child, tab='')\n",
        "        # Search for basic blocks in Sequentials\n",
        "        elif type(child) == nn.Sequential:\n",
        "            for child2 in child.children():\n",
        "                # print('\\t Child2: ', type(child2))\n",
        "                if type(child2) == nn.Conv2d:\n",
        "                    froze_this_layer(child2, tab='\\t ')\n",
        "                # Search for Shortcuts in Basic Blocks\n",
        "                elif type(child2) == BasicBlock:\n",
        "                    for child3 in child2.children():\n",
        "                        # print('\\t\\t Child3: ', type(child3))\n",
        "                        # Base model convs are frozen\n",
        "                        if type(child3) == nn.Conv2d:\n",
        "                            froze_this_layer(child3, tab='\\t\\t ')\n",
        "                        elif type(child3) == Shortcut:\n",
        "                            # Base model convs are frozen\n",
        "                            for child4 in child3.children():\n",
        "                                # print('\\t\\t\\t Child4: ', type(child4))\n",
        "                                if type(child4) == nn.Conv2d:\n",
        "                                    froze_this_layer(child4, tab='\\t\\t\\t ')\n",
        "\n",
        "def froze_this_layer(layer, tab=''):\n",
        "    for param in layer.parameters():\n",
        "        # print(tab + '********* Conv2d frozen *********')\n",
        "        param.requires_grad = False\n",
        "\n",
        "\n",
        "def accuracy(y, y_hat):\n",
        "    y_hat = (np.squeeze(y_hat) >= 0.5)\n",
        "    y = np.squeeze(y)\n",
        "    acc = accuracy_score(y, y_hat)\n",
        "    return acc"
      ],
      "execution_count": null,
      "outputs": []
    },
    {
      "cell_type": "markdown",
      "metadata": {
        "id": "vqtzEuTz3yTl"
      },
      "source": [
        "# Dataset\n"
      ]
    },
    {
      "cell_type": "code",
      "metadata": {
        "id": "Lxt8YxELBbaZ"
      },
      "source": [
        "def get_dataloader(task_no=0, subset='train', batch_size=128, val_ratio=0.2, vis=False):\n",
        "    if subset == 'test':\n",
        "        raw_data = torchvision.datasets.SVHN(root='./data', split='test', download=True)\n",
        "        shuffle = False\n",
        "        bsize = len(raw_data)\n",
        "    else:\n",
        "        raw_data = torchvision.datasets.SVHN(root='./data', split='train', download=True)\n",
        "        val_len = int(len(raw_data) * val_ratio)\n",
        "        train_len = int(len(raw_data) - val_len)\n",
        "        raw_train, raw_val = random_split(raw_data, [train_len, val_len], \n",
        "                                          generator=torch.Generator().manual_seed(42))\n",
        "        if subset == 'train':\n",
        "            raw_data = raw_train\n",
        "            shuffle = True\n",
        "            bsize = batch_size\n",
        "        elif subset == 'val':\n",
        "            raw_data = raw_val\n",
        "            shuffle = False\n",
        "            bsize = len(raw_data)\n",
        "\n",
        "    if vis:\n",
        "        classes = list(map(lambda x: 'No'+str(x), np.unique(raw_data.labels).tolist()))\n",
        "        num_classes = 10\n",
        "        samples_per_class = 7\n",
        "        visualize_samples(raw_data, classes, num_classes, samples_per_class)\n",
        "    \n",
        "    # Transforms: conversion to tensor and normalization\n",
        "    mean = [0.43768206, 0.44376972, 0.47280434] \n",
        "    std = [0.19803014, 0.20101564, 0.19703615]\n",
        "    transforms = torchvision.transforms.Compose(\n",
        "            [torchvision.transforms.ToTensor(),\n",
        "            torchvision.transforms.Normalize(mean, std)])\n",
        "    \n",
        "    task_data = CustomSVHN(raw_data, task_no, transforms)\n",
        "    print('Num. samples ({}) in task dataset: {}'.format(subset, len(task_data)))\n",
        "    dataloader = DataLoader(task_data, batch_size=bsize, \n",
        "                            shuffle=shuffle, num_workers=2)\n",
        "    return dataloader\n",
        "\n",
        "\n",
        "def visualize_samples(dataset, classes, num_classes, samples_per_class):\n",
        "    for y, cls in enumerate(classes):\n",
        "        idxs = np.flatnonzero(dataset.labels == y)\n",
        "        idxs = np.random.choice(idxs, samples_per_class, replace=False)\n",
        "        for i, idx in enumerate(idxs):\n",
        "            plt_idx = i * num_classes + y + 1\n",
        "            plt.subplot(samples_per_class, num_classes, plt_idx)\n",
        "            img, label = dataset[idx]\n",
        "            plt.imshow(img)\n",
        "            plt.axis('off')\n",
        "            if i == 0:\n",
        "                plt.title(cls)\n",
        "    plt.show()\n",
        "\n",
        "\n",
        "class CustomSVHN(Dataset):\n",
        "    def __init__(self, dataset, task_no=0, transforms=None):\n",
        "        super(CustomSVHN, self).__init__()\n",
        "        self.dataset = dataset\n",
        "        self.task_no = task_no\n",
        "        self.transforms = transforms\n",
        "        self.classes = [2*task_no, 2*task_no+1]\n",
        "        self.idxs = [idx for idx in range(len(self.dataset)) \n",
        "                    if (self.dataset[idx][1] in self.classes)]\n",
        "\n",
        "    def __len__(self):\n",
        "        return len(self.idxs)\n",
        "\n",
        "    def __getitem__(self, idx):\n",
        "        if torch.is_tensor(idx):\n",
        "            idx = idx.tolist()\n",
        "        img, y = self.dataset[self.idxs[idx]]\n",
        "        y -= 2*self.task_no\n",
        "        # convert labels to torch tensor\n",
        "        if not isinstance(y, np.ndarray):\n",
        "            y = np.array([y])\n",
        "            y = torch.from_numpy(y).float()\n",
        "        # apply input image transformations\n",
        "        if self.transforms:\n",
        "            img = self.transforms(img)\n",
        "        return img, y"
      ],
      "execution_count": null,
      "outputs": []
    },
    {
      "cell_type": "markdown",
      "metadata": {
        "id": "UwflTOUT16NS"
      },
      "source": [
        "# Main"
      ]
    },
    {
      "cell_type": "code",
      "metadata": {
        "colab": {
          "base_uri": "https://localhost:8080/",
          "height": 54
        },
        "id": "lKu3ps_A1_Dy",
        "outputId": "422e25ca-ac69-4045-bf86-b077c3df5be9"
      },
      "source": [
        "if torch.cuda.is_available():\n",
        "  print(\"Cuda (GPU support) is available and enabled!\")\n",
        "  device = torch.device(\"cuda\")\n",
        "else:\n",
        "  print(\"Cuda (GPU support) is not available\")\n",
        "  device = torch.device(\"cpu\")\n",
        "\n",
        "\"\"\"\n",
        "model = ResNet(BasicBlock, [2,2,2,2], num_classes=1)\n",
        "summary(model, input_size=(16, 3, 32, 32))\n",
        "\"\"\""
      ],
      "execution_count": null,
      "outputs": [
        {
          "output_type": "stream",
          "text": [
            "Cuda (GPU support) is available and enabled!\n"
          ],
          "name": "stdout"
        },
        {
          "output_type": "execute_result",
          "data": {
            "application/vnd.google.colaboratory.intrinsic+json": {
              "type": "string"
            },
            "text/plain": [
              "'\\nmodel = ResNet(BasicBlock, [2,2,2,2], num_classes=1)\\nsummary(model, input_size=(16, 3, 32, 32))\\n'"
            ]
          },
          "metadata": {
            "tags": []
          },
          "execution_count": 6
        }
      ]
    },
    {
      "cell_type": "code",
      "metadata": {
        "id": "1jblNUulcPTm"
      },
      "source": [
        "def train(verbose=True):\n",
        "    # create ResNet18 model\n",
        "    model = ResNet(BasicBlock, [2,2,2,2], num_classes=1)\n",
        "    model = model.to(device)\n",
        "\n",
        "    # tensorboard logger\n",
        "    writer = SummaryWriter(log_dir='runs/SVHN_experiment')\n",
        "    model_path = './models/SVHN_experiment/'\n",
        "    # training parameters\n",
        "    batch_size = 128\n",
        "    lr = 1e-2\n",
        "    epochs_per_task = 20\n",
        "\n",
        "    for task_no in range(5):\n",
        "        task_tag = 'task_' + str(task_no)\n",
        "        # freeze layers other than CCM and SCM,\n",
        "        # add new classifier head for next task\n",
        "        if task_no > 0:\n",
        "            print('************* Re-calibrating model parameters *************')\n",
        "            model = model.to('cpu')\n",
        "            freeze_noncalibration_layers(model)\n",
        "            model.classifier = nn.Linear(512*BasicBlock.expansion, 1)\n",
        "            model = model.to(device)\n",
        "\n",
        "        # check layer freezing\n",
        "        num_trainable_params = sum(p.numel() for p in model.parameters() if p.requires_grad)\n",
        "        print('************* Task: {}, Number of Trainable Parameters: {} *************'.format(task_no, num_trainable_params))\n",
        "\n",
        "        # get dataset for task no\n",
        "        task_train_loader = get_dataloader(task_no=task_no, subset='train', batch_size=batch_size)\n",
        "        task_val_loader = get_dataloader(task_no=task_no, subset='val')\n",
        "\n",
        "        # loss, optimizer and lr-scheduler are identical for each task\n",
        "        criterion = nn.BCEWithLogitsLoss()\n",
        "        optimizer = optim.SGD(model.parameters(), lr, momentum=0.9)\n",
        "        ###scheduler = optim.lr_scheduler.MultiStepLR(optimizer, milestones=[50, 100, 125], gamma=0.1)\n",
        "\n",
        "        # training iterations\n",
        "        tr_loss_hist, val_loss_hist, val_acc_hist = [], [], []\n",
        "        num_iter = 0\n",
        "        for e in range(epochs_per_task):\n",
        "            # put model to training mode after each eval\n",
        "            model.train()\n",
        "            # training for an epoch\n",
        "            for _, data in tqdm(enumerate(task_train_loader)):\n",
        "                # get the data\n",
        "                x, y = data\n",
        "                x, y = x.to(device), y.to(device)\n",
        "\n",
        "                # clear gradients\n",
        "                optimizer.zero_grad()\n",
        "\n",
        "                # calculate loss\n",
        "                yhat = model(x)\n",
        "                loss = criterion(yhat, y)\n",
        "\n",
        "                # backprop\n",
        "                loss.backward()\n",
        "\n",
        "                # update parameters\n",
        "                optimizer.step()\n",
        "\n",
        "                # store training loss\n",
        "                tr_loss_hist.append(loss.item())\n",
        "                # save training loss per minibatch iterations\n",
        "                writer.add_scalar('tr_loss/'+task_tag, loss.item(), num_iter)\n",
        "                num_iter += 1\n",
        "\n",
        "            # get average training loss for last 5 iterations\n",
        "            tr_loss = np.sum(tr_loss_hist[:-6:-1])/5\n",
        "            # update learning-rate\n",
        "            ###scheduler.step()\n",
        "            \n",
        "            # validation after each epoch\n",
        "            model.eval()\n",
        "            with torch.no_grad():\n",
        "                for i, data in enumerate(task_val_loader):\n",
        "                    x, y = data\n",
        "                    x, y = x.to(device), y.to(device)\n",
        "                    yhat = model(x)\n",
        "                # compute validation metrics\n",
        "                val_loss = criterion(yhat, y) .item()\n",
        "                val_acc = accuracy(y.to('cpu').numpy(), yhat.to('cpu').numpy())\n",
        "\n",
        "            # save validation scores\n",
        "            val_loss_hist.append(val_loss)\n",
        "            val_acc_hist.append(val_acc)\n",
        "            # save to tensorboard\n",
        "            writer.add_scalar('val_loss/'+task_tag, val_loss, e)\n",
        "            writer.add_scalar('val_acc/'+task_tag, val_acc, e)\n",
        "            # display training info\n",
        "            if verbose:\n",
        "                print('Epoch {}/{} || tr_loss:{} || val_loss:{} || val_acc:{}'.format(\n",
        "                    e+1, epochs_per_task, tr_loss, val_loss, val_acc))\n",
        "                \n",
        "        # save the model for current task\n",
        "        print('************* Saving model for Task-{} *************'.format(task_no))\n",
        "        model_filename = 'svhn_model_task_' + str(task_no) + '.pt'\n",
        "        torch.save(model, model_path + model_filename)\n",
        "        print('************* End of Task-{} training *************'.format(task_no))"
      ],
      "execution_count": null,
      "outputs": []
    },
    {
      "cell_type": "code",
      "metadata": {
        "colab": {
          "base_uri": "https://localhost:8080/"
        },
        "id": "HKPFbewkTPPN",
        "outputId": "b986c23d-68ce-4322-ea96-b8b2592cffa5"
      },
      "source": [
        "train(verbose=True)"
      ],
      "execution_count": null,
      "outputs": [
        {
          "output_type": "stream",
          "text": [
            "************* Task: 0, Number of Trainable Parameters: 11226945 *************\n",
            "Using downloaded and verified file: ./data/train_32x32.mat\n",
            "Num. samples (train) in task dataset: 15053\n",
            "Using downloaded and verified file: ./data/train_32x32.mat\n",
            "Num. samples (val) in task dataset: 3756\n"
          ],
          "name": "stdout"
        },
        {
          "output_type": "stream",
          "text": [
            "118it [00:24,  4.86it/s]\n"
          ],
          "name": "stderr"
        },
        {
          "output_type": "stream",
          "text": [
            "Epoch 1/20 || tr_loss:0.3624118506908417 || val_loss:0.37616023421287537 || val_acc:0.8362619808306709\n"
          ],
          "name": "stdout"
        },
        {
          "output_type": "stream",
          "text": [
            "118it [00:24,  4.79it/s]\n"
          ],
          "name": "stderr"
        },
        {
          "output_type": "stream",
          "text": [
            "Epoch 2/20 || tr_loss:0.1727960154414177 || val_loss:0.16503840684890747 || val_acc:0.9345047923322684\n"
          ],
          "name": "stdout"
        },
        {
          "output_type": "stream",
          "text": [
            "118it [00:24,  4.74it/s]\n"
          ],
          "name": "stderr"
        },
        {
          "output_type": "stream",
          "text": [
            "Epoch 3/20 || tr_loss:0.11074412763118743 || val_loss:0.28822848200798035 || val_acc:0.9363684771033014\n"
          ],
          "name": "stdout"
        },
        {
          "output_type": "stream",
          "text": [
            "118it [00:25,  4.66it/s]\n"
          ],
          "name": "stderr"
        },
        {
          "output_type": "stream",
          "text": [
            "Epoch 4/20 || tr_loss:0.1014755867421627 || val_loss:0.10168900340795517 || val_acc:0.9603301384451545\n"
          ],
          "name": "stdout"
        },
        {
          "output_type": "stream",
          "text": [
            "118it [00:25,  4.61it/s]\n"
          ],
          "name": "stderr"
        },
        {
          "output_type": "stream",
          "text": [
            "Epoch 5/20 || tr_loss:0.06984505504369735 || val_loss:0.08113781362771988 || val_acc:0.974174653887114\n"
          ],
          "name": "stdout"
        },
        {
          "output_type": "stream",
          "text": [
            "118it [00:25,  4.60it/s]\n"
          ],
          "name": "stderr"
        },
        {
          "output_type": "stream",
          "text": [
            "Epoch 6/20 || tr_loss:0.0174092011526227 || val_loss:0.08149342238903046 || val_acc:0.9675186368477103\n"
          ],
          "name": "stdout"
        },
        {
          "output_type": "stream",
          "text": [
            "118it [00:25,  4.64it/s]\n"
          ],
          "name": "stderr"
        },
        {
          "output_type": "stream",
          "text": [
            "Epoch 7/20 || tr_loss:0.04300317782908678 || val_loss:0.1022186353802681 || val_acc:0.9659211927582535\n"
          ],
          "name": "stdout"
        },
        {
          "output_type": "stream",
          "text": [
            "118it [00:25,  4.60it/s]\n"
          ],
          "name": "stderr"
        },
        {
          "output_type": "stream",
          "text": [
            "Epoch 8/20 || tr_loss:0.01822024043649435 || val_loss:0.10740265995264053 || val_acc:0.9683173588924388\n"
          ],
          "name": "stdout"
        },
        {
          "output_type": "stream",
          "text": [
            "118it [00:25,  4.60it/s]\n"
          ],
          "name": "stderr"
        },
        {
          "output_type": "stream",
          "text": [
            "Epoch 9/20 || tr_loss:0.011064708046615124 || val_loss:0.10138770937919617 || val_acc:0.9691160809371672\n"
          ],
          "name": "stdout"
        },
        {
          "output_type": "stream",
          "text": [
            "118it [00:25,  4.61it/s]\n"
          ],
          "name": "stderr"
        },
        {
          "output_type": "stream",
          "text": [
            "Epoch 10/20 || tr_loss:0.00996355062816292 || val_loss:0.09149250388145447 || val_acc:0.972310969116081\n"
          ],
          "name": "stdout"
        },
        {
          "output_type": "stream",
          "text": [
            "118it [00:25,  4.61it/s]\n"
          ],
          "name": "stderr"
        },
        {
          "output_type": "stream",
          "text": [
            "Epoch 11/20 || tr_loss:0.007683463674038648 || val_loss:0.08584586530923843 || val_acc:0.9757720979765708\n"
          ],
          "name": "stdout"
        },
        {
          "output_type": "stream",
          "text": [
            "118it [00:25,  4.58it/s]\n"
          ],
          "name": "stderr"
        },
        {
          "output_type": "stream",
          "text": [
            "Epoch 12/20 || tr_loss:0.005440035997889936 || val_loss:0.08734385669231415 || val_acc:0.9781682641107561\n"
          ],
          "name": "stdout"
        },
        {
          "output_type": "stream",
          "text": [
            "118it [00:25,  4.59it/s]\n"
          ],
          "name": "stderr"
        },
        {
          "output_type": "stream",
          "text": [
            "Epoch 13/20 || tr_loss:0.003913008747622371 || val_loss:0.0792216807603836 || val_acc:0.9773695420660277\n"
          ],
          "name": "stdout"
        },
        {
          "output_type": "stream",
          "text": [
            "118it [00:25,  4.60it/s]\n"
          ],
          "name": "stderr"
        },
        {
          "output_type": "stream",
          "text": [
            "Epoch 14/20 || tr_loss:0.004120342136593536 || val_loss:0.08553317189216614 || val_acc:0.9752396166134185\n"
          ],
          "name": "stdout"
        },
        {
          "output_type": "stream",
          "text": [
            "118it [00:25,  4.60it/s]\n"
          ],
          "name": "stderr"
        },
        {
          "output_type": "stream",
          "text": [
            "Epoch 15/20 || tr_loss:0.0009037405718117953 || val_loss:0.08026976138353348 || val_acc:0.9781682641107561\n"
          ],
          "name": "stdout"
        },
        {
          "output_type": "stream",
          "text": [
            "118it [00:25,  4.59it/s]\n"
          ],
          "name": "stderr"
        },
        {
          "output_type": "stream",
          "text": [
            "Epoch 16/20 || tr_loss:0.02181000691780355 || val_loss:0.08368685841560364 || val_acc:0.9773695420660277\n"
          ],
          "name": "stdout"
        },
        {
          "output_type": "stream",
          "text": [
            "118it [00:25,  4.61it/s]\n"
          ],
          "name": "stderr"
        },
        {
          "output_type": "stream",
          "text": [
            "Epoch 17/20 || tr_loss:0.004341813689097762 || val_loss:0.08446335047483444 || val_acc:0.97790202342918\n"
          ],
          "name": "stdout"
        },
        {
          "output_type": "stream",
          "text": [
            "118it [00:25,  4.58it/s]\n"
          ],
          "name": "stderr"
        },
        {
          "output_type": "stream",
          "text": [
            "Epoch 18/20 || tr_loss:0.00036316480545792726 || val_loss:0.09123790264129639 || val_acc:0.97790202342918\n"
          ],
          "name": "stdout"
        },
        {
          "output_type": "stream",
          "text": [
            "118it [00:25,  4.59it/s]\n"
          ],
          "name": "stderr"
        },
        {
          "output_type": "stream",
          "text": [
            "Epoch 19/20 || tr_loss:0.0005989291181322187 || val_loss:0.0843510851264 || val_acc:0.9771033013844516\n"
          ],
          "name": "stdout"
        },
        {
          "output_type": "stream",
          "text": [
            "118it [00:25,  4.59it/s]\n"
          ],
          "name": "stderr"
        },
        {
          "output_type": "stream",
          "text": [
            "Epoch 20/20 || tr_loss:0.0006947048474103213 || val_loss:0.13009501993656158 || val_acc:0.9717784877529286\n",
            "************* Saving model for Task-0 *************\n",
            "************* End of Task-0 training *************\n",
            "************* Re-calibrating model parameters *************\n",
            "************* Task: 1, Number of Trainable Parameters: 67713 *************\n",
            "Using downloaded and verified file: ./data/train_32x32.mat\n",
            "Num. samples (train) in task dataset: 15287\n",
            "Using downloaded and verified file: ./data/train_32x32.mat\n",
            "Num. samples (val) in task dataset: 3795\n"
          ],
          "name": "stdout"
        },
        {
          "output_type": "stream",
          "text": [
            "120it [00:17,  6.73it/s]\n"
          ],
          "name": "stderr"
        },
        {
          "output_type": "stream",
          "text": [
            "Epoch 1/20 || tr_loss:0.629546296596527 || val_loss:0.638248860836029 || val_acc:0.5562582345191041\n"
          ],
          "name": "stdout"
        },
        {
          "output_type": "stream",
          "text": [
            "120it [00:17,  6.68it/s]\n"
          ],
          "name": "stderr"
        },
        {
          "output_type": "stream",
          "text": [
            "Epoch 2/20 || tr_loss:0.5891234874725342 || val_loss:0.5659978985786438 || val_acc:0.6142292490118577\n"
          ],
          "name": "stdout"
        },
        {
          "output_type": "stream",
          "text": [
            "120it [00:17,  6.73it/s]\n"
          ],
          "name": "stderr"
        },
        {
          "output_type": "stream",
          "text": [
            "Epoch 3/20 || tr_loss:0.4592244207859039 || val_loss:0.5191199779510498 || val_acc:0.6450592885375495\n"
          ],
          "name": "stdout"
        },
        {
          "output_type": "stream",
          "text": [
            "120it [00:17,  6.78it/s]\n"
          ],
          "name": "stderr"
        },
        {
          "output_type": "stream",
          "text": [
            "Epoch 4/20 || tr_loss:0.4279597163200378 || val_loss:0.40594759583473206 || val_acc:0.8023715415019763\n"
          ],
          "name": "stdout"
        },
        {
          "output_type": "stream",
          "text": [
            "120it [00:17,  6.78it/s]\n"
          ],
          "name": "stderr"
        },
        {
          "output_type": "stream",
          "text": [
            "Epoch 5/20 || tr_loss:0.3484409093856812 || val_loss:0.34500011801719666 || val_acc:0.8695652173913043\n"
          ],
          "name": "stdout"
        },
        {
          "output_type": "stream",
          "text": [
            "120it [00:17,  6.73it/s]\n"
          ],
          "name": "stderr"
        },
        {
          "output_type": "stream",
          "text": [
            "Epoch 6/20 || tr_loss:0.2756659686565399 || val_loss:0.28948453068733215 || val_acc:0.8711462450592885\n"
          ],
          "name": "stdout"
        },
        {
          "output_type": "stream",
          "text": [
            "120it [00:18,  6.66it/s]\n"
          ],
          "name": "stderr"
        },
        {
          "output_type": "stream",
          "text": [
            "Epoch 7/20 || tr_loss:0.24520307779312134 || val_loss:0.2511332929134369 || val_acc:0.8909090909090909\n"
          ],
          "name": "stdout"
        },
        {
          "output_type": "stream",
          "text": [
            "120it [00:18,  6.66it/s]\n"
          ],
          "name": "stderr"
        },
        {
          "output_type": "stream",
          "text": [
            "Epoch 8/20 || tr_loss:0.19866151809692384 || val_loss:0.23349037766456604 || val_acc:0.9032938076416337\n"
          ],
          "name": "stdout"
        },
        {
          "output_type": "stream",
          "text": [
            "120it [00:17,  6.70it/s]\n"
          ],
          "name": "stderr"
        },
        {
          "output_type": "stream",
          "text": [
            "Epoch 9/20 || tr_loss:0.20062283873558046 || val_loss:0.21954049170017242 || val_acc:0.9122529644268774\n"
          ],
          "name": "stdout"
        },
        {
          "output_type": "stream",
          "text": [
            "120it [00:17,  6.68it/s]\n"
          ],
          "name": "stderr"
        },
        {
          "output_type": "stream",
          "text": [
            "Epoch 10/20 || tr_loss:0.19655688405036925 || val_loss:0.1992175430059433 || val_acc:0.9238471673254282\n"
          ],
          "name": "stdout"
        },
        {
          "output_type": "stream",
          "text": [
            "120it [00:18,  6.64it/s]\n"
          ],
          "name": "stderr"
        },
        {
          "output_type": "stream",
          "text": [
            "Epoch 11/20 || tr_loss:0.18255489319562912 || val_loss:0.19387193024158478 || val_acc:0.9264822134387352\n"
          ],
          "name": "stdout"
        },
        {
          "output_type": "stream",
          "text": [
            "120it [00:17,  6.74it/s]\n"
          ],
          "name": "stderr"
        },
        {
          "output_type": "stream",
          "text": [
            "Epoch 12/20 || tr_loss:0.14540860652923585 || val_loss:0.18238253891468048 || val_acc:0.9227931488801054\n"
          ],
          "name": "stdout"
        },
        {
          "output_type": "stream",
          "text": [
            "120it [00:17,  6.76it/s]\n"
          ],
          "name": "stderr"
        },
        {
          "output_type": "stream",
          "text": [
            "Epoch 13/20 || tr_loss:0.16708430349826814 || val_loss:0.17867253720760345 || val_acc:0.9227931488801054\n"
          ],
          "name": "stdout"
        },
        {
          "output_type": "stream",
          "text": [
            "120it [00:17,  6.75it/s]\n"
          ],
          "name": "stderr"
        },
        {
          "output_type": "stream",
          "text": [
            "Epoch 14/20 || tr_loss:0.14718503952026368 || val_loss:0.1695738434791565 || val_acc:0.9314888010540184\n"
          ],
          "name": "stdout"
        },
        {
          "output_type": "stream",
          "text": [
            "120it [00:17,  6.70it/s]\n"
          ],
          "name": "stderr"
        },
        {
          "output_type": "stream",
          "text": [
            "Epoch 15/20 || tr_loss:0.16173969805240632 || val_loss:0.15636490285396576 || val_acc:0.9333333333333333\n"
          ],
          "name": "stdout"
        },
        {
          "output_type": "stream",
          "text": [
            "120it [00:17,  6.71it/s]\n"
          ],
          "name": "stderr"
        },
        {
          "output_type": "stream",
          "text": [
            "Epoch 16/20 || tr_loss:0.1186808779835701 || val_loss:0.14638559520244598 || val_acc:0.9407114624505929\n"
          ],
          "name": "stdout"
        },
        {
          "output_type": "stream",
          "text": [
            "120it [00:17,  6.76it/s]\n"
          ],
          "name": "stderr"
        },
        {
          "output_type": "stream",
          "text": [
            "Epoch 17/20 || tr_loss:0.17251364886760712 || val_loss:0.14918845891952515 || val_acc:0.9444005270092226\n"
          ],
          "name": "stdout"
        },
        {
          "output_type": "stream",
          "text": [
            "120it [00:17,  6.75it/s]\n"
          ],
          "name": "stderr"
        },
        {
          "output_type": "stream",
          "text": [
            "Epoch 18/20 || tr_loss:0.12362138628959655 || val_loss:0.17697730660438538 || val_acc:0.9270092226613966\n"
          ],
          "name": "stdout"
        },
        {
          "output_type": "stream",
          "text": [
            "120it [00:17,  6.77it/s]\n"
          ],
          "name": "stderr"
        },
        {
          "output_type": "stream",
          "text": [
            "Epoch 19/20 || tr_loss:0.12165717035531998 || val_loss:0.1402694135904312 || val_acc:0.941501976284585\n"
          ],
          "name": "stdout"
        },
        {
          "output_type": "stream",
          "text": [
            "120it [00:17,  6.76it/s]\n"
          ],
          "name": "stderr"
        },
        {
          "output_type": "stream",
          "text": [
            "Epoch 20/20 || tr_loss:0.11031963974237442 || val_loss:0.14076261222362518 || val_acc:0.9480895915678524\n",
            "************* Saving model for Task-1 *************\n",
            "************* End of Task-1 training *************\n",
            "************* Re-calibrating model parameters *************\n",
            "************* Task: 2, Number of Trainable Parameters: 67713 *************\n",
            "Using downloaded and verified file: ./data/train_32x32.mat\n",
            "Num. samples (train) in task dataset: 11457\n",
            "Using downloaded and verified file: ./data/train_32x32.mat\n",
            "Num. samples (val) in task dataset: 2883\n"
          ],
          "name": "stdout"
        },
        {
          "output_type": "stream",
          "text": [
            "90it [00:13,  6.72it/s]\n"
          ],
          "name": "stderr"
        },
        {
          "output_type": "stream",
          "text": [
            "Epoch 1/20 || tr_loss:0.38761523365974426 || val_loss:0.38414081931114197 || val_acc:0.8057578910856746\n"
          ],
          "name": "stdout"
        },
        {
          "output_type": "stream",
          "text": [
            "90it [00:13,  6.65it/s]\n"
          ],
          "name": "stderr"
        },
        {
          "output_type": "stream",
          "text": [
            "Epoch 2/20 || tr_loss:0.2579841673374176 || val_loss:0.2846284508705139 || val_acc:0.8775580992022199\n"
          ],
          "name": "stdout"
        },
        {
          "output_type": "stream",
          "text": [
            "90it [00:13,  6.64it/s]\n"
          ],
          "name": "stderr"
        },
        {
          "output_type": "stream",
          "text": [
            "Epoch 3/20 || tr_loss:0.23343027830123902 || val_loss:0.22688962519168854 || val_acc:0.9112036073534513\n"
          ],
          "name": "stdout"
        },
        {
          "output_type": "stream",
          "text": [
            "90it [00:13,  6.73it/s]\n"
          ],
          "name": "stderr"
        },
        {
          "output_type": "stream",
          "text": [
            "Epoch 4/20 || tr_loss:0.19799507558345794 || val_loss:0.1995350867509842 || val_acc:0.9160596600763093\n"
          ],
          "name": "stdout"
        },
        {
          "output_type": "stream",
          "text": [
            "90it [00:13,  6.76it/s]\n"
          ],
          "name": "stderr"
        },
        {
          "output_type": "stream",
          "text": [
            "Epoch 5/20 || tr_loss:0.1843827560544014 || val_loss:0.18073341250419617 || val_acc:0.9292403746097815\n"
          ],
          "name": "stdout"
        },
        {
          "output_type": "stream",
          "text": [
            "90it [00:13,  6.75it/s]\n"
          ],
          "name": "stderr"
        },
        {
          "output_type": "stream",
          "text": [
            "Epoch 6/20 || tr_loss:0.1715354233980179 || val_loss:0.15977615118026733 || val_acc:0.9403399236906\n"
          ],
          "name": "stdout"
        },
        {
          "output_type": "stream",
          "text": [
            "90it [00:13,  6.71it/s]\n"
          ],
          "name": "stderr"
        },
        {
          "output_type": "stream",
          "text": [
            "Epoch 7/20 || tr_loss:0.15307725071907044 || val_loss:0.14930377900600433 || val_acc:0.9358307318765176\n"
          ],
          "name": "stdout"
        },
        {
          "output_type": "stream",
          "text": [
            "90it [00:13,  6.71it/s]\n"
          ],
          "name": "stderr"
        },
        {
          "output_type": "stream",
          "text": [
            "Epoch 8/20 || tr_loss:0.12078187316656112 || val_loss:0.13825586438179016 || val_acc:0.948664585501214\n"
          ],
          "name": "stdout"
        },
        {
          "output_type": "stream",
          "text": [
            "90it [00:13,  6.74it/s]\n"
          ],
          "name": "stderr"
        },
        {
          "output_type": "stream",
          "text": [
            "Epoch 9/20 || tr_loss:0.11904526799917221 || val_loss:0.13179512321949005 || val_acc:0.9465834200485606\n"
          ],
          "name": "stdout"
        },
        {
          "output_type": "stream",
          "text": [
            "90it [00:13,  6.75it/s]\n"
          ],
          "name": "stderr"
        },
        {
          "output_type": "stream",
          "text": [
            "Epoch 10/20 || tr_loss:0.12943379431962967 || val_loss:0.13544711470603943 || val_acc:0.9493583073187651\n"
          ],
          "name": "stdout"
        },
        {
          "output_type": "stream",
          "text": [
            "90it [00:13,  6.73it/s]\n"
          ],
          "name": "stderr"
        },
        {
          "output_type": "stream",
          "text": [
            "Epoch 11/20 || tr_loss:0.1350303828716278 || val_loss:0.1267247349023819 || val_acc:0.9559486645855012\n"
          ],
          "name": "stdout"
        },
        {
          "output_type": "stream",
          "text": [
            "90it [00:13,  6.72it/s]\n"
          ],
          "name": "stderr"
        },
        {
          "output_type": "stream",
          "text": [
            "Epoch 12/20 || tr_loss:0.1097849354147911 || val_loss:0.12114152312278748 || val_acc:0.952826916406521\n"
          ],
          "name": "stdout"
        },
        {
          "output_type": "stream",
          "text": [
            "90it [00:13,  6.76it/s]\n"
          ],
          "name": "stderr"
        },
        {
          "output_type": "stream",
          "text": [
            "Epoch 13/20 || tr_loss:0.0962364599108696 || val_loss:0.11963899433612823 || val_acc:0.9497051682275408\n"
          ],
          "name": "stdout"
        },
        {
          "output_type": "stream",
          "text": [
            "90it [00:13,  6.73it/s]\n"
          ],
          "name": "stderr"
        },
        {
          "output_type": "stream",
          "text": [
            "Epoch 14/20 || tr_loss:0.09634964317083358 || val_loss:0.11160628497600555 || val_acc:0.9614984391259105\n"
          ],
          "name": "stdout"
        },
        {
          "output_type": "stream",
          "text": [
            "90it [00:13,  6.72it/s]\n"
          ],
          "name": "stderr"
        },
        {
          "output_type": "stream",
          "text": [
            "Epoch 15/20 || tr_loss:0.10840030089020729 || val_loss:0.11203061044216156 || val_acc:0.9580298300381547\n"
          ],
          "name": "stdout"
        },
        {
          "output_type": "stream",
          "text": [
            "90it [00:13,  6.68it/s]\n"
          ],
          "name": "stderr"
        },
        {
          "output_type": "stream",
          "text": [
            "Epoch 16/20 || tr_loss:0.07705004811286927 || val_loss:0.1079450473189354 || val_acc:0.9580298300381547\n"
          ],
          "name": "stdout"
        },
        {
          "output_type": "stream",
          "text": [
            "90it [00:13,  6.74it/s]\n"
          ],
          "name": "stderr"
        },
        {
          "output_type": "stream",
          "text": [
            "Epoch 17/20 || tr_loss:0.07028302103281021 || val_loss:0.10729150474071503 || val_acc:0.9621921609434617\n"
          ],
          "name": "stdout"
        },
        {
          "output_type": "stream",
          "text": [
            "90it [00:13,  6.76it/s]\n"
          ],
          "name": "stderr"
        },
        {
          "output_type": "stream",
          "text": [
            "Epoch 18/20 || tr_loss:0.0574572715908289 || val_loss:0.10731344670057297 || val_acc:0.959417273673257\n"
          ],
          "name": "stdout"
        },
        {
          "output_type": "stream",
          "text": [
            "90it [00:13,  6.74it/s]\n"
          ],
          "name": "stderr"
        },
        {
          "output_type": "stream",
          "text": [
            "Epoch 19/20 || tr_loss:0.049860211461782454 || val_loss:0.10463951528072357 || val_acc:0.9601109954908081\n"
          ],
          "name": "stdout"
        },
        {
          "output_type": "stream",
          "text": [
            "90it [00:13,  6.72it/s]\n"
          ],
          "name": "stderr"
        },
        {
          "output_type": "stream",
          "text": [
            "Epoch 20/20 || tr_loss:0.06246340349316597 || val_loss:0.10273946076631546 || val_acc:0.9601109954908081\n",
            "************* Saving model for Task-2 *************\n",
            "************* End of Task-2 training *************\n",
            "************* Re-calibrating model parameters *************\n",
            "************* Task: 3, Number of Trainable Parameters: 67713 *************\n",
            "Using downloaded and verified file: ./data/train_32x32.mat\n",
            "Num. samples (train) in task dataset: 9102\n",
            "Using downloaded and verified file: ./data/train_32x32.mat\n",
            "Num. samples (val) in task dataset: 2220\n"
          ],
          "name": "stdout"
        },
        {
          "output_type": "stream",
          "text": [
            "72it [00:10,  6.75it/s]\n"
          ],
          "name": "stderr"
        },
        {
          "output_type": "stream",
          "text": [
            "Epoch 1/20 || tr_loss:0.2790138065814972 || val_loss:0.19994203746318817 || val_acc:0.9342342342342342\n"
          ],
          "name": "stdout"
        },
        {
          "output_type": "stream",
          "text": [
            "72it [00:10,  6.69it/s]\n"
          ],
          "name": "stderr"
        },
        {
          "output_type": "stream",
          "text": [
            "Epoch 2/20 || tr_loss:0.1718208223581314 || val_loss:0.15286186337471008 || val_acc:0.9468468468468468\n"
          ],
          "name": "stdout"
        },
        {
          "output_type": "stream",
          "text": [
            "72it [00:10,  6.68it/s]\n"
          ],
          "name": "stderr"
        },
        {
          "output_type": "stream",
          "text": [
            "Epoch 3/20 || tr_loss:0.1286983609199524 || val_loss:0.13829830288887024 || val_acc:0.9522522522522523\n"
          ],
          "name": "stdout"
        },
        {
          "output_type": "stream",
          "text": [
            "72it [00:10,  6.75it/s]\n"
          ],
          "name": "stderr"
        },
        {
          "output_type": "stream",
          "text": [
            "Epoch 4/20 || tr_loss:0.11513713598251343 || val_loss:0.12927694618701935 || val_acc:0.9554054054054054\n"
          ],
          "name": "stdout"
        },
        {
          "output_type": "stream",
          "text": [
            "72it [00:10,  6.79it/s]\n"
          ],
          "name": "stderr"
        },
        {
          "output_type": "stream",
          "text": [
            "Epoch 5/20 || tr_loss:0.08918969482183456 || val_loss:0.11987902969121933 || val_acc:0.9585585585585585\n"
          ],
          "name": "stdout"
        },
        {
          "output_type": "stream",
          "text": [
            "72it [00:10,  6.82it/s]\n"
          ],
          "name": "stderr"
        },
        {
          "output_type": "stream",
          "text": [
            "Epoch 6/20 || tr_loss:0.13536516726016998 || val_loss:0.1157069206237793 || val_acc:0.9599099099099099\n"
          ],
          "name": "stdout"
        },
        {
          "output_type": "stream",
          "text": [
            "72it [00:10,  6.76it/s]\n"
          ],
          "name": "stderr"
        },
        {
          "output_type": "stream",
          "text": [
            "Epoch 7/20 || tr_loss:0.09637297764420509 || val_loss:0.1137857511639595 || val_acc:0.959009009009009\n"
          ],
          "name": "stdout"
        },
        {
          "output_type": "stream",
          "text": [
            "72it [00:10,  6.74it/s]\n"
          ],
          "name": "stderr"
        },
        {
          "output_type": "stream",
          "text": [
            "Epoch 8/20 || tr_loss:0.15029050633311272 || val_loss:0.10705002397298813 || val_acc:0.9644144144144144\n"
          ],
          "name": "stdout"
        },
        {
          "output_type": "stream",
          "text": [
            "72it [00:10,  6.76it/s]\n"
          ],
          "name": "stderr"
        },
        {
          "output_type": "stream",
          "text": [
            "Epoch 9/20 || tr_loss:0.1454279124736786 || val_loss:0.10414938628673553 || val_acc:0.9644144144144144\n"
          ],
          "name": "stdout"
        },
        {
          "output_type": "stream",
          "text": [
            "72it [00:10,  6.77it/s]\n"
          ],
          "name": "stderr"
        },
        {
          "output_type": "stream",
          "text": [
            "Epoch 10/20 || tr_loss:0.15915875658392906 || val_loss:0.10223895311355591 || val_acc:0.9635135135135136\n"
          ],
          "name": "stdout"
        },
        {
          "output_type": "stream",
          "text": [
            "72it [00:10,  6.77it/s]\n"
          ],
          "name": "stderr"
        },
        {
          "output_type": "stream",
          "text": [
            "Epoch 11/20 || tr_loss:0.08655711989849806 || val_loss:0.10113568603992462 || val_acc:0.9626126126126127\n"
          ],
          "name": "stdout"
        },
        {
          "output_type": "stream",
          "text": [
            "72it [00:10,  6.76it/s]\n"
          ],
          "name": "stderr"
        },
        {
          "output_type": "stream",
          "text": [
            "Epoch 12/20 || tr_loss:0.1973109796643257 || val_loss:0.09947960823774338 || val_acc:0.9621621621621622\n"
          ],
          "name": "stdout"
        },
        {
          "output_type": "stream",
          "text": [
            "72it [00:10,  6.74it/s]\n"
          ],
          "name": "stderr"
        },
        {
          "output_type": "stream",
          "text": [
            "Epoch 13/20 || tr_loss:0.055886493250727656 || val_loss:0.10277994722127914 || val_acc:0.9644144144144144\n"
          ],
          "name": "stdout"
        },
        {
          "output_type": "stream",
          "text": [
            "72it [00:10,  6.76it/s]\n"
          ],
          "name": "stderr"
        },
        {
          "output_type": "stream",
          "text": [
            "Epoch 14/20 || tr_loss:0.06977691166102887 || val_loss:0.09559525549411774 || val_acc:0.9635135135135136\n"
          ],
          "name": "stdout"
        },
        {
          "output_type": "stream",
          "text": [
            "72it [00:10,  6.77it/s]\n"
          ],
          "name": "stderr"
        },
        {
          "output_type": "stream",
          "text": [
            "Epoch 15/20 || tr_loss:0.06493547186255455 || val_loss:0.09905016422271729 || val_acc:0.9644144144144144\n"
          ],
          "name": "stdout"
        },
        {
          "output_type": "stream",
          "text": [
            "72it [00:10,  6.76it/s]\n"
          ],
          "name": "stderr"
        },
        {
          "output_type": "stream",
          "text": [
            "Epoch 16/20 || tr_loss:0.14261792972683907 || val_loss:0.09672059118747711 || val_acc:0.963963963963964\n"
          ],
          "name": "stdout"
        },
        {
          "output_type": "stream",
          "text": [
            "72it [00:10,  6.77it/s]\n"
          ],
          "name": "stderr"
        },
        {
          "output_type": "stream",
          "text": [
            "Epoch 17/20 || tr_loss:0.0771702840924263 || val_loss:0.09349144250154495 || val_acc:0.9662162162162162\n"
          ],
          "name": "stdout"
        },
        {
          "output_type": "stream",
          "text": [
            "72it [00:10,  6.73it/s]\n"
          ],
          "name": "stderr"
        },
        {
          "output_type": "stream",
          "text": [
            "Epoch 18/20 || tr_loss:0.06301713958382607 || val_loss:0.0942273810505867 || val_acc:0.9653153153153153\n"
          ],
          "name": "stdout"
        },
        {
          "output_type": "stream",
          "text": [
            "72it [00:10,  6.73it/s]\n"
          ],
          "name": "stderr"
        },
        {
          "output_type": "stream",
          "text": [
            "Epoch 19/20 || tr_loss:0.0406900554895401 || val_loss:0.09335307776927948 || val_acc:0.9662162162162162\n"
          ],
          "name": "stdout"
        },
        {
          "output_type": "stream",
          "text": [
            "72it [00:10,  6.77it/s]\n"
          ],
          "name": "stderr"
        },
        {
          "output_type": "stream",
          "text": [
            "Epoch 20/20 || tr_loss:0.10761786475777627 || val_loss:0.09055408090353012 || val_acc:0.9671171171171171\n",
            "************* Saving model for Task-3 *************\n",
            "************* End of Task-3 training *************\n",
            "************* Re-calibrating model parameters *************\n",
            "************* Task: 4, Number of Trainable Parameters: 67713 *************\n",
            "Using downloaded and verified file: ./data/train_32x32.mat\n",
            "Num. samples (train) in task dataset: 7707\n",
            "Using downloaded and verified file: ./data/train_32x32.mat\n",
            "Num. samples (val) in task dataset: 1997\n"
          ],
          "name": "stdout"
        },
        {
          "output_type": "stream",
          "text": [
            "61it [00:09,  6.77it/s]\n"
          ],
          "name": "stderr"
        },
        {
          "output_type": "stream",
          "text": [
            "Epoch 1/20 || tr_loss:0.5200247764587402 || val_loss:0.5170652866363525 || val_acc:0.7160741111667501\n"
          ],
          "name": "stdout"
        },
        {
          "output_type": "stream",
          "text": [
            "61it [00:09,  6.71it/s]\n"
          ],
          "name": "stderr"
        },
        {
          "output_type": "stream",
          "text": [
            "Epoch 2/20 || tr_loss:0.4066829264163971 || val_loss:0.42715030908584595 || val_acc:0.800701051577366\n"
          ],
          "name": "stdout"
        },
        {
          "output_type": "stream",
          "text": [
            "61it [00:09,  6.64it/s]\n"
          ],
          "name": "stderr"
        },
        {
          "output_type": "stream",
          "text": [
            "Epoch 3/20 || tr_loss:0.3478695034980774 || val_loss:0.37216922640800476 || val_acc:0.8157235853780671\n"
          ],
          "name": "stdout"
        },
        {
          "output_type": "stream",
          "text": [
            "61it [00:09,  6.65it/s]\n"
          ],
          "name": "stderr"
        },
        {
          "output_type": "stream",
          "text": [
            "Epoch 4/20 || tr_loss:0.37249755263328554 || val_loss:0.3427758812904358 || val_acc:0.8377566349524287\n"
          ],
          "name": "stdout"
        },
        {
          "output_type": "stream",
          "text": [
            "61it [00:09,  6.70it/s]\n"
          ],
          "name": "stderr"
        },
        {
          "output_type": "stream",
          "text": [
            "Epoch 5/20 || tr_loss:0.29832815527915957 || val_loss:0.31975337862968445 || val_acc:0.8627941912869304\n"
          ],
          "name": "stdout"
        },
        {
          "output_type": "stream",
          "text": [
            "61it [00:09,  6.76it/s]\n"
          ],
          "name": "stderr"
        },
        {
          "output_type": "stream",
          "text": [
            "Epoch 6/20 || tr_loss:0.29021710753440855 || val_loss:0.3024299442768097 || val_acc:0.8497746619929895\n"
          ],
          "name": "stdout"
        },
        {
          "output_type": "stream",
          "text": [
            "61it [00:09,  6.77it/s]\n"
          ],
          "name": "stderr"
        },
        {
          "output_type": "stream",
          "text": [
            "Epoch 7/20 || tr_loss:0.2827859103679657 || val_loss:0.2749764919281006 || val_acc:0.8738107160741112\n"
          ],
          "name": "stdout"
        },
        {
          "output_type": "stream",
          "text": [
            "61it [00:09,  6.77it/s]\n"
          ],
          "name": "stderr"
        },
        {
          "output_type": "stream",
          "text": [
            "Epoch 8/20 || tr_loss:0.3097964465618134 || val_loss:0.26135990023612976 || val_acc:0.8823234852278418\n"
          ],
          "name": "stdout"
        },
        {
          "output_type": "stream",
          "text": [
            "61it [00:09,  6.74it/s]\n"
          ],
          "name": "stderr"
        },
        {
          "output_type": "stream",
          "text": [
            "Epoch 9/20 || tr_loss:0.26500983238220216 || val_loss:0.2522510290145874 || val_acc:0.8823234852278418\n"
          ],
          "name": "stdout"
        },
        {
          "output_type": "stream",
          "text": [
            "61it [00:09,  6.69it/s]\n"
          ],
          "name": "stderr"
        },
        {
          "output_type": "stream",
          "text": [
            "Epoch 10/20 || tr_loss:0.23308016657829284 || val_loss:0.2450672686100006 || val_acc:0.8838257386079119\n"
          ],
          "name": "stdout"
        },
        {
          "output_type": "stream",
          "text": [
            "61it [00:09,  6.75it/s]\n"
          ],
          "name": "stderr"
        },
        {
          "output_type": "stream",
          "text": [
            "Epoch 11/20 || tr_loss:0.2765204727649689 || val_loss:0.23973433673381805 || val_acc:0.901352028042063\n"
          ],
          "name": "stdout"
        },
        {
          "output_type": "stream",
          "text": [
            "61it [00:09,  6.73it/s]\n"
          ],
          "name": "stderr"
        },
        {
          "output_type": "stream",
          "text": [
            "Epoch 12/20 || tr_loss:0.19993956089019777 || val_loss:0.2399846911430359 || val_acc:0.8983475212819229\n"
          ],
          "name": "stdout"
        },
        {
          "output_type": "stream",
          "text": [
            "61it [00:09,  6.71it/s]\n"
          ],
          "name": "stderr"
        },
        {
          "output_type": "stream",
          "text": [
            "Epoch 13/20 || tr_loss:0.19490493535995485 || val_loss:0.22358156740665436 || val_acc:0.9033550325488232\n"
          ],
          "name": "stdout"
        },
        {
          "output_type": "stream",
          "text": [
            "61it [00:09,  6.72it/s]\n"
          ],
          "name": "stderr"
        },
        {
          "output_type": "stream",
          "text": [
            "Epoch 14/20 || tr_loss:0.2140095591545105 || val_loss:0.22836938500404358 || val_acc:0.9053580370555834\n"
          ],
          "name": "stdout"
        },
        {
          "output_type": "stream",
          "text": [
            "61it [00:09,  6.76it/s]\n"
          ],
          "name": "stderr"
        },
        {
          "output_type": "stream",
          "text": [
            "Epoch 15/20 || tr_loss:0.24155313074588775 || val_loss:0.22101958096027374 || val_acc:0.8968452679018528\n"
          ],
          "name": "stdout"
        },
        {
          "output_type": "stream",
          "text": [
            "61it [00:09,  6.77it/s]\n"
          ],
          "name": "stderr"
        },
        {
          "output_type": "stream",
          "text": [
            "Epoch 16/20 || tr_loss:0.1286169983446598 || val_loss:0.21360914409160614 || val_acc:0.9028542814221332\n"
          ],
          "name": "stdout"
        },
        {
          "output_type": "stream",
          "text": [
            "61it [00:09,  6.76it/s]\n"
          ],
          "name": "stderr"
        },
        {
          "output_type": "stream",
          "text": [
            "Epoch 17/20 || tr_loss:0.14877450317144394 || val_loss:0.2081173211336136 || val_acc:0.9113670505758638\n"
          ],
          "name": "stdout"
        },
        {
          "output_type": "stream",
          "text": [
            "61it [00:09,  6.76it/s]\n"
          ],
          "name": "stderr"
        },
        {
          "output_type": "stream",
          "text": [
            "Epoch 18/20 || tr_loss:0.1892694890499115 || val_loss:0.20302169024944305 || val_acc:0.9118678017025539\n"
          ],
          "name": "stdout"
        },
        {
          "output_type": "stream",
          "text": [
            "61it [00:09,  6.72it/s]\n"
          ],
          "name": "stderr"
        },
        {
          "output_type": "stream",
          "text": [
            "Epoch 19/20 || tr_loss:0.15027111917734146 || val_loss:0.19933883845806122 || val_acc:0.9178768152228343\n"
          ],
          "name": "stdout"
        },
        {
          "output_type": "stream",
          "text": [
            "61it [00:09,  6.68it/s]\n"
          ],
          "name": "stderr"
        },
        {
          "output_type": "stream",
          "text": [
            "Epoch 20/20 || tr_loss:0.19144816994667052 || val_loss:0.202229306101799 || val_acc:0.9108662994491737\n",
            "************* Saving model for Task-4 *************\n",
            "************* End of Task-4 training *************\n"
          ],
          "name": "stdout"
        }
      ]
    },
    {
      "cell_type": "code",
      "metadata": {
        "id": "EtMlLmOjqlNV"
      },
      "source": [
        "def test():\n",
        "    model_path = './models/SVHN_experiment/'\n",
        "    for task_no in range(5):\n",
        "        # load models per task\n",
        "        series_num = 'svhn_model_task_' + str(task_no) + '.pt'\n",
        "        model = torch.load(model_path + series_num)\n",
        "        model = model.to(device)\n",
        "        model.eval()\n",
        "        # get task specific test data\n",
        "        test_loader = get_dataloader(subset='test', task_no=task_no)\n",
        "        criterion = nn.BCEWithLogitsLoss()\n",
        "\n",
        "        with torch.no_grad():\n",
        "            for _, data in enumerate(test_loader):\n",
        "                x, y = data\n",
        "                x, y = x.to(device), y.to(device)\n",
        "                yhat = model(x)\n",
        "\n",
        "                test_loss = criterion(yhat, y).item()\n",
        "                test_acc = accuracy(y.to('cpu').numpy(), yhat.to('cpu').numpy())\n",
        "            print('Task-{} || \\t test_loss:{} || \\t test_acc:{}'.format(task_no, test_loss, test_acc))"
      ],
      "execution_count": null,
      "outputs": []
    },
    {
      "cell_type": "code",
      "metadata": {
        "colab": {
          "base_uri": "https://localhost:8080/"
        },
        "id": "WTAf64z-vC9J",
        "outputId": "88baa21e-436b-48e4-c884-861812f0f555"
      },
      "source": [
        "test()"
      ],
      "execution_count": null,
      "outputs": [
        {
          "output_type": "stream",
          "text": [
            "Using downloaded and verified file: ./data/test_32x32.mat\n",
            "Num. samples (test) in task dataset: 6843\n",
            "Task-0 || \t test_loss:0.12139896303415298 || \t test_acc:0.9720882653806809\n",
            "Using downloaded and verified file: ./data/test_32x32.mat\n",
            "Num. samples (test) in task dataset: 7031\n",
            "Task-1 || \t test_loss:0.18492311239242554 || \t test_acc:0.9320153605461527\n",
            "Using downloaded and verified file: ./data/test_32x32.mat\n",
            "Num. samples (test) in task dataset: 4907\n",
            "Task-2 || \t test_loss:0.11212003231048584 || \t test_acc:0.9543509272467903\n",
            "Using downloaded and verified file: ./data/test_32x32.mat\n",
            "Num. samples (test) in task dataset: 3996\n",
            "Task-3 || \t test_loss:0.07426847517490387 || \t test_acc:0.9724724724724725\n",
            "Using downloaded and verified file: ./data/test_32x32.mat\n",
            "Num. samples (test) in task dataset: 3255\n",
            "Task-4 || \t test_loss:0.19009599089622498 || \t test_acc:0.9265745007680491\n"
          ],
          "name": "stdout"
        }
      ]
    }
  ]
}