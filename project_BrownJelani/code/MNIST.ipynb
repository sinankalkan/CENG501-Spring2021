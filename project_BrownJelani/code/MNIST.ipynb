{
  "nbformat": 4,
  "nbformat_minor": 0,
  "metadata": {
    "accelerator": "GPU",
    "colab": {
      "name": "MNIST.ipynb",
      "provenance": [],
      "collapsed_sections": [],
      "toc_visible": true,
      "machine_shape": "hm"
    },
    "kernelspec": {
      "display_name": "Python 3",
      "name": "python3"
    },
    "language_info": {
      "name": "python"
    }
  },
  "cells": [
    {
      "cell_type": "markdown",
      "metadata": {
        "id": "TQ0XTGZPd7pL"
      },
      "source": [
        "# Setup"
      ]
    },
    {
      "cell_type": "markdown",
      "metadata": {
        "id": "Oao7V3ditNXC"
      },
      "source": [
        "The [CEng501 Project](https://drive.google.com/drive/folders/1J7y9HjEyx_T2PJ4kOdvuTIJ5lZF3gHrX?usp=sharing) folder has been shared. Create a shortcut to it under your Google Drive Colab Notebooks folder. This notebook can mount that folder and load data from there or access other notebooks or Python modules. When the notebook runs the following cell to mount your Google Drive, it will ask for authorization. Just follow the directions."
      ]
    },
    {
      "cell_type": "code",
      "metadata": {
        "colab": {
          "base_uri": "https://localhost:8080/"
        },
        "id": "nR6b07f3r7WR",
        "outputId": "8c0e2f2d-35ab-459e-c64a-4c90837bb8e2"
      },
      "source": [
        "from google.colab import drive\n",
        "drive.mount('/content/gdrive')\n",
        "import os, sys\n",
        "os.chdir('/content/gdrive/MyDrive/Colab Notebooks/CEng501 Project/')\n"
      ],
      "execution_count": 26,
      "outputs": [
        {
          "output_type": "stream",
          "text": [
            "Drive already mounted at /content/gdrive; to attempt to forcibly remount, call drive.mount(\"/content/gdrive\", force_remount=True).\n"
          ],
          "name": "stdout"
        }
      ]
    },
    {
      "cell_type": "code",
      "metadata": {
        "id": "l_qw61NF43KW"
      },
      "source": [
        "# Copy MNIST data to the shared memory for faster access.\n",
        "# If this fails, no problem. The data module will download it again.\n",
        "!cp -r MNIST/MNIST /dev/shm/"
      ],
      "execution_count": 27,
      "outputs": []
    },
    {
      "cell_type": "code",
      "metadata": {
        "id": "RH8jY6uOzOaT"
      },
      "source": [
        "%%capture\n",
        "!pip install -qqq pytorch-lightning\n",
        "!pip install -qqq foolbox\n",
        "# install and import the torchinfo library\n",
        "!pip install -qqq torchinfo\n",
        "from torchinfo import summary\n",
        "# Install torchdiffeq\n",
        "!pip install -qqq git+https://github.com/rtqichen/torchdiffeq\n",
        "#!pip install -qqq cloud-tpu-client==0.10 https://storage.googleapis.com/tpu-pytorch/wheels/torch_xla-1.8-cp37-cp37m-linux_x86_64.whl"
      ],
      "execution_count": 28,
      "outputs": []
    },
    {
      "cell_type": "code",
      "metadata": {
        "id": "iZBXFCZvtd8f"
      },
      "source": [
        "# Choose which models to train. (Trained models are afterward loaded from disk.)\n",
        "models_to_train = {'CNN', 'CNN_aug', 'CNN_FDn', 'CNN_IRd',\n",
        "                   'ODE_Net', 'ODE_Net_aug',\n",
        "                   'TisODE_aug', 'TisODE_FDn', 'TisODE_IRd'}\n",
        "seeds = [501, 56, 23]\n",
        "std_list = [50, 75, 100]"
      ],
      "execution_count": 29,
      "outputs": []
    },
    {
      "cell_type": "code",
      "metadata": {
        "id": "vuiJC37y8Ra5",
        "colab": {
          "base_uri": "https://localhost:8080/"
        },
        "outputId": "af1da491-106f-4579-8f0c-aae0f672b11d"
      },
      "source": [
        "# Shared utility functions are in module utils.py\n",
        "# Use the autoreload extension to reload these functions if they are modified\n",
        "# https://ipython.readthedocs.io/en/stable/config/extensions/autoreload.html\n",
        "#\n",
        "# utils.py can be edited on Google Drive using commanditor\n",
        "%load_ext autoreload\n",
        "%autoreload 1\n",
        "sys.path.append('/content/gdrive/MyDrive/Colab Notebooks/CEng501 Project/')\n",
        "%aimport utils"
      ],
      "execution_count": 30,
      "outputs": [
        {
          "output_type": "stream",
          "text": [
            "The autoreload extension is already loaded. To reload it, use:\n",
            "  %reload_ext autoreload\n"
          ],
          "name": "stdout"
        }
      ]
    },
    {
      "cell_type": "code",
      "metadata": {
        "colab": {
          "base_uri": "https://localhost:8080/"
        },
        "id": "w5xS_rm5FHZs",
        "outputId": "d5766c64-ce54-42d1-bc9d-12d20ca12d9c"
      },
      "source": [
        "from functools import partial\n",
        "import numpy as np\n",
        "import torch\n",
        "import foolbox\n",
        "from torch import nn\n",
        "from torchvision.datasets import MNIST\n",
        "from torch.utils.data import DataLoader\n",
        "import matplotlib.pyplot as plt\n",
        "import torch.nn.functional as F\n",
        "import torchvision.transforms as T\n",
        "torch.backends.cudnn.deterministic = True\n",
        "\n",
        "print('Pytorch version:', torch.__version__)\n",
        "print('Using {} device'.format(utils.device))\n"
      ],
      "execution_count": 31,
      "outputs": [
        {
          "output_type": "stream",
          "text": [
            "Pytorch version: 1.9.0+cu102\n",
            "Using cuda device\n"
          ],
          "name": "stdout"
        }
      ]
    },
    {
      "cell_type": "markdown",
      "metadata": {
        "id": "r8LvSVZfeYAB"
      },
      "source": [
        "# Define dataloader\n"
      ]
    },
    {
      "cell_type": "markdown",
      "metadata": {
        "id": "7-SpwvWxgFny"
      },
      "source": [
        "The Pytorch Lightning DataModule class is used to organize the dataset loading code. A custom base class for the project is used that incorporates the addition of Gaussian noise if desired. See utils.py for details."
      ]
    },
    {
      "cell_type": "code",
      "metadata": {
        "id": "DZBXU4Em1V1C"
      },
      "source": [
        "class MNISTDataModule(utils.BasePLDataModule):\n",
        "  def __init__(self, data_dir: str = '/dev/shm/', batch_size: int = 128,\n",
        "               augment_training=None,\n",
        "               test_gaussian_noise=None):\n",
        "    super().__init__(data_dir, batch_size, augment_training, test_gaussian_noise)\n",
        "    self.name = 'MNIST'\n",
        "    \n",
        "    self.get_train = partial(MNIST, self.data_dir, train=True)\n",
        "    self.get_test = partial(MNIST, self.data_dir, train=False)\n",
        "\n",
        "    self.mean = [0.1307]\n",
        "    self.stddev = [0.3081]\n",
        "    \n",
        "    self.normalize = T.Normalize(self.mean, self.stddev)\n",
        "\n",
        "    self.dims = (1, 28, 28)\n",
        "    self.train_val_split = [55000, 5000]"
      ],
      "execution_count": 32,
      "outputs": []
    },
    {
      "cell_type": "markdown",
      "metadata": {
        "id": "95_uW3NNBk-y"
      },
      "source": [
        "The following cell is only used to calculate the mean and standard deviation for normalizing the dataset. It should give the same values used in the previous cell."
      ]
    },
    {
      "cell_type": "code",
      "metadata": {
        "colab": {
          "base_uri": "https://localhost:8080/"
        },
        "id": "o_6nj-xB1p8d",
        "outputId": "677bab77-f5a3-46c5-8fad-34c2ea7c1961"
      },
      "source": [
        "# The mean and standard deviation of the dataset is needed for normalization\n",
        "training_data = MNIST('/dev/shm/', train=True, download=True, transform=T.ToTensor())\n",
        "\n",
        "# Load the whole dataset in one batch to calculate the mean and std\n",
        "loader = DataLoader(training_data, batch_size=len(training_data))\n",
        "data = next(iter(loader))\n",
        "print('Max:', data[0].max())\n",
        "print('Min:', data[0].min())\n",
        "std, mean = torch.std_mean(data[0], [0, 2, 3])\n",
        "print('Mean:', mean)\n",
        "print('Std:', std)"
      ],
      "execution_count": 33,
      "outputs": [
        {
          "output_type": "stream",
          "text": [
            "Max: tensor(1.)\n",
            "Min: tensor(0.)\n",
            "Mean: tensor([0.1307])\n",
            "Std: tensor([0.3081])\n"
          ],
          "name": "stdout"
        }
      ]
    },
    {
      "cell_type": "code",
      "metadata": {
        "colab": {
          "base_uri": "https://localhost:8080/"
        },
        "id": "wy8ls4Nlxk_j",
        "outputId": "578c72f4-422b-4fff-cecc-b17e9621a388"
      },
      "source": [
        "vanilla_dm = MNISTDataModule()\n",
        "vanilla_dm.prepare_data()\n",
        "vanilla_dm.setup()\n",
        "\n",
        "print('Data shape:', vanilla_dm.train_set[0][0].shape)\n",
        "print('Max:', vanilla_dm.train_set[0][0].max())\n",
        "print('Min:', vanilla_dm.train_set[0][0].min())"
      ],
      "execution_count": 34,
      "outputs": [
        {
          "output_type": "stream",
          "text": [
            "Data shape: torch.Size([1, 28, 28])\n",
            "Max: tensor(2.8215)\n",
            "Min: tensor(-0.4242)\n"
          ],
          "name": "stdout"
        }
      ]
    },
    {
      "cell_type": "code",
      "metadata": {
        "colab": {
          "base_uri": "https://localhost:8080/"
        },
        "id": "GPE15pGSXi_s",
        "outputId": "f112d15f-8c54-4d0a-e8b4-282ef55f57c4"
      },
      "source": [
        "augmented_dm = MNISTDataModule(augment_training=std_list)\n",
        "augmented_dm.prepare_data()\n",
        "augmented_dm.setup()\n",
        "\n",
        "print('Data shape:', augmented_dm.train_set[0][0].shape)\n",
        "print('Max:', augmented_dm.train_set[0][0].max())\n",
        "print('Min:', augmented_dm.train_set[0][0].min())"
      ],
      "execution_count": 35,
      "outputs": [
        {
          "output_type": "stream",
          "text": [
            "Data shape: torch.Size([1, 28, 28])\n",
            "Max: tensor(2.8215)\n",
            "Min: tensor(-0.4242)\n"
          ],
          "name": "stdout"
        }
      ]
    },
    {
      "cell_type": "code",
      "metadata": {
        "colab": {
          "base_uri": "https://localhost:8080/",
          "height": 301
        },
        "id": "7N7mHmeKgkQr",
        "outputId": "4ad538e1-44e9-42f0-e8ec-0fad8d63e958"
      },
      "source": [
        "#lets view a few training images from the augmented dataset\n",
        "examples_test = enumerate(augmented_dm.train_dataloader())\n",
        "batch_idx, (gauss_test_data_1, gauss_test_targets) = next(examples_test)\n",
        "print(gauss_test_data_1.shape)\n",
        "fig = plt.figure()\n",
        "for i in range(6):\n",
        "  plt.subplot(2, 3, i+1)\n",
        "  plt.tight_layout()\n",
        "  plt.imshow(gauss_test_data_1[i][0], cmap='gray', interpolation='none')\n",
        "  plt.title(\"Ground Truth: {}\".format(gauss_test_targets[i]))\n",
        "  plt.xticks([])\n",
        "  plt.yticks([])\n",
        "fig.show()"
      ],
      "execution_count": 36,
      "outputs": [
        {
          "output_type": "stream",
          "text": [
            "torch.Size([128, 1, 28, 28])\n"
          ],
          "name": "stdout"
        },
        {
          "output_type": "display_data",
          "data": {
            "image/png": "[encoded data removed]",
            "text/plain": [
              "<Figure size 432x288 with 6 Axes>"
            ]
          },
          "metadata": {
            "tags": []
          }
        }
      ]
    },
    {
      "cell_type": "code",
      "metadata": {
        "colab": {
          "base_uri": "https://localhost:8080/",
          "height": 301
        },
        "id": "7uynE3T1g2pq",
        "outputId": "b970034b-59e9-437d-bfb2-05ee9ccb9ce6"
      },
      "source": [
        "#lets view a few images with noise added\n",
        "test_dm = MNISTDataModule(test_gaussian_noise=std_list[-1])\n",
        "test_dm.setup()\n",
        "examples_test = enumerate(test_dm.test_dataloader())\n",
        "batch_idx, (gauss_test_data_1, gauss_test_targets) = next(examples_test)\n",
        "print(gauss_test_data_1.shape)\n",
        "fig = plt.figure()\n",
        "for i in range(6):\n",
        "  plt.subplot(2, 3, i+1)\n",
        "  plt.tight_layout()\n",
        "  plt.imshow(gauss_test_data_1[i][0], cmap='gray', interpolation='none')\n",
        "  plt.title(\"Ground Truth: {}\".format(gauss_test_targets[i]))\n",
        "  plt.xticks([])\n",
        "  plt.yticks([])\n",
        "fig.show()"
      ],
      "execution_count": 37,
      "outputs": [
        {
          "output_type": "stream",
          "text": [
            "torch.Size([128, 1, 28, 28])\n"
          ],
          "name": "stdout"
        },
        {
          "output_type": "display_data",
          "data": {
            "image/png": "[encoded data removed]",
            "text/plain": [
              "<Figure size 432x288 with 6 Axes>"
            ]
          },
          "metadata": {
            "tags": []
          }
        }
      ]
    },
    {
      "cell_type": "markdown",
      "metadata": {
        "id": "HklVQ0afgOJR"
      },
      "source": [
        "# Define models"
      ]
    },
    {
      "cell_type": "markdown",
      "metadata": {
        "id": "sqlBSCp1gXpy"
      },
      "source": [
        "## CNN model class"
      ]
    },
    {
      "cell_type": "code",
      "metadata": {
        "colab": {
          "base_uri": "https://localhost:8080/"
        },
        "id": "tDFr1xnF_gJJ",
        "outputId": "6952bede-9459-48fd-9d8d-9cf29a384489"
      },
      "source": [
        "# Set num_groups to 32 to match what is used in odenet example\n",
        "# https://github.com/rtqichen/torchdiffeq/blob/master/examples/odenet_mnist.py\n",
        "def norm(dim):\n",
        "    return nn.GroupNorm(min(32, dim), dim)\n",
        "\n",
        "# Input randomization output size not specified in the paper\n",
        "IRd_output_size = 36\n",
        "\n",
        "\n",
        "class CNN_Net(utils.BasePLSystem):\n",
        "  def __init__(self, robustness=None, **kwargs):\n",
        "    super().__init__(robustness=robustness, **kwargs)\n",
        "    self.robustness = robustness\n",
        "\n",
        "    # Optional input randomization layer\n",
        "    if robustness == 'IRd':\n",
        "      layers = [utils.InputRandomization(output_size=IRd_output_size)]\n",
        "    else:\n",
        "      layers = []\n",
        "\n",
        "    layers.extend([\n",
        "      # FE layers\n",
        "      nn.Conv2d(1, 64, 3, 1),\n",
        "      norm(64),\n",
        "      nn.ReLU(),\n",
        "      nn.Conv2d(64, 64, 4, 2),\n",
        "      norm(64),\n",
        "      nn.ReLU(),\n",
        "      # RM layers\n",
        "      nn.Conv2d(64, 64, 3, 1),\n",
        "      norm(64),\n",
        "      nn.ReLU(),\n",
        "      nn.Conv2d(64, 64, 3, 1),\n",
        "      norm(64),\n",
        "      nn.ReLU()])\n",
        "    \n",
        "    # Optional feature denoising layer\n",
        "    if robustness == 'FDn':\n",
        "      layers.append(utils.FeatureDenoising(64))\n",
        "\n",
        "    # FCC layer\n",
        "    layers.extend([  \n",
        "      nn.AdaptiveAvgPool2d((1, 1)),\n",
        "      nn.Flatten(),\n",
        "      nn.Linear(64, 10)])\n",
        "\n",
        "    self.model = nn.Sequential(*layers)\n",
        "    \n",
        "  def forward(self, x):\n",
        "    return self.model(x)\n",
        "\n",
        "model = CNN_Net().to('cpu')\n",
        "summary(model, input_size=[vanilla_dm.batch_size, *vanilla_dm.dims])"
      ],
      "execution_count": 38,
      "outputs": [
        {
          "output_type": "execute_result",
          "data": {
            "text/plain": [
              "==========================================================================================\n",
              "Layer (type:depth-idx)                   Output Shape              Param #\n",
              "==========================================================================================\n",
              "CNN_Net                                  --                        --\n",
              "├─Sequential: 1-1                        [128, 10]                 --\n",
              "│    └─Conv2d: 2-1                       [128, 64, 26, 26]         640\n",
              "│    └─GroupNorm: 2-2                    [128, 64, 26, 26]         128\n",
              "│    └─ReLU: 2-3                         [128, 64, 26, 26]         --\n",
              "│    └─Conv2d: 2-4                       [128, 64, 12, 12]         65,600\n",
              "│    └─GroupNorm: 2-5                    [128, 64, 12, 12]         128\n",
              "│    └─ReLU: 2-6                         [128, 64, 12, 12]         --\n",
              "│    └─Conv2d: 2-7                       [128, 64, 10, 10]         36,928\n",
              "│    └─GroupNorm: 2-8                    [128, 64, 10, 10]         128\n",
              "│    └─ReLU: 2-9                         [128, 64, 10, 10]         --\n",
              "│    └─Conv2d: 2-10                      [128, 64, 8, 8]           36,928\n",
              "│    └─GroupNorm: 2-11                   [128, 64, 8, 8]           128\n",
              "│    └─ReLU: 2-12                        [128, 64, 8, 8]           --\n",
              "│    └─AdaptiveAvgPool2d: 2-13           [128, 64, 1, 1]           --\n",
              "│    └─Flatten: 2-14                     [128, 64]                 --\n",
              "│    └─Linear: 2-15                      [128, 10]                 650\n",
              "==========================================================================================\n",
              "Total params: 141,258\n",
              "Trainable params: 141,258\n",
              "Non-trainable params: 0\n",
              "Total mult-adds (G): 2.04\n",
              "==========================================================================================\n",
              "Input size (MB): 0.40\n",
              "Forward/backward pass size (MB): 128.99\n",
              "Params size (MB): 0.57\n",
              "Estimated Total Size (MB): 129.95\n",
              "=========================================================================================="
            ]
          },
          "metadata": {
            "tags": []
          },
          "execution_count": 38
        }
      ]
    },
    {
      "cell_type": "markdown",
      "metadata": {
        "id": "WK5A00xxL4gZ"
      },
      "source": [
        "Compare to paper saying that the ODENET and CNN model have a total of about **140k** parameters."
      ]
    },
    {
      "cell_type": "code",
      "metadata": {
        "colab": {
          "base_uri": "https://localhost:8080/"
        },
        "id": "eWGsGjdfG9rT",
        "outputId": "71f3e051-edc5-4bce-faf2-0633de7b1b6b"
      },
      "source": [
        "# Since model naming is done based on the class name, subclass to get\n",
        "# the FDn version.\n",
        "class CNN_Net_FDn(CNN_Net):\n",
        "  def __init__(self, **kwargs):\n",
        "    kwargs['robustness'] = 'FDn'\n",
        "    super().__init__(**kwargs)\n",
        "\n",
        "model = CNN_Net_FDn().to('cpu')\n",
        "summary(model, input_size=[vanilla_dm.batch_size, *vanilla_dm.dims])"
      ],
      "execution_count": 39,
      "outputs": [
        {
          "output_type": "execute_result",
          "data": {
            "text/plain": [
              "==========================================================================================\n",
              "Layer (type:depth-idx)                   Output Shape              Param #\n",
              "==========================================================================================\n",
              "CNN_Net_FDn                              --                        --\n",
              "├─Sequential: 1-1                        [128, 10]                 --\n",
              "│    └─Conv2d: 2-1                       [128, 64, 26, 26]         640\n",
              "│    └─GroupNorm: 2-2                    [128, 64, 26, 26]         128\n",
              "│    └─ReLU: 2-3                         [128, 64, 26, 26]         --\n",
              "│    └─Conv2d: 2-4                       [128, 64, 12, 12]         65,600\n",
              "│    └─GroupNorm: 2-5                    [128, 64, 12, 12]         128\n",
              "│    └─ReLU: 2-6                         [128, 64, 12, 12]         --\n",
              "│    └─Conv2d: 2-7                       [128, 64, 10, 10]         36,928\n",
              "│    └─GroupNorm: 2-8                    [128, 64, 10, 10]         128\n",
              "│    └─ReLU: 2-9                         [128, 64, 10, 10]         --\n",
              "│    └─Conv2d: 2-10                      [128, 64, 8, 8]           36,928\n",
              "│    └─GroupNorm: 2-11                   [128, 64, 8, 8]           128\n",
              "│    └─ReLU: 2-12                        [128, 64, 8, 8]           --\n",
              "│    └─FeatureDenoising: 2-13            [128, 64, 8, 8]           --\n",
              "│    │    └─Conv2d: 3-1                  [128, 64, 8, 8]           4,160\n",
              "│    │    └─GroupNorm: 3-2               [128, 64, 8, 8]           128\n",
              "│    └─AdaptiveAvgPool2d: 2-14           [128, 64, 1, 1]           --\n",
              "│    └─Flatten: 2-15                     [128, 64]                 --\n",
              "│    └─Linear: 2-16                      [128, 10]                 650\n",
              "==========================================================================================\n",
              "Total params: 145,546\n",
              "Trainable params: 145,546\n",
              "Non-trainable params: 0\n",
              "Total mult-adds (G): 2.07\n",
              "==========================================================================================\n",
              "Input size (MB): 0.40\n",
              "Forward/backward pass size (MB): 137.37\n",
              "Params size (MB): 0.58\n",
              "Estimated Total Size (MB): 138.36\n",
              "=========================================================================================="
            ]
          },
          "metadata": {
            "tags": []
          },
          "execution_count": 39
        }
      ]
    },
    {
      "cell_type": "code",
      "metadata": {
        "colab": {
          "base_uri": "https://localhost:8080/"
        },
        "id": "fmSJpRKCGM7-",
        "outputId": "528fb2b6-33a8-48a6-dce6-682820aea5c5"
      },
      "source": [
        "class CNN_Net_IRd(CNN_Net):\n",
        "  def __init__(self, **kwargs):\n",
        "    kwargs['robustness'] = 'IRd'\n",
        "    super().__init__(**kwargs)\n",
        "\n",
        "model = CNN_Net_IRd().to('cpu')\n",
        "summary(model, input_size=[vanilla_dm.batch_size, *vanilla_dm.dims])"
      ],
      "execution_count": 40,
      "outputs": [
        {
          "output_type": "execute_result",
          "data": {
            "text/plain": [
              "==========================================================================================\n",
              "Layer (type:depth-idx)                   Output Shape              Param #\n",
              "==========================================================================================\n",
              "CNN_Net_IRd                              --                        --\n",
              "├─Sequential: 1-1                        [128, 10]                 --\n",
              "│    └─InputRandomization: 2-1           [128, 1, 36, 36]          --\n",
              "│    └─Conv2d: 2-2                       [128, 64, 34, 34]         640\n",
              "│    └─GroupNorm: 2-3                    [128, 64, 34, 34]         128\n",
              "│    └─ReLU: 2-4                         [128, 64, 34, 34]         --\n",
              "│    └─Conv2d: 2-5                       [128, 64, 16, 16]         65,600\n",
              "│    └─GroupNorm: 2-6                    [128, 64, 16, 16]         128\n",
              "│    └─ReLU: 2-7                         [128, 64, 16, 16]         --\n",
              "│    └─Conv2d: 2-8                       [128, 64, 14, 14]         36,928\n",
              "│    └─GroupNorm: 2-9                    [128, 64, 14, 14]         128\n",
              "│    └─ReLU: 2-10                        [128, 64, 14, 14]         --\n",
              "│    └─Conv2d: 2-11                      [128, 64, 12, 12]         36,928\n",
              "│    └─GroupNorm: 2-12                   [128, 64, 12, 12]         128\n",
              "│    └─ReLU: 2-13                        [128, 64, 12, 12]         --\n",
              "│    └─AdaptiveAvgPool2d: 2-14           [128, 64, 1, 1]           --\n",
              "│    └─Flatten: 2-15                     [128, 64]                 --\n",
              "│    └─Linear: 2-16                      [128, 10]                 650\n",
              "==========================================================================================\n",
              "Total params: 141,258\n",
              "Trainable params: 141,258\n",
              "Non-trainable params: 0\n",
              "Total mult-adds (G): 3.85\n",
              "==========================================================================================\n",
              "Input size (MB): 0.40\n",
              "Forward/backward pass size (MB): 229.65\n",
              "Params size (MB): 0.57\n",
              "Estimated Total Size (MB): 230.61\n",
              "=========================================================================================="
            ]
          },
          "metadata": {
            "tags": []
          },
          "execution_count": 40
        }
      ]
    },
    {
      "cell_type": "markdown",
      "metadata": {
        "id": "IQIohIct44Yq"
      },
      "source": [
        "## Neural ODE Models"
      ]
    },
    {
      "cell_type": "code",
      "metadata": {
        "id": "Dh9ugWjghuDA"
      },
      "source": [
        "class ODEfunc(nn.Module):\n",
        "\n",
        "    def __init__(self, dim):\n",
        "        super(ODEfunc, self).__init__()\n",
        "        self.relu = nn.ReLU()\n",
        "        self.conv1 = utils.ConcatConv2d(dim, dim, 3, 1, 1)\n",
        "        self.norm1 = norm(64)\n",
        "        self.conv2 = utils.ConcatConv2d(dim, dim, 3, 1, 1)\n",
        "        self.norm2 = norm(64)\n",
        "        self.nfe = 0\n",
        "\n",
        "    def forward(self, t, x):\n",
        "        self.nfe += 1\n",
        "        out = self.conv1(t, x)\n",
        "        out = self.norm1(out)\n",
        "        out = self.relu(out)\n",
        "        out = self.conv2(t, out)\n",
        "        out = self.norm2(out)\n",
        "        out = self.relu(out)\n",
        "        return out"
      ],
      "execution_count": 41,
      "outputs": []
    },
    {
      "cell_type": "code",
      "metadata": {
        "colab": {
          "base_uri": "https://localhost:8080/"
        },
        "id": "JtJHroQrtZi5",
        "outputId": "5d098711-5334-4853-cee0-d79885531969"
      },
      "source": [
        "class ODE_Net(utils.BasePLSystem):\n",
        "  def __init__(self, robustness=None, **kwargs):\n",
        "    super().__init__(robustness=robustness, **kwargs)\n",
        "    self.robustness = robustness\n",
        "\n",
        "    # Optional input randomization layer\n",
        "    if robustness == 'IRd':\n",
        "      layers = [utils.InputRandomization(output_size=IRd_output_size)]\n",
        "    else:\n",
        "      layers = []\n",
        "\n",
        "    layers.extend([\n",
        "      # FE layers\n",
        "      nn.Conv2d(1, 64, 3, 1),\n",
        "      norm(64),\n",
        "      nn.ReLU(),\n",
        "      nn.Conv2d(64, 64, 4, 2),\n",
        "      norm(64),\n",
        "      nn.ReLU(),\n",
        "      # RM layers\n",
        "      utils.ODEBlock(ODEfunc(64))\n",
        "    ])\n",
        "    \n",
        "    # Optional feature denoising layer\n",
        "    if robustness == 'FDn':\n",
        "      layers.append(utils.FeatureDenoising(64))\n",
        "\n",
        "    # FCC layer\n",
        "    layers.extend([  \n",
        "      nn.AdaptiveAvgPool2d((1, 1)),\n",
        "      nn.Flatten(),\n",
        "      nn.Linear(64, 10)])\n",
        "    \n",
        "    self.model = nn.Sequential(*layers)\n",
        "    \n",
        "  def forward(self, x):\n",
        "    return self.model(x)\n",
        "\n",
        "model = ODE_Net().to('cpu')\n",
        "summary(model, input_size=[vanilla_dm.batch_size, *vanilla_dm.dims])"
      ],
      "execution_count": 42,
      "outputs": [
        {
          "output_type": "execute_result",
          "data": {
            "text/plain": [
              "==========================================================================================\n",
              "Layer (type:depth-idx)                   Output Shape              Param #\n",
              "==========================================================================================\n",
              "ODE_Net                                  --                        --\n",
              "├─Sequential: 1-1                        [128, 10]                 --\n",
              "│    └─Conv2d: 2-1                       [128, 64, 26, 26]         640\n",
              "│    └─GroupNorm: 2-2                    [128, 64, 26, 26]         128\n",
              "│    └─ReLU: 2-3                         [128, 64, 26, 26]         --\n",
              "│    └─Conv2d: 2-4                       [128, 64, 12, 12]         65,600\n",
              "│    └─GroupNorm: 2-5                    [128, 64, 12, 12]         128\n",
              "│    └─ReLU: 2-6                         [128, 64, 12, 12]         --\n",
              "│    └─ODEBlock: 2-7                     [128, 64, 12, 12]         --\n",
              "│    │    └─ODEfunc: 3-1                 [128, 64, 12, 12]         75,264\n",
              "│    │    └─ODEfunc: 3-2                 [128, 64, 12, 12]         (recursive)\n",
              "│    │    └─ODEfunc: 3-3                 [128, 64, 12, 12]         (recursive)\n",
              "│    │    └─ODEfunc: 3-4                 [128, 64, 12, 12]         (recursive)\n",
              "│    │    └─ODEfunc: 3-5                 [128, 64, 12, 12]         (recursive)\n",
              "│    │    └─ODEfunc: 3-6                 [128, 64, 12, 12]         (recursive)\n",
              "│    │    └─ODEfunc: 3-7                 [128, 64, 12, 12]         (recursive)\n",
              "│    │    └─ODEfunc: 3-8                 [128, 64, 12, 12]         (recursive)\n",
              "│    │    └─ODEfunc: 3-9                 [128, 64, 12, 12]         (recursive)\n",
              "│    │    └─ODEfunc: 3-10                [128, 64, 12, 12]         (recursive)\n",
              "│    └─AdaptiveAvgPool2d: 2-8            [128, 64, 1, 1]           --\n",
              "│    └─Flatten: 2-9                      [128, 64]                 --\n",
              "│    └─Linear: 2-10                      [128, 10]                 650\n",
              "==========================================================================================\n",
              "Total params: 142,410\n",
              "Trainable params: 142,410\n",
              "Non-trainable params: 0\n",
              "Total mult-adds (G): 15.09\n",
              "==========================================================================================\n",
              "Input size (MB): 0.40\n",
              "Forward/backward pass size (MB): 145.24\n",
              "Params size (MB): 0.57\n",
              "Estimated Total Size (MB): 146.21\n",
              "=========================================================================================="
            ]
          },
          "metadata": {
            "tags": []
          },
          "execution_count": 42
        }
      ]
    },
    {
      "cell_type": "markdown",
      "metadata": {
        "id": "9TEDt5RK-zTd"
      },
      "source": [
        "## TisODE Models"
      ]
    },
    {
      "cell_type": "code",
      "metadata": {
        "id": "6MF17s0zjHSa"
      },
      "source": [
        "class TisODEfunc(nn.Module):\n",
        "\n",
        "    def __init__(self, dim):\n",
        "        super().__init__()\n",
        "        self.relu = nn.ReLU()\n",
        "        self.conv1 = nn.Conv2d(dim, dim, 3, 1, 1)\n",
        "        self.norm1 = norm(dim)\n",
        "        self.conv2 = nn.Conv2d(dim, dim, 3, 1, 1)\n",
        "        self.norm2 = norm(dim)\n",
        "        self.nfe = 0\n",
        "\n",
        "    def forward(self, t, x):\n",
        "        # t is passed as an argument but not used in evaluation since the\n",
        "        # function is time invariant.\n",
        "        self.nfe += 1\n",
        "        out = self.conv1(x)\n",
        "        out = self.norm1(out)\n",
        "        out = self.relu(out)\n",
        "        out = self.conv2(out)\n",
        "        out = self.norm2(out)\n",
        "        out = self.relu(out)\n",
        "        return out"
      ],
      "execution_count": 43,
      "outputs": []
    },
    {
      "cell_type": "code",
      "metadata": {
        "colab": {
          "base_uri": "https://localhost:8080/"
        },
        "id": "yATgCaFR_Dqa",
        "outputId": "d2e892b1-5096-46c4-c365-2ec574e0a4e9"
      },
      "source": [
        "class TisODE_Net(utils.TisODEBase):\n",
        "  def __init__(self, robustness=None, step_size=0.1, L_ss_weight=0.01,\n",
        "               start_regularization=5, **kwargs):\n",
        "    super().__init__(robustness=robustness, step_size=step_size,\n",
        "                     L_ss_weight=L_ss_weight,\n",
        "                     start_regularization=start_regularization, **kwargs)\n",
        "\n",
        "    # Optional input randomization layer\n",
        "    if robustness == 'IRd':\n",
        "      layers1 = [utils.InputRandomization(output_size=IRd_output_size)]\n",
        "    else:\n",
        "      layers1 = []\n",
        "\n",
        "    # FE layers\n",
        "    layers1.extend([\n",
        "      nn.Conv2d(1, 64, 3, 1),\n",
        "      norm(64),\n",
        "      nn.ReLU(),\n",
        "      nn.Conv2d(64, 64, 4, 2),\n",
        "      norm(64),\n",
        "      nn.ReLU()\n",
        "    ])\n",
        "    self.model1 = nn.Sequential(*layers1)\n",
        "\n",
        "    # RM layer\n",
        "    self.odeblock = utils.ODEBlock(TisODEfunc(64))\n",
        "\n",
        "    # Optional feature denoising layer\n",
        "    layers2 = [utils.FeatureDenoising(64)] if robustness == 'FDn' else []\n",
        "\n",
        "    # FCC layer\n",
        "    layers2.extend([\n",
        "      nn.AdaptiveAvgPool2d((1, 1)),\n",
        "      nn.Flatten(),\n",
        "      nn.Linear(64, 10)])\n",
        "    \n",
        "    self.model2 = nn.Sequential(*layers2)\n",
        "\n",
        "model = TisODE_Net().to('cpu')\n",
        "summary(model, input_size=[vanilla_dm.batch_size, *vanilla_dm.dims])"
      ],
      "execution_count": 44,
      "outputs": [
        {
          "output_type": "execute_result",
          "data": {
            "text/plain": [
              "==========================================================================================\n",
              "Layer (type:depth-idx)                   Output Shape              Param #\n",
              "==========================================================================================\n",
              "TisODE_Net                               --                        --\n",
              "├─Sequential: 1-1                        [128, 64, 12, 12]         --\n",
              "│    └─Conv2d: 2-1                       [128, 64, 26, 26]         640\n",
              "│    └─GroupNorm: 2-2                    [128, 64, 26, 26]         128\n",
              "│    └─ReLU: 2-3                         [128, 64, 26, 26]         --\n",
              "│    └─Conv2d: 2-4                       [128, 64, 12, 12]         65,600\n",
              "│    └─GroupNorm: 2-5                    [128, 64, 12, 12]         128\n",
              "│    └─ReLU: 2-6                         [128, 64, 12, 12]         --\n",
              "├─ODEBlock: 1-2                          [128, 64, 12, 12]         --\n",
              "│    └─TisODEfunc: 2-7                   [128, 64, 12, 12]         --\n",
              "│    │    └─Conv2d: 3-1                  [128, 64, 12, 12]         36,928\n",
              "│    │    └─GroupNorm: 3-2               [128, 64, 12, 12]         128\n",
              "│    │    └─ReLU: 3-3                    [128, 64, 12, 12]         --\n",
              "│    │    └─Conv2d: 3-4                  [128, 64, 12, 12]         36,928\n",
              "│    │    └─GroupNorm: 3-5               [128, 64, 12, 12]         128\n",
              "│    │    └─ReLU: 3-6                    [128, 64, 12, 12]         --\n",
              "│    └─TisODEfunc: 2-8                   [128, 64, 12, 12]         (recursive)\n",
              "│    │    └─Conv2d: 3-7                  [128, 64, 12, 12]         (recursive)\n",
              "│    │    └─GroupNorm: 3-8               [128, 64, 12, 12]         (recursive)\n",
              "│    │    └─ReLU: 3-9                    [128, 64, 12, 12]         --\n",
              "│    │    └─Conv2d: 3-10                 [128, 64, 12, 12]         (recursive)\n",
              "│    │    └─GroupNorm: 3-11              [128, 64, 12, 12]         (recursive)\n",
              "│    │    └─ReLU: 3-12                   [128, 64, 12, 12]         --\n",
              "│    └─TisODEfunc: 2-9                   [128, 64, 12, 12]         (recursive)\n",
              "│    │    └─Conv2d: 3-13                 [128, 64, 12, 12]         (recursive)\n",
              "│    │    └─GroupNorm: 3-14              [128, 64, 12, 12]         (recursive)\n",
              "│    │    └─ReLU: 3-15                   [128, 64, 12, 12]         --\n",
              "│    │    └─Conv2d: 3-16                 [128, 64, 12, 12]         (recursive)\n",
              "│    │    └─GroupNorm: 3-17              [128, 64, 12, 12]         (recursive)\n",
              "│    │    └─ReLU: 3-18                   [128, 64, 12, 12]         --\n",
              "│    └─TisODEfunc: 2-10                  [128, 64, 12, 12]         (recursive)\n",
              "│    │    └─Conv2d: 3-19                 [128, 64, 12, 12]         (recursive)\n",
              "│    │    └─GroupNorm: 3-20              [128, 64, 12, 12]         (recursive)\n",
              "│    │    └─ReLU: 3-21                   [128, 64, 12, 12]         --\n",
              "│    │    └─Conv2d: 3-22                 [128, 64, 12, 12]         (recursive)\n",
              "│    │    └─GroupNorm: 3-23              [128, 64, 12, 12]         (recursive)\n",
              "│    │    └─ReLU: 3-24                   [128, 64, 12, 12]         --\n",
              "│    └─TisODEfunc: 2-11                  [128, 64, 12, 12]         (recursive)\n",
              "│    │    └─Conv2d: 3-25                 [128, 64, 12, 12]         (recursive)\n",
              "│    │    └─GroupNorm: 3-26              [128, 64, 12, 12]         (recursive)\n",
              "│    │    └─ReLU: 3-27                   [128, 64, 12, 12]         --\n",
              "│    │    └─Conv2d: 3-28                 [128, 64, 12, 12]         (recursive)\n",
              "│    │    └─GroupNorm: 3-29              [128, 64, 12, 12]         (recursive)\n",
              "│    │    └─ReLU: 3-30                   [128, 64, 12, 12]         --\n",
              "│    └─TisODEfunc: 2-12                  [128, 64, 12, 12]         (recursive)\n",
              "│    │    └─Conv2d: 3-31                 [128, 64, 12, 12]         (recursive)\n",
              "│    │    └─GroupNorm: 3-32              [128, 64, 12, 12]         (recursive)\n",
              "│    │    └─ReLU: 3-33                   [128, 64, 12, 12]         --\n",
              "│    │    └─Conv2d: 3-34                 [128, 64, 12, 12]         (recursive)\n",
              "│    │    └─GroupNorm: 3-35              [128, 64, 12, 12]         (recursive)\n",
              "│    │    └─ReLU: 3-36                   [128, 64, 12, 12]         --\n",
              "│    └─TisODEfunc: 2-13                  [128, 64, 12, 12]         (recursive)\n",
              "│    │    └─Conv2d: 3-37                 [128, 64, 12, 12]         (recursive)\n",
              "│    │    └─GroupNorm: 3-38              [128, 64, 12, 12]         (recursive)\n",
              "│    │    └─ReLU: 3-39                   [128, 64, 12, 12]         --\n",
              "│    │    └─Conv2d: 3-40                 [128, 64, 12, 12]         (recursive)\n",
              "│    │    └─GroupNorm: 3-41              [128, 64, 12, 12]         (recursive)\n",
              "│    │    └─ReLU: 3-42                   [128, 64, 12, 12]         --\n",
              "│    └─TisODEfunc: 2-14                  [128, 64, 12, 12]         (recursive)\n",
              "│    │    └─Conv2d: 3-43                 [128, 64, 12, 12]         (recursive)\n",
              "│    │    └─GroupNorm: 3-44              [128, 64, 12, 12]         (recursive)\n",
              "│    │    └─ReLU: 3-45                   [128, 64, 12, 12]         --\n",
              "│    │    └─Conv2d: 3-46                 [128, 64, 12, 12]         (recursive)\n",
              "│    │    └─GroupNorm: 3-47              [128, 64, 12, 12]         (recursive)\n",
              "│    │    └─ReLU: 3-48                   [128, 64, 12, 12]         --\n",
              "│    └─TisODEfunc: 2-15                  [128, 64, 12, 12]         (recursive)\n",
              "│    │    └─Conv2d: 3-49                 [128, 64, 12, 12]         (recursive)\n",
              "│    │    └─GroupNorm: 3-50              [128, 64, 12, 12]         (recursive)\n",
              "│    │    └─ReLU: 3-51                   [128, 64, 12, 12]         --\n",
              "│    │    └─Conv2d: 3-52                 [128, 64, 12, 12]         (recursive)\n",
              "│    │    └─GroupNorm: 3-53              [128, 64, 12, 12]         (recursive)\n",
              "│    │    └─ReLU: 3-54                   [128, 64, 12, 12]         --\n",
              "│    └─TisODEfunc: 2-16                  [128, 64, 12, 12]         (recursive)\n",
              "│    │    └─Conv2d: 3-55                 [128, 64, 12, 12]         (recursive)\n",
              "│    │    └─GroupNorm: 3-56              [128, 64, 12, 12]         (recursive)\n",
              "│    │    └─ReLU: 3-57                   [128, 64, 12, 12]         --\n",
              "│    │    └─Conv2d: 3-58                 [128, 64, 12, 12]         (recursive)\n",
              "│    │    └─GroupNorm: 3-59              [128, 64, 12, 12]         (recursive)\n",
              "│    │    └─ReLU: 3-60                   [128, 64, 12, 12]         --\n",
              "├─Sequential: 1-3                        [128, 10]                 --\n",
              "│    └─AdaptiveAvgPool2d: 2-17           [128, 64, 1, 1]           --\n",
              "│    └─Flatten: 2-18                     [128, 64]                 --\n",
              "│    └─Linear: 2-19                      [128, 10]                 650\n",
              "==========================================================================================\n",
              "Total params: 141,258\n",
              "Trainable params: 141,258\n",
              "Non-trainable params: 0\n",
              "Total mult-adds (G): 14.88\n",
              "==========================================================================================\n",
              "Input size (MB): 0.40\n",
              "Forward/backward pass size (MB): 145.24\n",
              "Params size (MB): 0.57\n",
              "Estimated Total Size (MB): 146.20\n",
              "=========================================================================================="
            ]
          },
          "metadata": {
            "tags": []
          },
          "execution_count": 44
        }
      ]
    },
    {
      "cell_type": "code",
      "metadata": {
        "colab": {
          "base_uri": "https://localhost:8080/"
        },
        "id": "M-UI5eBKDwbk",
        "outputId": "13baa6fe-7f8e-4b20-a7d6-be63a76802f2"
      },
      "source": [
        "class TisODE_Net_FDn(TisODE_Net):\n",
        "  def __init__(self, **kwargs):\n",
        "    kwargs['robustness'] = 'FDn'\n",
        "    super().__init__(**kwargs)\n",
        "\n",
        "model = TisODE_Net_FDn().to('cpu')\n",
        "summary(model, input_size=[vanilla_dm.batch_size, *vanilla_dm.dims])"
      ],
      "execution_count": 45,
      "outputs": [
        {
          "output_type": "execute_result",
          "data": {
            "text/plain": [
              "==========================================================================================\n",
              "Layer (type:depth-idx)                   Output Shape              Param #\n",
              "==========================================================================================\n",
              "TisODE_Net_FDn                           --                        --\n",
              "├─Sequential: 1-1                        [128, 64, 12, 12]         --\n",
              "│    └─Conv2d: 2-1                       [128, 64, 26, 26]         640\n",
              "│    └─GroupNorm: 2-2                    [128, 64, 26, 26]         128\n",
              "│    └─ReLU: 2-3                         [128, 64, 26, 26]         --\n",
              "│    └─Conv2d: 2-4                       [128, 64, 12, 12]         65,600\n",
              "│    └─GroupNorm: 2-5                    [128, 64, 12, 12]         128\n",
              "│    └─ReLU: 2-6                         [128, 64, 12, 12]         --\n",
              "├─ODEBlock: 1-2                          [128, 64, 12, 12]         --\n",
              "│    └─TisODEfunc: 2-7                   [128, 64, 12, 12]         --\n",
              "│    │    └─Conv2d: 3-1                  [128, 64, 12, 12]         36,928\n",
              "│    │    └─GroupNorm: 3-2               [128, 64, 12, 12]         128\n",
              "│    │    └─ReLU: 3-3                    [128, 64, 12, 12]         --\n",
              "│    │    └─Conv2d: 3-4                  [128, 64, 12, 12]         36,928\n",
              "│    │    └─GroupNorm: 3-5               [128, 64, 12, 12]         128\n",
              "│    │    └─ReLU: 3-6                    [128, 64, 12, 12]         --\n",
              "│    └─TisODEfunc: 2-8                   [128, 64, 12, 12]         (recursive)\n",
              "│    │    └─Conv2d: 3-7                  [128, 64, 12, 12]         (recursive)\n",
              "│    │    └─GroupNorm: 3-8               [128, 64, 12, 12]         (recursive)\n",
              "│    │    └─ReLU: 3-9                    [128, 64, 12, 12]         --\n",
              "│    │    └─Conv2d: 3-10                 [128, 64, 12, 12]         (recursive)\n",
              "│    │    └─GroupNorm: 3-11              [128, 64, 12, 12]         (recursive)\n",
              "│    │    └─ReLU: 3-12                   [128, 64, 12, 12]         --\n",
              "│    └─TisODEfunc: 2-9                   [128, 64, 12, 12]         (recursive)\n",
              "│    │    └─Conv2d: 3-13                 [128, 64, 12, 12]         (recursive)\n",
              "│    │    └─GroupNorm: 3-14              [128, 64, 12, 12]         (recursive)\n",
              "│    │    └─ReLU: 3-15                   [128, 64, 12, 12]         --\n",
              "│    │    └─Conv2d: 3-16                 [128, 64, 12, 12]         (recursive)\n",
              "│    │    └─GroupNorm: 3-17              [128, 64, 12, 12]         (recursive)\n",
              "│    │    └─ReLU: 3-18                   [128, 64, 12, 12]         --\n",
              "│    └─TisODEfunc: 2-10                  [128, 64, 12, 12]         (recursive)\n",
              "│    │    └─Conv2d: 3-19                 [128, 64, 12, 12]         (recursive)\n",
              "│    │    └─GroupNorm: 3-20              [128, 64, 12, 12]         (recursive)\n",
              "│    │    └─ReLU: 3-21                   [128, 64, 12, 12]         --\n",
              "│    │    └─Conv2d: 3-22                 [128, 64, 12, 12]         (recursive)\n",
              "│    │    └─GroupNorm: 3-23              [128, 64, 12, 12]         (recursive)\n",
              "│    │    └─ReLU: 3-24                   [128, 64, 12, 12]         --\n",
              "│    └─TisODEfunc: 2-11                  [128, 64, 12, 12]         (recursive)\n",
              "│    │    └─Conv2d: 3-25                 [128, 64, 12, 12]         (recursive)\n",
              "│    │    └─GroupNorm: 3-26              [128, 64, 12, 12]         (recursive)\n",
              "│    │    └─ReLU: 3-27                   [128, 64, 12, 12]         --\n",
              "│    │    └─Conv2d: 3-28                 [128, 64, 12, 12]         (recursive)\n",
              "│    │    └─GroupNorm: 3-29              [128, 64, 12, 12]         (recursive)\n",
              "│    │    └─ReLU: 3-30                   [128, 64, 12, 12]         --\n",
              "│    └─TisODEfunc: 2-12                  [128, 64, 12, 12]         (recursive)\n",
              "│    │    └─Conv2d: 3-31                 [128, 64, 12, 12]         (recursive)\n",
              "│    │    └─GroupNorm: 3-32              [128, 64, 12, 12]         (recursive)\n",
              "│    │    └─ReLU: 3-33                   [128, 64, 12, 12]         --\n",
              "│    │    └─Conv2d: 3-34                 [128, 64, 12, 12]         (recursive)\n",
              "│    │    └─GroupNorm: 3-35              [128, 64, 12, 12]         (recursive)\n",
              "│    │    └─ReLU: 3-36                   [128, 64, 12, 12]         --\n",
              "│    └─TisODEfunc: 2-13                  [128, 64, 12, 12]         (recursive)\n",
              "│    │    └─Conv2d: 3-37                 [128, 64, 12, 12]         (recursive)\n",
              "│    │    └─GroupNorm: 3-38              [128, 64, 12, 12]         (recursive)\n",
              "│    │    └─ReLU: 3-39                   [128, 64, 12, 12]         --\n",
              "│    │    └─Conv2d: 3-40                 [128, 64, 12, 12]         (recursive)\n",
              "│    │    └─GroupNorm: 3-41              [128, 64, 12, 12]         (recursive)\n",
              "│    │    └─ReLU: 3-42                   [128, 64, 12, 12]         --\n",
              "│    └─TisODEfunc: 2-14                  [128, 64, 12, 12]         (recursive)\n",
              "│    │    └─Conv2d: 3-43                 [128, 64, 12, 12]         (recursive)\n",
              "│    │    └─GroupNorm: 3-44              [128, 64, 12, 12]         (recursive)\n",
              "│    │    └─ReLU: 3-45                   [128, 64, 12, 12]         --\n",
              "│    │    └─Conv2d: 3-46                 [128, 64, 12, 12]         (recursive)\n",
              "│    │    └─GroupNorm: 3-47              [128, 64, 12, 12]         (recursive)\n",
              "│    │    └─ReLU: 3-48                   [128, 64, 12, 12]         --\n",
              "│    └─TisODEfunc: 2-15                  [128, 64, 12, 12]         (recursive)\n",
              "│    │    └─Conv2d: 3-49                 [128, 64, 12, 12]         (recursive)\n",
              "│    │    └─GroupNorm: 3-50              [128, 64, 12, 12]         (recursive)\n",
              "│    │    └─ReLU: 3-51                   [128, 64, 12, 12]         --\n",
              "│    │    └─Conv2d: 3-52                 [128, 64, 12, 12]         (recursive)\n",
              "│    │    └─GroupNorm: 3-53              [128, 64, 12, 12]         (recursive)\n",
              "│    │    └─ReLU: 3-54                   [128, 64, 12, 12]         --\n",
              "│    └─TisODEfunc: 2-16                  [128, 64, 12, 12]         (recursive)\n",
              "│    │    └─Conv2d: 3-55                 [128, 64, 12, 12]         (recursive)\n",
              "│    │    └─GroupNorm: 3-56              [128, 64, 12, 12]         (recursive)\n",
              "│    │    └─ReLU: 3-57                   [128, 64, 12, 12]         --\n",
              "│    │    └─Conv2d: 3-58                 [128, 64, 12, 12]         (recursive)\n",
              "│    │    └─GroupNorm: 3-59              [128, 64, 12, 12]         (recursive)\n",
              "│    │    └─ReLU: 3-60                   [128, 64, 12, 12]         --\n",
              "├─Sequential: 1-3                        [128, 10]                 --\n",
              "│    └─FeatureDenoising: 2-17            [128, 64, 12, 12]         --\n",
              "│    │    └─Conv2d: 3-61                 [128, 64, 12, 12]         4,160\n",
              "│    │    └─GroupNorm: 3-62              [128, 64, 12, 12]         128\n",
              "│    └─AdaptiveAvgPool2d: 2-18           [128, 64, 1, 1]           --\n",
              "│    └─Flatten: 2-19                     [128, 64]                 --\n",
              "│    └─Linear: 2-20                      [128, 10]                 650\n",
              "==========================================================================================\n",
              "Total params: 145,546\n",
              "Trainable params: 145,546\n",
              "Non-trainable params: 0\n",
              "Total mult-adds (G): 14.95\n",
              "==========================================================================================\n",
              "Input size (MB): 0.40\n",
              "Forward/backward pass size (MB): 164.11\n",
              "Params size (MB): 0.58\n",
              "Estimated Total Size (MB): 165.10\n",
              "=========================================================================================="
            ]
          },
          "metadata": {
            "tags": []
          },
          "execution_count": 45
        }
      ]
    },
    {
      "cell_type": "code",
      "metadata": {
        "colab": {
          "base_uri": "https://localhost:8080/"
        },
        "id": "aVYZ87crQPEl",
        "outputId": "89e4aac6-82be-4017-fdee-8d1481c80f80"
      },
      "source": [
        "class TisODE_Net_IRd(TisODE_Net):\n",
        "  def __init__(self, **kwargs):\n",
        "    kwargs['robustness'] = 'IRd'\n",
        "    super().__init__(**kwargs)\n",
        "\n",
        "model = TisODE_Net_IRd().to('cpu')\n",
        "summary(model, input_size=[vanilla_dm.batch_size, *vanilla_dm.dims])"
      ],
      "execution_count": 46,
      "outputs": [
        {
          "output_type": "execute_result",
          "data": {
            "text/plain": [
              "==========================================================================================\n",
              "Layer (type:depth-idx)                   Output Shape              Param #\n",
              "==========================================================================================\n",
              "TisODE_Net_IRd                           --                        --\n",
              "├─Sequential: 1-1                        [128, 64, 16, 16]         --\n",
              "│    └─InputRandomization: 2-1           [128, 1, 36, 36]          --\n",
              "│    └─Conv2d: 2-2                       [128, 64, 34, 34]         640\n",
              "│    └─GroupNorm: 2-3                    [128, 64, 34, 34]         128\n",
              "│    └─ReLU: 2-4                         [128, 64, 34, 34]         --\n",
              "│    └─Conv2d: 2-5                       [128, 64, 16, 16]         65,600\n",
              "│    └─GroupNorm: 2-6                    [128, 64, 16, 16]         128\n",
              "│    └─ReLU: 2-7                         [128, 64, 16, 16]         --\n",
              "├─ODEBlock: 1-2                          [128, 64, 16, 16]         --\n",
              "│    └─TisODEfunc: 2-8                   [128, 64, 16, 16]         --\n",
              "│    │    └─Conv2d: 3-1                  [128, 64, 16, 16]         36,928\n",
              "│    │    └─GroupNorm: 3-2               [128, 64, 16, 16]         128\n",
              "│    │    └─ReLU: 3-3                    [128, 64, 16, 16]         --\n",
              "│    │    └─Conv2d: 3-4                  [128, 64, 16, 16]         36,928\n",
              "│    │    └─GroupNorm: 3-5               [128, 64, 16, 16]         128\n",
              "│    │    └─ReLU: 3-6                    [128, 64, 16, 16]         --\n",
              "│    └─TisODEfunc: 2-9                   [128, 64, 16, 16]         (recursive)\n",
              "│    │    └─Conv2d: 3-7                  [128, 64, 16, 16]         (recursive)\n",
              "│    │    └─GroupNorm: 3-8               [128, 64, 16, 16]         (recursive)\n",
              "│    │    └─ReLU: 3-9                    [128, 64, 16, 16]         --\n",
              "│    │    └─Conv2d: 3-10                 [128, 64, 16, 16]         (recursive)\n",
              "│    │    └─GroupNorm: 3-11              [128, 64, 16, 16]         (recursive)\n",
              "│    │    └─ReLU: 3-12                   [128, 64, 16, 16]         --\n",
              "│    └─TisODEfunc: 2-10                  [128, 64, 16, 16]         (recursive)\n",
              "│    │    └─Conv2d: 3-13                 [128, 64, 16, 16]         (recursive)\n",
              "│    │    └─GroupNorm: 3-14              [128, 64, 16, 16]         (recursive)\n",
              "│    │    └─ReLU: 3-15                   [128, 64, 16, 16]         --\n",
              "│    │    └─Conv2d: 3-16                 [128, 64, 16, 16]         (recursive)\n",
              "│    │    └─GroupNorm: 3-17              [128, 64, 16, 16]         (recursive)\n",
              "│    │    └─ReLU: 3-18                   [128, 64, 16, 16]         --\n",
              "│    └─TisODEfunc: 2-11                  [128, 64, 16, 16]         (recursive)\n",
              "│    │    └─Conv2d: 3-19                 [128, 64, 16, 16]         (recursive)\n",
              "│    │    └─GroupNorm: 3-20              [128, 64, 16, 16]         (recursive)\n",
              "│    │    └─ReLU: 3-21                   [128, 64, 16, 16]         --\n",
              "│    │    └─Conv2d: 3-22                 [128, 64, 16, 16]         (recursive)\n",
              "│    │    └─GroupNorm: 3-23              [128, 64, 16, 16]         (recursive)\n",
              "│    │    └─ReLU: 3-24                   [128, 64, 16, 16]         --\n",
              "│    └─TisODEfunc: 2-12                  [128, 64, 16, 16]         (recursive)\n",
              "│    │    └─Conv2d: 3-25                 [128, 64, 16, 16]         (recursive)\n",
              "│    │    └─GroupNorm: 3-26              [128, 64, 16, 16]         (recursive)\n",
              "│    │    └─ReLU: 3-27                   [128, 64, 16, 16]         --\n",
              "│    │    └─Conv2d: 3-28                 [128, 64, 16, 16]         (recursive)\n",
              "│    │    └─GroupNorm: 3-29              [128, 64, 16, 16]         (recursive)\n",
              "│    │    └─ReLU: 3-30                   [128, 64, 16, 16]         --\n",
              "│    └─TisODEfunc: 2-13                  [128, 64, 16, 16]         (recursive)\n",
              "│    │    └─Conv2d: 3-31                 [128, 64, 16, 16]         (recursive)\n",
              "│    │    └─GroupNorm: 3-32              [128, 64, 16, 16]         (recursive)\n",
              "│    │    └─ReLU: 3-33                   [128, 64, 16, 16]         --\n",
              "│    │    └─Conv2d: 3-34                 [128, 64, 16, 16]         (recursive)\n",
              "│    │    └─GroupNorm: 3-35              [128, 64, 16, 16]         (recursive)\n",
              "│    │    └─ReLU: 3-36                   [128, 64, 16, 16]         --\n",
              "│    └─TisODEfunc: 2-14                  [128, 64, 16, 16]         (recursive)\n",
              "│    │    └─Conv2d: 3-37                 [128, 64, 16, 16]         (recursive)\n",
              "│    │    └─GroupNorm: 3-38              [128, 64, 16, 16]         (recursive)\n",
              "│    │    └─ReLU: 3-39                   [128, 64, 16, 16]         --\n",
              "│    │    └─Conv2d: 3-40                 [128, 64, 16, 16]         (recursive)\n",
              "│    │    └─GroupNorm: 3-41              [128, 64, 16, 16]         (recursive)\n",
              "│    │    └─ReLU: 3-42                   [128, 64, 16, 16]         --\n",
              "│    └─TisODEfunc: 2-15                  [128, 64, 16, 16]         (recursive)\n",
              "│    │    └─Conv2d: 3-43                 [128, 64, 16, 16]         (recursive)\n",
              "│    │    └─GroupNorm: 3-44              [128, 64, 16, 16]         (recursive)\n",
              "│    │    └─ReLU: 3-45                   [128, 64, 16, 16]         --\n",
              "│    │    └─Conv2d: 3-46                 [128, 64, 16, 16]         (recursive)\n",
              "│    │    └─GroupNorm: 3-47              [128, 64, 16, 16]         (recursive)\n",
              "│    │    └─ReLU: 3-48                   [128, 64, 16, 16]         --\n",
              "│    └─TisODEfunc: 2-16                  [128, 64, 16, 16]         (recursive)\n",
              "│    │    └─Conv2d: 3-49                 [128, 64, 16, 16]         (recursive)\n",
              "│    │    └─GroupNorm: 3-50              [128, 64, 16, 16]         (recursive)\n",
              "│    │    └─ReLU: 3-51                   [128, 64, 16, 16]         --\n",
              "│    │    └─Conv2d: 3-52                 [128, 64, 16, 16]         (recursive)\n",
              "│    │    └─GroupNorm: 3-53              [128, 64, 16, 16]         (recursive)\n",
              "│    │    └─ReLU: 3-54                   [128, 64, 16, 16]         --\n",
              "│    └─TisODEfunc: 2-17                  [128, 64, 16, 16]         (recursive)\n",
              "│    │    └─Conv2d: 3-55                 [128, 64, 16, 16]         (recursive)\n",
              "│    │    └─GroupNorm: 3-56              [128, 64, 16, 16]         (recursive)\n",
              "│    │    └─ReLU: 3-57                   [128, 64, 16, 16]         --\n",
              "│    │    └─Conv2d: 3-58                 [128, 64, 16, 16]         (recursive)\n",
              "│    │    └─GroupNorm: 3-59              [128, 64, 16, 16]         (recursive)\n",
              "│    │    └─ReLU: 3-60                   [128, 64, 16, 16]         --\n",
              "├─Sequential: 1-3                        [128, 10]                 --\n",
              "│    └─AdaptiveAvgPool2d: 2-18           [128, 64, 1, 1]           --\n",
              "│    └─Flatten: 2-19                     [128, 64]                 --\n",
              "│    └─Linear: 2-20                      [128, 10]                 650\n",
              "==========================================================================================\n",
              "Total params: 141,258\n",
              "Trainable params: 141,258\n",
              "Non-trainable params: 0\n",
              "Total mult-adds (G): 26.45\n",
              "==========================================================================================\n",
              "Input size (MB): 0.40\n",
              "Forward/backward pass size (MB): 252.19\n",
              "Params size (MB): 0.57\n",
              "Estimated Total Size (MB): 253.16\n",
              "=========================================================================================="
            ]
          },
          "metadata": {
            "tags": []
          },
          "execution_count": 46
        }
      ]
    },
    {
      "cell_type": "markdown",
      "metadata": {
        "id": "dezkiMfl4Jen"
      },
      "source": [
        "# Train Models"
      ]
    },
    {
      "cell_type": "code",
      "metadata": {
        "id": "TqQtKMD0KA4L"
      },
      "source": [
        "#Hyperparameters\n",
        "hp = {'optimizer': 'Adam',\n",
        "  'weight_decay': 0.0005,\n",
        "  'epochs': 250,  # But it can stop early if not improving\n",
        "  'learning_rate': 0.015,\n",
        "  'plateau_min_delta': 0.001,\n",
        "  'plateau_patience': 2,\n",
        "  'plateau_cooldown': 0,\n",
        "  'early_stopping_min_delta': 0.002,\n",
        "  'early_stopping_patience': 5}"
      ],
      "execution_count": 61,
      "outputs": []
    },
    {
      "cell_type": "markdown",
      "metadata": {
        "id": "knjZUZiBgdB_"
      },
      "source": [
        "## Train CNN models"
      ]
    },
    {
      "cell_type": "code",
      "metadata": {
        "id": "fGio1vbmxq_p"
      },
      "source": [
        "if 'CNN' in models_to_train:\n",
        "  systems, trainers = utils.train_and_save(CNN_Net, vanilla_dm, seeds, **hp)"
      ],
      "execution_count": null,
      "outputs": []
    },
    {
      "cell_type": "code",
      "metadata": {
        "id": "G4QraeOU50KR"
      },
      "source": [
        "if 'CNN_aug' in models_to_train:\n",
        "  systems, trainers = utils.train_and_save(CNN_Net, augmented_dm, seeds, **hp)"
      ],
      "execution_count": null,
      "outputs": []
    },
    {
      "cell_type": "code",
      "metadata": {
        "id": "r60XVyi7EKfd"
      },
      "source": [
        "if 'CNN_FDn' in models_to_train:\n",
        "  systems, trainers = utils.train_and_save(CNN_Net_FDn, augmented_dm, seeds, **hp)"
      ],
      "execution_count": null,
      "outputs": []
    },
    {
      "cell_type": "code",
      "metadata": {
        "id": "nL9dsYTIHBG9"
      },
      "source": [
        "if 'CNN_IRd' in models_to_train:\n",
        "  systems, trainers = utils.train_and_save(CNN_Net_IRd, augmented_dm, seeds, **hp)"
      ],
      "execution_count": null,
      "outputs": []
    },
    {
      "cell_type": "markdown",
      "metadata": {
        "id": "-KuPX6Rz_dtO"
      },
      "source": [
        "## Train Neural ODE models"
      ]
    },
    {
      "cell_type": "code",
      "metadata": {
        "id": "NU3eyqqvjzXa"
      },
      "source": [
        "if 'ODE_Net' in models_to_train:\n",
        "  systems, trainers = utils.train_and_save(ODE_Net, vanilla_dm, seeds, **hp)"
      ],
      "execution_count": null,
      "outputs": []
    },
    {
      "cell_type": "code",
      "metadata": {
        "id": "4r5Lg9ro6iWM"
      },
      "source": [
        "if 'ODE_Net_aug' in models_to_train:\n",
        "  systems, trainers = utils.train_and_save(ODE_Net, augmented_dm, seeds, **hp)"
      ],
      "execution_count": null,
      "outputs": []
    },
    {
      "cell_type": "markdown",
      "metadata": {
        "id": "ES_SHGwG_ntS"
      },
      "source": [
        "## Train TisODE models"
      ]
    },
    {
      "cell_type": "code",
      "metadata": {
        "id": "h1azUtehFYlX"
      },
      "source": [
        "#Hyperparameters\n",
        "hp = {'optimizer': 'Adam',\n",
        "  'weight_decay': 0.0005,\n",
        "  'epochs': 50,\n",
        "  'learning_rate': 0.015,\n",
        "  'plateau_min_delta': 0.001,\n",
        "  'plateau_patience': 2,\n",
        "  'plateau_cooldown': 0,\n",
        "  'early_stopping_min_delta': 0.002,\n",
        "  'early_stopping_patience': 10,\n",
        "  'start_regularization': 5}"
      ],
      "execution_count": 54,
      "outputs": []
    },
    {
      "cell_type": "code",
      "metadata": {
        "id": "LJlUcWfc_69D"
      },
      "source": [
        "if 'TisODE_aug' in models_to_train:\n",
        "  systems, trainers = utils.train_and_save(TisODE_Net, augmented_dm, seeds, **hp)"
      ],
      "execution_count": null,
      "outputs": []
    },
    {
      "cell_type": "code",
      "metadata": {
        "id": "NDP6KtoeEOQw"
      },
      "source": [
        "if 'TisODE_FDn' in models_to_train:\n",
        "  systems, trainers = utils.train_and_save(TisODE_Net_FDn, augmented_dm, seeds, **hp)"
      ],
      "execution_count": null,
      "outputs": []
    },
    {
      "cell_type": "code",
      "metadata": {
        "id": "IJMwnZLsfKis"
      },
      "source": [
        "if 'TisODE_IRd' in models_to_train:\n",
        "  systems, trainers = utils.train_and_save(TisODE_Net_IRd, augmented_dm, seeds, **hp)"
      ],
      "execution_count": null,
      "outputs": []
    },
    {
      "cell_type": "markdown",
      "metadata": {
        "id": "Q4O0oOTaAa4D"
      },
      "source": [
        "# Results"
      ]
    },
    {
      "cell_type": "markdown",
      "metadata": {
        "id": "a9xb01Ir6Kvl"
      },
      "source": [
        "## Models trained on non-perturbed images\n",
        "\n",
        "Compare to Table 1 in Section 3.2 of the paper."
      ]
    },
    {
      "cell_type": "code",
      "metadata": {
        "colab": {
          "base_uri": "https://localhost:8080/"
        },
        "id": "Q6SACgDer7Ah",
        "outputId": "4eb5510b-c39b-4f23-fb75-aa242cd294a1"
      },
      "source": [
        "# Verify model against unmodified dataset test data\n",
        "models = utils.load_models(vanilla_dm, CNN_Net, seeds)\n",
        "results = utils.test_models(models, vanilla_dm, {0: vanilla_dm})"
      ],
      "execution_count": 64,
      "outputs": [
        {
          "output_type": "stream",
          "text": [
            "CNN_Net gaussian=0: accuracy=99.2 ± 0.1\n"
          ],
          "name": "stderr"
        }
      ]
    },
    {
      "cell_type": "code",
      "metadata": {
        "id": "eQuGDqm41k00"
      },
      "source": [
        "gauss_test_sets1 = {std: MNISTDataModule(test_gaussian_noise=std) for std in std_list}\n",
        "for gauss_strength, dm in gauss_test_sets1.items():\n",
        "  dm.setup()"
      ],
      "execution_count": 65,
      "outputs": []
    },
    {
      "cell_type": "code",
      "metadata": {
        "colab": {
          "base_uri": "https://localhost:8080/"
        },
        "id": "Ztge_53DtNSr",
        "outputId": "ec9985e1-e085-4dcd-e5e9-39dd31e5bdda"
      },
      "source": [
        "models = utils.load_models(vanilla_dm, CNN_Net, seeds)\n",
        "results = utils.test_models(models, vanilla_dm, gauss_test_sets1,\n",
        "                            [0.15, 0.3, 0.5])\n"
      ],
      "execution_count": 66,
      "outputs": [
        {
          "output_type": "stream",
          "text": [
            "CNN_Net gaussian=50: accuracy=98.5 ± 0.0\n",
            "CNN_Net gaussian=75: accuracy=94.5 ± 1.1\n",
            "CNN_Net gaussian=100: accuracy=77.8 ± 4.2\n",
            "CNN_Net fgsm=0.15: accuracy=67.7 ± 3.7\n",
            "CNN_Net fgsm=0.3: accuracy=27.7 ± 3.6\n",
            "CNN_Net fgsm=0.5: accuracy=9.9 ± 2.0\n"
          ],
          "name": "stderr"
        }
      ]
    },
    {
      "cell_type": "code",
      "metadata": {
        "colab": {
          "base_uri": "https://localhost:8080/"
        },
        "id": "Cniztx57BSH3",
        "outputId": "de7d76c8-8b39-484d-93bc-a8b73bd5cad8"
      },
      "source": [
        "models = utils.load_models(vanilla_dm, ODE_Net, seeds)\n",
        "results = utils.test_models(models, vanilla_dm, gauss_test_sets1,\n",
        "                            [0.15, 0.3, 0.5])"
      ],
      "execution_count": 67,
      "outputs": [
        {
          "output_type": "stream",
          "text": [
            "ODE_Net gaussian=50: accuracy=98.9 ± 0.1\n",
            "ODE_Net gaussian=75: accuracy=96.5 ± 0.8\n",
            "ODE_Net gaussian=100: accuracy=87.4 ± 4.8\n",
            "ODE_Net fgsm=0.15: accuracy=84.6 ± 1.5\n",
            "ODE_Net fgsm=0.3: accuracy=49.6 ± 3.0\n",
            "ODE_Net fgsm=0.5: accuracy=18.5 ± 1.2\n"
          ],
          "name": "stderr"
        }
      ]
    },
    {
      "cell_type": "markdown",
      "metadata": {
        "id": "crgKNtC_vtmD"
      },
      "source": [
        "## Models trained on original images together with Gaussian perturbations\n",
        "\n",
        "Compare to Table 2 in Section 3.3 of the paper and Table 3 in Section 4.2 of the paper."
      ]
    },
    {
      "cell_type": "code",
      "metadata": {
        "id": "7IgpwDBlCC8-"
      },
      "source": [
        "gauss_test_sets2 = {std: MNISTDataModule(test_gaussian_noise=std) for std in [100]}\n",
        "for gauss_strength, dm in gauss_test_sets2.items():\n",
        "  dm.setup()"
      ],
      "execution_count": 68,
      "outputs": []
    },
    {
      "cell_type": "code",
      "metadata": {
        "colab": {
          "base_uri": "https://localhost:8080/"
        },
        "id": "peYprvpmA5yS",
        "outputId": "84d809d8-ccbd-440c-c1c8-3724a263bf19"
      },
      "source": [
        "models = utils.load_models(augmented_dm, CNN_Net, seeds)\n",
        "results = utils.test_models(models, vanilla_dm, gauss_test_sets2,\n",
        "                            [0.3, 0.5],\n",
        "                            [0.2, 0.3])"
      ],
      "execution_count": 69,
      "outputs": [
        {
          "output_type": "stream",
          "text": [
            "CNN_Net_aug gaussian=100: accuracy=97.9 ± 0.4\n",
            "CNN_Net_aug fgsm=0.3: accuracy=52.4 ± 2.7\n",
            "CNN_Net_aug fgsm=0.5: accuracy=16.5 ± 2.2\n",
            "CNN_Net_aug pdg=0.2: accuracy=43.3 ± 1.1\n",
            "CNN_Net_aug pdg=0.3: accuracy=0.6 ± 0.3\n"
          ],
          "name": "stderr"
        }
      ]
    },
    {
      "cell_type": "code",
      "metadata": {
        "colab": {
          "base_uri": "https://localhost:8080/"
        },
        "id": "k0hL-D_ywKa8",
        "outputId": "d02e2d88-3c37-4875-86b2-cf4019d13971"
      },
      "source": [
        "models = utils.load_models(augmented_dm, ODE_Net, seeds)\n",
        "results = utils.test_models(models, vanilla_dm, gauss_test_sets2,\n",
        "                            [0.3, 0.5],\n",
        "                            [0.2, 0.3])"
      ],
      "execution_count": 70,
      "outputs": [
        {
          "output_type": "stream",
          "text": [
            "ODE_Net_aug gaussian=100: accuracy=98.4 ± 0.1\n",
            "ODE_Net_aug fgsm=0.3: accuracy=69.3 ± 2.4\n",
            "ODE_Net_aug fgsm=0.5: accuracy=28.4 ± 1.2\n",
            "ODE_Net_aug pdg=0.2: accuracy=72.8 ± 0.5\n",
            "ODE_Net_aug pdg=0.3: accuracy=20.2 ± 0.6\n"
          ],
          "name": "stderr"
        }
      ]
    },
    {
      "cell_type": "code",
      "metadata": {
        "colab": {
          "base_uri": "https://localhost:8080/"
        },
        "id": "qtD1qgRPCdZx",
        "outputId": "91fd7f44-e728-4f00-e68d-c9afc696936f"
      },
      "source": [
        "models = utils.load_models(augmented_dm, TisODE_Net, seeds)\n",
        "results = utils.test_models(models, vanilla_dm, gauss_test_sets2,\n",
        "                            [0.3, 0.5],\n",
        "                            [0.2, 0.3])"
      ],
      "execution_count": 58,
      "outputs": [
        {
          "output_type": "stream",
          "text": [
            "/usr/local/lib/python3.7/dist-packages/torchdiffeq/_impl/misc.py:296: UserWarning: t is not on the same device as y0. Coercing to y0.device.\n",
            "  warnings.warn(\"t is not on the same device as y0. Coercing to y0.device.\")\n",
            "TisODE_Net_aug gaussian=100: accuracy=77.4 ± 19.9\n",
            "TisODE_Net_aug fgsm=0.3: accuracy=35.5 ± 24.8\n",
            "TisODE_Net_aug fgsm=0.5: accuracy=14.7 ± 7.1\n",
            "TisODE_Net_aug pdg=0.2: accuracy=36.2 ± 35.2\n",
            "TisODE_Net_aug pdg=0.3: accuracy=7.3 ± 9.6\n"
          ],
          "name": "stderr"
        }
      ]
    },
    {
      "cell_type": "markdown",
      "metadata": {
        "id": "vCYh7fFSiPbY"
      },
      "source": [
        "## Models with added layers to improve robustness\n",
        "\n",
        "Compare to Table 4 in Section 4.3 of the paper."
      ]
    },
    {
      "cell_type": "code",
      "metadata": {
        "colab": {
          "base_uri": "https://localhost:8080/"
        },
        "id": "z1lDvw55C8Rk",
        "outputId": "97abece2-ff22-4302-f22b-e53e98dc3cc8"
      },
      "source": [
        "# This is a repeat of above\n",
        "models = utils.load_models(augmented_dm, CNN_Net, seeds)\n",
        "results = utils.test_models(models, vanilla_dm, gauss_test_sets2,\n",
        "                            [0.3, 0.5],\n",
        "                            [0.2, 0.3])"
      ],
      "execution_count": 71,
      "outputs": [
        {
          "output_type": "stream",
          "text": [
            "CNN_Net_aug gaussian=100: accuracy=97.9 ± 0.4\n",
            "CNN_Net_aug fgsm=0.3: accuracy=52.4 ± 2.7\n",
            "CNN_Net_aug fgsm=0.5: accuracy=16.5 ± 2.2\n",
            "CNN_Net_aug pdg=0.2: accuracy=43.3 ± 1.1\n",
            "CNN_Net_aug pdg=0.3: accuracy=0.6 ± 0.3\n"
          ],
          "name": "stderr"
        }
      ]
    },
    {
      "cell_type": "code",
      "metadata": {
        "colab": {
          "base_uri": "https://localhost:8080/"
        },
        "id": "-eKzunDXDCHI",
        "outputId": "587da09f-b762-4c83-ca2f-259121c0bb5a"
      },
      "source": [
        "models = utils.load_models(augmented_dm, CNN_Net_FDn, seeds)\n",
        "results = utils.test_models(models, vanilla_dm, gauss_test_sets2,\n",
        "                            [0.3, 0.5],\n",
        "                            [0.2, 0.3])"
      ],
      "execution_count": 72,
      "outputs": [
        {
          "output_type": "stream",
          "text": [
            "CNN_Net_FDn_aug gaussian=100: accuracy=98.1 ± 0.1\n",
            "CNN_Net_FDn_aug fgsm=0.3: accuracy=60.6 ± 5.5\n",
            "CNN_Net_FDn_aug fgsm=0.5: accuracy=23.8 ± 4.7\n",
            "CNN_Net_FDn_aug pdg=0.2: accuracy=49.0 ± 7.4\n",
            "CNN_Net_FDn_aug pdg=0.3: accuracy=4.1 ± 1.4\n"
          ],
          "name": "stderr"
        }
      ]
    },
    {
      "cell_type": "code",
      "metadata": {
        "colab": {
          "base_uri": "https://localhost:8080/"
        },
        "id": "p1N39pmtP4ch",
        "outputId": "65d79989-af70-41d2-f89a-974ee0f986be"
      },
      "source": [
        "models = utils.load_models(augmented_dm, TisODE_Net_FDn, seeds)\n",
        "results = utils.test_models(models, vanilla_dm, gauss_test_sets2,\n",
        "                            [0.3, 0.5],\n",
        "                            [0.2, 0.3])"
      ],
      "execution_count": 59,
      "outputs": [
        {
          "output_type": "stream",
          "text": [
            "/usr/local/lib/python3.7/dist-packages/torchdiffeq/_impl/misc.py:296: UserWarning: t is not on the same device as y0. Coercing to y0.device.\n",
            "  warnings.warn(\"t is not on the same device as y0. Coercing to y0.device.\")\n",
            "TisODE_Net_FDn_aug gaussian=100: accuracy=87.0 ± 6.0\n",
            "TisODE_Net_FDn_aug fgsm=0.3: accuracy=26.9 ± 19.5\n",
            "TisODE_Net_FDn_aug fgsm=0.5: accuracy=12.5 ± 7.9\n",
            "TisODE_Net_FDn_aug pdg=0.2: accuracy=23.6 ± 23.8\n",
            "TisODE_Net_FDn_aug pdg=0.3: accuracy=2.5 ± 3.2\n"
          ],
          "name": "stderr"
        }
      ]
    },
    {
      "cell_type": "code",
      "metadata": {
        "colab": {
          "base_uri": "https://localhost:8080/"
        },
        "id": "Mg62EM3aQFI8",
        "outputId": "4263177a-9c2a-4ec3-9d55-bba4d99d3c3d"
      },
      "source": [
        "models = utils.load_models(augmented_dm, CNN_Net_IRd, seeds)\n",
        "results = utils.test_models(models, vanilla_dm, gauss_test_sets2,\n",
        "                            [0.3, 0.5],\n",
        "                            [0.2, 0.3])"
      ],
      "execution_count": 73,
      "outputs": [
        {
          "output_type": "stream",
          "text": [
            "CNN_Net_IRd_aug gaussian=100: accuracy=97.5 ± 0.2\n",
            "CNN_Net_IRd_aug fgsm=0.3: accuracy=53.5 ± 5.9\n",
            "CNN_Net_IRd_aug fgsm=0.5: accuracy=13.5 ± 3.4\n",
            "CNN_Net_IRd_aug pdg=0.2: accuracy=58.1 ± 5.3\n",
            "CNN_Net_IRd_aug pdg=0.3: accuracy=3.8 ± 1.7\n"
          ],
          "name": "stderr"
        }
      ]
    },
    {
      "cell_type": "code",
      "metadata": {
        "id": "Wbi4XU2wQHFN",
        "colab": {
          "base_uri": "https://localhost:8080/"
        },
        "outputId": "fbb94542-d134-422a-e40a-9baa1070bfc5"
      },
      "source": [
        "models = utils.load_models(augmented_dm, TisODE_Net_IRd, seeds)\n",
        "results = utils.test_models(models, vanilla_dm, gauss_test_sets2,\n",
        "                            [0.3, 0.5],\n",
        "                            [0.2, 0.3])"
      ],
      "execution_count": 60,
      "outputs": [
        {
          "output_type": "stream",
          "text": [
            "/usr/local/lib/python3.7/dist-packages/torchdiffeq/_impl/misc.py:296: UserWarning: t is not on the same device as y0. Coercing to y0.device.\n",
            "  warnings.warn(\"t is not on the same device as y0. Coercing to y0.device.\")\n",
            "TisODE_Net_IRd_aug gaussian=100: accuracy=57.6 ± 9.7\n",
            "TisODE_Net_IRd_aug fgsm=0.3: accuracy=6.2 ± 4.3\n",
            "TisODE_Net_IRd_aug fgsm=0.5: accuracy=4.3 ± 2.3\n",
            "TisODE_Net_IRd_aug pdg=0.2: accuracy=2.5 ± 3.8\n",
            "TisODE_Net_IRd_aug pdg=0.3: accuracy=0.1 ± 0.2\n"
          ],
          "name": "stderr"
        }
      ]
    }
  ]
}