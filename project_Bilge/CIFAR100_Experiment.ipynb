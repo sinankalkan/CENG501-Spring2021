{
  "nbformat": 4,
  "nbformat_minor": 0,
  "metadata": {
    "colab": {
      "name": "CIFAR100_Experiment.ipynb",
      "provenance": [],
      "collapsed_sections": [],
      "toc_visible": true
    },
    "kernelspec": {
      "name": "python3",
      "display_name": "Python 3"
    },
    "language_info": {
      "name": "python"
    },
    "accelerator": "GPU"
  },
  "cells": [
    {
      "cell_type": "markdown",
      "metadata": {
        "id": "5LdgocGvE5TZ"
      },
      "source": [
        "# Libraries"
      ]
    },
    {
      "cell_type": "code",
      "metadata": {
        "id": "OvhSh_OWbCBB",
        "colab": {
          "base_uri": "https://localhost:8080/"
        },
        "outputId": "5663f101-58d2-4cc0-8bee-130225b594c2"
      },
      "source": [
        "# google drive access\n",
        "from google.colab import drive\n",
        "drive.mount('/content/drive')\n",
        "\n",
        "%cd drive/MyDrive/Colab Notebooks"
      ],
      "execution_count": null,
      "outputs": [
        {
          "output_type": "stream",
          "text": [
            "Mounted at /content/drive\n",
            "/content/drive/MyDrive/Colab Notebooks\n"
          ],
          "name": "stdout"
        }
      ]
    },
    {
      "cell_type": "code",
      "metadata": {
        "colab": {
          "base_uri": "https://localhost:8080/"
        },
        "id": "oJcqvMHYa5BF",
        "outputId": "51b14e5b-bef6-4566-e46d-fb5127bb8c11"
      },
      "source": [
        "from tqdm import tqdm\n",
        "import numpy as np\n",
        "import matplotlib.pyplot as plt\n",
        "\n",
        "import torch\n",
        "import torch.nn as nn\n",
        "import torch.nn.functional as F\n",
        "import torch.optim as optim\n",
        "from torch.utils.data import Dataset, DataLoader, random_split\n",
        "from torch.utils.tensorboard import SummaryWriter\n",
        "import torchvision\n",
        "from sklearn.metrics import accuracy_score\n",
        "\n",
        "# install and import the torchinfo library\n",
        "!pip install torchinfo\n",
        "from torchinfo import summary"
      ],
      "execution_count": null,
      "outputs": [
        {
          "output_type": "stream",
          "text": [
            "Collecting torchinfo\n",
            "  Downloading https://files.pythonhosted.org/packages/86/3f/1ca9c336e489b2b7ae3f8cc8a361940ce67ffafc184bda0c3e0dc761eaae/torchinfo-1.5.2-py3-none-any.whl\n",
            "Installing collected packages: torchinfo\n",
            "Successfully installed torchinfo-1.5.2\n"
          ],
          "name": "stdout"
        }
      ]
    },
    {
      "cell_type": "markdown",
      "metadata": {
        "id": "aTS6rmjQFEFg"
      },
      "source": [
        "# Model"
      ]
    },
    {
      "cell_type": "code",
      "metadata": {
        "id": "BfCZX0etFGCZ"
      },
      "source": [
        "class CCM(nn.Module):\n",
        "    \"\"\"\n",
        "    Channel wise calibration model:\n",
        "        y = x * Sigmoid(BN(Group_Conv(GAP(x))))\n",
        "    \"\"\"\n",
        "    def __init__(self, in_channel, out_channel):\n",
        "        super(CCM, self).__init__()\n",
        "        self.adapool = nn.AdaptiveAvgPool2d(1)\n",
        "        self.conv = nn.Conv2d(in_channel, out_channel, kernel_size=1, stride=1, padding=0, groups=in_channel, bias=False)\n",
        "        self.bn = nn.BatchNorm2d(out_channel)\n",
        "        self.sig = nn.Sigmoid()\n",
        "\n",
        "    def forward(self, x):\n",
        "        out = self.adapool(x)\n",
        "        out = self.conv(out)\n",
        "        out = self.bn(out)\n",
        "        out = self.sig(out)\n",
        "        out = x * out\n",
        "        return out\n",
        "\n",
        "\n",
        "class SCM(nn.Module):\n",
        "    \"\"\"\n",
        "    Spatial Calibration Module:\n",
        "        y = x + Group_Conv(x)\n",
        "    \"\"\"\n",
        "    def __init__(self, channel):\n",
        "        super(SCM, self).__init__()\n",
        "        self.conv = nn.Conv2d(channel, channel, kernel_size=3,stride=1, padding=1, groups=channel, bias=False)\n",
        "\n",
        "    def forward(self, x):\n",
        "        out = self.conv(x)\n",
        "        out = x + out\n",
        "        return out\n",
        "\n",
        "\n",
        "class Shortcut(nn.Module):\n",
        "    \"\"\"\n",
        "    Modified skip connections in ResNet \n",
        "    with calibration modules.\n",
        "    \"\"\"\n",
        "    def __init__(self, in_channel, out_channel, stride=1):\n",
        "        super(Shortcut, self).__init__()\n",
        "        self.conv = nn.Conv2d(in_channel, out_channel, kernel_size=1, stride=stride, bias=False)\n",
        "        self.scm = SCM(out_channel)\n",
        "        self.bn = nn.BatchNorm2d(out_channel)\n",
        "        self.ccm = CCM(out_channel, out_channel)\n",
        "\n",
        "    def forward(self, x):\n",
        "        out = self.conv(x)\n",
        "        out = self.scm(out)\n",
        "        out = self.bn(out)\n",
        "        out = self.ccm(out)\n",
        "        return out\n",
        "\n",
        "\n",
        "class BasicBlock(nn.Module):\n",
        "    expansion = 1\n",
        "    \"\"\"\n",
        "    Convolutional blocks of ResNet with \n",
        "    skip connections and calibration modules.\n",
        "    \"\"\"\n",
        "    def __init__(self, in_planes, planes, stride=1):\n",
        "        super(BasicBlock, self).__init__()\n",
        "        self.conv1 = nn.Conv2d(in_planes, planes, kernel_size=3, stride=stride, padding=1, bias=False)\n",
        "        # SCM and CCM for conv1\n",
        "        self.scm1 = SCM(planes)\n",
        "        self.bn1 = nn.BatchNorm2d(planes)\n",
        "        self.ccm1 = CCM(planes, planes)\n",
        "\n",
        "        self.conv2 = nn.Conv2d(planes, planes, kernel_size=3, stride=1, padding=1, bias=False)\n",
        "        # SCM and CCM for conv2\n",
        "        self.scm2 = SCM(planes)\n",
        "        self.bn2 = nn.BatchNorm2d(planes)\n",
        "        self.ccm2 = CCM(planes, planes)\n",
        "\n",
        "        self.shortcut = None\n",
        "        if stride != 1 or in_planes != self.expansion*planes:\n",
        "            self.shortcut = Shortcut(in_planes, self.expansion*planes, stride)\n",
        "\n",
        "    def forward(self, x):\n",
        "        # conv1 forward pass\n",
        "        out = self.conv1(x)\n",
        "        out = self.scm1(out)\n",
        "        out = self.bn1(out)\n",
        "        out = self.ccm1(out)\n",
        "        out = F.relu(out)\n",
        "        # conv2 forward pass\n",
        "        out = self.conv2(out)\n",
        "        out = self.scm2(out)\n",
        "        out = self.bn2(out)\n",
        "        out = self.ccm2(out)\n",
        "        if self.shortcut is not None:\n",
        "            out += self.shortcut(x)\n",
        "        else:\n",
        "            out += x\n",
        "        out = F.relu(out)\n",
        "        return out\n",
        "\n",
        "\n",
        "class ResNet(nn.Module):\n",
        "    def __init__(self, block, num_blocks, num_classes=10):\n",
        "        super(ResNet, self).__init__()\n",
        "        self.in_planes = 64\n",
        "        # input convolutions\n",
        "        self.conv1 = nn.Conv2d(3, 64, kernel_size=3, stride=1, padding=1, bias=False)\n",
        "        self.scm1 = SCM(64)\n",
        "        self.bn1 = nn.BatchNorm2d(64)\n",
        "        self.ccm1 = CCM(64, 64)\n",
        "        # residual blocks\n",
        "        self.layer1 = self._make_layer(block, 64, num_blocks[0], stride=1)\n",
        "        self.layer2 = self._make_layer(block, 128, num_blocks[1], stride=2)\n",
        "        self.layer3 = self._make_layer(block, 256, num_blocks[2], stride=2)\n",
        "        self.layer4 = self._make_layer(block, 512, num_blocks[3], stride=2)\n",
        "        # classifier head\n",
        "        self.classifier = nn.Linear(512*block.expansion, num_classes)\n",
        "\n",
        "    def _make_layer(self, block, planes, num_blocks, stride):\n",
        "        strides = [stride] + [1]*(num_blocks-1)\n",
        "        layers = []\n",
        "        for stride in strides:\n",
        "            layers.append(block(self.in_planes, planes, stride))\n",
        "            self.in_planes = planes * block.expansion\n",
        "        return nn.Sequential(*layers)\n",
        "\n",
        "    def forward(self, x):\n",
        "        # forward pass of input conv\n",
        "        out = self.conv1(x)\n",
        "        out = self.scm1(out)\n",
        "        out = self.bn1(out)\n",
        "        out = self.ccm1(out)\n",
        "        out = F.relu(out)\n",
        "        # forward pass of residual blocks\n",
        "        out = self.layer1(out)\n",
        "        out = self.layer2(out)\n",
        "        out = self.layer3(out)\n",
        "        out = self.layer4(out)\n",
        "        # forward pass of classifier head\n",
        "        out = F.avg_pool2d(out, 4)\n",
        "        out = out.view(out.size(0), -1)\n",
        "        out = self.classifier(out)\n",
        "        return out\n",
        "\n",
        "\n",
        "def get_resnet18(num_classes=10):\n",
        "    return ResNet(BasicBlock, [2, 2, 2, 2], num_classes=num_classes)"
      ],
      "execution_count": null,
      "outputs": []
    },
    {
      "cell_type": "markdown",
      "metadata": {
        "id": "8nH4HDz2FS9q"
      },
      "source": [
        "# Utils"
      ]
    },
    {
      "cell_type": "code",
      "metadata": {
        "id": "DFmFx_LPFVhh"
      },
      "source": [
        "def freeze_noncalibration_layers(model):\n",
        "    for child in model.children():\n",
        "        # Base model convs are frozen\n",
        "        # print('Child: ', type(child))\n",
        "        if type(child) == nn.Conv2d:\n",
        "            froze_this_layer(child, tab='')\n",
        "        # Search for basic blocks in Sequentials\n",
        "        elif type(child) == nn.Sequential:\n",
        "            for child2 in child.children():\n",
        "                # print('\\t Child2: ', type(child2))\n",
        "                if type(child2) == nn.Conv2d:\n",
        "                    froze_this_layer(child2, tab='\\t ')\n",
        "                # Search for Shortcuts in Basic Blocks\n",
        "                elif type(child2) == BasicBlock:\n",
        "                    for child3 in child2.children():\n",
        "                        # print('\\t\\t Child3: ', type(child3))\n",
        "                        # Base model convs are frozen\n",
        "                        if type(child3) == nn.Conv2d:\n",
        "                            froze_this_layer(child3, tab='\\t\\t ')\n",
        "                        elif type(child3) == Shortcut:\n",
        "                            # Base model convs are frozen\n",
        "                            for child4 in child3.children():\n",
        "                                # print('\\t\\t\\t Child4: ', type(child4))\n",
        "                                if type(child4) == nn.Conv2d:\n",
        "                                    froze_this_layer(child4, tab='\\t\\t\\t ')\n",
        "\n",
        "def froze_this_layer(layer, tab=''):\n",
        "    for param in layer.parameters():\n",
        "        # print(tab + '********* Conv2d frozen *********')\n",
        "        param.requires_grad = False\n",
        "\n",
        "\n",
        "def accuracy(y, y_hat):\n",
        "    y_hat = np.argmax(y_hat, axis=1)\n",
        "    y = np.squeeze(y)\n",
        "    acc = accuracy_score(y, y_hat)\n",
        "    return acc"
      ],
      "execution_count": null,
      "outputs": []
    },
    {
      "cell_type": "markdown",
      "metadata": {
        "id": "rhXmOIGJE8EF"
      },
      "source": [
        "# Dataset"
      ]
    },
    {
      "cell_type": "code",
      "metadata": {
        "id": "LK-xZt6kbmAF"
      },
      "source": [
        "def get_dataloader(task_no=0, batch_size=128, subset='train', val_ratio=0.1, vis=False):\n",
        "    if subset == 'test':\n",
        "        shuffle = False\n",
        "        raw_data = torchvision.datasets.CIFAR100(root='./data', train=False, download=True)\n",
        "        # task specific params\n",
        "        classes = list(raw_data.class_to_idx.keys())\n",
        "        task_classes = classes[task_no*10:10+task_no*10]\n",
        "        task_class_labels = [int(raw_data.class_to_idx[class_]) for class_ in task_classes]\n",
        "    else:\n",
        "        raw_data = torchvision.datasets.CIFAR100(root='./data', train=True, download=True)\n",
        "        # task specific params\n",
        "        classes = list(raw_data.class_to_idx.keys())\n",
        "        task_classes = classes[task_no*10:10+task_no*10]\n",
        "        task_class_labels = [int(raw_data.class_to_idx[class_]) for class_ in task_classes]\n",
        "        # split to train-validation datasets generator seed set for reproducibility\n",
        "        val_len = int(len(raw_data) * val_ratio)\n",
        "        train_len = int(len(raw_data) - val_len)\n",
        "        raw_train, raw_val = random_split(raw_data, [train_len, val_len], generator=torch.Generator().manual_seed(42))\n",
        "        \n",
        "        if subset == 'train':\n",
        "            shuffle = True\n",
        "            raw_data = raw_train\n",
        "        elif subset == 'val':\n",
        "            shuffle = False\n",
        "            raw_data = raw_val\n",
        "\n",
        "    # create custom dataset\n",
        "    transforms = torchvision.transforms.Compose(\n",
        "        [\n",
        "         torchvision.transforms.ToTensor(), \n",
        "         torchvision.transforms.Normalize((0.5, 0.5, 0.5), (0.5, 0.5, 0.5))\n",
        "        ]\n",
        "    )\n",
        "    task_data = CustomCIFAR100(raw_data, task_classes, task_class_labels, task_no=task_no, transforms=transforms)\n",
        "    print('Num. samples ({}) in task dataset: {}'.format(subset, len(task_data)))\n",
        "\n",
        "    # set batch_sizes\n",
        "    if subset == 'train':\n",
        "        bsize = batch_size\n",
        "    else:\n",
        "        bsize = len(task_data)\n",
        "    # create dataloader\n",
        "    dataloader = DataLoader(task_data, batch_size=bsize, shuffle=shuffle, num_workers=2)\n",
        "    if vis:\n",
        "        num_classes = 10\n",
        "        samples_per_class = 7\n",
        "        task_data_copy = CustomCIFAR100(raw_data, task_classes, task_class_labels, task_no=task_no)\n",
        "        visualize_samples(task_data_copy, task_classes, num_classes, samples_per_class)\n",
        "\n",
        "    return dataloader\n",
        "    \n",
        "\n",
        "class CustomCIFAR100(Dataset):\n",
        "    def __init__(self, dataset, class_names, class_idxs, task_no=0, transforms=None):\n",
        "        super(CustomCIFAR100, self).__init__()\n",
        "        self.dataset = dataset\n",
        "        self.task_no = task_no\n",
        "        self.class_names = class_names\n",
        "        self.class_idxs = class_idxs\n",
        "        self.transforms = transforms\n",
        "        self.idxs = [idx for idx in range(len(dataset)) if (self.dataset[idx][1] in self.class_idxs)]\n",
        "        self.labels = [self.dataset[idx][1] - 10*self.task_no for idx in self.idxs]\n",
        "\n",
        "    def __len__(self):\n",
        "        return len(self.labels)\n",
        "    \n",
        "    def __getitem__(self, idx):\n",
        "        if torch.is_tensor(idx):\n",
        "            idx = idx.tolist()\n",
        "        img, _ = self.dataset[self.idxs[idx]]\n",
        "        y = self.labels[idx]\n",
        "\n",
        "        # convert labels to torch tensor too\n",
        "        if not isinstance(y, np.ndarray):\n",
        "            y = np.array(y)\n",
        "            y = torch.from_numpy(y)\n",
        "\n",
        "        # apply input image transformations\n",
        "        if self.transforms:\n",
        "            img = self.transforms(img)\n",
        "        return img, y\n",
        "\n",
        "\n",
        "def visualize_samples(dataset, classes, num_classes, samples_per_class):\n",
        "    plt.figure(figsize=(12,8))\n",
        "    for y, class_name in enumerate(classes):\n",
        "        idxs = np.flatnonzero(np.array(dataset.labels) == y)\n",
        "        idxs = np.random.choice(idxs, samples_per_class, replace=False)\n",
        "        for i, idx in enumerate(idxs):\n",
        "            plt_idx = i * num_classes + y + 1\n",
        "            plt.subplot(samples_per_class, num_classes, plt_idx)\n",
        "            img, _ = dataset[idx]\n",
        "            plt.imshow(img)\n",
        "            plt.axis('off')\n",
        "            if i == 0:\n",
        "                plt.title(class_name)\n",
        "    plt.show()"
      ],
      "execution_count": null,
      "outputs": []
    },
    {
      "cell_type": "code",
      "metadata": {
        "id": "IIKdwzGuxDxC"
      },
      "source": [
        "\"\"\"\n",
        "cifar100_dataset = torchvision.datasets.CIFAR100(root='./data', train=True, download=True)\n",
        "keys = list(cifar100_dataset.class_to_idx.keys())\n",
        "for task_no in range(10):\n",
        "    start_idx = task_no * 10\n",
        "    end_idx = start_idx + 10\n",
        "    group_classes = keys[start_idx:end_idx]\n",
        "    class_idxs = [cifar100_dataset.class_to_idx[key] for key in group_classes]\n",
        "    print('||*** Task-{} ***|| \\n \\t classnames:{} \\n \\t class_idx:{}'.format(task_no, group_classes, class_idxs))\n",
        "\n",
        "train_loader3 = get_dataloader(task_no=3, batch_size=128, subset='train', val_ratio=0.2, vis=True)\n",
        "val_loader5 = get_dataloader(task_no=5, subset='val', val_ratio=0.2, vis=True)\n",
        "test_loader7 = get_dataloader(task_no=7, subset='test', vis=True)\n",
        "\"\"\""
      ],
      "execution_count": null,
      "outputs": []
    },
    {
      "cell_type": "markdown",
      "metadata": {
        "id": "xaZeRaPOFeD5"
      },
      "source": [
        "# Main"
      ]
    },
    {
      "cell_type": "code",
      "metadata": {
        "id": "pJXNwwEmFhO3",
        "colab": {
          "base_uri": "https://localhost:8080/"
        },
        "outputId": "7ff1b246-e311-4824-8ea6-5bed196c48eb"
      },
      "source": [
        "if torch.cuda.is_available():\n",
        "  print(\"Cuda (GPU support) is available and enabled!\")\n",
        "  device = torch.device(\"cuda\")\n",
        "else:\n",
        "  print(\"Cuda (GPU support) is not available\")\n",
        "  device = torch.device(\"cpu\")"
      ],
      "execution_count": null,
      "outputs": [
        {
          "output_type": "stream",
          "text": [
            "Cuda (GPU support) is available and enabled!\n"
          ],
          "name": "stdout"
        }
      ]
    },
    {
      "cell_type": "code",
      "metadata": {
        "id": "FhOuu-reFqrr"
      },
      "source": [
        "def train(verbose=True):\n",
        "    # create ResNet18 model\n",
        "    model = ResNet(BasicBlock, [2,2,2,2], num_classes=10)\n",
        "    model = model.to(device)\n",
        "\n",
        "    # tensorboard logger\n",
        "    writer = SummaryWriter(log_dir='runs/CIFAR100_experiment')\n",
        "    model_path = './models/CIFAR100_experiment/'\n",
        "    # training parameters\n",
        "    batch_size = 64\n",
        "    lr = 1e-2\n",
        "    epochs_per_task = 50\n",
        "\n",
        "    for task_no in range(10):\n",
        "        task_tag = 'task_' + str(task_no)\n",
        "        # freeze layers other than CCM and SCM,\n",
        "        # add new classifier head for next task\n",
        "        if task_no > 0:\n",
        "            print('************* Re-calibrating model parameters *************')\n",
        "            model = model.to('cpu')\n",
        "            freeze_noncalibration_layers(model)\n",
        "            model.classifier = nn.Linear(512*BasicBlock.expansion, 10)\n",
        "            model = model.to(device)\n",
        "\n",
        "        # check layer freezing\n",
        "        num_trainable_params = sum(p.numel() for p in model.parameters() if p.requires_grad)\n",
        "        print('************* Task: {}, Number of Trainable Parameters: {} *************'.format(task_no, num_trainable_params))\n",
        "\n",
        "        # get dataset for task no\n",
        "        task_train_loader = get_dataloader(task_no=task_no, subset='train', batch_size=batch_size)\n",
        "        task_val_loader = get_dataloader(task_no=task_no, subset='val')\n",
        "\n",
        "        # loss, optimizer and lr-scheduler are identical for each task\n",
        "        criterion = nn.CrossEntropyLoss()\n",
        "        optimizer = optim.SGD(model.parameters(), lr, momentum=0.9)\n",
        "        scheduler = optim.lr_scheduler.MultiStepLR(optimizer, milestones=[15, 30], gamma=0.1)\n",
        "\n",
        "        # training iterations\n",
        "        tr_loss_hist, val_loss_hist, val_acc_hist = [], [], []\n",
        "        num_iter = 0\n",
        "        for e in range(epochs_per_task):\n",
        "            # put model to training mode after each eval\n",
        "            model.train()\n",
        "            # training for an epoch\n",
        "            tqdm_desc = 'Epoch ' + str(e+1) + '/' + str(epochs_per_task)\n",
        "            for _, data in tqdm(enumerate(task_train_loader), ascii=True, desc=tqdm_desc):\n",
        "                # get the data\n",
        "                x, y = data\n",
        "                x, y = x.to(device), y.to(device)\n",
        "\n",
        "                # clear gradients\n",
        "                optimizer.zero_grad()\n",
        "\n",
        "                # calculate loss\n",
        "                yhat = model(x)\n",
        "                loss = criterion(yhat, y)\n",
        "\n",
        "                # backprop\n",
        "                loss.backward()\n",
        "\n",
        "                # update parameters\n",
        "                optimizer.step()\n",
        "\n",
        "                # store training loss\n",
        "                tr_loss_hist.append(loss.item())\n",
        "                # save training loss per minibatch iterations\n",
        "                writer.add_scalar('tr_loss/'+task_tag, loss.item(), num_iter)\n",
        "                num_iter += 1\n",
        "\n",
        "            # get average training loss for last 5 iterations\n",
        "            tr_loss = np.sum(tr_loss_hist[:-6:-1])/5\n",
        "            # update learning-rate\n",
        "            scheduler.step()\n",
        "            \n",
        "            # validation after each epoch\n",
        "            model.eval()\n",
        "            with torch.no_grad():\n",
        "                for i, data in enumerate(task_val_loader):\n",
        "                    x, y = data\n",
        "                    x, y = x.to(device), y.to(device)\n",
        "                    yhat = model(x)\n",
        "                # compute validation metrics\n",
        "                val_loss = criterion(yhat, y) .item()\n",
        "                val_acc = accuracy(y.to('cpu').numpy(), yhat.to('cpu').numpy())\n",
        "\n",
        "            # save validation scores\n",
        "            val_loss_hist.append(val_loss)\n",
        "            val_acc_hist.append(val_acc)\n",
        "            # save to tensorboard\n",
        "            writer.add_scalar('val_loss/'+task_tag, val_loss, e)\n",
        "            writer.add_scalar('val_acc/'+task_tag, val_acc, e)\n",
        "            # display training info\n",
        "            if verbose:\n",
        "                print('tr_loss:{} || val_loss:{} || val_acc:{}'.format(tr_loss, val_loss, val_acc))\n",
        "                \n",
        "        # save the model for current task\n",
        "        print('************* Saving model for Task-{} *************'.format(task_no))\n",
        "        model_filename = 'cifar100_model_task_' + str(task_no) + '.pt'\n",
        "        torch.save(model, model_path + model_filename)\n",
        "        print('************* End of Task-{} training *************'.format(task_no))"
      ],
      "execution_count": null,
      "outputs": []
    },
    {
      "cell_type": "code",
      "metadata": {
        "colab": {
          "base_uri": "https://localhost:8080/",
          "height": 1000
        },
        "id": "sI0n3u4kFsoR",
        "outputId": "ba5eedd5-92d8-4b7a-a659-9692044efc8e"
      },
      "source": [
        "train()"
      ],
      "execution_count": null,
      "outputs": [
        {
          "output_type": "stream",
          "text": [
            "************* Task: 0, Number of Trainable Parameters: 11231562 *************\n",
            "Files already downloaded and verified\n",
            "Num. samples (train) in task dataset: 4494\n",
            "Files already downloaded and verified\n",
            "Num. samples (val) in task dataset: 506\n"
          ],
          "name": "stdout"
        },
        {
          "output_type": "stream",
          "text": [
            "Epoch 1/50: 71it [00:08,  8.65it/s]\n"
          ],
          "name": "stderr"
        },
        {
          "output_type": "stream",
          "text": [
            "tr_loss:1.9765633821487427 || val_loss:1.93231999874115 || val_acc:0.2826086956521739\n"
          ],
          "name": "stdout"
        },
        {
          "output_type": "stream",
          "text": [
            "Epoch 2/50: 71it [00:07,  8.93it/s]\n"
          ],
          "name": "stderr"
        },
        {
          "output_type": "stream",
          "text": [
            "tr_loss:1.6725311994552612 || val_loss:1.6142418384552002 || val_acc:0.45652173913043476\n"
          ],
          "name": "stdout"
        },
        {
          "output_type": "stream",
          "text": [
            "Epoch 3/50: 71it [00:08,  8.82it/s]\n"
          ],
          "name": "stderr"
        },
        {
          "output_type": "stream",
          "text": [
            "tr_loss:1.2979946851730346 || val_loss:1.2138079404830933 || val_acc:0.5889328063241107\n"
          ],
          "name": "stdout"
        },
        {
          "output_type": "stream",
          "text": [
            "Epoch 4/50: 71it [00:08,  8.68it/s]\n"
          ],
          "name": "stderr"
        },
        {
          "output_type": "stream",
          "text": [
            "tr_loss:1.0886835217475892 || val_loss:1.1345003843307495 || val_acc:0.6205533596837944\n"
          ],
          "name": "stdout"
        },
        {
          "output_type": "stream",
          "text": [
            "Epoch 5/50: 71it [00:08,  8.62it/s]\n"
          ],
          "name": "stderr"
        },
        {
          "output_type": "stream",
          "text": [
            "tr_loss:0.8639990329742432 || val_loss:1.2037917375564575 || val_acc:0.616600790513834\n"
          ],
          "name": "stdout"
        },
        {
          "output_type": "stream",
          "text": [
            "Epoch 6/50: 71it [00:08,  8.51it/s]\n"
          ],
          "name": "stderr"
        },
        {
          "output_type": "stream",
          "text": [
            "tr_loss:0.7171848297119141 || val_loss:1.0602822303771973 || val_acc:0.6462450592885376\n"
          ],
          "name": "stdout"
        },
        {
          "output_type": "stream",
          "text": [
            "Epoch 7/50: 71it [00:08,  8.40it/s]\n"
          ],
          "name": "stderr"
        },
        {
          "output_type": "stream",
          "text": [
            "tr_loss:0.48976036310195925 || val_loss:1.2790799140930176 || val_acc:0.6403162055335968\n"
          ],
          "name": "stdout"
        },
        {
          "output_type": "stream",
          "text": [
            "Epoch 8/50: 71it [00:08,  8.24it/s]\n"
          ],
          "name": "stderr"
        },
        {
          "output_type": "stream",
          "text": [
            "tr_loss:0.4902211904525757 || val_loss:1.127556324005127 || val_acc:0.6482213438735178\n"
          ],
          "name": "stdout"
        },
        {
          "output_type": "stream",
          "text": [
            "Epoch 9/50: 71it [00:08,  8.19it/s]\n"
          ],
          "name": "stderr"
        },
        {
          "output_type": "stream",
          "text": [
            "tr_loss:0.4971916228532791 || val_loss:1.1097406148910522 || val_acc:0.6936758893280632\n"
          ],
          "name": "stdout"
        },
        {
          "output_type": "stream",
          "text": [
            "Epoch 10/50: 71it [00:08,  8.30it/s]\n"
          ],
          "name": "stderr"
        },
        {
          "output_type": "stream",
          "text": [
            "tr_loss:0.41078410148620603 || val_loss:1.1803940534591675 || val_acc:0.7015810276679841\n"
          ],
          "name": "stdout"
        },
        {
          "output_type": "stream",
          "text": [
            "Epoch 11/50: 71it [00:08,  8.37it/s]\n"
          ],
          "name": "stderr"
        },
        {
          "output_type": "stream",
          "text": [
            "tr_loss:0.18524548821151257 || val_loss:1.1554741859436035 || val_acc:0.7094861660079052\n"
          ],
          "name": "stdout"
        },
        {
          "output_type": "stream",
          "text": [
            "Epoch 12/50: 71it [00:08,  8.41it/s]\n"
          ],
          "name": "stderr"
        },
        {
          "output_type": "stream",
          "text": [
            "tr_loss:0.14388298615813255 || val_loss:1.4152681827545166 || val_acc:0.6699604743083004\n"
          ],
          "name": "stdout"
        },
        {
          "output_type": "stream",
          "text": [
            "Epoch 13/50: 71it [00:08,  8.46it/s]\n"
          ],
          "name": "stderr"
        },
        {
          "output_type": "stream",
          "text": [
            "tr_loss:0.07743331789970398 || val_loss:1.228729009628296 || val_acc:0.6818181818181818\n"
          ],
          "name": "stdout"
        },
        {
          "output_type": "stream",
          "text": [
            "Epoch 14/50: 71it [00:08,  8.47it/s]\n"
          ],
          "name": "stderr"
        },
        {
          "output_type": "stream",
          "text": [
            "tr_loss:0.14110344499349595 || val_loss:1.2797176837921143 || val_acc:0.6936758893280632\n"
          ],
          "name": "stdout"
        },
        {
          "output_type": "stream",
          "text": [
            "Epoch 15/50: 71it [00:08,  8.48it/s]\n"
          ],
          "name": "stderr"
        },
        {
          "output_type": "stream",
          "text": [
            "tr_loss:0.059968301188200714 || val_loss:1.2960515022277832 || val_acc:0.6936758893280632\n"
          ],
          "name": "stdout"
        },
        {
          "output_type": "stream",
          "text": [
            "Epoch 16/50: 71it [00:08,  8.43it/s]\n"
          ],
          "name": "stderr"
        },
        {
          "output_type": "stream",
          "text": [
            "tr_loss:0.016866825055330992 || val_loss:1.1538573503494263 || val_acc:0.733201581027668\n"
          ],
          "name": "stdout"
        },
        {
          "output_type": "stream",
          "text": [
            "Epoch 17/50: 71it [00:08,  8.40it/s]\n"
          ],
          "name": "stderr"
        },
        {
          "output_type": "stream",
          "text": [
            "tr_loss:0.127326862514019 || val_loss:1.1456753015518188 || val_acc:0.7371541501976284\n"
          ],
          "name": "stdout"
        },
        {
          "output_type": "stream",
          "text": [
            "Epoch 18/50: 71it [00:08,  8.36it/s]\n"
          ],
          "name": "stderr"
        },
        {
          "output_type": "stream",
          "text": [
            "tr_loss:0.014162131934426725 || val_loss:1.1544404029846191 || val_acc:0.7391304347826086\n"
          ],
          "name": "stdout"
        },
        {
          "output_type": "stream",
          "text": [
            "Epoch 19/50: 71it [00:08,  8.32it/s]\n"
          ],
          "name": "stderr"
        },
        {
          "output_type": "stream",
          "text": [
            "tr_loss:0.083065694430843 || val_loss:1.1504048109054565 || val_acc:0.7371541501976284\n"
          ],
          "name": "stdout"
        },
        {
          "output_type": "stream",
          "text": [
            "Epoch 20/50: 71it [00:08,  8.32it/s]\n"
          ],
          "name": "stderr"
        },
        {
          "output_type": "stream",
          "text": [
            "tr_loss:0.03147753293160349 || val_loss:1.1602407693862915 || val_acc:0.7391304347826086\n"
          ],
          "name": "stdout"
        },
        {
          "output_type": "stream",
          "text": [
            "Epoch 21/50: 71it [00:08,  8.37it/s]\n"
          ],
          "name": "stderr"
        },
        {
          "output_type": "stream",
          "text": [
            "tr_loss:0.010997201595455409 || val_loss:1.166461706161499 || val_acc:0.733201581027668\n"
          ],
          "name": "stdout"
        },
        {
          "output_type": "stream",
          "text": [
            "Epoch 22/50: 71it [00:08,  8.41it/s]\n"
          ],
          "name": "stderr"
        },
        {
          "output_type": "stream",
          "text": [
            "tr_loss:0.005413420451804996 || val_loss:1.142089605331421 || val_acc:0.7252964426877471\n"
          ],
          "name": "stdout"
        },
        {
          "output_type": "stream",
          "text": [
            "Epoch 23/50: 71it [00:08,  8.38it/s]\n"
          ],
          "name": "stderr"
        },
        {
          "output_type": "stream",
          "text": [
            "tr_loss:0.017144754994660616 || val_loss:1.166100025177002 || val_acc:0.7312252964426877\n"
          ],
          "name": "stdout"
        },
        {
          "output_type": "stream",
          "text": [
            "Epoch 24/50: 71it [00:08,  8.38it/s]\n"
          ],
          "name": "stderr"
        },
        {
          "output_type": "stream",
          "text": [
            "tr_loss:0.007174505782313645 || val_loss:1.1354879140853882 || val_acc:0.7371541501976284\n"
          ],
          "name": "stdout"
        },
        {
          "output_type": "stream",
          "text": [
            "Epoch 25/50: 71it [00:08,  8.42it/s]\n"
          ],
          "name": "stderr"
        },
        {
          "output_type": "stream",
          "text": [
            "tr_loss:0.03541467760223895 || val_loss:1.1689335107803345 || val_acc:0.733201581027668\n"
          ],
          "name": "stdout"
        },
        {
          "output_type": "stream",
          "text": [
            "Epoch 26/50: 71it [00:08,  8.40it/s]\n"
          ],
          "name": "stderr"
        },
        {
          "output_type": "stream",
          "text": [
            "tr_loss:0.004080639127641917 || val_loss:1.1469171047210693 || val_acc:0.7351778656126482\n"
          ],
          "name": "stdout"
        },
        {
          "output_type": "stream",
          "text": [
            "Epoch 27/50: 71it [00:08,  8.42it/s]\n"
          ],
          "name": "stderr"
        },
        {
          "output_type": "stream",
          "text": [
            "tr_loss:0.004851724253967404 || val_loss:1.1401349306106567 || val_acc:0.7391304347826086\n"
          ],
          "name": "stdout"
        },
        {
          "output_type": "stream",
          "text": [
            "Epoch 28/50: 71it [00:08,  8.41it/s]\n"
          ],
          "name": "stderr"
        },
        {
          "output_type": "stream",
          "text": [
            "tr_loss:0.00594112891703844 || val_loss:1.1397442817687988 || val_acc:0.7430830039525692\n"
          ],
          "name": "stdout"
        },
        {
          "output_type": "stream",
          "text": [
            "Epoch 29/50: 71it [00:08,  8.40it/s]\n"
          ],
          "name": "stderr"
        },
        {
          "output_type": "stream",
          "text": [
            "tr_loss:0.03267634939402342 || val_loss:1.16452956199646 || val_acc:0.741106719367589\n"
          ],
          "name": "stdout"
        },
        {
          "output_type": "stream",
          "text": [
            "Epoch 30/50: 71it [00:08,  8.35it/s]\n"
          ],
          "name": "stderr"
        },
        {
          "output_type": "stream",
          "text": [
            "tr_loss:0.00513735362328589 || val_loss:1.15139901638031 || val_acc:0.7312252964426877\n"
          ],
          "name": "stdout"
        },
        {
          "output_type": "stream",
          "text": [
            "Epoch 31/50: 71it [00:08,  8.32it/s]\n"
          ],
          "name": "stderr"
        },
        {
          "output_type": "stream",
          "text": [
            "tr_loss:0.05884260458406061 || val_loss:1.1528208255767822 || val_acc:0.741106719367589\n"
          ],
          "name": "stdout"
        },
        {
          "output_type": "stream",
          "text": [
            "Epoch 32/50: 71it [00:08,  8.34it/s]\n"
          ],
          "name": "stderr"
        },
        {
          "output_type": "stream",
          "text": [
            "tr_loss:0.00448871694970876 || val_loss:1.1509298086166382 || val_acc:0.7312252964426877\n"
          ],
          "name": "stdout"
        },
        {
          "output_type": "stream",
          "text": [
            "Epoch 33/50: 71it [00:08,  8.37it/s]\n"
          ],
          "name": "stderr"
        },
        {
          "output_type": "stream",
          "text": [
            "tr_loss:0.008015126828104258 || val_loss:1.1515191793441772 || val_acc:0.7351778656126482\n"
          ],
          "name": "stdout"
        },
        {
          "output_type": "stream",
          "text": [
            "Epoch 34/50: 71it [00:08,  8.38it/s]\n"
          ],
          "name": "stderr"
        },
        {
          "output_type": "stream",
          "text": [
            "tr_loss:0.08856373382732272 || val_loss:1.1440925598144531 || val_acc:0.733201581027668\n"
          ],
          "name": "stdout"
        },
        {
          "output_type": "stream",
          "text": [
            "Epoch 35/50: 71it [00:08,  8.38it/s]\n"
          ],
          "name": "stderr"
        },
        {
          "output_type": "stream",
          "text": [
            "tr_loss:0.050573630584403874 || val_loss:1.1847658157348633 || val_acc:0.7272727272727273\n"
          ],
          "name": "stdout"
        },
        {
          "output_type": "stream",
          "text": [
            "Epoch 36/50: 71it [00:08,  8.40it/s]\n"
          ],
          "name": "stderr"
        },
        {
          "output_type": "stream",
          "text": [
            "tr_loss:0.005768387508578598 || val_loss:1.1330268383026123 || val_acc:0.7391304347826086\n"
          ],
          "name": "stdout"
        },
        {
          "output_type": "stream",
          "text": [
            "Epoch 37/50: 71it [00:08,  8.37it/s]\n"
          ],
          "name": "stderr"
        },
        {
          "output_type": "stream",
          "text": [
            "tr_loss:0.005028592795133591 || val_loss:1.1566253900527954 || val_acc:0.7312252964426877\n"
          ],
          "name": "stdout"
        },
        {
          "output_type": "stream",
          "text": [
            "Epoch 38/50: 71it [00:08,  8.36it/s]\n"
          ],
          "name": "stderr"
        },
        {
          "output_type": "stream",
          "text": [
            "tr_loss:0.0053899961989372965 || val_loss:1.1540919542312622 || val_acc:0.7292490118577075\n"
          ],
          "name": "stdout"
        },
        {
          "output_type": "stream",
          "text": [
            "Epoch 39/50: 71it [00:08,  8.35it/s]\n"
          ],
          "name": "stderr"
        },
        {
          "output_type": "stream",
          "text": [
            "tr_loss:0.02275893094483763 || val_loss:1.135992169380188 || val_acc:0.7391304347826086\n"
          ],
          "name": "stdout"
        },
        {
          "output_type": "stream",
          "text": [
            "Epoch 40/50: 71it [00:08,  8.40it/s]\n"
          ],
          "name": "stderr"
        },
        {
          "output_type": "stream",
          "text": [
            "tr_loss:0.040860406355932355 || val_loss:1.1557493209838867 || val_acc:0.7351778656126482\n"
          ],
          "name": "stdout"
        },
        {
          "output_type": "stream",
          "text": [
            "Epoch 41/50: 71it [00:08,  8.38it/s]\n"
          ],
          "name": "stderr"
        },
        {
          "output_type": "stream",
          "text": [
            "tr_loss:0.005991318705491721 || val_loss:1.1475095748901367 || val_acc:0.7351778656126482\n"
          ],
          "name": "stdout"
        },
        {
          "output_type": "stream",
          "text": [
            "Epoch 42/50: 71it [00:08,  8.38it/s]\n"
          ],
          "name": "stderr"
        },
        {
          "output_type": "stream",
          "text": [
            "tr_loss:0.021723451488651336 || val_loss:1.1328396797180176 || val_acc:0.7430830039525692\n"
          ],
          "name": "stdout"
        },
        {
          "output_type": "stream",
          "text": [
            "Epoch 43/50: 71it [00:08,  8.39it/s]\n"
          ],
          "name": "stderr"
        },
        {
          "output_type": "stream",
          "text": [
            "tr_loss:0.08545393999665976 || val_loss:1.1687811613082886 || val_acc:0.7312252964426877\n"
          ],
          "name": "stdout"
        },
        {
          "output_type": "stream",
          "text": [
            "Epoch 44/50: 71it [00:08,  8.39it/s]\n"
          ],
          "name": "stderr"
        },
        {
          "output_type": "stream",
          "text": [
            "tr_loss:0.0035096361301839353 || val_loss:1.1314418315887451 || val_acc:0.7391304347826086\n"
          ],
          "name": "stdout"
        },
        {
          "output_type": "stream",
          "text": [
            "Epoch 45/50: 71it [00:08,  8.37it/s]\n"
          ],
          "name": "stderr"
        },
        {
          "output_type": "stream",
          "text": [
            "tr_loss:0.00744970035739243 || val_loss:1.1570008993148804 || val_acc:0.741106719367589\n"
          ],
          "name": "stdout"
        },
        {
          "output_type": "stream",
          "text": [
            "Epoch 46/50: 71it [00:08,  8.35it/s]\n"
          ],
          "name": "stderr"
        },
        {
          "output_type": "stream",
          "text": [
            "tr_loss:0.005309039005078375 || val_loss:1.1556140184402466 || val_acc:0.7371541501976284\n"
          ],
          "name": "stdout"
        },
        {
          "output_type": "stream",
          "text": [
            "Epoch 47/50: 71it [00:08,  8.34it/s]\n"
          ],
          "name": "stderr"
        },
        {
          "output_type": "stream",
          "text": [
            "tr_loss:0.07785669511649758 || val_loss:1.1526895761489868 || val_acc:0.741106719367589\n"
          ],
          "name": "stdout"
        },
        {
          "output_type": "stream",
          "text": [
            "Epoch 48/50: 71it [00:08,  8.39it/s]\n"
          ],
          "name": "stderr"
        },
        {
          "output_type": "stream",
          "text": [
            "tr_loss:0.018318325001746415 || val_loss:1.146530032157898 || val_acc:0.7351778656126482\n"
          ],
          "name": "stdout"
        },
        {
          "output_type": "stream",
          "text": [
            "Epoch 49/50: 71it [00:08,  8.35it/s]\n"
          ],
          "name": "stderr"
        },
        {
          "output_type": "stream",
          "text": [
            "tr_loss:0.005939149344339967 || val_loss:1.1601723432540894 || val_acc:0.7391304347826086\n"
          ],
          "name": "stdout"
        },
        {
          "output_type": "stream",
          "text": [
            "Epoch 50/50: 71it [00:08,  8.38it/s]\n"
          ],
          "name": "stderr"
        },
        {
          "output_type": "stream",
          "text": [
            "tr_loss:0.005838495679199696 || val_loss:1.1585975885391235 || val_acc:0.733201581027668\n",
            "************* Saving model for Task-0 *************\n",
            "************* End of Task-0 training *************\n",
            "************* Re-calibrating model parameters *************\n",
            "************* Task: 1, Number of Trainable Parameters: 72330 *************\n",
            "Files already downloaded and verified\n",
            "Num. samples (train) in task dataset: 4499\n",
            "Files already downloaded and verified\n",
            "Num. samples (val) in task dataset: 501\n"
          ],
          "name": "stdout"
        },
        {
          "output_type": "stream",
          "text": [
            "Epoch 1/50: 71it [00:05, 12.63it/s]\n"
          ],
          "name": "stderr"
        },
        {
          "output_type": "stream",
          "text": [
            "tr_loss:1.6392606019973754 || val_loss:1.7778433561325073 || val_acc:0.3413173652694611\n"
          ],
          "name": "stdout"
        },
        {
          "output_type": "stream",
          "text": [
            "Epoch 2/50: 71it [00:05, 12.68it/s]\n"
          ],
          "name": "stderr"
        },
        {
          "output_type": "stream",
          "text": [
            "tr_loss:1.5714405298233032 || val_loss:1.6053820848464966 || val_acc:0.42714570858283435\n"
          ],
          "name": "stdout"
        },
        {
          "output_type": "stream",
          "text": [
            "Epoch 3/50: 71it [00:05, 12.65it/s]\n"
          ],
          "name": "stderr"
        },
        {
          "output_type": "stream",
          "text": [
            "tr_loss:1.5318020582199097 || val_loss:1.513458013534546 || val_acc:0.45708582834331335\n"
          ],
          "name": "stdout"
        },
        {
          "output_type": "stream",
          "text": [
            "Epoch 4/50: 71it [00:05, 12.57it/s]\n"
          ],
          "name": "stderr"
        },
        {
          "output_type": "stream",
          "text": [
            "tr_loss:1.4570607662200927 || val_loss:1.5110875368118286 || val_acc:0.4550898203592814\n"
          ],
          "name": "stdout"
        },
        {
          "output_type": "stream",
          "text": [
            "Epoch 5/50: 71it [00:05, 12.68it/s]\n"
          ],
          "name": "stderr"
        },
        {
          "output_type": "stream",
          "text": [
            "tr_loss:1.3485559225082397 || val_loss:1.4751012325286865 || val_acc:0.4630738522954092\n"
          ],
          "name": "stdout"
        },
        {
          "output_type": "stream",
          "text": [
            "Epoch 6/50: 71it [00:05, 12.68it/s]\n"
          ],
          "name": "stderr"
        },
        {
          "output_type": "stream",
          "text": [
            "tr_loss:1.340694832801819 || val_loss:1.4102290868759155 || val_acc:0.5129740518962076\n"
          ],
          "name": "stdout"
        },
        {
          "output_type": "stream",
          "text": [
            "Epoch 7/50: 71it [00:05, 12.74it/s]\n"
          ],
          "name": "stderr"
        },
        {
          "output_type": "stream",
          "text": [
            "tr_loss:1.2675683975219727 || val_loss:1.3893311023712158 || val_acc:0.5209580838323353\n"
          ],
          "name": "stdout"
        },
        {
          "output_type": "stream",
          "text": [
            "Epoch 8/50: 71it [00:05, 12.71it/s]\n"
          ],
          "name": "stderr"
        },
        {
          "output_type": "stream",
          "text": [
            "tr_loss:1.3360840320587157 || val_loss:1.37881600856781 || val_acc:0.5069860279441117\n"
          ],
          "name": "stdout"
        },
        {
          "output_type": "stream",
          "text": [
            "Epoch 9/50: 71it [00:05, 12.77it/s]\n"
          ],
          "name": "stderr"
        },
        {
          "output_type": "stream",
          "text": [
            "tr_loss:1.285869836807251 || val_loss:1.3454335927963257 || val_acc:0.5389221556886228\n"
          ],
          "name": "stdout"
        },
        {
          "output_type": "stream",
          "text": [
            "Epoch 10/50: 71it [00:05, 12.81it/s]\n"
          ],
          "name": "stderr"
        },
        {
          "output_type": "stream",
          "text": [
            "tr_loss:1.231466794013977 || val_loss:1.3323174715042114 || val_acc:0.5289421157684631\n"
          ],
          "name": "stdout"
        },
        {
          "output_type": "stream",
          "text": [
            "Epoch 11/50: 71it [00:05, 12.79it/s]\n"
          ],
          "name": "stderr"
        },
        {
          "output_type": "stream",
          "text": [
            "tr_loss:1.2455986380577087 || val_loss:1.3138926029205322 || val_acc:0.5349301397205589\n"
          ],
          "name": "stdout"
        },
        {
          "output_type": "stream",
          "text": [
            "Epoch 12/50: 71it [00:05, 12.87it/s]\n"
          ],
          "name": "stderr"
        },
        {
          "output_type": "stream",
          "text": [
            "tr_loss:1.2635614395141601 || val_loss:1.3390425443649292 || val_acc:0.5089820359281437\n"
          ],
          "name": "stdout"
        },
        {
          "output_type": "stream",
          "text": [
            "Epoch 13/50: 71it [00:05, 12.78it/s]\n"
          ],
          "name": "stderr"
        },
        {
          "output_type": "stream",
          "text": [
            "tr_loss:1.024891209602356 || val_loss:1.3121612071990967 || val_acc:0.5249500998003992\n"
          ],
          "name": "stdout"
        },
        {
          "output_type": "stream",
          "text": [
            "Epoch 14/50: 71it [00:05, 12.75it/s]\n"
          ],
          "name": "stderr"
        },
        {
          "output_type": "stream",
          "text": [
            "tr_loss:1.048933756351471 || val_loss:1.3427202701568604 || val_acc:0.5069860279441117\n"
          ],
          "name": "stdout"
        },
        {
          "output_type": "stream",
          "text": [
            "Epoch 15/50: 71it [00:05, 12.76it/s]\n"
          ],
          "name": "stderr"
        },
        {
          "output_type": "stream",
          "text": [
            "tr_loss:1.0945855498313903 || val_loss:1.297250509262085 || val_acc:0.5508982035928144\n"
          ],
          "name": "stdout"
        },
        {
          "output_type": "stream",
          "text": [
            "Epoch 16/50: 71it [00:05, 12.74it/s]\n"
          ],
          "name": "stderr"
        },
        {
          "output_type": "stream",
          "text": [
            "tr_loss:1.016390585899353 || val_loss:1.2574894428253174 || val_acc:0.5429141716566867\n"
          ],
          "name": "stdout"
        },
        {
          "output_type": "stream",
          "text": [
            "Epoch 17/50: 71it [00:05, 12.83it/s]\n"
          ],
          "name": "stderr"
        },
        {
          "output_type": "stream",
          "text": [
            "tr_loss:0.9503065347671509 || val_loss:1.257093071937561 || val_acc:0.5548902195608783\n"
          ],
          "name": "stdout"
        },
        {
          "output_type": "stream",
          "text": [
            "Epoch 18/50: 71it [00:05, 12.81it/s]\n"
          ],
          "name": "stderr"
        },
        {
          "output_type": "stream",
          "text": [
            "tr_loss:1.1435203313827516 || val_loss:1.2566587924957275 || val_acc:0.5469061876247505\n"
          ],
          "name": "stdout"
        },
        {
          "output_type": "stream",
          "text": [
            "Epoch 19/50: 71it [00:05, 12.78it/s]\n"
          ],
          "name": "stderr"
        },
        {
          "output_type": "stream",
          "text": [
            "tr_loss:0.976660680770874 || val_loss:1.2424254417419434 || val_acc:0.5568862275449101\n"
          ],
          "name": "stdout"
        },
        {
          "output_type": "stream",
          "text": [
            "Epoch 20/50: 71it [00:05, 12.76it/s]\n"
          ],
          "name": "stderr"
        },
        {
          "output_type": "stream",
          "text": [
            "tr_loss:0.9303239583969116 || val_loss:1.2446436882019043 || val_acc:0.5329341317365269\n"
          ],
          "name": "stdout"
        },
        {
          "output_type": "stream",
          "text": [
            "Epoch 21/50: 71it [00:05, 12.70it/s]\n"
          ],
          "name": "stderr"
        },
        {
          "output_type": "stream",
          "text": [
            "tr_loss:1.092782974243164 || val_loss:1.2468202114105225 || val_acc:0.5409181636726547\n"
          ],
          "name": "stdout"
        },
        {
          "output_type": "stream",
          "text": [
            "Epoch 22/50: 71it [00:05, 12.73it/s]\n"
          ],
          "name": "stderr"
        },
        {
          "output_type": "stream",
          "text": [
            "tr_loss:0.9042256832122803 || val_loss:1.2472988367080688 || val_acc:0.5449101796407185\n"
          ],
          "name": "stdout"
        },
        {
          "output_type": "stream",
          "text": [
            "Epoch 23/50: 71it [00:05, 12.75it/s]\n"
          ],
          "name": "stderr"
        },
        {
          "output_type": "stream",
          "text": [
            "tr_loss:1.0311933398246764 || val_loss:1.250419020652771 || val_acc:0.5449101796407185\n"
          ],
          "name": "stdout"
        },
        {
          "output_type": "stream",
          "text": [
            "Epoch 24/50: 71it [00:05, 12.86it/s]\n"
          ],
          "name": "stderr"
        },
        {
          "output_type": "stream",
          "text": [
            "tr_loss:1.0267131328582764 || val_loss:1.2434180974960327 || val_acc:0.5449101796407185\n"
          ],
          "name": "stdout"
        },
        {
          "output_type": "stream",
          "text": [
            "Epoch 25/50: 71it [00:05, 12.82it/s]\n"
          ],
          "name": "stderr"
        },
        {
          "output_type": "stream",
          "text": [
            "tr_loss:1.0463485717773438 || val_loss:1.2516798973083496 || val_acc:0.5548902195608783\n"
          ],
          "name": "stdout"
        },
        {
          "output_type": "stream",
          "text": [
            "Epoch 26/50: 71it [00:05, 12.80it/s]\n"
          ],
          "name": "stderr"
        },
        {
          "output_type": "stream",
          "text": [
            "tr_loss:0.9267020106315613 || val_loss:1.2414804697036743 || val_acc:0.5489021956087824\n"
          ],
          "name": "stdout"
        },
        {
          "output_type": "stream",
          "text": [
            "Epoch 27/50: 71it [00:05, 12.82it/s]\n"
          ],
          "name": "stderr"
        },
        {
          "output_type": "stream",
          "text": [
            "tr_loss:0.8175659537315368 || val_loss:1.242376446723938 || val_acc:0.564870259481038\n"
          ],
          "name": "stdout"
        },
        {
          "output_type": "stream",
          "text": [
            "Epoch 28/50: 71it [00:05, 12.78it/s]\n"
          ],
          "name": "stderr"
        },
        {
          "output_type": "stream",
          "text": [
            "tr_loss:0.9318804383277893 || val_loss:1.2429085969924927 || val_acc:0.5508982035928144\n"
          ],
          "name": "stdout"
        },
        {
          "output_type": "stream",
          "text": [
            "Epoch 29/50: 71it [00:05, 12.75it/s]\n"
          ],
          "name": "stderr"
        },
        {
          "output_type": "stream",
          "text": [
            "tr_loss:0.975990355014801 || val_loss:1.2457698583602905 || val_acc:0.5688622754491018\n"
          ],
          "name": "stdout"
        },
        {
          "output_type": "stream",
          "text": [
            "Epoch 30/50: 71it [00:05, 12.80it/s]\n"
          ],
          "name": "stderr"
        },
        {
          "output_type": "stream",
          "text": [
            "tr_loss:0.8653012990951539 || val_loss:1.2398707866668701 || val_acc:0.5508982035928144\n"
          ],
          "name": "stdout"
        },
        {
          "output_type": "stream",
          "text": [
            "Epoch 31/50: 71it [00:05, 12.74it/s]\n"
          ],
          "name": "stderr"
        },
        {
          "output_type": "stream",
          "text": [
            "tr_loss:1.025214469432831 || val_loss:1.2460036277770996 || val_acc:0.5528942115768463\n"
          ],
          "name": "stdout"
        },
        {
          "output_type": "stream",
          "text": [
            "Epoch 32/50: 71it [00:05, 12.71it/s]\n"
          ],
          "name": "stderr"
        },
        {
          "output_type": "stream",
          "text": [
            "tr_loss:0.9751402497291565 || val_loss:1.240013599395752 || val_acc:0.5588822355289421\n"
          ],
          "name": "stdout"
        },
        {
          "output_type": "stream",
          "text": [
            "Epoch 33/50: 71it [00:05, 12.73it/s]\n"
          ],
          "name": "stderr"
        },
        {
          "output_type": "stream",
          "text": [
            "tr_loss:1.0409084677696228 || val_loss:1.2490302324295044 || val_acc:0.5568862275449101\n"
          ],
          "name": "stdout"
        },
        {
          "output_type": "stream",
          "text": [
            "Epoch 34/50: 71it [00:05, 12.72it/s]\n"
          ],
          "name": "stderr"
        },
        {
          "output_type": "stream",
          "text": [
            "tr_loss:0.8968005657196045 || val_loss:1.2329860925674438 || val_acc:0.5568862275449101\n"
          ],
          "name": "stdout"
        },
        {
          "output_type": "stream",
          "text": [
            "Epoch 35/50: 71it [00:05, 12.74it/s]\n"
          ],
          "name": "stderr"
        },
        {
          "output_type": "stream",
          "text": [
            "tr_loss:0.8166453123092652 || val_loss:1.2403216361999512 || val_acc:0.5508982035928144\n"
          ],
          "name": "stdout"
        },
        {
          "output_type": "stream",
          "text": [
            "Epoch 36/50: 71it [00:05, 12.75it/s]\n"
          ],
          "name": "stderr"
        },
        {
          "output_type": "stream",
          "text": [
            "tr_loss:1.0220439672470092 || val_loss:1.2416549921035767 || val_acc:0.5508982035928144\n"
          ],
          "name": "stdout"
        },
        {
          "output_type": "stream",
          "text": [
            "Epoch 37/50: 71it [00:05, 12.75it/s]\n"
          ],
          "name": "stderr"
        },
        {
          "output_type": "stream",
          "text": [
            "tr_loss:1.0355630040168762 || val_loss:1.2385077476501465 || val_acc:0.5728542914171657\n"
          ],
          "name": "stdout"
        },
        {
          "output_type": "stream",
          "text": [
            "Epoch 38/50: 71it [00:05, 12.76it/s]\n"
          ],
          "name": "stderr"
        },
        {
          "output_type": "stream",
          "text": [
            "tr_loss:1.1138030529022216 || val_loss:1.240868091583252 || val_acc:0.5548902195608783\n"
          ],
          "name": "stdout"
        },
        {
          "output_type": "stream",
          "text": [
            "Epoch 39/50: 71it [00:05, 12.76it/s]\n"
          ],
          "name": "stderr"
        },
        {
          "output_type": "stream",
          "text": [
            "tr_loss:0.8646068930625915 || val_loss:1.242535948753357 || val_acc:0.5608782435129741\n"
          ],
          "name": "stdout"
        },
        {
          "output_type": "stream",
          "text": [
            "Epoch 40/50: 71it [00:05, 12.75it/s]\n"
          ],
          "name": "stderr"
        },
        {
          "output_type": "stream",
          "text": [
            "tr_loss:0.9382623672485352 || val_loss:1.232877254486084 || val_acc:0.5608782435129741\n"
          ],
          "name": "stdout"
        },
        {
          "output_type": "stream",
          "text": [
            "Epoch 41/50: 71it [00:05, 12.66it/s]\n"
          ],
          "name": "stderr"
        },
        {
          "output_type": "stream",
          "text": [
            "tr_loss:0.8654971361160279 || val_loss:1.2368541955947876 || val_acc:0.562874251497006\n"
          ],
          "name": "stdout"
        },
        {
          "output_type": "stream",
          "text": [
            "Epoch 42/50: 71it [00:05, 12.66it/s]\n"
          ],
          "name": "stderr"
        },
        {
          "output_type": "stream",
          "text": [
            "tr_loss:0.8298668503761292 || val_loss:1.2417298555374146 || val_acc:0.5409181636726547\n"
          ],
          "name": "stdout"
        },
        {
          "output_type": "stream",
          "text": [
            "Epoch 43/50: 71it [00:05, 12.76it/s]\n"
          ],
          "name": "stderr"
        },
        {
          "output_type": "stream",
          "text": [
            "tr_loss:0.9594919800758361 || val_loss:1.2390202283859253 || val_acc:0.5608782435129741\n"
          ],
          "name": "stdout"
        },
        {
          "output_type": "stream",
          "text": [
            "Epoch 44/50: 71it [00:05, 12.73it/s]\n"
          ],
          "name": "stderr"
        },
        {
          "output_type": "stream",
          "text": [
            "tr_loss:0.8296425223350525 || val_loss:1.2412126064300537 || val_acc:0.562874251497006\n"
          ],
          "name": "stdout"
        },
        {
          "output_type": "stream",
          "text": [
            "Epoch 45/50: 71it [00:05, 12.80it/s]\n"
          ],
          "name": "stderr"
        },
        {
          "output_type": "stream",
          "text": [
            "tr_loss:0.9322956562042236 || val_loss:1.2419902086257935 || val_acc:0.5528942115768463\n"
          ],
          "name": "stdout"
        },
        {
          "output_type": "stream",
          "text": [
            "Epoch 46/50: 71it [00:05, 12.84it/s]\n"
          ],
          "name": "stderr"
        },
        {
          "output_type": "stream",
          "text": [
            "tr_loss:0.8299432992935181 || val_loss:1.2342770099639893 || val_acc:0.5568862275449101\n"
          ],
          "name": "stdout"
        },
        {
          "output_type": "stream",
          "text": [
            "Epoch 47/50: 71it [00:05, 12.86it/s]\n"
          ],
          "name": "stderr"
        },
        {
          "output_type": "stream",
          "text": [
            "tr_loss:1.0221601366996764 || val_loss:1.241605520248413 || val_acc:0.5469061876247505\n"
          ],
          "name": "stdout"
        },
        {
          "output_type": "stream",
          "text": [
            "Epoch 48/50: 71it [00:05, 12.84it/s]\n"
          ],
          "name": "stderr"
        },
        {
          "output_type": "stream",
          "text": [
            "tr_loss:0.8720084190368652 || val_loss:1.2412933111190796 || val_acc:0.5508982035928144\n"
          ],
          "name": "stdout"
        },
        {
          "output_type": "stream",
          "text": [
            "Epoch 49/50: 71it [00:05, 12.83it/s]\n"
          ],
          "name": "stderr"
        },
        {
          "output_type": "stream",
          "text": [
            "tr_loss:0.9794497132301331 || val_loss:1.2342746257781982 || val_acc:0.564870259481038\n"
          ],
          "name": "stdout"
        },
        {
          "output_type": "stream",
          "text": [
            "Epoch 50/50: 71it [00:05, 12.83it/s]\n"
          ],
          "name": "stderr"
        },
        {
          "output_type": "stream",
          "text": [
            "tr_loss:0.8617324948310852 || val_loss:1.2421929836273193 || val_acc:0.5508982035928144\n",
            "************* Saving model for Task-1 *************\n",
            "************* End of Task-1 training *************\n",
            "************* Re-calibrating model parameters *************\n",
            "************* Task: 2, Number of Trainable Parameters: 72330 *************\n",
            "Files already downloaded and verified\n",
            "Num. samples (train) in task dataset: 4482\n",
            "Files already downloaded and verified\n",
            "Num. samples (val) in task dataset: 518\n"
          ],
          "name": "stdout"
        },
        {
          "output_type": "stream",
          "text": [
            "Epoch 1/50: 71it [00:05, 12.53it/s]\n"
          ],
          "name": "stderr"
        },
        {
          "output_type": "stream",
          "text": [
            "tr_loss:1.5594839334487915 || val_loss:1.5807029008865356 || val_acc:0.4826254826254826\n"
          ],
          "name": "stdout"
        },
        {
          "output_type": "stream",
          "text": [
            "Epoch 2/50: 71it [00:05, 12.75it/s]\n"
          ],
          "name": "stderr"
        },
        {
          "output_type": "stream",
          "text": [
            "tr_loss:1.4602559328079223 || val_loss:16.488910675048828 || val_acc:0.11969111969111969\n"
          ],
          "name": "stdout"
        },
        {
          "output_type": "stream",
          "text": [
            "Epoch 3/50: 71it [00:05, 12.70it/s]\n"
          ],
          "name": "stderr"
        },
        {
          "output_type": "stream",
          "text": [
            "tr_loss:1.77212073802948 || val_loss:1.853317379951477 || val_acc:0.3590733590733591\n"
          ],
          "name": "stdout"
        },
        {
          "output_type": "stream",
          "text": [
            "Epoch 4/50: 71it [00:05, 12.78it/s]\n"
          ],
          "name": "stderr"
        },
        {
          "output_type": "stream",
          "text": [
            "tr_loss:1.744933581352234 || val_loss:2.579136371612549 || val_acc:0.23552123552123552\n"
          ],
          "name": "stdout"
        },
        {
          "output_type": "stream",
          "text": [
            "Epoch 5/50: 71it [00:05, 12.86it/s]\n"
          ],
          "name": "stderr"
        },
        {
          "output_type": "stream",
          "text": [
            "tr_loss:1.829369592666626 || val_loss:2.1628434658050537 || val_acc:0.26640926640926643\n"
          ],
          "name": "stdout"
        },
        {
          "output_type": "stream",
          "text": [
            "Epoch 6/50: 71it [00:05, 12.81it/s]\n"
          ],
          "name": "stderr"
        },
        {
          "output_type": "stream",
          "text": [
            "tr_loss:1.8138647317886352 || val_loss:1.8191617727279663 || val_acc:0.37065637065637064\n"
          ],
          "name": "stdout"
        },
        {
          "output_type": "stream",
          "text": [
            "Epoch 7/50: 71it [00:05, 12.84it/s]\n"
          ],
          "name": "stderr"
        },
        {
          "output_type": "stream",
          "text": [
            "tr_loss:1.7151450157165526 || val_loss:1.843648910522461 || val_acc:0.3204633204633205\n"
          ],
          "name": "stdout"
        },
        {
          "output_type": "stream",
          "text": [
            "Epoch 8/50: 71it [00:05, 12.81it/s]\n"
          ],
          "name": "stderr"
        },
        {
          "output_type": "stream",
          "text": [
            "tr_loss:2.0580237865448 || val_loss:3.6039154529571533 || val_acc:0.16988416988416988\n"
          ],
          "name": "stdout"
        },
        {
          "output_type": "stream",
          "text": [
            "Epoch 9/50: 71it [00:05, 12.91it/s]\n"
          ],
          "name": "stderr"
        },
        {
          "output_type": "stream",
          "text": [
            "tr_loss:2.2839608669281004 || val_loss:2.036630630493164 || val_acc:0.24517374517374518\n"
          ],
          "name": "stdout"
        },
        {
          "output_type": "stream",
          "text": [
            "Epoch 10/50: 71it [00:05, 12.87it/s]\n"
          ],
          "name": "stderr"
        },
        {
          "output_type": "stream",
          "text": [
            "tr_loss:2.1120598554611205 || val_loss:1.9555294513702393 || val_acc:0.2953667953667954\n"
          ],
          "name": "stdout"
        },
        {
          "output_type": "stream",
          "text": [
            "Epoch 11/50: 71it [00:05, 12.86it/s]\n"
          ],
          "name": "stderr"
        },
        {
          "output_type": "stream",
          "text": [
            "tr_loss:1.7793105840682983 || val_loss:1.9064433574676514 || val_acc:0.29922779922779924\n"
          ],
          "name": "stdout"
        },
        {
          "output_type": "stream",
          "text": [
            "Epoch 12/50: 71it [00:05, 12.82it/s]\n"
          ],
          "name": "stderr"
        },
        {
          "output_type": "stream",
          "text": [
            "tr_loss:1.985894465446472 || val_loss:2.0124049186706543 || val_acc:0.28185328185328185\n"
          ],
          "name": "stdout"
        },
        {
          "output_type": "stream",
          "text": [
            "Epoch 13/50: 71it [00:05, 12.83it/s]\n"
          ],
          "name": "stderr"
        },
        {
          "output_type": "stream",
          "text": [
            "tr_loss:1.9394574880599975 || val_loss:1.9615753889083862 || val_acc:0.2876447876447876\n"
          ],
          "name": "stdout"
        },
        {
          "output_type": "stream",
          "text": [
            "Epoch 14/50: 71it [00:05, 12.81it/s]\n"
          ],
          "name": "stderr"
        },
        {
          "output_type": "stream",
          "text": [
            "tr_loss:1.9094574689865111 || val_loss:1.9967286586761475 || val_acc:0.27606177606177607\n"
          ],
          "name": "stdout"
        },
        {
          "output_type": "stream",
          "text": [
            "Epoch 15/50: 71it [00:05, 12.89it/s]\n"
          ],
          "name": "stderr"
        },
        {
          "output_type": "stream",
          "text": [
            "tr_loss:1.8770000696182252 || val_loss:1.99455988407135 || val_acc:0.277992277992278\n"
          ],
          "name": "stdout"
        },
        {
          "output_type": "stream",
          "text": [
            "Epoch 16/50: 71it [00:05, 12.93it/s]\n"
          ],
          "name": "stderr"
        },
        {
          "output_type": "stream",
          "text": [
            "tr_loss:2.0213551044464113 || val_loss:1.9068176746368408 || val_acc:0.29922779922779924\n"
          ],
          "name": "stdout"
        },
        {
          "output_type": "stream",
          "text": [
            "Epoch 17/50: 71it [00:05, 12.81it/s]\n"
          ],
          "name": "stderr"
        },
        {
          "output_type": "stream",
          "text": [
            "tr_loss:1.9748017549514771 || val_loss:1.881093978881836 || val_acc:0.3127413127413127\n"
          ],
          "name": "stdout"
        },
        {
          "output_type": "stream",
          "text": [
            "Epoch 18/50: 71it [00:05, 12.86it/s]\n"
          ],
          "name": "stderr"
        },
        {
          "output_type": "stream",
          "text": [
            "tr_loss:1.9520933628082275 || val_loss:1.8978809118270874 || val_acc:0.2972972972972973\n"
          ],
          "name": "stdout"
        },
        {
          "output_type": "stream",
          "text": [
            "Epoch 19/50: 71it [00:05, 12.83it/s]\n"
          ],
          "name": "stderr"
        },
        {
          "output_type": "stream",
          "text": [
            "tr_loss:1.782718825340271 || val_loss:1.8850723505020142 || val_acc:0.32432432432432434\n"
          ],
          "name": "stdout"
        },
        {
          "output_type": "stream",
          "text": [
            "Epoch 20/50: 71it [00:05, 12.91it/s]\n"
          ],
          "name": "stderr"
        },
        {
          "output_type": "stream",
          "text": [
            "tr_loss:1.9620760202407836 || val_loss:1.8850568532943726 || val_acc:0.33783783783783783\n"
          ],
          "name": "stdout"
        },
        {
          "output_type": "stream",
          "text": [
            "Epoch 21/50: 71it [00:05, 12.86it/s]\n"
          ],
          "name": "stderr"
        },
        {
          "output_type": "stream",
          "text": [
            "tr_loss:2.0371375560760496 || val_loss:1.9079928398132324 || val_acc:0.30694980694980695\n"
          ],
          "name": "stdout"
        },
        {
          "output_type": "stream",
          "text": [
            "Epoch 22/50: 71it [00:05, 12.33it/s]\n"
          ],
          "name": "stderr"
        },
        {
          "output_type": "stream",
          "text": [
            "tr_loss:1.880094623565674 || val_loss:1.9054735898971558 || val_acc:0.2915057915057915\n"
          ],
          "name": "stdout"
        },
        {
          "output_type": "stream",
          "text": [
            "Epoch 23/50: 71it [00:05, 12.87it/s]\n"
          ],
          "name": "stderr"
        },
        {
          "output_type": "stream",
          "text": [
            "tr_loss:1.826569628715515 || val_loss:1.839544415473938 || val_acc:0.3301158301158301\n"
          ],
          "name": "stdout"
        },
        {
          "output_type": "stream",
          "text": [
            "Epoch 24/50: 71it [00:05, 12.88it/s]\n"
          ],
          "name": "stderr"
        },
        {
          "output_type": "stream",
          "text": [
            "tr_loss:1.9006738424301148 || val_loss:1.8787555694580078 || val_acc:0.305019305019305\n"
          ],
          "name": "stdout"
        },
        {
          "output_type": "stream",
          "text": [
            "Epoch 25/50: 71it [00:05, 12.85it/s]\n"
          ],
          "name": "stderr"
        },
        {
          "output_type": "stream",
          "text": [
            "tr_loss:2.0408754348754883 || val_loss:1.8881847858428955 || val_acc:0.30694980694980695\n"
          ],
          "name": "stdout"
        },
        {
          "output_type": "stream",
          "text": [
            "Epoch 26/50: 71it [00:05, 12.90it/s]\n"
          ],
          "name": "stderr"
        },
        {
          "output_type": "stream",
          "text": [
            "tr_loss:1.912840723991394 || val_loss:1.854792833328247 || val_acc:0.3166023166023166\n"
          ],
          "name": "stdout"
        },
        {
          "output_type": "stream",
          "text": [
            "Epoch 27/50: 71it [00:05, 12.83it/s]\n"
          ],
          "name": "stderr"
        },
        {
          "output_type": "stream",
          "text": [
            "tr_loss:1.906132745742798 || val_loss:1.8554269075393677 || val_acc:0.3301158301158301\n"
          ],
          "name": "stdout"
        },
        {
          "output_type": "stream",
          "text": [
            "Epoch 28/50: 71it [00:05, 12.77it/s]\n"
          ],
          "name": "stderr"
        },
        {
          "output_type": "stream",
          "text": [
            "tr_loss:1.835481381416321 || val_loss:1.8608850240707397 || val_acc:0.3166023166023166\n"
          ],
          "name": "stdout"
        },
        {
          "output_type": "stream",
          "text": [
            "Epoch 29/50: 71it [00:05, 12.72it/s]\n"
          ],
          "name": "stderr"
        },
        {
          "output_type": "stream",
          "text": [
            "tr_loss:2.2028135299682616 || val_loss:1.8778762817382812 || val_acc:0.29922779922779924\n"
          ],
          "name": "stdout"
        },
        {
          "output_type": "stream",
          "text": [
            "Epoch 30/50: 71it [00:05, 12.75it/s]\n"
          ],
          "name": "stderr"
        },
        {
          "output_type": "stream",
          "text": [
            "tr_loss:1.7857186317443847 || val_loss:1.9003926515579224 || val_acc:0.305019305019305\n"
          ],
          "name": "stdout"
        },
        {
          "output_type": "stream",
          "text": [
            "Epoch 31/50: 71it [00:05, 12.72it/s]\n"
          ],
          "name": "stderr"
        },
        {
          "output_type": "stream",
          "text": [
            "tr_loss:2.00576708316803 || val_loss:1.8592311143875122 || val_acc:0.34555984555984554\n"
          ],
          "name": "stdout"
        },
        {
          "output_type": "stream",
          "text": [
            "Epoch 32/50: 71it [00:05, 12.82it/s]\n"
          ],
          "name": "stderr"
        },
        {
          "output_type": "stream",
          "text": [
            "tr_loss:1.8551370620727539 || val_loss:1.8407920598983765 || val_acc:0.3223938223938224\n"
          ],
          "name": "stdout"
        },
        {
          "output_type": "stream",
          "text": [
            "Epoch 33/50: 71it [00:05, 12.78it/s]\n"
          ],
          "name": "stderr"
        },
        {
          "output_type": "stream",
          "text": [
            "tr_loss:1.8500337839126586 || val_loss:1.8370811939239502 || val_acc:0.3281853281853282\n"
          ],
          "name": "stdout"
        },
        {
          "output_type": "stream",
          "text": [
            "Epoch 34/50: 71it [00:05, 12.82it/s]\n"
          ],
          "name": "stderr"
        },
        {
          "output_type": "stream",
          "text": [
            "tr_loss:1.8613429307937621 || val_loss:1.8604568243026733 || val_acc:0.3204633204633205\n"
          ],
          "name": "stdout"
        },
        {
          "output_type": "stream",
          "text": [
            "Epoch 35/50: 71it [00:05, 12.80it/s]\n"
          ],
          "name": "stderr"
        },
        {
          "output_type": "stream",
          "text": [
            "tr_loss:1.7902151346206665 || val_loss:1.8477206230163574 || val_acc:0.3301158301158301\n"
          ],
          "name": "stdout"
        },
        {
          "output_type": "stream",
          "text": [
            "Epoch 36/50: 71it [00:05, 12.81it/s]\n"
          ],
          "name": "stderr"
        },
        {
          "output_type": "stream",
          "text": [
            "tr_loss:1.8451205492019653 || val_loss:1.8800674676895142 || val_acc:0.32625482625482627\n"
          ],
          "name": "stdout"
        },
        {
          "output_type": "stream",
          "text": [
            "Epoch 37/50: 71it [00:05, 12.81it/s]\n"
          ],
          "name": "stderr"
        },
        {
          "output_type": "stream",
          "text": [
            "tr_loss:1.885611081123352 || val_loss:1.8780300617218018 || val_acc:0.3127413127413127\n"
          ],
          "name": "stdout"
        },
        {
          "output_type": "stream",
          "text": [
            "Epoch 38/50: 71it [00:05, 12.74it/s]\n"
          ],
          "name": "stderr"
        },
        {
          "output_type": "stream",
          "text": [
            "tr_loss:1.7670140743255616 || val_loss:1.843105435371399 || val_acc:0.3185328185328185\n"
          ],
          "name": "stdout"
        },
        {
          "output_type": "stream",
          "text": [
            "Epoch 39/50: 71it [00:05, 12.75it/s]\n"
          ],
          "name": "stderr"
        },
        {
          "output_type": "stream",
          "text": [
            "tr_loss:1.8397176265716553 || val_loss:1.8546584844589233 || val_acc:0.31467181467181465\n"
          ],
          "name": "stdout"
        },
        {
          "output_type": "stream",
          "text": [
            "Epoch 40/50: 71it [00:05, 12.70it/s]\n"
          ],
          "name": "stderr"
        },
        {
          "output_type": "stream",
          "text": [
            "tr_loss:1.8424741983413697 || val_loss:1.84779953956604 || val_acc:0.32432432432432434\n"
          ],
          "name": "stdout"
        },
        {
          "output_type": "stream",
          "text": [
            "Epoch 41/50: 71it [00:05, 12.66it/s]\n"
          ],
          "name": "stderr"
        },
        {
          "output_type": "stream",
          "text": [
            "tr_loss:1.8799930095672608 || val_loss:1.833925485610962 || val_acc:0.33783783783783783\n"
          ],
          "name": "stdout"
        },
        {
          "output_type": "stream",
          "text": [
            "Epoch 42/50: 71it [00:05, 12.64it/s]\n"
          ],
          "name": "stderr"
        },
        {
          "output_type": "stream",
          "text": [
            "tr_loss:1.9102951288223267 || val_loss:1.8491337299346924 || val_acc:0.33976833976833976\n"
          ],
          "name": "stdout"
        },
        {
          "output_type": "stream",
          "text": [
            "Epoch 43/50: 71it [00:05, 12.83it/s]\n"
          ],
          "name": "stderr"
        },
        {
          "output_type": "stream",
          "text": [
            "tr_loss:1.8341477632522583 || val_loss:1.8418421745300293 || val_acc:0.3088803088803089\n"
          ],
          "name": "stdout"
        },
        {
          "output_type": "stream",
          "text": [
            "Epoch 44/50: 71it [00:05, 12.81it/s]\n"
          ],
          "name": "stderr"
        },
        {
          "output_type": "stream",
          "text": [
            "tr_loss:1.9922114372253419 || val_loss:1.8532663583755493 || val_acc:0.305019305019305\n"
          ],
          "name": "stdout"
        },
        {
          "output_type": "stream",
          "text": [
            "Epoch 45/50: 71it [00:05, 12.71it/s]\n"
          ],
          "name": "stderr"
        },
        {
          "output_type": "stream",
          "text": [
            "tr_loss:1.95455060005188 || val_loss:1.8621028661727905 || val_acc:0.3127413127413127\n"
          ],
          "name": "stdout"
        },
        {
          "output_type": "stream",
          "text": [
            "Epoch 46/50: 71it [00:05, 12.82it/s]\n"
          ],
          "name": "stderr"
        },
        {
          "output_type": "stream",
          "text": [
            "tr_loss:1.9631046772003173 || val_loss:1.8492107391357422 || val_acc:0.3166023166023166\n"
          ],
          "name": "stdout"
        },
        {
          "output_type": "stream",
          "text": [
            "Epoch 47/50: 71it [00:05, 12.89it/s]\n"
          ],
          "name": "stderr"
        },
        {
          "output_type": "stream",
          "text": [
            "tr_loss:1.7958449602127076 || val_loss:1.8593252897262573 || val_acc:0.31467181467181465\n"
          ],
          "name": "stdout"
        },
        {
          "output_type": "stream",
          "text": [
            "Epoch 48/50: 71it [00:05, 12.88it/s]\n"
          ],
          "name": "stderr"
        },
        {
          "output_type": "stream",
          "text": [
            "tr_loss:1.8885905742645264 || val_loss:1.8455435037612915 || val_acc:0.32432432432432434\n"
          ],
          "name": "stdout"
        },
        {
          "output_type": "stream",
          "text": [
            "Epoch 49/50: 71it [00:05, 12.79it/s]\n"
          ],
          "name": "stderr"
        },
        {
          "output_type": "stream",
          "text": [
            "tr_loss:1.8331870317459107 || val_loss:1.853591799736023 || val_acc:0.3204633204633205\n"
          ],
          "name": "stdout"
        },
        {
          "output_type": "stream",
          "text": [
            "Epoch 50/50: 71it [00:05, 12.73it/s]\n"
          ],
          "name": "stderr"
        },
        {
          "output_type": "stream",
          "text": [
            "tr_loss:1.7500616788864136 || val_loss:1.849421739578247 || val_acc:0.32625482625482627\n",
            "************* Saving model for Task-2 *************\n",
            "************* End of Task-2 training *************\n",
            "************* Re-calibrating model parameters *************\n",
            "************* Task: 3, Number of Trainable Parameters: 72330 *************\n",
            "Files already downloaded and verified\n",
            "Num. samples (train) in task dataset: 4510\n",
            "Files already downloaded and verified\n",
            "Num. samples (val) in task dataset: 490\n"
          ],
          "name": "stdout"
        },
        {
          "output_type": "stream",
          "text": [
            "Epoch 1/50: 71it [00:05, 12.53it/s]\n"
          ],
          "name": "stderr"
        },
        {
          "output_type": "stream",
          "text": [
            "tr_loss:1.8975359439849853 || val_loss:1.886414647102356 || val_acc:0.3081632653061224\n"
          ],
          "name": "stdout"
        },
        {
          "output_type": "stream",
          "text": [
            "Epoch 2/50: 71it [00:05, 12.76it/s]\n"
          ],
          "name": "stderr"
        },
        {
          "output_type": "stream",
          "text": [
            "tr_loss:1.9024367570877074 || val_loss:1.8173372745513916 || val_acc:0.3469387755102041\n"
          ],
          "name": "stdout"
        },
        {
          "output_type": "stream",
          "text": [
            "Epoch 3/50: 71it [00:05, 12.71it/s]\n"
          ],
          "name": "stderr"
        },
        {
          "output_type": "stream",
          "text": [
            "tr_loss:1.8658519029617309 || val_loss:1.8079897165298462 || val_acc:0.336734693877551\n"
          ],
          "name": "stdout"
        },
        {
          "output_type": "stream",
          "text": [
            "Epoch 4/50: 71it [00:05, 12.73it/s]\n"
          ],
          "name": "stderr"
        },
        {
          "output_type": "stream",
          "text": [
            "tr_loss:1.8630141973495484 || val_loss:1.8186962604522705 || val_acc:0.3469387755102041\n"
          ],
          "name": "stdout"
        },
        {
          "output_type": "stream",
          "text": [
            "Epoch 5/50: 71it [00:05, 12.67it/s]\n"
          ],
          "name": "stderr"
        },
        {
          "output_type": "stream",
          "text": [
            "tr_loss:1.8396613836288451 || val_loss:1.78675377368927 || val_acc:0.35714285714285715\n"
          ],
          "name": "stdout"
        },
        {
          "output_type": "stream",
          "text": [
            "Epoch 6/50: 71it [00:05, 12.76it/s]\n"
          ],
          "name": "stderr"
        },
        {
          "output_type": "stream",
          "text": [
            "tr_loss:1.8097762584686279 || val_loss:1.7514896392822266 || val_acc:0.4020408163265306\n"
          ],
          "name": "stdout"
        },
        {
          "output_type": "stream",
          "text": [
            "Epoch 7/50: 71it [00:05, 12.71it/s]\n"
          ],
          "name": "stderr"
        },
        {
          "output_type": "stream",
          "text": [
            "tr_loss:1.8050786018371583 || val_loss:1.739272952079773 || val_acc:0.3693877551020408\n"
          ],
          "name": "stdout"
        },
        {
          "output_type": "stream",
          "text": [
            "Epoch 8/50: 71it [00:05, 12.71it/s]\n"
          ],
          "name": "stderr"
        },
        {
          "output_type": "stream",
          "text": [
            "tr_loss:1.7335264921188354 || val_loss:1.7676326036453247 || val_acc:0.3510204081632653\n"
          ],
          "name": "stdout"
        },
        {
          "output_type": "stream",
          "text": [
            "Epoch 9/50: 71it [00:05, 12.76it/s]\n"
          ],
          "name": "stderr"
        },
        {
          "output_type": "stream",
          "text": [
            "tr_loss:1.8667234420776366 || val_loss:1.7012823820114136 || val_acc:0.4\n"
          ],
          "name": "stdout"
        },
        {
          "output_type": "stream",
          "text": [
            "Epoch 10/50: 71it [00:05, 12.62it/s]\n"
          ],
          "name": "stderr"
        },
        {
          "output_type": "stream",
          "text": [
            "tr_loss:1.6854764223098755 || val_loss:1.7034991979599 || val_acc:0.39183673469387753\n"
          ],
          "name": "stdout"
        },
        {
          "output_type": "stream",
          "text": [
            "Epoch 11/50: 71it [00:05, 12.71it/s]\n"
          ],
          "name": "stderr"
        },
        {
          "output_type": "stream",
          "text": [
            "tr_loss:1.7150995254516601 || val_loss:1.7017344236373901 || val_acc:0.3979591836734694\n"
          ],
          "name": "stdout"
        },
        {
          "output_type": "stream",
          "text": [
            "Epoch 12/50: 71it [00:05, 12.65it/s]\n"
          ],
          "name": "stderr"
        },
        {
          "output_type": "stream",
          "text": [
            "tr_loss:1.68388991355896 || val_loss:1.6897598505020142 || val_acc:0.4061224489795918\n"
          ],
          "name": "stdout"
        },
        {
          "output_type": "stream",
          "text": [
            "Epoch 13/50: 71it [00:05, 12.74it/s]\n"
          ],
          "name": "stderr"
        },
        {
          "output_type": "stream",
          "text": [
            "tr_loss:1.7440769910812377 || val_loss:1.6829441785812378 || val_acc:0.41836734693877553\n"
          ],
          "name": "stdout"
        },
        {
          "output_type": "stream",
          "text": [
            "Epoch 14/50: 71it [00:05, 12.80it/s]\n"
          ],
          "name": "stderr"
        },
        {
          "output_type": "stream",
          "text": [
            "tr_loss:1.6360857248306275 || val_loss:1.7026255130767822 || val_acc:0.4142857142857143\n"
          ],
          "name": "stdout"
        },
        {
          "output_type": "stream",
          "text": [
            "Epoch 15/50: 71it [00:05, 12.78it/s]\n"
          ],
          "name": "stderr"
        },
        {
          "output_type": "stream",
          "text": [
            "tr_loss:1.662095022201538 || val_loss:1.6671916246414185 || val_acc:0.42448979591836733\n"
          ],
          "name": "stdout"
        },
        {
          "output_type": "stream",
          "text": [
            "Epoch 16/50: 71it [00:05, 12.79it/s]\n"
          ],
          "name": "stderr"
        },
        {
          "output_type": "stream",
          "text": [
            "tr_loss:1.5841077089309692 || val_loss:1.646634578704834 || val_acc:0.4204081632653061\n"
          ],
          "name": "stdout"
        },
        {
          "output_type": "stream",
          "text": [
            "Epoch 17/50: 71it [00:05, 12.83it/s]\n"
          ],
          "name": "stderr"
        },
        {
          "output_type": "stream",
          "text": [
            "tr_loss:1.5697471618652343 || val_loss:1.6395494937896729 || val_acc:0.42244897959183675\n"
          ],
          "name": "stdout"
        },
        {
          "output_type": "stream",
          "text": [
            "Epoch 18/50: 71it [00:05, 12.89it/s]\n"
          ],
          "name": "stderr"
        },
        {
          "output_type": "stream",
          "text": [
            "tr_loss:1.5430943012237548 || val_loss:1.6295701265335083 || val_acc:0.41836734693877553\n"
          ],
          "name": "stdout"
        },
        {
          "output_type": "stream",
          "text": [
            "Epoch 19/50: 71it [00:05, 12.86it/s]\n"
          ],
          "name": "stderr"
        },
        {
          "output_type": "stream",
          "text": [
            "tr_loss:1.6161502122879028 || val_loss:1.6358120441436768 || val_acc:0.4204081632653061\n"
          ],
          "name": "stdout"
        },
        {
          "output_type": "stream",
          "text": [
            "Epoch 20/50: 71it [00:05, 12.72it/s]\n"
          ],
          "name": "stderr"
        },
        {
          "output_type": "stream",
          "text": [
            "tr_loss:1.534005045890808 || val_loss:1.6319020986557007 || val_acc:0.42857142857142855\n"
          ],
          "name": "stdout"
        },
        {
          "output_type": "stream",
          "text": [
            "Epoch 21/50: 71it [00:05, 12.67it/s]\n"
          ],
          "name": "stderr"
        },
        {
          "output_type": "stream",
          "text": [
            "tr_loss:1.6614269971847535 || val_loss:1.6282271146774292 || val_acc:0.42448979591836733\n"
          ],
          "name": "stdout"
        },
        {
          "output_type": "stream",
          "text": [
            "Epoch 22/50: 71it [00:05, 12.72it/s]\n"
          ],
          "name": "stderr"
        },
        {
          "output_type": "stream",
          "text": [
            "tr_loss:1.5849469423294067 || val_loss:1.6194268465042114 || val_acc:0.42857142857142855\n"
          ],
          "name": "stdout"
        },
        {
          "output_type": "stream",
          "text": [
            "Epoch 23/50: 71it [00:05, 12.67it/s]\n"
          ],
          "name": "stderr"
        },
        {
          "output_type": "stream",
          "text": [
            "tr_loss:1.5923331737518311 || val_loss:1.62405526638031 || val_acc:0.44081632653061226\n"
          ],
          "name": "stdout"
        },
        {
          "output_type": "stream",
          "text": [
            "Epoch 24/50: 71it [00:05, 12.69it/s]\n"
          ],
          "name": "stderr"
        },
        {
          "output_type": "stream",
          "text": [
            "tr_loss:1.6573708057403564 || val_loss:1.6275477409362793 || val_acc:0.44285714285714284\n"
          ],
          "name": "stdout"
        },
        {
          "output_type": "stream",
          "text": [
            "Epoch 25/50: 71it [00:05, 12.70it/s]\n"
          ],
          "name": "stderr"
        },
        {
          "output_type": "stream",
          "text": [
            "tr_loss:1.7126541614532471 || val_loss:1.6249852180480957 || val_acc:0.42653061224489797\n"
          ],
          "name": "stdout"
        },
        {
          "output_type": "stream",
          "text": [
            "Epoch 26/50: 71it [00:05, 12.69it/s]\n"
          ],
          "name": "stderr"
        },
        {
          "output_type": "stream",
          "text": [
            "tr_loss:1.6444249868392944 || val_loss:1.6227481365203857 || val_acc:0.42448979591836733\n"
          ],
          "name": "stdout"
        },
        {
          "output_type": "stream",
          "text": [
            "Epoch 27/50: 71it [00:05, 12.72it/s]\n"
          ],
          "name": "stderr"
        },
        {
          "output_type": "stream",
          "text": [
            "tr_loss:1.6150963306427002 || val_loss:1.6197649240493774 || val_acc:0.44693877551020406\n"
          ],
          "name": "stdout"
        },
        {
          "output_type": "stream",
          "text": [
            "Epoch 28/50: 71it [00:05, 12.74it/s]\n"
          ],
          "name": "stderr"
        },
        {
          "output_type": "stream",
          "text": [
            "tr_loss:1.5102508544921875 || val_loss:1.6282185316085815 || val_acc:0.4387755102040816\n"
          ],
          "name": "stdout"
        },
        {
          "output_type": "stream",
          "text": [
            "Epoch 29/50: 71it [00:05, 12.70it/s]\n"
          ],
          "name": "stderr"
        },
        {
          "output_type": "stream",
          "text": [
            "tr_loss:1.642378830909729 || val_loss:1.6197230815887451 || val_acc:0.42244897959183675\n"
          ],
          "name": "stdout"
        },
        {
          "output_type": "stream",
          "text": [
            "Epoch 30/50: 71it [00:05, 12.80it/s]\n"
          ],
          "name": "stderr"
        },
        {
          "output_type": "stream",
          "text": [
            "tr_loss:1.6593374013900757 || val_loss:1.6397173404693604 || val_acc:0.43673469387755104\n"
          ],
          "name": "stdout"
        },
        {
          "output_type": "stream",
          "text": [
            "Epoch 31/50: 71it [00:05, 12.72it/s]\n"
          ],
          "name": "stderr"
        },
        {
          "output_type": "stream",
          "text": [
            "tr_loss:1.5534336805343627 || val_loss:1.6222366094589233 || val_acc:0.4306122448979592\n"
          ],
          "name": "stdout"
        },
        {
          "output_type": "stream",
          "text": [
            "Epoch 32/50: 71it [00:05, 12.76it/s]\n"
          ],
          "name": "stderr"
        },
        {
          "output_type": "stream",
          "text": [
            "tr_loss:1.6134718418121339 || val_loss:1.6261001825332642 || val_acc:0.4346938775510204\n"
          ],
          "name": "stdout"
        },
        {
          "output_type": "stream",
          "text": [
            "Epoch 33/50: 71it [00:05, 12.80it/s]\n"
          ],
          "name": "stderr"
        },
        {
          "output_type": "stream",
          "text": [
            "tr_loss:1.5056901931762696 || val_loss:1.6108105182647705 || val_acc:0.44081632653061226\n"
          ],
          "name": "stdout"
        },
        {
          "output_type": "stream",
          "text": [
            "Epoch 34/50: 71it [00:05, 12.82it/s]\n"
          ],
          "name": "stderr"
        },
        {
          "output_type": "stream",
          "text": [
            "tr_loss:1.5214779853820801 || val_loss:1.6243818998336792 || val_acc:0.44081632653061226\n"
          ],
          "name": "stdout"
        },
        {
          "output_type": "stream",
          "text": [
            "Epoch 35/50: 71it [00:05, 12.73it/s]\n"
          ],
          "name": "stderr"
        },
        {
          "output_type": "stream",
          "text": [
            "tr_loss:1.5807545185089111 || val_loss:1.6263842582702637 || val_acc:0.4448979591836735\n"
          ],
          "name": "stdout"
        },
        {
          "output_type": "stream",
          "text": [
            "Epoch 36/50: 71it [00:05, 12.79it/s]\n"
          ],
          "name": "stderr"
        },
        {
          "output_type": "stream",
          "text": [
            "tr_loss:1.6213006734848023 || val_loss:1.6281665563583374 || val_acc:0.44081632653061226\n"
          ],
          "name": "stdout"
        },
        {
          "output_type": "stream",
          "text": [
            "Epoch 37/50: 71it [00:05, 12.66it/s]\n"
          ],
          "name": "stderr"
        },
        {
          "output_type": "stream",
          "text": [
            "tr_loss:1.6526121854782105 || val_loss:1.6264169216156006 || val_acc:0.4326530612244898\n"
          ],
          "name": "stdout"
        },
        {
          "output_type": "stream",
          "text": [
            "Epoch 38/50: 71it [00:05, 12.73it/s]\n"
          ],
          "name": "stderr"
        },
        {
          "output_type": "stream",
          "text": [
            "tr_loss:1.5500017166137696 || val_loss:1.6198393106460571 || val_acc:0.42244897959183675\n"
          ],
          "name": "stdout"
        },
        {
          "output_type": "stream",
          "text": [
            "Epoch 39/50: 71it [00:05, 12.71it/s]\n"
          ],
          "name": "stderr"
        },
        {
          "output_type": "stream",
          "text": [
            "tr_loss:1.6789054155349732 || val_loss:1.6226495504379272 || val_acc:0.45510204081632655\n"
          ],
          "name": "stdout"
        },
        {
          "output_type": "stream",
          "text": [
            "Epoch 40/50: 71it [00:05, 12.61it/s]\n"
          ],
          "name": "stderr"
        },
        {
          "output_type": "stream",
          "text": [
            "tr_loss:1.4895193576812744 || val_loss:1.6228522062301636 || val_acc:0.43673469387755104\n"
          ],
          "name": "stdout"
        },
        {
          "output_type": "stream",
          "text": [
            "Epoch 41/50: 71it [00:05, 12.79it/s]\n"
          ],
          "name": "stderr"
        },
        {
          "output_type": "stream",
          "text": [
            "tr_loss:1.6532967805862426 || val_loss:1.6155678033828735 || val_acc:0.4489795918367347\n"
          ],
          "name": "stdout"
        },
        {
          "output_type": "stream",
          "text": [
            "Epoch 42/50: 71it [00:05, 12.75it/s]\n"
          ],
          "name": "stderr"
        },
        {
          "output_type": "stream",
          "text": [
            "tr_loss:1.620434546470642 || val_loss:1.6280722618103027 || val_acc:0.4306122448979592\n"
          ],
          "name": "stdout"
        },
        {
          "output_type": "stream",
          "text": [
            "Epoch 43/50: 71it [00:05, 12.79it/s]\n"
          ],
          "name": "stderr"
        },
        {
          "output_type": "stream",
          "text": [
            "tr_loss:1.6431196928024292 || val_loss:1.622363567352295 || val_acc:0.42653061224489797\n"
          ],
          "name": "stdout"
        },
        {
          "output_type": "stream",
          "text": [
            "Epoch 44/50: 71it [00:05, 12.74it/s]\n"
          ],
          "name": "stderr"
        },
        {
          "output_type": "stream",
          "text": [
            "tr_loss:1.61042160987854 || val_loss:1.6352770328521729 || val_acc:0.43673469387755104\n"
          ],
          "name": "stdout"
        },
        {
          "output_type": "stream",
          "text": [
            "Epoch 45/50: 71it [00:05, 12.80it/s]\n"
          ],
          "name": "stderr"
        },
        {
          "output_type": "stream",
          "text": [
            "tr_loss:1.622528648376465 || val_loss:1.6256020069122314 || val_acc:0.4489795918367347\n"
          ],
          "name": "stdout"
        },
        {
          "output_type": "stream",
          "text": [
            "Epoch 46/50: 71it [00:05, 12.75it/s]\n"
          ],
          "name": "stderr"
        },
        {
          "output_type": "stream",
          "text": [
            "tr_loss:1.512177300453186 || val_loss:1.630441665649414 || val_acc:0.42448979591836733\n"
          ],
          "name": "stdout"
        },
        {
          "output_type": "stream",
          "text": [
            "Epoch 47/50: 71it [00:05, 12.69it/s]\n"
          ],
          "name": "stderr"
        },
        {
          "output_type": "stream",
          "text": [
            "tr_loss:1.590989589691162 || val_loss:1.6229846477508545 || val_acc:0.42653061224489797\n"
          ],
          "name": "stdout"
        },
        {
          "output_type": "stream",
          "text": [
            "Epoch 48/50: 71it [00:05, 12.66it/s]\n"
          ],
          "name": "stderr"
        },
        {
          "output_type": "stream",
          "text": [
            "tr_loss:1.58806254863739 || val_loss:1.6168078184127808 || val_acc:0.4306122448979592\n"
          ],
          "name": "stdout"
        },
        {
          "output_type": "stream",
          "text": [
            "Epoch 49/50: 71it [00:05, 12.68it/s]\n"
          ],
          "name": "stderr"
        },
        {
          "output_type": "stream",
          "text": [
            "tr_loss:1.6711683511734008 || val_loss:1.6236680746078491 || val_acc:0.43673469387755104\n"
          ],
          "name": "stdout"
        },
        {
          "output_type": "stream",
          "text": [
            "Epoch 50/50: 71it [00:05, 12.68it/s]\n"
          ],
          "name": "stderr"
        },
        {
          "output_type": "stream",
          "text": [
            "tr_loss:1.590613055229187 || val_loss:1.6221719980239868 || val_acc:0.4306122448979592\n",
            "************* Saving model for Task-3 *************\n",
            "************* End of Task-3 training *************\n",
            "************* Re-calibrating model parameters *************\n",
            "************* Task: 4, Number of Trainable Parameters: 72330 *************\n",
            "Files already downloaded and verified\n",
            "Num. samples (train) in task dataset: 4522\n",
            "Files already downloaded and verified\n",
            "Num. samples (val) in task dataset: 478\n"
          ],
          "name": "stdout"
        },
        {
          "output_type": "stream",
          "text": [
            "Epoch 1/50: 71it [00:05, 12.70it/s]\n"
          ],
          "name": "stderr"
        },
        {
          "output_type": "stream",
          "text": [
            "tr_loss:1.8899873733520507 || val_loss:1.8733781576156616 || val_acc:0.34518828451882844\n"
          ],
          "name": "stdout"
        },
        {
          "output_type": "stream",
          "text": [
            "Epoch 2/50: 71it [00:05, 12.77it/s]\n"
          ],
          "name": "stderr"
        },
        {
          "output_type": "stream",
          "text": [
            "tr_loss:1.836473536491394 || val_loss:1.8341518640518188 || val_acc:0.3891213389121339\n"
          ],
          "name": "stdout"
        },
        {
          "output_type": "stream",
          "text": [
            "Epoch 3/50: 71it [00:05, 12.74it/s]\n"
          ],
          "name": "stderr"
        },
        {
          "output_type": "stream",
          "text": [
            "tr_loss:1.7039785861968995 || val_loss:1.755872130393982 || val_acc:0.3807531380753138\n"
          ],
          "name": "stdout"
        },
        {
          "output_type": "stream",
          "text": [
            "Epoch 4/50: 71it [00:05, 12.67it/s]\n"
          ],
          "name": "stderr"
        },
        {
          "output_type": "stream",
          "text": [
            "tr_loss:1.7982033252716065 || val_loss:1.7310779094696045 || val_acc:0.40376569037656906\n"
          ],
          "name": "stdout"
        },
        {
          "output_type": "stream",
          "text": [
            "Epoch 5/50: 71it [00:05, 12.71it/s]\n"
          ],
          "name": "stderr"
        },
        {
          "output_type": "stream",
          "text": [
            "tr_loss:1.797772192955017 || val_loss:1.7582896947860718 || val_acc:0.4121338912133891\n"
          ],
          "name": "stdout"
        },
        {
          "output_type": "stream",
          "text": [
            "Epoch 6/50: 71it [00:05, 12.75it/s]\n"
          ],
          "name": "stderr"
        },
        {
          "output_type": "stream",
          "text": [
            "tr_loss:1.7007193326950074 || val_loss:1.6996785402297974 || val_acc:0.4246861924686193\n"
          ],
          "name": "stdout"
        },
        {
          "output_type": "stream",
          "text": [
            "Epoch 7/50: 71it [00:05, 12.62it/s]\n"
          ],
          "name": "stderr"
        },
        {
          "output_type": "stream",
          "text": [
            "tr_loss:1.6928443670272828 || val_loss:1.6587955951690674 || val_acc:0.41631799163179917\n"
          ],
          "name": "stdout"
        },
        {
          "output_type": "stream",
          "text": [
            "Epoch 8/50: 71it [00:05, 12.64it/s]\n"
          ],
          "name": "stderr"
        },
        {
          "output_type": "stream",
          "text": [
            "tr_loss:1.7124437093734741 || val_loss:1.7445807456970215 || val_acc:0.40794979079497906\n"
          ],
          "name": "stdout"
        },
        {
          "output_type": "stream",
          "text": [
            "Epoch 9/50: 71it [00:05, 12.54it/s]\n"
          ],
          "name": "stderr"
        },
        {
          "output_type": "stream",
          "text": [
            "tr_loss:1.7210513353347778 || val_loss:1.6975769996643066 || val_acc:0.42887029288702927\n"
          ],
          "name": "stdout"
        },
        {
          "output_type": "stream",
          "text": [
            "Epoch 10/50: 71it [00:05, 12.69it/s]\n"
          ],
          "name": "stderr"
        },
        {
          "output_type": "stream",
          "text": [
            "tr_loss:1.7277275323867798 || val_loss:1.6331055164337158 || val_acc:0.4351464435146444\n"
          ],
          "name": "stdout"
        },
        {
          "output_type": "stream",
          "text": [
            "Epoch 11/50: 71it [00:05, 12.62it/s]\n"
          ],
          "name": "stderr"
        },
        {
          "output_type": "stream",
          "text": [
            "tr_loss:1.6762329816818238 || val_loss:1.64607572555542 || val_acc:0.4351464435146444\n"
          ],
          "name": "stdout"
        },
        {
          "output_type": "stream",
          "text": [
            "Epoch 12/50: 71it [00:05, 12.68it/s]\n"
          ],
          "name": "stderr"
        },
        {
          "output_type": "stream",
          "text": [
            "tr_loss:1.559367847442627 || val_loss:1.6514334678649902 || val_acc:0.4372384937238494\n"
          ],
          "name": "stdout"
        },
        {
          "output_type": "stream",
          "text": [
            "Epoch 13/50: 71it [00:05, 12.78it/s]\n"
          ],
          "name": "stderr"
        },
        {
          "output_type": "stream",
          "text": [
            "tr_loss:1.6049169063568116 || val_loss:1.6481051445007324 || val_acc:0.4372384937238494\n"
          ],
          "name": "stdout"
        },
        {
          "output_type": "stream",
          "text": [
            "Epoch 14/50: 71it [00:05, 12.75it/s]\n"
          ],
          "name": "stderr"
        },
        {
          "output_type": "stream",
          "text": [
            "tr_loss:1.5746838808059693 || val_loss:1.6104048490524292 || val_acc:0.4372384937238494\n"
          ],
          "name": "stdout"
        },
        {
          "output_type": "stream",
          "text": [
            "Epoch 15/50: 71it [00:05, 12.78it/s]\n"
          ],
          "name": "stderr"
        },
        {
          "output_type": "stream",
          "text": [
            "tr_loss:1.6058720350265503 || val_loss:1.6190173625946045 || val_acc:0.45188284518828453\n"
          ],
          "name": "stdout"
        },
        {
          "output_type": "stream",
          "text": [
            "Epoch 16/50: 71it [00:05, 12.77it/s]\n"
          ],
          "name": "stderr"
        },
        {
          "output_type": "stream",
          "text": [
            "tr_loss:1.6451542377471924 || val_loss:1.5751458406448364 || val_acc:0.46443514644351463\n"
          ],
          "name": "stdout"
        },
        {
          "output_type": "stream",
          "text": [
            "Epoch 17/50: 71it [00:05, 12.83it/s]\n"
          ],
          "name": "stderr"
        },
        {
          "output_type": "stream",
          "text": [
            "tr_loss:1.55169575214386 || val_loss:1.575637698173523 || val_acc:0.4707112970711297\n"
          ],
          "name": "stdout"
        },
        {
          "output_type": "stream",
          "text": [
            "Epoch 18/50: 71it [00:05, 12.75it/s]\n"
          ],
          "name": "stderr"
        },
        {
          "output_type": "stream",
          "text": [
            "tr_loss:1.4867825269699098 || val_loss:1.5705111026763916 || val_acc:0.4665271966527197\n"
          ],
          "name": "stdout"
        },
        {
          "output_type": "stream",
          "text": [
            "Epoch 19/50: 71it [00:05, 12.67it/s]\n"
          ],
          "name": "stderr"
        },
        {
          "output_type": "stream",
          "text": [
            "tr_loss:1.5912631034851075 || val_loss:1.5724961757659912 || val_acc:0.45397489539748953\n"
          ],
          "name": "stdout"
        },
        {
          "output_type": "stream",
          "text": [
            "Epoch 20/50: 71it [00:05, 12.68it/s]\n"
          ],
          "name": "stderr"
        },
        {
          "output_type": "stream",
          "text": [
            "tr_loss:1.4446579933166503 || val_loss:1.5681006908416748 || val_acc:0.46234309623430964\n"
          ],
          "name": "stdout"
        },
        {
          "output_type": "stream",
          "text": [
            "Epoch 21/50: 71it [00:05, 12.68it/s]\n"
          ],
          "name": "stderr"
        },
        {
          "output_type": "stream",
          "text": [
            "tr_loss:1.4925942897796631 || val_loss:1.5652523040771484 || val_acc:0.4790794979079498\n"
          ],
          "name": "stdout"
        },
        {
          "output_type": "stream",
          "text": [
            "Epoch 22/50: 71it [00:05, 12.56it/s]\n"
          ],
          "name": "stderr"
        },
        {
          "output_type": "stream",
          "text": [
            "tr_loss:1.653022575378418 || val_loss:1.551507592201233 || val_acc:0.4707112970711297\n"
          ],
          "name": "stdout"
        },
        {
          "output_type": "stream",
          "text": [
            "Epoch 23/50: 71it [00:05, 12.76it/s]\n"
          ],
          "name": "stderr"
        },
        {
          "output_type": "stream",
          "text": [
            "tr_loss:1.472704529762268 || val_loss:1.5472254753112793 || val_acc:0.46234309623430964\n"
          ],
          "name": "stdout"
        },
        {
          "output_type": "stream",
          "text": [
            "Epoch 24/50: 71it [00:05, 12.80it/s]\n"
          ],
          "name": "stderr"
        },
        {
          "output_type": "stream",
          "text": [
            "tr_loss:1.5202971935272216 || val_loss:1.5400484800338745 || val_acc:0.4874476987447699\n"
          ],
          "name": "stdout"
        },
        {
          "output_type": "stream",
          "text": [
            "Epoch 25/50: 25it [00:02, 11.91it/s]\n"
          ],
          "name": "stderr"
        },
        {
          "output_type": "error",
          "ename": "KeyboardInterrupt",
          "evalue": "ignored",
          "traceback": [
            "\u001b[0;31m---------------------------------------------------------------------------\u001b[0m",
            "\u001b[0;31mKeyboardInterrupt\u001b[0m                         Traceback (most recent call last)",
            "\u001b[0;32m<ipython-input-9-2da0ffaf5447>\u001b[0m in \u001b[0;36m<module>\u001b[0;34m()\u001b[0m\n\u001b[0;32m----> 1\u001b[0;31m \u001b[0mtrain\u001b[0m\u001b[0;34m(\u001b[0m\u001b[0;34m)\u001b[0m\u001b[0;34m\u001b[0m\u001b[0;34m\u001b[0m\u001b[0m\n\u001b[0m",
            "\u001b[0;32m<ipython-input-8-bdc33d23eb1f>\u001b[0m in \u001b[0;36mtrain\u001b[0;34m(verbose)\u001b[0m\n\u001b[1;32m     57\u001b[0m \u001b[0;34m\u001b[0m\u001b[0m\n\u001b[1;32m     58\u001b[0m                 \u001b[0;31m# backprop\u001b[0m\u001b[0;34m\u001b[0m\u001b[0;34m\u001b[0m\u001b[0;34m\u001b[0m\u001b[0m\n\u001b[0;32m---> 59\u001b[0;31m                 \u001b[0mloss\u001b[0m\u001b[0;34m.\u001b[0m\u001b[0mbackward\u001b[0m\u001b[0;34m(\u001b[0m\u001b[0;34m)\u001b[0m\u001b[0;34m\u001b[0m\u001b[0;34m\u001b[0m\u001b[0m\n\u001b[0m\u001b[1;32m     60\u001b[0m \u001b[0;34m\u001b[0m\u001b[0m\n\u001b[1;32m     61\u001b[0m                 \u001b[0;31m# update parameters\u001b[0m\u001b[0;34m\u001b[0m\u001b[0;34m\u001b[0m\u001b[0;34m\u001b[0m\u001b[0m\n",
            "\u001b[0;31mKeyboardInterrupt\u001b[0m: "
          ]
        }
      ]
    },
    {
      "cell_type": "code",
      "metadata": {
        "id": "haHCekQxZ-BD"
      },
      "source": [
        "def test():\n",
        "    model_path = './models/CIFAR100_experiment/'\n",
        "    for task_no in range(10):\n",
        "        # load models per task\n",
        "        series_num = 'cifar100_model_task_' + str(task_no) + '.pt'\n",
        "        model = torch.load(model_path + series_num)\n",
        "        model = model.to(device)\n",
        "        model.eval()\n",
        "        # get task specific test data\n",
        "        test_loader = get_dataloader(subset='test', task_no=task_no)\n",
        "        criterion = nn.CrossEntropyLoss()\n",
        "\n",
        "        with torch.no_grad():\n",
        "            for _, data in enumerate(test_loader):\n",
        "                x, y = data\n",
        "                x, y = x.to(device), y.to(device)\n",
        "                yhat = model(x)\n",
        "\n",
        "                test_loss = criterion(yhat, y).item()\n",
        "                test_acc = accuracy(y.to('cpu').numpy(), yhat.to('cpu').numpy())\n",
        "            print('Task-{} || test_loss:{} || test_acc:{}'.format(task_no, test_loss, test_acc))"
      ],
      "execution_count": null,
      "outputs": []
    },
    {
      "cell_type": "code",
      "metadata": {
        "colab": {
          "base_uri": "https://localhost:8080/"
        },
        "id": "MIRrSgp9hsIx",
        "outputId": "18c8388e-c90e-4f11-ab2d-225df7c357b6"
      },
      "source": [
        "test()"
      ],
      "execution_count": null,
      "outputs": [
        {
          "output_type": "stream",
          "text": [
            "Files already downloaded and verified\n",
            "Num. samples (test) in task dataset: 1000\n",
            "Task-0 || \t test_loss:1.118534803390503 || \t test_acc:0.725\n",
            "Files already downloaded and verified\n",
            "Num. samples (test) in task dataset: 1000\n",
            "Task-1 || \t test_loss:1.2035876512527466 || \t test_acc:0.584\n",
            "Files already downloaded and verified\n",
            "Num. samples (test) in task dataset: 1000\n",
            "Task-2 || \t test_loss:1.0089589357376099 || \t test_acc:0.665\n",
            "Files already downloaded and verified\n",
            "Num. samples (test) in task dataset: 1000\n",
            "Task-3 || \t test_loss:1.098892331123352 || \t test_acc:0.642\n",
            "Files already downloaded and verified\n",
            "Num. samples (test) in task dataset: 1000\n",
            "Task-4 || \t test_loss:0.9535859227180481 || \t test_acc:0.676\n",
            "Files already downloaded and verified\n",
            "Num. samples (test) in task dataset: 1000\n",
            "Task-5 || \t test_loss:0.8811346292495728 || \t test_acc:0.704\n",
            "Files already downloaded and verified\n",
            "Num. samples (test) in task dataset: 1000\n",
            "Task-6 || \t test_loss:0.9358561038970947 || \t test_acc:0.679\n",
            "Files already downloaded and verified\n",
            "Num. samples (test) in task dataset: 1000\n",
            "Task-7 || \t test_loss:0.9234153628349304 || \t test_acc:0.685\n",
            "Files already downloaded and verified\n",
            "Num. samples (test) in task dataset: 1000\n",
            "Task-8 || \t test_loss:0.8803969025611877 || \t test_acc:0.703\n",
            "Files already downloaded and verified\n",
            "Num. samples (test) in task dataset: 1000\n",
            "Task-9 || \t test_loss:0.7894235253334045 || \t test_acc:0.735\n"
          ],
          "name": "stdout"
        }
      ]
    }
  ]
}