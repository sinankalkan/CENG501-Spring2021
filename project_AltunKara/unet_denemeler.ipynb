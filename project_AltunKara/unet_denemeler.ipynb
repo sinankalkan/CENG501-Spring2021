{
  "nbformat": 4,
  "nbformat_minor": 0,
  "metadata": {
    "colab": {
      "name": "Copy of unet denemeler.ipynb",
      "provenance": [],
      "collapsed_sections": []
    },
    "kernelspec": {
      "display_name": "Python 3",
      "name": "python3"
    },
    "language_info": {
      "name": "python"
    },
    "accelerator": "GPU"
  },
  "cells": [
    {
      "cell_type": "code",
      "metadata": {
        "id": "YDAA2T2s_vFM"
      },
      "source": [
        "try:\n",
        "    import Image\n",
        "except ImportError:\n",
        "    from PIL import Image\n",
        "\n",
        "import os\n",
        "import matplotlib.pyplot as plt\n",
        "import numpy as np\n",
        "import keras\n",
        "from keras.models import Model\n",
        "from keras.layers import Conv2D, MaxPooling2D, Input, Conv2DTranspose, Concatenate, BatchNormalization, UpSampling2D, Multiply, Add, GlobalAveragePooling2D, Dense\n",
        "from keras.layers import  Dropout, Activation\n",
        "from keras.optimizers import Adam, SGD\n",
        "from keras.layers.advanced_activations import LeakyReLU\n",
        "from keras.callbacks import ModelCheckpoint, ReduceLROnPlateau, EarlyStopping\n",
        "from keras import backend as K\n",
        "from tensorflow.keras.utils import plot_model\n",
        "import tensorflow as tf\n",
        "import glob\n",
        "import random\n",
        "import cv2 as cv\n",
        "from random import shuffle\n",
        "from PIL import ImageDraw\n",
        "from IPython.display import display\n",
        "from skimage.measure import block_reduce\n",
        "\n",
        "\n",
        "\n"
      ],
      "execution_count": null,
      "outputs": []
    },
    {
      "cell_type": "code",
      "metadata": {
        "colab": {
          "base_uri": "https://localhost:8080/"
        },
        "id": "CkFeHkHYPFnx",
        "outputId": "3420ee51-3042-435f-8cda-bffe97a3975c"
      },
      "source": [
        "#İlayda\n",
        "from google.colab import drive\n",
        "drive.mount('/content/drive')\n",
        "import os\n",
        "os.chdir(\"/content/drive/MyDrive/CENG501/\")\n",
        "!ls\n",
        "dir_data = \"dataset\"\n",
        "isbi2016_ground_truth_path = dir_data + \"/train_segmentation/\"\n",
        "isbi2016_training_path = dir_data + \"/train_images/\"\n",
        "image_writing_folder = 'Im_Writing/'\n",
        "dir_seg_test = dir_data + \"/test_segmentation/\"\n",
        "dir_img_test = dir_data + \"/test_images/\"\n",
        "\n",
        "\n"
      ],
      "execution_count": null,
      "outputs": [
        {
          "output_type": "stream",
          "text": [
            "Mounted at /content/drive\n",
            " Im_Writing\t\t\t\t   'ph2 dataset'   unet.h5\n",
            " ISBI2016_ISIC_Part1_Training_Data\t    short_x\n",
            " ISBI2016_ISIC_Part1_Training_GroundTruth   short_y\n"
          ],
          "name": "stdout"
        }
      ]
    },
    {
      "cell_type": "code",
      "metadata": {
        "colab": {
          "base_uri": "https://localhost:8080/"
        },
        "id": "9OxXYGyL_zZv",
        "outputId": "227d7751-0282-4232-e958-8ee72e405c39"
      },
      "source": [
        "#Murat\n",
        "\n",
        "from google.colab import drive\n",
        "drive.mount('/content/drive')\n",
        "import os\n",
        "os.chdir(\"/content/drive/MyDrive/CENG501/\")\n",
        "!ls\n",
        "isbi2016_ground_truth_path = \"ISBI2016_ISIC_Part1_Training_GroundTruth/\"\n",
        "isbi2016_training_path = \"ISBI2016_ISIC_Part1_Training_Data/\"\n",
        "image_writing_folder = 'Im_Writing/'\n"
      ],
      "execution_count": null,
      "outputs": [
        {
          "output_type": "stream",
          "text": [
            "Drive already mounted at /content/drive; to attempt to forcibly remount, call drive.mount(\"/content/drive\", force_remount=True).\n",
            " Im_Writing\t\t\t\t   'ph2 dataset'   unet.h5\n",
            " ISBI2016_ISIC_Part1_Training_Data\t    short_x\n",
            " ISBI2016_ISIC_Part1_Training_GroundTruth   short_y\n"
          ],
          "name": "stdout"
        }
      ]
    },
    {
      "cell_type": "code",
      "metadata": {
        "id": "gxg6M6dNAGt6"
      },
      "source": [
        "def mean_iou2(yt0, yp0):\n",
        "  inter = tf.math.count_nonzero(tf.logical_and(tf.equal(yt0, 1), tf.equal(yp0, 1)))\n",
        "  union = tf.math.count_nonzero(tf.add(yt0, yp0))\n",
        "  iou = tf.where(tf.equal(union, 0), 1., tf.cast(inter/union, 'float32'))\n",
        "  return iou\n",
        "\n",
        "def mean_iou(y_true, y_pred):\n",
        "    yt0 = y_true[:,:,:,0]\n",
        "    yp0 = K.cast(y_pred[:,:,:,0] > 0.5, 'float32')\n",
        "    inter = tf.math.count_nonzero(tf.logical_and(tf.equal(yt0, 1), tf.equal(yp0, 1)))\n",
        "    union = tf.math.count_nonzero(tf.add(yt0, yp0))\n",
        "    iou = tf.where(tf.equal(union, 0), 1., tf.cast(inter/union, 'float32'))\n",
        "    return iou\n"
      ],
      "execution_count": null,
      "outputs": []
    },
    {
      "cell_type": "code",
      "metadata": {
        "id": "aj85Px4C_2b1"
      },
      "source": [
        "def image_generator(files, sz = (256, 256)):\n",
        "  files = np.array(files)\n",
        "  #files.resize((int(len(files) / batch_size), batch_size)) \n",
        "  batches_x = []\n",
        "  batches_y = []\n",
        "\n",
        "  for f in files:\n",
        "    #get the masks. Note that masks are png files \n",
        "    mask = Image.open(isbi2016_ground_truth_path+ f )\n",
        "    #bpb_created_image = bpb_downsamples(mask)\n",
        "    #plt.imsave(image_writing_folder + 'mask.png', mask)\n",
        "    \n",
        "    mask = np.array(mask.resize(sz))\n",
        "    # print(mask[mask>0])\n",
        "\n",
        "    #preprocess the mask \n",
        "    #mask[mask != 0 ] = 1\n",
        "    #plt.imsave(image_writing_folder + 'mask2.png', mask)\n",
        "\n",
        "    batches_y.append(mask)\n",
        "\n",
        "    #preprocess the raw images \n",
        "    raw = Image.open(isbi2016_training_path + f'{f[:-17]}.jpg')\n",
        "    # print(isbi2016_training_path + f'{f[:-17]}.jpg')\n",
        "    raw = raw.resize(sz)\n",
        "    raw = np.array(raw)\n",
        "    #check the number of channels because some of the images are RGBA or GRAY\n",
        "    if len(raw.shape) == 2:\n",
        "      raw = np.stack((raw,)*3, axis=-1)\n",
        "    else:\n",
        "      raw = raw[:,:,0:3]\n",
        "    batches_x.append(raw)\n",
        "    #batch_x.append(np.concatenate((raw, bpb_created_image)))\n",
        "\n",
        "  #preprocess a batch of images and masks \n",
        "  batches_x = np.array(batches_x)/255.\n",
        "  batches_y = np.array(batches_y)\n",
        "  batches_y = np.expand_dims(batches_y,3)\n",
        "  return (batches_x, batches_y)\n",
        "\n"
      ],
      "execution_count": null,
      "outputs": []
    },
    {
      "cell_type": "code",
      "metadata": {
        "id": "B6ltszwW6Ehp"
      },
      "source": [
        "all_files = os.listdir(isbi2016_ground_truth_path)\n",
        "\n",
        "#split into training and testing\n",
        "train_files = all_files[0:30]\n",
        "(x,y) = image_generator(train_files)\n",
        "\n"
      ],
      "execution_count": null,
      "outputs": []
    },
    {
      "cell_type": "code",
      "metadata": {
        "id": "-UBKwW9X962b",
        "colab": {
          "base_uri": "https://localhost:8080/",
          "height": 160
        },
        "outputId": "e3852cff-ab2e-475f-e1bf-8a3432ce14f0"
      },
      "source": [
        "xt = x[0]\n",
        "yt = y[0]\n",
        "\n",
        "plt.axis('off')\n",
        "img = np.copy(xt)\n",
        "msk = np.copy(yt.squeeze())\n",
        "msk = np.stack((msk,)*3, axis=-1)\n",
        "msk[msk != 0] = 1\n",
        "plt.imshow( np.concatenate([img, msk, img*msk], axis = 1))\n",
        "#plt.imsave(image_writing_folder + 'file.jpg', np.concatenate([img, msk, img*msk], axis = 1))\n",
        "\n"
      ],
      "execution_count": null,
      "outputs": [
        {
          "output_type": "execute_result",
          "data": {
            "text/plain": [
              "<matplotlib.image.AxesImage at 0x7f5d1453d8d0>"
            ]
          },
          "metadata": {
            "tags": []
          },
          "execution_count": 7
        },
        {
          "output_type": "display_data",
          "data": {
            "image/png": "[encoded data removed]",
            "text/plain": [
              "<Figure size 432x288 with 1 Axes>"
            ]
          },
          "metadata": {
            "tags": [],
            "needs_background": "light"
          }
        }
      ]
    },
    {
      "cell_type": "code",
      "metadata": {
        "id": "wzcp92ipE4X4"
      },
      "source": [
        "#from Stackoverflow\n",
        "def ccw_sort(p):\n",
        "    p = np.array(p)\n",
        "    mean = np.mean(p,axis=0)\n",
        "    d = p-mean\n",
        "    s = np.arctan2(d[:,0], d[:,1])\n",
        "    return p[np.argsort(s),:]\n"
      ],
      "execution_count": null,
      "outputs": []
    },
    {
      "cell_type": "code",
      "metadata": {
        "id": "_Mo1leq3GEQG"
      },
      "source": [
        "def boundary_map_loss_function(y_true, y_pred):\n",
        "  y_true += 0.00001\n",
        "  y_pred += 0.00001\n",
        "  res = -y_true * tf.math.log(y_pred) - (1-tf.math.log(y_pred)) * (1-y_true)\n",
        "  return res\n",
        "  "
      ],
      "execution_count": null,
      "outputs": []
    },
    {
      "cell_type": "code",
      "metadata": {
        "id": "wxbe4KZ3ErO_"
      },
      "source": [
        "sz = (256, 256)\n",
        "T = 1 #number of iterations\n",
        "n = 10 # number of points\n",
        "\n",
        "def bpb_downsamples(images):\n",
        "  result_arr =[]\n",
        "  counter = 0\n",
        "  for SGT in images:\n",
        "    edges = cv.Canny(SGT, 100, 200)\n",
        "    edges[edges != 0] = 1\n",
        "\n",
        "    nonzero_edges = np.nonzero(edges)\n",
        "    contours = [ (nonzero_edges[1][i], nonzero_edges[0][i]) for i in range(len(nonzero_edges[1])) ]\n",
        "    iou_best_image = None\n",
        "    iou_best_image_tensor = None\n",
        "    iou_best_val = tf.constant([0.0])\n",
        "    for j in range(T):\n",
        "      random_indices = np.random.randint(len(contours), size=n)\n",
        "      points = np.zeros((n,2))\n",
        "      for i in range(n):\n",
        "        index = random_indices[i]\n",
        "        points[i] = contours[index]\n",
        "\n",
        "      points = ccw_sort(points)\n",
        "      \n",
        "      points = [tuple(point) for point in points]\n",
        "      img = Image.new(\"RGB\", sz, '#000')\n",
        "      img1 = ImageDraw.Draw(img)\n",
        "      img1.polygon(points, fill =\"#fff\", outline =\"#fff\") \n",
        "\n",
        "      y_pred = tf.keras.preprocessing.image.img_to_array(img)\n",
        "      \n",
        "      y_true = SGT\n",
        "      y_true[y_true!=0] = 1\n",
        "      y_pred[y_pred!=0] = 1\n",
        "      iou_val = mean_iou2(y_pred, y_true)\n",
        "\n",
        "      if tf.math.greater(iou_val, iou_best_val):\n",
        "        iou_best_image = img\n",
        "        iou_best_val = iou_val\n",
        "        iou_best_image_tensor = y_pred \n",
        "    result_arr.append(iou_best_image_tensor)\n",
        "  return result_arr\n"
      ],
      "execution_count": null,
      "outputs": []
    },
    {
      "cell_type": "code",
      "metadata": {
        "id": "jD9zohPclOEJ"
      },
      "source": [
        "created_images = bpb_downsamples(np.array(y))"
      ],
      "execution_count": null,
      "outputs": []
    },
    {
      "cell_type": "code",
      "metadata": {
        "id": "w7PUZtAmANYE"
      },
      "source": [
        "# model ve callback methodları burda\n",
        "def unet_plus_segmentation_net(sz = ( 256, 256, 3)):\n",
        "  x = Input(sz)\n",
        "  inputs = x\n",
        "  \n",
        "  f = 8\n",
        "  layers = []\n",
        "  outs_arr = []\n",
        "  for i in range(0, 6):\n",
        "    x = Conv2D(f, 3, activation='relu', padding='same') (x)\n",
        "    x = Conv2D(f, 3, activation='relu', padding='same') (x)\n",
        "\n",
        "    out1 = Conv2D(f, 1, dilation_rate=1, padding='same', activation='relu')(x)\n",
        "    out2 = Conv2D(f, 3, dilation_rate=1, padding='same', activation='relu')(x)\n",
        "    out3 = Conv2D(f, 3, dilation_rate=2, padding='same', activation='relu')(x)\n",
        "    out4 = Conv2D(f, 3, dilation_rate=4, padding='same', activation='relu')(x)\n",
        "    out5 = Conv2D(f, 3, dilation_rate=6, padding='same', activation='relu')(x)\n",
        "\n",
        "    temp = Concatenate()([out1, out2, out3, out4, out5])\n",
        "\n",
        "    out  = Conv2D(1, 1, dilation_rate=1, padding='same', activation='sigmoid')(temp)\n",
        "    outs_arr.append(out)\n",
        "    temp = Multiply()([x, out])\n",
        "    x = Add()([temp, x])\n",
        "    layers.append(x)\n",
        "    x = MaxPooling2D() (out)\n",
        "    f = f*2\n",
        "  ff2 = 64 \n",
        "\n",
        "\n",
        "  #bottleneck \n",
        "  j = len(layers) - 1\n",
        "  x = Conv2D(f, 3, activation='relu', padding='same') (x)\n",
        "  x = Conv2D(f, 3, activation='relu', padding='same') (x)\n",
        "  \n",
        "  out1 = Conv2D(f, 1, dilation_rate=1, padding='same', activation='relu')(x)\n",
        "  out2 = Conv2D(f, 3, dilation_rate=1, padding='same', activation='relu')(x)\n",
        "  out3 = Conv2D(f, 3, dilation_rate=2, padding='same', activation='relu')(x)\n",
        "  out4 = Conv2D(f, 3, dilation_rate=4, padding='same', activation='relu')(x)\n",
        "  out5 = Conv2D(f, 3, dilation_rate=6, padding='same', activation='relu')(x)\n",
        "\n",
        "  temp = Concatenate()([out1, out2, out3, out4, out5])\n",
        "\n",
        "  out  = Conv2D(1, 1, dilation_rate=1, padding='same', activation='sigmoid')(temp)\n",
        "  outs_arr.append(out)\n",
        "  temp = Multiply()([x, out])\n",
        "  x = Add()([temp, x])\n",
        "  x = Conv2DTranspose(ff2, 2, strides=(2, 2), padding='same') (x)\n",
        "  x = Concatenate(axis=3)([x, layers[j]])\n",
        "  j = j -1 \n",
        "\n",
        "  #upsampling \n",
        "  for i in range(0, 5):\n",
        "    ff2 = ff2//2\n",
        "    f = f // 2 \n",
        "    x = Conv2D(f, 3, activation='relu', padding='same') (x)\n",
        "    x = Conv2D(f, 3, activation='relu', padding='same') (x)\n",
        "    out1 = Conv2D(f, 1, dilation_rate=1, padding='same', activation='relu')(x)\n",
        "    out2 = Conv2D(f, 3, dilation_rate=1, padding='same', activation='relu')(x)\n",
        "    out3 = Conv2D(f, 3, dilation_rate=2, padding='same', activation='relu')(x)\n",
        "    out4 = Conv2D(f, 3, dilation_rate=4, padding='same', activation='relu')(x)\n",
        "    out5 = Conv2D(f, 3, dilation_rate=6, padding='same', activation='relu')(x)\n",
        "\n",
        "    temp = Concatenate()([out1, out2, out3, out4, out5])\n",
        "\n",
        "    out  = Conv2D(1, 1, dilation_rate=1, padding='same', activation='sigmoid')(temp)\n",
        "    outs_arr.append(out)\n",
        "    temp = Multiply()([x, out])\n",
        "    x = Add()([temp, x])\n",
        "    x = Conv2DTranspose(ff2, 2, strides=(2, 2), padding='same') (x)\n",
        "    x = Concatenate(axis=3)([x, layers[j]])\n",
        "    j = j -1 \n",
        "\n",
        "  #classification \n",
        "  x = Conv2D(f, 3, activation='relu', padding='same') (x)\n",
        "  x = Conv2D(f, 3, activation='relu', padding='same') (x)\n",
        "  outputs = Conv2D(1, 1, activation='sigmoid') (x)\n",
        "  outs_arr.append(outputs)\n",
        "  outs_arr.append(outputs)\n",
        "  #model creation \n",
        "  model = Model(inputs=[inputs], outputs=outs_arr)\n",
        "  model.compile(optimizer = 'adam', loss = [boundary_map_loss_function] * 12 + ['binary_crossentropy'] + [sbe_loss_true], metrics = [mean_iou])\n",
        "\n",
        "  return model\n",
        "\n",
        "def build_callbacks():\n",
        "  checkpointer = ModelCheckpoint(filepath='unet.h5', verbose=0, save_best_only=True, save_weights_only=True)\n",
        "  callbacks = [checkpointer, PlotLearning()]\n",
        "  return callbacks\n",
        "\n",
        "# inheritance for training process plot \n",
        "class PlotLearning(keras.callbacks.Callback):\n",
        "  def on_train_begin(self, logs={}):\n",
        "    self.i = 0\n",
        "    self.x = []\n",
        "    self.losses = []\n",
        "    self.val_losses = []\n",
        "    self.acc = []\n",
        "    self.val_acc = []\n",
        "    #self.fig = plt.figure()\n",
        "    self.logs = []\n",
        "  def on_epoch_end(self, epoch, logs={}):\n",
        "    print(logs)\n",
        "    self.logs.append(logs)\n",
        "    self.x.append(self.i)\n",
        "    self.losses.append(logs.get('loss'))\n",
        "    self.val_losses.append(logs.get('val_loss'))\n",
        "    self.acc.append(logs.get('mean_iou'))\n",
        "    self.val_acc.append(logs.get('val_mean_iou'))\n",
        "    self.i += 1\n",
        "    print('i=',self.i,'loss=',logs.get('loss'),'val_loss=',logs.get('val_loss'),'mean_iou=',logs.get('mean_iou'),'val_mean_iou=',logs.get('val_mean_iou'))\n",
        "\n",
        "\n",
        "\n"
      ],
      "execution_count": null,
      "outputs": []
    },
    {
      "cell_type": "code",
      "metadata": {
        "id": "xT2kC22Ln4va"
      },
      "source": [
        "def sbe_loss_general(y_true, y_pred):\n",
        "  return -tf.math.log(1-y_pred+ 0.00001)-tf.math.log(y_pred + 0.00001)\n",
        "\n",
        "def sbe_loss_true(y_true, y_pred):\n",
        "  return -tf.math.log(y_pred + 0.00001)"
      ],
      "execution_count": null,
      "outputs": []
    },
    {
      "cell_type": "code",
      "metadata": {
        "id": "aQqbsH9VAQyz"
      },
      "source": [
        "# training burda başlıyor. \n",
        "unet_bpb = unet_plus_segmentation_net()\n",
        "unet_bpb.summary()"
      ],
      "execution_count": null,
      "outputs": []
    },
    {
      "cell_type": "code",
      "metadata": {
        "id": "hqYv9YisnClV"
      },
      "source": [
        "def sbe_net(sz=(256,256, 2)):\n",
        "  x = Input(sz)#Concatenate()([Spred, MGT])\n",
        "  inp = x\n",
        "  f = 4\n",
        "  for i in range(0, 4):\n",
        "    f *= 2\n",
        "    x = Conv2D(f, 3, activation='relu', padding='same') (x)\n",
        "    x = Conv2D(f, 3, activation='relu', padding='same') (x)\n",
        "    x = MaxPooling2D()(x)\n",
        "  \n",
        "  x = Conv2D(f, 3, activation='relu', padding='same') (x)\n",
        "  x = Conv2D(f, 3, activation='relu', padding='same') (x)\n",
        "  x = GlobalAveragePooling2D()(x)\n",
        "  out = Dense(1, activation='sigmoid')(x)\n",
        "\n",
        "\n",
        "  #model creation \n",
        "  model = Model(inputs=[inp], outputs=[out])\n",
        "  model.compile(optimizer = 'adam', loss = [sbe_loss_general])\n",
        "\n",
        "  return model"
      ],
      "execution_count": null,
      "outputs": []
    },
    {
      "cell_type": "code",
      "metadata": {
        "id": "kqJ3aNaguG87",
        "colab": {
          "base_uri": "https://localhost:8080/"
        },
        "outputId": "efb0fad6-61c5-4028-aed4-1a54bb798973"
      },
      "source": [
        "sbe_ = sbe_net()\n",
        "sbe_.summary()"
      ],
      "execution_count": null,
      "outputs": [
        {
          "output_type": "stream",
          "text": [
            "Model: \"model_1\"\n",
            "_________________________________________________________________\n",
            "Layer (type)                 Output Shape              Param #   \n",
            "=================================================================\n",
            "input_2 (InputLayer)         [(None, 256, 256, 2)]     0         \n",
            "_________________________________________________________________\n",
            "conv2d_99 (Conv2D)           (None, 256, 256, 8)       152       \n",
            "_________________________________________________________________\n",
            "conv2d_100 (Conv2D)          (None, 256, 256, 8)       584       \n",
            "_________________________________________________________________\n",
            "max_pooling2d_6 (MaxPooling2 (None, 128, 128, 8)       0         \n",
            "_________________________________________________________________\n",
            "conv2d_101 (Conv2D)          (None, 128, 128, 16)      1168      \n",
            "_________________________________________________________________\n",
            "conv2d_102 (Conv2D)          (None, 128, 128, 16)      2320      \n",
            "_________________________________________________________________\n",
            "max_pooling2d_7 (MaxPooling2 (None, 64, 64, 16)        0         \n",
            "_________________________________________________________________\n",
            "conv2d_103 (Conv2D)          (None, 64, 64, 32)        4640      \n",
            "_________________________________________________________________\n",
            "conv2d_104 (Conv2D)          (None, 64, 64, 32)        9248      \n",
            "_________________________________________________________________\n",
            "max_pooling2d_8 (MaxPooling2 (None, 32, 32, 32)        0         \n",
            "_________________________________________________________________\n",
            "conv2d_105 (Conv2D)          (None, 32, 32, 64)        18496     \n",
            "_________________________________________________________________\n",
            "conv2d_106 (Conv2D)          (None, 32, 32, 64)        36928     \n",
            "_________________________________________________________________\n",
            "max_pooling2d_9 (MaxPooling2 (None, 16, 16, 64)        0         \n",
            "_________________________________________________________________\n",
            "conv2d_107 (Conv2D)          (None, 16, 16, 64)        36928     \n",
            "_________________________________________________________________\n",
            "conv2d_108 (Conv2D)          (None, 16, 16, 64)        36928     \n",
            "_________________________________________________________________\n",
            "global_average_pooling2d (Gl (None, 64)                0         \n",
            "_________________________________________________________________\n",
            "dense (Dense)                (None, 1)                 65        \n",
            "=================================================================\n",
            "Total params: 147,457\n",
            "Trainable params: 147,457\n",
            "Non-trainable params: 0\n",
            "_________________________________________________________________\n"
          ],
          "name": "stdout"
        }
      ]
    },
    {
      "cell_type": "code",
      "metadata": {
        "id": "6zMpte_IAStD"
      },
      "source": [
        "created_images = bpb_downsamples(y)"
      ],
      "execution_count": null,
      "outputs": []
    },
    {
      "cell_type": "code",
      "metadata": {
        "id": "qrZt5ADjZfLL"
      },
      "source": [
        "down_samples = [np.zeros((900, 256, 256, 1)), \n",
        "                np.zeros((900, 128, 128, 1)),\n",
        "                np.zeros((900, 64, 64, 1)),\n",
        "                np.zeros((900, 32, 32, 1)),\n",
        "                np.zeros((900, 16, 16, 1)),\n",
        "                np.zeros((900, 8, 8, 1)),\n",
        "                np.zeros((900, 4, 4, 1)),\n",
        "                np.zeros((900, 8, 8, 1)),\n",
        "                np.zeros((900, 16, 16, 1)),\n",
        "                np.zeros((900, 32, 32, 1)),\n",
        "                np.zeros((900, 64, 64, 1)),\n",
        "                np.zeros((900, 128, 128, 1))]\n"
      ],
      "execution_count": null,
      "outputs": []
    },
    {
      "cell_type": "code",
      "metadata": {
        "id": "NjYlKLo78c_B"
      },
      "source": [
        "for j, created_image in enumerate(created_images):\n",
        "  created_image = created_image[:,:,0]\n",
        "  for i in range(6):\n",
        "    down_samples[i][j,:,:,0] = created_image\n",
        "    created_image = block_reduce(created_image, block_size=(2,2), func=np.max, cval=np.max(created_image))\n",
        "    down_samples[11-i][j,:,:,0] = created_image\n",
        "  down_samples[6][j,:,:,0] = created_image\n",
        "\n",
        "y[y==0] = 1\n",
        "\n"
      ],
      "execution_count": null,
      "outputs": []
    },
    {
      "cell_type": "code",
      "metadata": {
        "id": "yuSjp5WvqIs_"
      },
      "source": [
        "all_MGT = np.array(created_images)[:,:,:,0:1]\n",
        "\n",
        "del created_images\n",
        "real_inp = np.concatenate([y, all_MGT], axis=3)\n",
        "\n",
        "out_size = all_MGT.shape[0]\n",
        "\n"
      ],
      "execution_count": null,
      "outputs": []
    },
    {
      "cell_type": "code",
      "metadata": {
        "id": "GL6cryEFmrrg",
        "colab": {
          "base_uri": "https://localhost:8080/",
          "height": 232
        },
        "outputId": "9347a5e0-ae64-4b1d-ee1a-c840987248ab"
      },
      "source": [
        "# firstly noise, then generator value\n",
        "all_Spred = np.random.rand(out_size, 256, 256, 1)\n",
        "\n",
        "fake_inp = np.concatenate([all_Spred, all_MGT], axis=3)\n",
        "x = np.concatenate([real_inp, fake_inp], axis=0)\n",
        "y = np.concatenate([tf.ones(out_size), tf.zeros(out_size)])\n",
        "\n",
        "sbe_.fit(x = np.copy(x), y = y,  epochs = 1, batch_size=1, validation_split=0.05, verbose = 0)\n",
        "discrimination = sbe_.predict(x)\n",
        "print(discrimination.numpy())\n",
        "\n",
        "unet_bpb.fit(x = x, y = down_samples + [y] + discrimination,  epochs = 1, batch_size=1, validation_split=0.05, verbose = 0)\n",
        "all_Spred = unet_bpb.predict()\n",
        "\n"
      ],
      "execution_count": null,
      "outputs": [
        {
          "output_type": "error",
          "ename": "AttributeError",
          "evalue": "ignored",
          "traceback": [
            "\u001b[0;31m---------------------------------------------------------------------------\u001b[0m",
            "\u001b[0;31mAttributeError\u001b[0m                            Traceback (most recent call last)",
            "\u001b[0;32m<ipython-input-21-2e5312fac306>\u001b[0m in \u001b[0;36m<module>\u001b[0;34m()\u001b[0m\n\u001b[1;32m      8\u001b[0m \u001b[0msbe_\u001b[0m\u001b[0;34m.\u001b[0m\u001b[0mfit\u001b[0m\u001b[0;34m(\u001b[0m\u001b[0mx\u001b[0m \u001b[0;34m=\u001b[0m \u001b[0mnp\u001b[0m\u001b[0;34m.\u001b[0m\u001b[0mcopy\u001b[0m\u001b[0;34m(\u001b[0m\u001b[0mx\u001b[0m\u001b[0;34m)\u001b[0m\u001b[0;34m,\u001b[0m \u001b[0my\u001b[0m \u001b[0;34m=\u001b[0m \u001b[0my\u001b[0m\u001b[0;34m,\u001b[0m  \u001b[0mepochs\u001b[0m \u001b[0;34m=\u001b[0m \u001b[0;36m1\u001b[0m\u001b[0;34m,\u001b[0m \u001b[0mbatch_size\u001b[0m\u001b[0;34m=\u001b[0m\u001b[0;36m1\u001b[0m\u001b[0;34m,\u001b[0m \u001b[0mvalidation_split\u001b[0m\u001b[0;34m=\u001b[0m\u001b[0;36m0.05\u001b[0m\u001b[0;34m,\u001b[0m \u001b[0mverbose\u001b[0m \u001b[0;34m=\u001b[0m \u001b[0;36m0\u001b[0m\u001b[0;34m)\u001b[0m\u001b[0;34m\u001b[0m\u001b[0;34m\u001b[0m\u001b[0m\n\u001b[1;32m      9\u001b[0m \u001b[0mdiscrimination\u001b[0m \u001b[0;34m=\u001b[0m \u001b[0msbe_\u001b[0m\u001b[0;34m.\u001b[0m\u001b[0mpredict\u001b[0m\u001b[0;34m(\u001b[0m\u001b[0mx\u001b[0m\u001b[0;34m)\u001b[0m\u001b[0;34m\u001b[0m\u001b[0;34m\u001b[0m\u001b[0m\n\u001b[0;32m---> 10\u001b[0;31m \u001b[0mprint\u001b[0m\u001b[0;34m(\u001b[0m\u001b[0mdiscrimination\u001b[0m\u001b[0;34m.\u001b[0m\u001b[0mnumpy\u001b[0m\u001b[0;34m(\u001b[0m\u001b[0;34m)\u001b[0m\u001b[0;34m)\u001b[0m\u001b[0;34m\u001b[0m\u001b[0;34m\u001b[0m\u001b[0m\n\u001b[0m\u001b[1;32m     11\u001b[0m \u001b[0;34m\u001b[0m\u001b[0m\n\u001b[1;32m     12\u001b[0m \u001b[0munet_bpb\u001b[0m\u001b[0;34m.\u001b[0m\u001b[0mfit\u001b[0m\u001b[0;34m(\u001b[0m\u001b[0mx\u001b[0m \u001b[0;34m=\u001b[0m \u001b[0mx\u001b[0m\u001b[0;34m,\u001b[0m \u001b[0my\u001b[0m \u001b[0;34m=\u001b[0m \u001b[0mdown_samples\u001b[0m \u001b[0;34m+\u001b[0m \u001b[0;34m[\u001b[0m\u001b[0my\u001b[0m\u001b[0;34m]\u001b[0m \u001b[0;34m+\u001b[0m \u001b[0mdiscrimination\u001b[0m\u001b[0;34m,\u001b[0m  \u001b[0mepochs\u001b[0m \u001b[0;34m=\u001b[0m \u001b[0;36m1\u001b[0m\u001b[0;34m,\u001b[0m \u001b[0mbatch_size\u001b[0m\u001b[0;34m=\u001b[0m\u001b[0;36m1\u001b[0m\u001b[0;34m,\u001b[0m \u001b[0mvalidation_split\u001b[0m\u001b[0;34m=\u001b[0m\u001b[0;36m0.05\u001b[0m\u001b[0;34m,\u001b[0m \u001b[0mverbose\u001b[0m \u001b[0;34m=\u001b[0m \u001b[0;36m0\u001b[0m\u001b[0;34m)\u001b[0m\u001b[0;34m\u001b[0m\u001b[0;34m\u001b[0m\u001b[0m\n",
            "\u001b[0;31mAttributeError\u001b[0m: 'numpy.ndarray' object has no attribute 'numpy'"
          ]
        }
      ]
    },
    {
      "cell_type": "code",
      "metadata": {
        "id": "YEx9ZdV1FpxE"
      },
      "source": [
        "t = down_samples[5][0]\n",
        "print(t.shape)\n",
        "\n",
        "t.resize((8,8))\n",
        "plt.imshow(t)"
      ],
      "execution_count": null,
      "outputs": []
    },
    {
      "cell_type": "code",
      "metadata": {
        "id": "OYBkpmzhQQqV"
      },
      "source": [
        "Spred = model.predict(np.expand_dims(train_batches[2], 0))[12]\n"
      ],
      "execution_count": null,
      "outputs": []
    },
    {
      "cell_type": "code",
      "metadata": {
        "id": "ESNWQ89KAWUM"
      },
      "source": [
        "# prediction burda başlıyor\n",
        "\n",
        "any_test_image = 'ph2 dataset/PH2 Dataset images/IMD003/IMD003_Dermoscopic_Image/IMD003.bmp'\n",
        "\n",
        "raw = Image.open(any_test_image)\n",
        "raw = np.array(raw.resize((256, 256)))/255.\n",
        "raw = raw[:,:,0:3]\n",
        "\n",
        "#predict the mask \n",
        "pred = model.predict(np.expand_dims(raw, 0))[12]\n",
        "pred.resize(256,256)\n",
        "print(pred.shape)\n",
        "#mask post-processing \n",
        "msk  = pred.squeeze()\n",
        "msk = np.stack((msk,)*3, axis=-1)\n",
        "\n",
        "msk[msk >= 0.5] = 1 \n",
        "msk[msk < 0.5] = 0 \n",
        "\n",
        "#show the mask and the segmented image \n",
        "combined = np.concatenate([raw, msk, raw* msk], axis = 1)\n",
        "plt.axis('off')\n",
        "plt.imshow(combined)\n",
        "plt.show()\n"
      ],
      "execution_count": null,
      "outputs": []
    }
  ]
}