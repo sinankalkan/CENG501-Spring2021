{
  "nbformat": 4,
  "nbformat_minor": 0,
  "metadata": {
    "colab": {
      "name": "figure4_middle_update.ipynb",
      "provenance": [],
      "collapsed_sections": [],
      "toc_visible": true
    },
    "kernelspec": {
      "display_name": "Python 3",
      "language": "python",
      "name": "python3"
    },
    "language_info": {
      "codemirror_mode": {
        "name": "ipython",
        "version": 3
      },
      "file_extension": ".py",
      "mimetype": "text/x-python",
      "name": "python",
      "nbconvert_exporter": "python",
      "pygments_lexer": "ipython3",
      "version": "3.7.10"
    },
    "accelerator": "GPU"
  },
  "cells": [
    {
      "cell_type": "markdown",
      "metadata": {
        "id": "IHaPpuziz7fo"
      },
      "source": [
        "# Obtaining Figure 4"
      ]
    },
    {
      "cell_type": "markdown",
      "metadata": {
        "id": "rryEOZFBhjU7"
      },
      "source": [
        "#Trainer, Data Loader and some other functions"
      ]
    },
    {
      "cell_type": "code",
      "metadata": {
        "id": "e94Imr2n-64y"
      },
      "source": [
        "import torch\n",
        "import torchvision\n",
        "import torchvision.transforms as transforms\n",
        "import numpy as np\n",
        "import matplotlib.pyplot as plt\n",
        "from sklearn.feature_extraction import image"
      ],
      "execution_count": 44,
      "outputs": []
    },
    {
      "cell_type": "code",
      "metadata": {
        "id": "lY-6daK-z7Dm"
      },
      "source": [
        "def get_cifar10_loaders(batch_size, partial=None, random=None):\n",
        "  transform = transforms.Compose(\n",
        "      [transforms.ToTensor(),\n",
        "      transforms.Normalize((0.5, 0.5, 0.5), (0.5, 0.5, 0.5))])\n",
        "\n",
        "  trainset = torchvision.datasets.CIFAR10(root='./data', train=True,\n",
        "                                          download=True, transform=transform)\n",
        "  \n",
        "  if random is not None:\n",
        "    np.random.seed(12345)\n",
        "    temp = np.random.randint(10, size=len(trainset))\n",
        "    trainset.targets = [int(label) for label in temp]\n",
        "  if partial is not None:\n",
        "    indices = np.arange(0,len(trainset))\n",
        "    np.random.seed(12345)\n",
        "    np.random.shuffle(indices)\n",
        "    trainloader = torch.utils.data.DataLoader(trainset, batch_size=batch_size,\n",
        "                                              shuffle=False, sampler=torch.utils.data.SubsetRandomSampler(indices[:partial]))\n",
        "  else:\n",
        "    trainloader = torch.utils.data.DataLoader(trainset, batch_size=batch_size,\n",
        "                                              shuffle=True)\n",
        "\n",
        "  testset = torchvision.datasets.CIFAR10(root='./data', train=False,\n",
        "                                        download=True, transform=transform)\n",
        "  testloader = torch.utils.data.DataLoader(testset, batch_size=batch_size,\n",
        "                                          shuffle=False)\n",
        "  return trainloader, testloader"
      ],
      "execution_count": 45,
      "outputs": []
    },
    {
      "cell_type": "code",
      "metadata": {
        "id": "8X6F8Ism0CA9"
      },
      "source": [
        "from sklearn.feature_extraction import image\n",
        "\n",
        "def create_patches_data(trainloader, patch_size):\n",
        "  # 32x32 images in CIFAR10, stride is 1\n",
        "  num_patches_per_image = ((32 - patch_size + 1)**2)\n",
        "  # 3 channels  \n",
        "  flattened_patches_length = (patch_size**2) * 3\n",
        "  data_matrix = None\n",
        "  batch = 1\n",
        "  patches_list = []\n",
        "  for data in trainloader:\n",
        "    inputs, labels = data\n",
        "    for i in range(len(inputs)):\n",
        "      img = inputs[i]\n",
        "      img = img.permute(1,2,0)\n",
        "      patches = image.extract_patches_2d(img, (patch_size, patch_size))\n",
        "      patches_list.append(patches)\n",
        "    batch+=1\n",
        "  patches_list = np.stack(patches_list, axis=0)\n",
        "  print(patches_list.shape)\n",
        "  data_matrix = np.reshape(patches_list, (-1, flattened_patches_length))\n",
        "  print(data_matrix.shape)\n",
        "  return data_matrix"
      ],
      "execution_count": 48,
      "outputs": []
    },
    {
      "cell_type": "code",
      "metadata": {
        "colab": {
          "base_uri": "https://localhost:8080/"
        },
        "id": "umW-1MlL0HlR",
        "outputId": "74cef7d6-a271-4556-8696-df79ea91f7a9"
      },
      "source": [
        "from numpy import linalg as LA\n",
        "\n",
        "def create_eigs(data):\n",
        "  cov_matrix = np.cov(data , rowvar=False)\n",
        "  w, v = LA.eig(cov_matrix)\n",
        "  return w,v\n",
        "\n",
        "patch_size = 3\n",
        "trainloader, _ = get_cifar10_loaders(256, partial=30000, random=True)\n",
        "patches_data = create_patches_data(trainloader, patch_size)\n",
        "eig_vals, eig_vecs = create_eigs(patches_data)"
      ],
      "execution_count": 49,
      "outputs": [
        {
          "output_type": "stream",
          "text": [
            "Files already downloaded and verified\n",
            "Files already downloaded and verified\n",
            "(30000, 900, 3, 3, 3)\n",
            "(27000000, 27)\n"
          ],
          "name": "stdout"
        }
      ]
    },
    {
      "cell_type": "code",
      "metadata": {
        "id": "bNzeeu-P0KC5"
      },
      "source": [
        "\n",
        "from torch import nn\n",
        "import math\n",
        "\n",
        "class SimpleCNN(nn.Module):\n",
        "  def __init__(self):\n",
        "    super(SimpleCNN, self).__init__()\n",
        "    \n",
        "    self.conv = nn.Conv2d(in_channels=3, out_channels=256, \n",
        "                        kernel_size=3, stride=1, padding=0)\n",
        "    last_size = 30*30*256\n",
        "    self.fc = nn.Linear(last_size, 64)\n",
        "    self.classifier = nn.Linear(64, 10)\n",
        "\n",
        "  def forward(self, x):\n",
        "    forward = nn.Sequential(self.conv, nn.ReLU(),\n",
        "                            nn.Flatten(),\n",
        "                            self.fc, nn.ReLU(),\n",
        "                            self.classifier)\n",
        "    x = forward(x)\n",
        "    return x"
      ],
      "execution_count": 50,
      "outputs": []
    },
    {
      "cell_type": "code",
      "metadata": {
        "id": "6ySQY6dY0L4G"
      },
      "source": [
        "from scipy.stats import ortho_group\n",
        "np.random.seed(seed=12345)\n",
        "random_basis = ortho_group.rvs(27)"
      ],
      "execution_count": 51,
      "outputs": []
    },
    {
      "cell_type": "code",
      "metadata": {
        "id": "2gmXKzvr0NtK"
      },
      "source": [
        "from numpy.linalg import multi_dot\n",
        "from numpy.linalg import inv\n",
        "\n",
        "def calculate_misalignment(data_eig_vecs, weights):\n",
        "  weights = np.reshape(weights, (weights.shape[0], -1))\n",
        "  cov_weights = np.cov(weights , rowvar=False)\n",
        "  res = 0\n",
        "  for i in range(data_eig_vecs.shape[0]):\n",
        "    a = multi_dot([data_eig_vecs[:,i].T, cov_weights, data_eig_vecs[:,i]])\n",
        "    b = multi_dot([data_eig_vecs[:,i].T, inv(cov_weights), data_eig_vecs[:,i]])\n",
        "    res += np.sqrt(a*b) - 1\n",
        "  return res\n",
        "\n",
        "def train(model, criterion, optimizer, epochs, dataloader, device, scheduler=None, verbose=True):\n",
        "  loss_history = []\n",
        "  misalignments_real = []\n",
        "  misalignments_random = []\n",
        "  for epoch in range(epochs):\n",
        "    for i, data in enumerate(dataloader, 0):     \n",
        "      inputs, labels = data\n",
        "      inputs = inputs.to(device)\n",
        "      labels = labels.to(device)\n",
        "\n",
        "      optimizer.zero_grad()\n",
        "\n",
        "      outputs = model(inputs)\n",
        "\n",
        "      loss = criterion(outputs.to(device), labels)\n",
        "\n",
        "      loss.backward()\n",
        "\n",
        "      optimizer.step()\n",
        "\n",
        "      loss_history.append(loss.item())\n",
        "\n",
        "      weights = torch.clone(model.conv.weight).detach().numpy()\n",
        "      misalignments_real.append(calculate_misalignment(eig_vecs, weights))\n",
        "      misalignments_random.append(calculate_misalignment(random_basis, weights))\n",
        "\n",
        "    if verbose: print(f'Epoch {epoch} / {epochs}: avg. loss of last 5 iterations {np.sum(loss_history[:-6:-1])/5}')\n",
        "\n",
        "    if scheduler is not None:\n",
        "      scheduler.step()\n",
        "      print('Epoch:', epoch,'LR:', scheduler.get_last_lr())\n",
        "\n",
        "  return loss_history, misalignments_real, misalignments_random"
      ],
      "execution_count": 52,
      "outputs": []
    },
    {
      "cell_type": "code",
      "metadata": {
        "id": "IPzUn-Ft0PWK"
      },
      "source": [
        "\n",
        "import torch.optim as optim\n",
        "from torch.optim.lr_scheduler import StepLR\n",
        "\n",
        "def get_training_components(learnable_params, init_lr, step_size=None, gamma=None):\n",
        "  '''\n",
        "  Function to prepare components of the training. These are all the same\n",
        "  throughout the experiments made.\n",
        "  '''\n",
        "  # The problem always be a image classification\n",
        "  criterion = nn.CrossEntropyLoss()\n",
        "  # Which parameters to be updated depends on if the training is done from scratch\n",
        "  # or with pre-trained model.\n",
        "  optimizer = optim.SGD(learnable_params, lr=init_lr, momentum=0.9)\n",
        "  # Step size depends on the # of epoch\n",
        "  if step_size is not None:\n",
        "    scheduler = StepLR(optimizer, step_size, gamma)\n",
        "    return (criterion, optimizer, scheduler)\n",
        "  return (criterion, optimizer)\n",
        "\n",
        "def get_device():\n",
        "  if torch.cuda.is_available():\n",
        "    print(\"Cuda (GPU support) is available and enabled!\")\n",
        "    device = torch.device(\"cuda\")\n",
        "  else:\n",
        "    print(\"Cuda (GPU support) is not available :(\")\n",
        "    device = torch.device(\"cpu\")\n",
        "\n",
        "def get_learnable_parameters(model):\n",
        "  params_to_update = []\n",
        "  for name, param in model.named_parameters():\n",
        "    if param.requires_grad == True:\n",
        "      params_to_update.append(param)\n",
        "  return params_to_update"
      ],
      "execution_count": 53,
      "outputs": []
    },
    {
      "cell_type": "markdown",
      "metadata": {
        "id": "5lep4PMIhuGj"
      },
      "source": [
        "#Training 1 - 5 epochs"
      ]
    },
    {
      "cell_type": "code",
      "metadata": {
        "colab": {
          "base_uri": "https://localhost:8080/"
        },
        "id": "cce000tR0RYE",
        "outputId": "166a3fda-328c-4bf4-a0bf-452df3b678d4"
      },
      "source": [
        "# Misalignment between data and random-label-trained filters\n",
        "from torch import linalg as LA\n",
        "\n",
        "def init_weights_custom(param):\n",
        "  if (type(param) == nn.Conv2d or type(param) == nn.Linear):\n",
        "    fan = torch.nn.init._calculate_correct_fan(param.weight, mode='fan_in')\n",
        "    std = 0.526 / math.sqrt(fan)\n",
        "    with torch.no_grad():\n",
        "      param.weight.normal_(0, std)\n",
        "\n",
        "simple_cnn = SimpleCNN()\n",
        "#simple_cnn.apply(init_weights_custom)\n",
        "\n",
        "#trainloader, _ = get_cifar10_loaders(256, partial=1024*10, random=True)\n",
        "\n",
        "device = get_device()\n",
        "simple_cnn = simple_cnn.to(device)\n",
        "simple_cnn.train()\n",
        "epochs = 5 #Training to 5 epochs\n",
        "learning_rate = 0.001\n",
        "\n",
        "learnable_parameters = get_learnable_parameters(simple_cnn)\n",
        "criterion, optimizer, scheduler = get_training_components(learnable_parameters, learning_rate, step_size=40, gamma=1/3)\n",
        "loss_history, mis_eig_random_labels, mis_random_basis_random_labels = train(simple_cnn, criterion, optimizer, epochs, trainloader, device, scheduler=scheduler)"
      ],
      "execution_count": 54,
      "outputs": [
        {
          "output_type": "stream",
          "text": [
            "Cuda (GPU support) is available and enabled!\n",
            "Epoch 0 / 5: avg. loss of last 5 iterations 2.3012767791748048\n",
            "Epoch: 0 LR: [0.001]\n",
            "Epoch 1 / 5: avg. loss of last 5 iterations 2.3028838634490967\n",
            "Epoch: 1 LR: [0.001]\n",
            "Epoch 2 / 5: avg. loss of last 5 iterations 2.302583599090576\n",
            "Epoch: 2 LR: [0.001]\n",
            "Epoch 3 / 5: avg. loss of last 5 iterations 2.3005040168762205\n",
            "Epoch: 3 LR: [0.001]\n",
            "Epoch 4 / 5: avg. loss of last 5 iterations 2.3033687114715575\n",
            "Epoch: 4 LR: [0.001]\n"
          ],
          "name": "stdout"
        }
      ]
    },
    {
      "cell_type": "code",
      "metadata": {
        "id": "TedUgUBy1oUb"
      },
      "source": [
        "CNN_weights = np.reshape(simple_cnn.conv.weight.detach().numpy(), (simple_cnn.conv.weight.detach().numpy().shape[0], -1))"
      ],
      "execution_count": 55,
      "outputs": []
    },
    {
      "cell_type": "code",
      "metadata": {
        "id": "E_RLafRz1zta"
      },
      "source": [
        "Cov_y = np.cov(CNN_weights , rowvar=False)"
      ],
      "execution_count": 56,
      "outputs": []
    },
    {
      "cell_type": "code",
      "metadata": {
        "id": "HOxbcMLY12RY"
      },
      "source": [
        "idx = eig_vals.argsort()[::-1]   \n",
        "eig_vals_ordered = eig_vals[idx]\n",
        "eig_vecs_ordered = eig_vecs[:,idx]"
      ],
      "execution_count": 57,
      "outputs": []
    },
    {
      "cell_type": "code",
      "metadata": {
        "colab": {
          "base_uri": "https://localhost:8080/",
          "height": 291
        },
        "id": "HPm_v6wS2Z64",
        "outputId": "088817c6-487d-4d36-9ccd-51ff5d7946f2"
      },
      "source": [
        "#plt.loglog( eig_vals_ordered, np.sqrt(np.diag(np.matmul(np.matmul( eig_vecs.T , Cov_y ), eig_vecs)))[idx]    )\n",
        "plt.loglog(eig_vals_ordered, np.sqrt(np.diag(np.matmul(np.matmul( eig_vecs_ordered.T , Cov_y ), eig_vecs_ordered)  )) , linestyle='--', marker='x', color=\"#3980E4\")"
      ],
      "execution_count": 58,
      "outputs": [
        {
          "output_type": "execute_result",
          "data": {
            "text/plain": [
              "[<matplotlib.lines.Line2D at 0x7f97a172ea90>]"
            ]
          },
          "metadata": {
            "tags": []
          },
          "execution_count": 58
        },
        {
          "output_type": "display_data",
          "data": {
            "image/png": "[encoded data removed]",
            "text/plain": [
              "<Figure size 432x288 with 1 Axes>"
            ]
          },
          "metadata": {
            "tags": [],
            "needs_background": "light"
          }
        }
      ]
    },
    {
      "cell_type": "markdown",
      "metadata": {
        "id": "nhoRKJ0YhzDx"
      },
      "source": [
        "#Training 2 - 10 epochs"
      ]
    },
    {
      "cell_type": "code",
      "metadata": {
        "colab": {
          "base_uri": "https://localhost:8080/"
        },
        "id": "G8CEo9NH2uAY",
        "outputId": "ebb112eb-bce4-46c5-e9d5-cea33d4478fe"
      },
      "source": [
        "simple_cnn.train()\n",
        "epochs = 5 #Training to 10 epochs\n",
        "learning_rate = 0.001\n",
        "\n",
        "learnable_parameters = get_learnable_parameters(simple_cnn)\n",
        "criterion, optimizer, scheduler = get_training_components(learnable_parameters, learning_rate, step_size=40, gamma=1/3)\n",
        "loss_history, mis_eig_random_labels, mis_random_basis_random_labels = train(simple_cnn, criterion, optimizer, epochs, trainloader, device, scheduler=scheduler)"
      ],
      "execution_count": 59,
      "outputs": [
        {
          "output_type": "stream",
          "text": [
            "Epoch 0 / 5: avg. loss of last 5 iterations 2.3022597789764405\n",
            "Epoch: 0 LR: [0.001]\n",
            "Epoch 1 / 5: avg. loss of last 5 iterations 2.296397018432617\n",
            "Epoch: 1 LR: [0.001]\n",
            "Epoch 2 / 5: avg. loss of last 5 iterations 2.295717239379883\n",
            "Epoch: 2 LR: [0.001]\n",
            "Epoch 3 / 5: avg. loss of last 5 iterations 2.294336700439453\n",
            "Epoch: 3 LR: [0.001]\n",
            "Epoch 4 / 5: avg. loss of last 5 iterations 2.2942479133605955\n",
            "Epoch: 4 LR: [0.001]\n"
          ],
          "name": "stdout"
        }
      ]
    },
    {
      "cell_type": "code",
      "metadata": {
        "id": "XWsvDq9z3rTj"
      },
      "source": [
        "CNN_weights2 = np.reshape(simple_cnn.conv.weight.detach().numpy(), (simple_cnn.conv.weight.detach().numpy().shape[0], -1))\n",
        "Cov_y2 = np.cov(CNN_weights2 , rowvar=False)"
      ],
      "execution_count": 60,
      "outputs": []
    },
    {
      "cell_type": "code",
      "metadata": {
        "colab": {
          "base_uri": "https://localhost:8080/",
          "height": 291
        },
        "id": "-jONEasu3036",
        "outputId": "9585ff3d-ffb2-4057-de63-256fa63ffa1d"
      },
      "source": [
        "plt.loglog(eig_vals_ordered, np.sqrt(np.diag(np.matmul(np.matmul( eig_vecs_ordered.T , Cov_y ), eig_vecs_ordered)  )) , linestyle='--', marker='x', color=\"#3980E4\")\n",
        "plt.loglog(eig_vals_ordered, np.sqrt(np.diag(np.matmul(np.matmul( eig_vecs_ordered.T , Cov_y2 ), eig_vecs_ordered)  )), linestyle='--', marker='d', color=\"#F19418\")"
      ],
      "execution_count": 61,
      "outputs": [
        {
          "output_type": "execute_result",
          "data": {
            "text/plain": [
              "[<matplotlib.lines.Line2D at 0x7f9785ef8ad0>]"
            ]
          },
          "metadata": {
            "tags": []
          },
          "execution_count": 61
        },
        {
          "output_type": "display_data",
          "data": {
            "image/png": "[encoded data removed]",
            "text/plain": [
              "<Figure size 432x288 with 1 Axes>"
            ]
          },
          "metadata": {
            "tags": [],
            "needs_background": "light"
          }
        }
      ]
    },
    {
      "cell_type": "markdown",
      "metadata": {
        "id": "VNpo-uTTh2N2"
      },
      "source": [
        "#Training 3 - 20 epochs"
      ]
    },
    {
      "cell_type": "code",
      "metadata": {
        "colab": {
          "base_uri": "https://localhost:8080/"
        },
        "id": "PUHh7Qhm4V61",
        "outputId": "153e6339-7063-4aca-d643-e5fea6df4951"
      },
      "source": [
        "simple_cnn.train()\n",
        "epochs = 10 #Training to 20 epochs\n",
        "learning_rate = 0.001\n",
        "\n",
        "learnable_parameters = get_learnable_parameters(simple_cnn)\n",
        "criterion, optimizer, scheduler = get_training_components(learnable_parameters, learning_rate, step_size=40, gamma=1/3)\n",
        "loss_history, mis_eig_random_labels, mis_random_basis_random_labels = train(simple_cnn, criterion, optimizer, epochs, trainloader, device, scheduler=scheduler)"
      ],
      "execution_count": 62,
      "outputs": [
        {
          "output_type": "stream",
          "text": [
            "Epoch 0 / 10: avg. loss of last 5 iterations 2.291177177429199\n",
            "Epoch: 0 LR: [0.001]\n",
            "Epoch 1 / 10: avg. loss of last 5 iterations 2.2883791446685793\n",
            "Epoch: 1 LR: [0.001]\n",
            "Epoch 2 / 10: avg. loss of last 5 iterations 2.289906883239746\n",
            "Epoch: 2 LR: [0.001]\n",
            "Epoch 3 / 10: avg. loss of last 5 iterations 2.2862149715423583\n",
            "Epoch: 3 LR: [0.001]\n",
            "Epoch 4 / 10: avg. loss of last 5 iterations 2.2878747940063477\n",
            "Epoch: 4 LR: [0.001]\n",
            "Epoch 5 / 10: avg. loss of last 5 iterations 2.281031274795532\n",
            "Epoch: 5 LR: [0.001]\n",
            "Epoch 6 / 10: avg. loss of last 5 iterations 2.2767639636993406\n",
            "Epoch: 6 LR: [0.001]\n",
            "Epoch 7 / 10: avg. loss of last 5 iterations 2.2810365676879885\n",
            "Epoch: 7 LR: [0.001]\n",
            "Epoch 8 / 10: avg. loss of last 5 iterations 2.2713282108306885\n",
            "Epoch: 8 LR: [0.001]\n",
            "Epoch 9 / 10: avg. loss of last 5 iterations 2.2730478763580324\n",
            "Epoch: 9 LR: [0.001]\n"
          ],
          "name": "stdout"
        }
      ]
    },
    {
      "cell_type": "code",
      "metadata": {
        "id": "-cibi-Hd4Xi1"
      },
      "source": [
        "CNN_weights3 = np.reshape(simple_cnn.conv.weight.detach().numpy(), (simple_cnn.conv.weight.detach().numpy().shape[0], -1))\n",
        "Cov_y3 = np.cov(CNN_weights3 , rowvar=False)"
      ],
      "execution_count": 63,
      "outputs": []
    },
    {
      "cell_type": "code",
      "metadata": {
        "colab": {
          "base_uri": "https://localhost:8080/",
          "height": 291
        },
        "id": "I6bhIHit4Z3g",
        "outputId": "03f89840-93cb-4c8a-fe91-d9b8883d46d4"
      },
      "source": [
        "plt.loglog(eig_vals_ordered, np.sqrt(np.diag(np.matmul(np.matmul( eig_vecs.T , Cov_y ), eig_vecs)  )[idx]) , linestyle='--', marker='x', color=\"#3980E4\")\n",
        "plt.loglog(eig_vals_ordered, np.sqrt(np.diag(np.matmul(np.matmul( eig_vecs.T , Cov_y2 ), eig_vecs)  )[idx]), linestyle='--', marker='d', color=\"#F19418\")\n",
        "plt.loglog(eig_vals_ordered, np.sqrt(np.diag(np.matmul(np.matmul( eig_vecs.T , Cov_y3 ), eig_vecs)  )[idx]), linestyle='--', marker='o', color=\"#2CD779\")"
      ],
      "execution_count": 64,
      "outputs": [
        {
          "output_type": "execute_result",
          "data": {
            "text/plain": [
              "[<matplotlib.lines.Line2D at 0x7f9786056110>]"
            ]
          },
          "metadata": {
            "tags": []
          },
          "execution_count": 64
        },
        {
          "output_type": "display_data",
          "data": {
            "image/png": "[encoded data removed]",
            "text/plain": [
              "<Figure size 432x288 with 1 Axes>"
            ]
          },
          "metadata": {
            "tags": [],
            "needs_background": "light"
          }
        }
      ]
    },
    {
      "cell_type": "markdown",
      "metadata": {
        "id": "3QDgUx-mh3-m"
      },
      "source": [
        "#Training 4 - 40 epochs"
      ]
    },
    {
      "cell_type": "code",
      "metadata": {
        "colab": {
          "base_uri": "https://localhost:8080/"
        },
        "id": "xEKQQIvS6fIl",
        "outputId": "a94e7ea5-14c2-485f-ec3d-2080bc552337"
      },
      "source": [
        "simple_cnn.train()\n",
        "epochs = 20 #Training to 40 epochs\n",
        "learning_rate = 0.001\n",
        "\n",
        "learnable_parameters = get_learnable_parameters(simple_cnn)\n",
        "criterion, optimizer, scheduler = get_training_components(learnable_parameters, learning_rate, step_size=40, gamma=1/3)\n",
        "loss_history, mis_eig_random_labels, mis_random_basis_random_labels = train(simple_cnn, criterion, optimizer, epochs, trainloader, device, scheduler=scheduler)"
      ],
      "execution_count": 65,
      "outputs": [
        {
          "output_type": "stream",
          "text": [
            "Epoch 0 / 20: avg. loss of last 5 iterations 2.2688562870025635\n",
            "Epoch: 0 LR: [0.001]\n",
            "Epoch 1 / 20: avg. loss of last 5 iterations 2.2720938205718992\n",
            "Epoch: 1 LR: [0.001]\n",
            "Epoch 2 / 20: avg. loss of last 5 iterations 2.259391975402832\n",
            "Epoch: 2 LR: [0.001]\n",
            "Epoch 3 / 20: avg. loss of last 5 iterations 2.2691228866577147\n",
            "Epoch: 3 LR: [0.001]\n",
            "Epoch 4 / 20: avg. loss of last 5 iterations 2.261731815338135\n",
            "Epoch: 4 LR: [0.001]\n",
            "Epoch 5 / 20: avg. loss of last 5 iterations 2.254232168197632\n",
            "Epoch: 5 LR: [0.001]\n",
            "Epoch 6 / 20: avg. loss of last 5 iterations 2.243808364868164\n",
            "Epoch: 6 LR: [0.001]\n",
            "Epoch 7 / 20: avg. loss of last 5 iterations 2.2523877143859865\n",
            "Epoch: 7 LR: [0.001]\n",
            "Epoch 8 / 20: avg. loss of last 5 iterations 2.2493085861206055\n",
            "Epoch: 8 LR: [0.001]\n",
            "Epoch 9 / 20: avg. loss of last 5 iterations 2.241690969467163\n",
            "Epoch: 9 LR: [0.001]\n",
            "Epoch 10 / 20: avg. loss of last 5 iterations 2.243725633621216\n",
            "Epoch: 10 LR: [0.001]\n",
            "Epoch 11 / 20: avg. loss of last 5 iterations 2.226765012741089\n",
            "Epoch: 11 LR: [0.001]\n",
            "Epoch 12 / 20: avg. loss of last 5 iterations 2.22359356880188\n",
            "Epoch: 12 LR: [0.001]\n",
            "Epoch 13 / 20: avg. loss of last 5 iterations 2.227897834777832\n",
            "Epoch: 13 LR: [0.001]\n",
            "Epoch 14 / 20: avg. loss of last 5 iterations 2.2081722259521483\n",
            "Epoch: 14 LR: [0.001]\n",
            "Epoch 15 / 20: avg. loss of last 5 iterations 2.209791135787964\n",
            "Epoch: 15 LR: [0.001]\n",
            "Epoch 16 / 20: avg. loss of last 5 iterations 2.2275903701782225\n",
            "Epoch: 16 LR: [0.001]\n",
            "Epoch 17 / 20: avg. loss of last 5 iterations 2.2231117248535157\n",
            "Epoch: 17 LR: [0.001]\n",
            "Epoch 18 / 20: avg. loss of last 5 iterations 2.1890300273895265\n",
            "Epoch: 18 LR: [0.001]\n",
            "Epoch 19 / 20: avg. loss of last 5 iterations 2.182376575469971\n",
            "Epoch: 19 LR: [0.001]\n"
          ],
          "name": "stdout"
        }
      ]
    },
    {
      "cell_type": "code",
      "metadata": {
        "id": "TsbXguvs6iYk"
      },
      "source": [
        "CNN_weights4 = np.reshape(simple_cnn.conv.weight.detach().numpy(), (simple_cnn.conv.weight.detach().numpy().shape[0], -1))\n",
        "Cov_y4 = np.cov(CNN_weights4 , rowvar=False)"
      ],
      "execution_count": 66,
      "outputs": []
    },
    {
      "cell_type": "code",
      "metadata": {
        "colab": {
          "base_uri": "https://localhost:8080/",
          "height": 287
        },
        "id": "HlrMYrv96k5l",
        "outputId": "58a41785-9491-4e73-b103-38884776867c"
      },
      "source": [
        "plt.loglog(eig_vals_ordered, np.sqrt(np.diag(np.matmul(np.matmul( eig_vecs.T , Cov_y ), eig_vecs)  )[idx]) , linestyle='--', marker='x', color=\"#3980E4\")\n",
        "plt.loglog(eig_vals_ordered, np.sqrt(np.diag(np.matmul(np.matmul( eig_vecs.T , Cov_y2 ), eig_vecs)  )[idx]), linestyle='--', marker='d', color=\"#F19418\")\n",
        "plt.loglog(eig_vals_ordered, np.sqrt(np.diag(np.matmul(np.matmul( eig_vecs.T , Cov_y3 ), eig_vecs)  )[idx]), linestyle='--', marker='o', color=\"#2CD779\")\n",
        "plt.loglog(eig_vals_ordered, np.sqrt(np.diag(np.matmul(np.matmul( eig_vecs.T , Cov_y4 ), eig_vecs)  )[idx]), linestyle='--', marker='s', color=\"#E94436\")"
      ],
      "execution_count": 67,
      "outputs": [
        {
          "output_type": "execute_result",
          "data": {
            "text/plain": [
              "[<matplotlib.lines.Line2D at 0x7f97910d4710>]"
            ]
          },
          "metadata": {
            "tags": []
          },
          "execution_count": 67
        },
        {
          "output_type": "display_data",
          "data": {
            "image/png": "[encoded data removed]",
            "text/plain": [
              "<Figure size 432x288 with 1 Axes>"
            ]
          },
          "metadata": {
            "tags": [],
            "needs_background": "light"
          }
        }
      ]
    }
  ]
}
