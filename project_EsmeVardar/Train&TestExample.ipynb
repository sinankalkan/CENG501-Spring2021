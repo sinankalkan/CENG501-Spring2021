{
  "cells": [
    {
      "cell_type": "code",
      "execution_count": null,
      "metadata": {
        "colab": {
          "base_uri": "https://localhost:8080/"
        },
        "id": "PIWztKfwq7ho",
        "outputId": "e39fa24e-141d-4557-d53e-1a15e7f99104"
      },
      "outputs": [],
      "source": [
        "#Clone the git repo to colab\n",
        "%cd /content\n",
        "!git clone #add source to git repo\n",
        "%cd testifan\n",
        "!mkdir data"
      ]
    },
    {
      "cell_type": "code",
      "execution_count": null,
      "metadata": {
        "colab": {
          "base_uri": "https://localhost:8080/"
        },
        "id": "1j3YpQ1vk1Uz",
        "outputId": "2181be6f-d647-4c15-b1f4-81f0f5117c3d"
      },
      "outputs": [],
      "source": [
        "#To download cityscapes dataset login with username and password\n",
        "%cd /content/testifan/prepare_data\n",
        "!wget --keep-session-cookies --save-cookies=cookies.txt --post-data 'username=usrname&password=pswrdv&submit=Login' https://www.cityscapes-dataset.com/login/"
      ]
    },
    {
      "cell_type": "code",
      "execution_count": null,
      "metadata": {
        "colab": {
          "base_uri": "https://localhost:8080/"
        },
        "id": "e9Onp9IPnmK-",
        "outputId": "ccd1a49b-bc83-464d-8bdf-cda41bde40d4"
      },
      "outputs": [],
      "source": [
        "#Download foggy cityscapes\n",
        "!wget --load-cookies cookies.txt --content-disposition https://www.cityscapes-dataset.com/file-handling/?packageID=29"
      ]
    },
    {
      "cell_type": "code",
      "execution_count": null,
      "metadata": {
        "colab": {
          "base_uri": "https://localhost:8080/"
        },
        "id": "WQ-33MOtA-fs",
        "outputId": "d234bc87-c961-446a-8b09-39736b111234"
      },
      "outputs": [],
      "source": [
        "#Unzip the wanted cities\n",
        "#If enough disk space is given unzip all\n",
        "%cd /content/testifan/prepare_data\n",
        "!unzip leftImg8bit_trainvaltest_foggy.zip 'leftImg8bit_foggy/test/berlin/*' -d ./\n",
        "!unzip leftImg8bit_trainvaltest_foggy.zip 'leftImg8bit_foggy/test/leverkusen/*' -d ./\n",
        "!unzip leftImg8bit_trainvaltest_foggy.zip 'leftImg8bit_foggy/train/aachen/*' -d ./\n",
        "!unzip leftImg8bit_trainvaltest_foggy.zip 'leftImg8bit_foggy/train/hamburg/*' -d ./\n",
        "!unzip leftImg8bit_trainvaltest_foggy.zip 'leftImg8bit_foggy/train/hanover/*' -d ./\n",
        "!unzip leftImg8bit_trainvaltest_foggy.zip 'leftImg8bit_foggy/train/stuttgart/*' -d ./\n",
        "!unzip leftImg8bit_trainvaltest_foggy.zip 'leftImg8bit_foggy/train/zurich/*' -d ./\n",
        "!unzip leftImg8bit_trainvaltest_foggy.zip 'leftImg8bit_foggy/val/frankfurt/*' -d ./\n",
        "!rm /content/testifan/prepare_data/leftImg8bit_trainvaltest_foggy.zip"
      ]
    },
    {
      "cell_type": "code",
      "execution_count": null,
      "metadata": {
        "colab": {
          "base_uri": "https://localhost:8080/"
        },
        "id": "xIsimjIdsJl3",
        "outputId": "f84449ce-595f-48bd-c8c5-a2c088bbc803"
      },
      "outputs": [],
      "source": [
        "#Download ground truth,bboxes\n",
        "!wget --load-cookies cookies.txt --content-disposition https://www.cityscapes-dataset.com/file-handling/?packageID=1"
      ]
    },
    {
      "cell_type": "code",
      "execution_count": null,
      "metadata": {
        "colab": {
          "base_uri": "https://localhost:8080/"
        },
        "id": "gxXyaKTkv3IF",
        "outputId": "61815a4e-515a-4006-e22a-dc34dec10433"
      },
      "outputs": [],
      "source": [
        "#Unzip the wanted cities\n",
        "#If enough disk space is given unzip all\n",
        "%cd /content/testifan/prepare_data\n",
        "!unzip gtFine_trainvaltest.zip 'gtFine/test/berlin/*' -d ./\n",
        "!unzip gtFine_trainvaltest.zip 'gtFine/test/leverkusen/*' -d ./\n",
        "!unzip gtFine_trainvaltest.zip 'gtFine/train/aachen/*' -d ./\n",
        "!unzip gtFine_trainvaltest.zip 'gtFine/train/hamburg/*' -d ./\n",
        "!unzip gtFine_trainvaltest.zip 'gtFine/train/hanover/*' -d ./\n",
        "!unzip gtFine_trainvaltest.zip 'gtFine/train/stuttgart/*' -d ./\n",
        "!unzip gtFine_trainvaltest.zip 'gtFine/train/zurich/*' -d ./\n",
        "!unzip gtFine_trainvaltest.zip 'gtFine/val/frankfurt/*' -d ./\n",
        "!rm /content/testifan/prepare_data/gtFine_trainvaltest.zip"
      ]
    },
    {
      "cell_type": "code",
      "execution_count": null,
      "metadata": {
        "colab": {
          "base_uri": "https://localhost:8080/"
        },
        "id": "bhEMmRPPsLEu",
        "outputId": "758fb9c1-5373-4f75-fa07-370a92463170"
      },
      "outputs": [],
      "source": [
        "#Download cityscapes dataset\n",
        "!wget --load-cookies cookies.txt --content-disposition https://www.cityscapes-dataset.com/file-handling/?packageID=3"
      ]
    },
    {
      "cell_type": "code",
      "execution_count": null,
      "metadata": {
        "colab": {
          "base_uri": "https://localhost:8080/"
        },
        "id": "b-_IEOEduOPy",
        "outputId": "5ed37ef5-cb8c-47bf-b890-a46e305005c5"
      },
      "outputs": [],
      "source": [
        "#Unzip the wanted cities\n",
        "#If enough disk space is given unzip all\n",
        "%cd /content/testifan/prepare_data\n",
        "!unzip leftImg8bit_trainvaltest.zip 'leftImg8bit/test/berlin/*' -d ./\n",
        "!unzip leftImg8bit_trainvaltest.zip 'leftImg8bit/test/leverkusen/*' -d ./\n",
        "!unzip leftImg8bit_trainvaltest.zip 'leftImg8bit/train/aachen/*' -d ./\n",
        "!unzip leftImg8bit_trainvaltest.zip 'leftImg8bit/train/hamburg/*' -d ./\n",
        "!unzip leftImg8bit_trainvaltest.zip 'leftImg8bit/train/hanover/*' -d ./\n",
        "!unzip leftImg8bit_trainvaltest.zip 'leftImg8bit/train/stuttgart/*' -d ./\n",
        "!unzip leftImg8bit_trainvaltest.zip 'leftImg8bit/train/zurich/*' -d ./\n",
        "!unzip leftImg8bit_trainvaltest.zip 'leftImg8bit/val/frankfurt/*' -d ./\n",
        "!rm /content/testifan/prepare_data/leftImg8bit_trainvaltest.zip"
      ]
    },
    {
      "cell_type": "code",
      "execution_count": null,
      "metadata": {
        "colab": {
          "base_uri": "https://localhost:8080/"
        },
        "id": "moJhUT6cw7E9",
        "outputId": "ab72662f-2c00-4cd6-e40a-677538baabdd"
      },
      "outputs": [],
      "source": [
        "!pip install pascal_voc_writer"
      ]
    },
    {
      "cell_type": "code",
      "execution_count": null,
      "metadata": {
        "colab": {
          "base_uri": "https://localhost:8080/"
        },
        "id": "gHmd3eURwzU1",
        "outputId": "0083914e-7a52-487b-85e1-32ce8f465116"
      },
      "outputs": [],
      "source": [
        "#Turn cityscapes dataset into pascal voc format\n",
        "%cd /content/testifan/prepare_data\n",
        "!python turn.py"
      ]
    },
    {
      "cell_type": "code",
      "execution_count": null,
      "metadata": {
        "colab": {
          "base_uri": "https://localhost:8080/"
        },
        "id": "8dm4e1SqNA35",
        "outputId": "3ebaa668-60b7-4252-a85d-dcbea4da9cbd"
      },
      "outputs": [],
      "source": [
        "#Turn foggy cityscapes datasets into pascal voc format\n",
        "%cd /content/testifan/prepare_data\n",
        "!python turn_foggy.py"
      ]
    },
    {
      "cell_type": "code",
      "execution_count": null,
      "metadata": {
        "colab": {
          "base_uri": "https://localhost:8080/"
        },
        "id": "kEue4eG6L6qm",
        "outputId": "79c76fdd-7b39-4879-aed8-e85fa807db8c"
      },
      "outputs": [],
      "source": [
        "%cd /content/testifan/data\n",
        "!mkdir VOCdevkit\n",
        "!mv /content/testifan/prepare_data/VOC2007 /content/testifan/data/VOCdevkit\n",
        "!mkdir VOCdevkit_foggy\n",
        "!mv /content/testifan/prepare_data/VOC2007_foggy /content/testifan/data/VOCdevkit_foggy"
      ]
    },
    {
      "cell_type": "code",
      "execution_count": null,
      "metadata": {
        "id": "biZHY4lMVZLf"
      },
      "outputs": [],
      "source": [
        "!mv /content/testifan/data/VOCdevkit_foggy/VOC2007_foggy /content/testifan/data/VOCdevkit_foggy/VOC2007"
      ]
    },
    {
      "cell_type": "code",
      "execution_count": null,
      "metadata": {
        "colab": {
          "base_uri": "https://localhost:8080/"
        },
        "id": "woZOc11orXq2",
        "outputId": "157f8e9d-1a51-488f-89da-674e6c073899"
      },
      "outputs": [],
      "source": [
        "#Compile c libraries\n",
        "%cd /content/testifan/lib\n",
        "!python setup.py develop"
      ]
    },
    {
      "cell_type": "code",
      "execution_count": null,
      "metadata": {
        "colab": {
          "base_uri": "https://localhost:8080/"
        },
        "id": "kejkdTZCrwGg",
        "outputId": "37ac55fa-86cb-4ce5-a3f1-cabd3c3d1916"
      },
      "outputs": [],
      "source": [
        "#Download pretrained model\n",
        "%cd /content/testifan/data\n",
        "!mkdir pretrained_model\n",
        "%cd /content/testifan/data/pretrained_model\n",
        "!wget https://filebox.ece.vt.edu/~jw2yang/faster-rcnn/pretrained-base-models/vgg16_caffe.pth"
      ]
    },
    {
      "cell_type": "code",
      "execution_count": null,
      "metadata": {
        "id": "KiISPJ4yWEDZ"
      },
      "outputs": [],
      "source": [
        "!mv /content/testifan/data/pretrained_model/vgg16_caffe.pth /content/testifan/data/pretrained_model/vgg16.pth"
      ]
    },
    {
      "cell_type": "code",
      "execution_count": null,
      "metadata": {
        "colab": {
          "base_uri": "https://localhost:8080/"
        },
        "id": "k6erJLTctO-w",
        "outputId": "ea4ef3a2-8bfe-4a1a-ccdc-facea7fc4d8f"
      },
      "outputs": [],
      "source": [
        "!pip install colorama easydict pyyaml matplotlib numpy"
      ]
    },
    {
      "cell_type": "code",
      "execution_count": null,
      "metadata": {
        "colab": {
          "base_uri": "https://localhost:8080/"
        },
        "id": "OWBg9wUOsfOL",
        "outputId": "b4d9bc19-8a67-48b9-df2e-0bff15efa7a2"
      },
      "outputs": [],
      "source": [
        "%cd /content/testifan\n",
        "!python run.py train --net vgg16 --dataset voc_2007_trainval --total_epoch 30 -bs 2 --cuda --add_params devkit_path=VOCdevkit\n"
      ]
    },
    {
      "cell_type": "code",
      "execution_count": null,
      "metadata": {
        "colab": {
          "base_uri": "https://localhost:8080/"
        },
        "id": "8xiRjFRAdKGe",
        "outputId": "57a99485-cd8a-45c2-cbb1-6fedacfd3033"
      },
      "outputs": [],
      "source": [
        "!python run.py test --net vgg16 --dataset voc_2007_test --epoch 3 --cuda --add_params devkit_path=VOCdevkit_foggy"
      ]
    }
  ],
  "metadata": {
    "accelerator": "GPU",
    "colab": {
      "collapsed_sections": [],
      "name": "Untitled3.ipynb",
      "provenance": []
    },
    "interpreter": {
      "hash": "916dbcbb3f70747c44a77c7bcd40155683ae19c65e1c03b4aa3499c5328201f1"
    },
    "kernelspec": {
      "display_name": "Python 3.8.10 64-bit",
      "name": "python3"
    },
    "language_info": {
      "name": "python",
      "version": ""
    }
  },
  "nbformat": 4,
  "nbformat_minor": 0
}