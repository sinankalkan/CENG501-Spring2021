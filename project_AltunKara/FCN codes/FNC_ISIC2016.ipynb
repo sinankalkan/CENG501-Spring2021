{
  "nbformat": 4,
  "nbformat_minor": 0,
  "metadata": {
    "colab": {
      "name": "FNC_ISIC2016.ipynb",
      "provenance": []
    },
    "kernelspec": {
      "name": "python3",
      "display_name": "Python 3"
    },
    "language_info": {
      "name": "python"
    },
    "accelerator": "TPU"
  },
  "cells": [
    {
      "cell_type": "code",
      "metadata": {
        "id": "1nacq6E2MS7b"
      },
      "source": [
        "try:\n",
        "    import Image\n",
        "except ImportError:\n",
        "    from PIL import Image\n",
        "\n",
        "import os\n",
        "import matplotlib.pyplot as plt\n",
        "import numpy as np\n",
        "import keras\n",
        "from keras.models import Model\n",
        "from keras.layers import Conv2D, MaxPooling2D, Input, Conv2DTranspose, Concatenate, BatchNormalization, UpSampling2D\n",
        "from keras.layers import  Dropout,Add, Activation\n",
        "from keras.optimizers import Adam, SGD\n",
        "from keras.layers.advanced_activations import LeakyReLU\n",
        "from keras.callbacks import ModelCheckpoint, ReduceLROnPlateau, EarlyStopping\n",
        "from keras import backend as K\n",
        "from tensorflow.keras.utils import plot_model\n",
        "import tensorflow as tf\n",
        "import glob\n",
        "import random\n",
        "import cv2\n",
        "from random import shuffle\n",
        "import seaborn as sns\n"
      ],
      "execution_count": null,
      "outputs": []
    },
    {
      "cell_type": "code",
      "metadata": {
        "colab": {
          "base_uri": "https://localhost:8080/"
        },
        "id": "rmLg3JCYMaCw",
        "outputId": "c79b36ef-9abf-42a0-acf3-ffabd54e4e93"
      },
      "source": [
        "from google.colab import drive\n",
        "drive.mount('/content/drive')\n",
        "!ls"
      ],
      "execution_count": null,
      "outputs": [
        {
          "output_type": "stream",
          "text": [
            "Drive already mounted at /content/drive; to attempt to forcibly remount, call drive.mount(\"/content/drive\", force_remount=True).\n",
            "drive  sample_data\n"
          ],
          "name": "stdout"
        }
      ]
    },
    {
      "cell_type": "code",
      "metadata": {
        "id": "uCJ8CIceMfBI",
        "colab": {
          "base_uri": "https://localhost:8080/"
        },
        "outputId": "0e0faf62-5661-4fa2-e421-c1fb87d75615"
      },
      "source": [
        "#İlayda \n",
        "import os\n",
        "os.chdir(\"/content/drive/MyDrive/dataset/\")\n",
        "!ls"
      ],
      "execution_count": null,
      "outputs": [
        {
          "output_type": "stream",
          "text": [
            "test_images  test_segmentation\ttrain_images  train_segmentation\n"
          ],
          "name": "stdout"
        }
      ]
    },
    {
      "cell_type": "code",
      "metadata": {
        "id": "Fiqr0kgH9uc2",
        "colab": {
          "base_uri": "https://localhost:8080/"
        },
        "outputId": "402df916-44c6-49d9-a1c9-d6c60fbddcc5"
      },
      "source": [
        "!pwd"
      ],
      "execution_count": null,
      "outputs": [
        {
          "output_type": "stream",
          "text": [
            "/content/drive/.shortcut-targets-by-id/1sLl7nnUgNMt5Ms27C8f6IM8JgjPLdn7T/dataset\n"
          ],
          "name": "stdout"
        }
      ]
    },
    {
      "cell_type": "code",
      "metadata": {
        "id": "z0-qU1K9MhcO"
      },
      "source": [
        "dir_data = \"dataset\"\n",
        "dir_seg_train = dir_data + \"/train_segmentation\"\n",
        "dir_img_train = dir_data + \"/train_images/\"\n",
        "dir_seg_test = dir_data + \"/test_segmentation/\"\n",
        "dir_img_test = dir_data + \"/test_images/\"\n",
        "image_writing_folder=\"Im_Writing/\"\n",
        "VGG_Weights_path =\"vgg16_weights_tf_dim_ordering_tf_kernels_notop.h5\""
      ],
      "execution_count": null,
      "outputs": []
    },
    {
      "cell_type": "code",
      "metadata": {
        "colab": {
          "base_uri": "https://localhost:8080/",
          "height": 232
        },
        "id": "ok6jtGfBNB8o",
        "outputId": "88daa8be-dc0d-4f25-ef6f-401fec6ab547"
      },
      "source": [
        "## seaborn has white grid by default so I will get rid of this.\n",
        "sns.set_style(\"whitegrid\", {'axes.grid' : False})\n",
        "\n",
        "\n",
        "ldval = np.array(sorted(os.listdir(dir_seg_train)))\n",
        "ldimg=np.array(sorted(os.listdir(dir_img_train)))\n",
        "## pick the first image file\n",
        "fnm = ldval[0]\n",
        "fnm2= ldimg[0]\n",
        "print(fnm)\n",
        "print(fnm2)\n",
        "\n",
        "## read in the original image and segmentation labels\n",
        "seg = cv2.imread(dir_seg_train+ fnm) # (360, 480, 3)\n",
        "#seg[seg == 255] = 1\n",
        "#seg=cv2.cvtColor(seg, cv2.COLOR_BGR2GRAY)\n",
        "#(thresh, seg) = cv2.threshold(seg, 127, 255, cv2.THRESH_BINARY | cv2.THRESH_OTSU)\n",
        "\n",
        "img_is= cv2.imread(dir_img_train + fnm2 )\n",
        "\n",
        "fig = plt.figure(figsize=(5,5))\n",
        "ax = fig.add_subplot(1,2,1)\n",
        "ax.imshow(img_is)\n",
        "ax.set_title(\"original image\")\n",
        "\n",
        "ax = fig.add_subplot(1,2,2)\n",
        "ax.imshow(seg)\n",
        "ax.set_title(\"Segmented Image\")\n",
        "plt.show()\n",
        "\n"
      ],
      "execution_count": null,
      "outputs": [
        {
          "output_type": "error",
          "ename": "FileNotFoundError",
          "evalue": "ignored",
          "traceback": [
            "\u001b[0;31m---------------------------------------------------------------------------\u001b[0m",
            "\u001b[0;31mFileNotFoundError\u001b[0m                         Traceback (most recent call last)",
            "\u001b[0;32m<ipython-input-23-c7d5d173f17f>\u001b[0m in \u001b[0;36m<module>\u001b[0;34m()\u001b[0m\n\u001b[1;32m      3\u001b[0m \u001b[0;34m\u001b[0m\u001b[0m\n\u001b[1;32m      4\u001b[0m \u001b[0;34m\u001b[0m\u001b[0m\n\u001b[0;32m----> 5\u001b[0;31m \u001b[0mldval\u001b[0m \u001b[0;34m=\u001b[0m \u001b[0mnp\u001b[0m\u001b[0;34m.\u001b[0m\u001b[0marray\u001b[0m\u001b[0;34m(\u001b[0m\u001b[0msorted\u001b[0m\u001b[0;34m(\u001b[0m\u001b[0mos\u001b[0m\u001b[0;34m.\u001b[0m\u001b[0mlistdir\u001b[0m\u001b[0;34m(\u001b[0m\u001b[0mdir_seg_train\u001b[0m\u001b[0;34m)\u001b[0m\u001b[0;34m)\u001b[0m\u001b[0;34m)\u001b[0m\u001b[0;34m\u001b[0m\u001b[0;34m\u001b[0m\u001b[0m\n\u001b[0m\u001b[1;32m      6\u001b[0m \u001b[0mldimg\u001b[0m\u001b[0;34m=\u001b[0m\u001b[0mnp\u001b[0m\u001b[0;34m.\u001b[0m\u001b[0marray\u001b[0m\u001b[0;34m(\u001b[0m\u001b[0msorted\u001b[0m\u001b[0;34m(\u001b[0m\u001b[0mos\u001b[0m\u001b[0;34m.\u001b[0m\u001b[0mlistdir\u001b[0m\u001b[0;34m(\u001b[0m\u001b[0mdir_img_train\u001b[0m\u001b[0;34m)\u001b[0m\u001b[0;34m)\u001b[0m\u001b[0;34m)\u001b[0m\u001b[0;34m\u001b[0m\u001b[0;34m\u001b[0m\u001b[0m\n\u001b[1;32m      7\u001b[0m \u001b[0;31m## pick the first image file\u001b[0m\u001b[0;34m\u001b[0m\u001b[0;34m\u001b[0m\u001b[0;34m\u001b[0m\u001b[0m\n",
            "\u001b[0;31mFileNotFoundError\u001b[0m: [Errno 2] No such file or directory: 'dataset/train_segmentation'"
          ]
        }
      ]
    },
    {
      "cell_type": "code",
      "metadata": {
        "id": "htmgcWFiQ45r"
      },
      "source": [
        "def image_generator(files, batch_size = 32, sz = (256, 256)):\n",
        "  \n",
        "\twhile True: \n",
        "\n",
        "\t\t#extract a random batch \n",
        "\t\tbatch = np.random.choice(files, size = batch_size)    \n",
        "\t\t# print('batch: ' + str(batch))\n",
        "\t\t#variables for collecting batches of inputs and outputs \n",
        "\t\tbatch_x = []\n",
        "\t\tbatch_y = []\n",
        "\n",
        "\t\tfor f in batch:\n",
        "\n",
        "\t\t\t#get the masks. Note that masks are png files \n",
        "\t\t\tmask = Image.open(dir_seg_train + f )\n",
        "\t\t\tplt.imsave(image_writing_folder + 'mask.png', mask)\n",
        "\t\t\tmask = np.array(mask.resize(sz))\n",
        "\t\t\t# print(mask[mask>0])\n",
        "\n",
        "\t\t\t#preprocess the mask \n",
        "\t\t\t# mask[mask > 2] = 0 \n",
        "\t\t\tmask[mask != 0 ] = 1\n",
        "\t\t\tplt.imsave(image_writing_folder + 'mask2.png', mask)\n",
        "\n",
        "\t\t\tbatch_y.append(mask)\n",
        "\n",
        "\t\t\t#preprocess the raw images \n",
        "\t\t\traw = Image.open(dir_img_train + f'{f[:-17]}.jpg')\n",
        "\t\t\t# print(isbi2016_training_path + f'{f[:-17]}.jpg')\n",
        "\t\t\traw = raw.resize(sz)\n",
        "\t\t\traw = np.array(raw)\n",
        "\n",
        "\t\t\t#check the number of channels because some of the images are RGBA or GRAY\n",
        "\t\t\tif len(raw.shape) == 2:\n",
        "\t\t\t  raw = np.stack((raw,)*3, axis=-1)\n",
        "\n",
        "\t\t\telse:\n",
        "\t\t\t  raw = raw[:,:,0:3]\n",
        "\n",
        "\t\t\tbatch_x.append(raw)\n",
        "\n",
        "\t\t#preprocess a batch of images and masks \n",
        "\t\tbatch_x = np.array(batch_x)/255.\n",
        "\t\tbatch_y = np.array(batch_y)\n",
        "\t\tbatch_y = np.expand_dims(batch_y,3)\n",
        "\n",
        "\t\tyield (batch_x, batch_y)\n",
        "\n",
        "\n"
      ],
      "execution_count": null,
      "outputs": []
    },
    {
      "cell_type": "code",
      "metadata": {
        "colab": {
          "base_uri": "https://localhost:8080/",
          "height": 180
        },
        "id": "4SmMLpOUR2GS",
        "outputId": "40df886c-cd77-4aff-c6f9-156a1b7cfe01"
      },
      "source": [
        "batch_size = 1\n",
        "\n",
        "all_files = os.listdir(dir_seg_train)\n",
        "shuffle(all_files)\n",
        "\n",
        "split = int(0.95 * len(all_files))\n",
        "\n",
        "#split into training and testing\n",
        "train_files = all_files[0:split]\n",
        "test_files  = all_files[split:]\n",
        "print(test_files)\n",
        "\n",
        "train_generator = image_generator(train_files, batch_size = batch_size)\n",
        "test_generator  = image_generator(test_files, batch_size = batch_size)\n",
        "\n",
        "x, y= next(train_generator)\n",
        "\n",
        "plt.axis('off')\n",
        "img = x[0]\n",
        "msk = y[0].squeeze()\n",
        "msk = np.stack((msk,)*3, axis=-1)\n",
        "\n",
        "plt.imshow( np.concatenate([img, msk, img*msk], axis = 1))\n",
        "plt.imsave(image_writing_folder + 'file.jpg', np.concatenate([img, msk, img*msk], axis = 1))\n",
        "\n"
      ],
      "execution_count": null,
      "outputs": [
        {
          "output_type": "stream",
          "text": [
            "['ISIC_0000128_Segmentation.png', 'ISIC_0000054_Segmentation.png', 'ISIC_0000145_Segmentation.png', 'ISIC_0000002_Segmentation.png', 'ISIC_0000109_Segmentation.png']\n"
          ],
          "name": "stdout"
        },
        {
          "output_type": "display_data",
          "data": {
            "image/png": "[encoded data removed]",
            "text/plain": [
              "<Figure size 432x288 with 1 Axes>"
            ]
          },
          "metadata": {
            "tags": []
          }
        }
      ]
    },
    {
      "cell_type": "code",
      "metadata": {
        "id": "jZ4OPYo-S0IU"
      },
      "source": [
        "# metrikler burda\n",
        "\n",
        "def mean_iou(y_true, y_pred):\n",
        "    yt0 = y_true[:,:,:,0]\n",
        "    yp0 = K.cast(y_pred[:,:,:,0] > 0.5, 'float32')\n",
        "    inter = tf.math.count_nonzero(tf.logical_and(tf.equal(yt0, 1), tf.equal(yp0, 1)))\n",
        "    union = tf.math.count_nonzero(tf.add(yt0, yp0))\n",
        "    iou = tf.where(tf.equal(union, 0), 1., tf.cast(inter/union, 'float32'))\n",
        "    return iou\n"
      ],
      "execution_count": null,
      "outputs": []
    },
    {
      "cell_type": "code",
      "metadata": {
        "colab": {
          "base_uri": "https://localhost:8080/"
        },
        "id": "yli_8DjgS23n",
        "outputId": "1bd5458d-e499-4617-ef16-0e6cf310232e"
      },
      "source": [
        "# model \n",
        "\n",
        "def FCN8( input_height=256,\n",
        "          input_width=256, channels=3):\n",
        "    ## input_height and width must be devisible by 32 because maxpooling with filter size = (2,2) is operated 5 times,\n",
        "    ## which makes the input_height and width 2^5 = 32 times smaller\n",
        "    nClasses=2\n",
        "    assert input_height%32 == 0\n",
        "    assert input_width%32 == 0\n",
        "    IMAGE_ORDERING =  \"channels_last\" \n",
        "\n",
        "    img_input = Input(shape=(input_height,input_width, 3)) ## Assume 224,224,3\n",
        "    \n",
        "    ## Block 1\n",
        "    x = Conv2D(64, (3, 3), activation='relu', padding='same', name='block1_conv1', data_format=IMAGE_ORDERING )(img_input)\n",
        "    x = Conv2D(64, (3, 3), activation='relu', padding='same', name='block1_conv2', data_format=IMAGE_ORDERING )(x)\n",
        "    x = MaxPooling2D((2, 2), strides=(2, 2), name='block1_pool', data_format=IMAGE_ORDERING )(x)\n",
        "    f1 = x\n",
        "    \n",
        "    # Block 2\n",
        "    x = Conv2D(128, (3, 3), activation='relu', padding='same', name='block2_conv1', data_format=IMAGE_ORDERING )(x)\n",
        "    x = Conv2D(128, (3, 3), activation='relu', padding='same', name='block2_conv2', data_format=IMAGE_ORDERING )(x)\n",
        "    x = MaxPooling2D((2, 2), strides=(2, 2), name='block2_pool', data_format=IMAGE_ORDERING )(x)\n",
        "    f2 = x\n",
        "\n",
        "    # Block 3\n",
        "    x = Conv2D(256, (3, 3), activation='relu', padding='same', name='block3_conv1', data_format=IMAGE_ORDERING )(x)\n",
        "    x = Conv2D(256, (3, 3), activation='relu', padding='same', name='block3_conv2', data_format=IMAGE_ORDERING )(x)\n",
        "    x = Conv2D(256, (3, 3), activation='relu', padding='same', name='block3_conv3', data_format=IMAGE_ORDERING )(x)\n",
        "    x = MaxPooling2D((2, 2), strides=(2, 2), name='block3_pool', data_format=IMAGE_ORDERING )(x)\n",
        "    pool3 = x\n",
        "\n",
        "    # Block 4\n",
        "    x = Conv2D(512, (3, 3), activation='relu', padding='same', name='block4_conv1', data_format=IMAGE_ORDERING )(x)\n",
        "    x = Conv2D(512, (3, 3), activation='relu', padding='same', name='block4_conv2', data_format=IMAGE_ORDERING )(x)\n",
        "    x = Conv2D(512, (3, 3), activation='relu', padding='same', name='block4_conv3', data_format=IMAGE_ORDERING )(x)\n",
        "    pool4 = MaxPooling2D((2, 2), strides=(2, 2), name='block4_pool', data_format=IMAGE_ORDERING )(x)## (None, 14, 14, 512) \n",
        "\n",
        "    # Block 5\n",
        "    x = Conv2D(512, (3, 3), activation='relu', padding='same', name='block5_conv1', data_format=IMAGE_ORDERING )(pool4)\n",
        "    x = Conv2D(512, (3, 3), activation='relu', padding='same', name='block5_conv2', data_format=IMAGE_ORDERING )(x)\n",
        "    x = Conv2D(512, (3, 3), activation='relu', padding='same', name='block5_conv3', data_format=IMAGE_ORDERING )(x)\n",
        "    pool5 = MaxPooling2D((2, 2), strides=(2, 2), name='block5_pool', data_format=IMAGE_ORDERING )(x)## (None, 7, 7, 512)\n",
        "\n",
        "    #x = Flatten(name='flatten')(x)\n",
        "    #x = Dense(4096, activation='relu', name='fc1')(x)\n",
        "    # <--> o = ( Conv2D( 4096 , ( 7 , 7 ) , activation='relu' , padding='same', data_format=IMAGE_ORDERING))(o)\n",
        "    # assuming that the input_height = input_width = 224 as in VGG data\n",
        "    \n",
        "    #x = Dense(4096, activation='relu', name='fc2')(x)\n",
        "    # <--> o = ( Conv2D( 4096 , ( 1 , 1 ) , activation='relu' , padding='same', data_format=IMAGE_ORDERING))(o)   \n",
        "    # assuming that the input_height = input_width = 224 as in VGG data\n",
        "    \n",
        "    #x = Dense(1000 , activation='softmax', name='predictions')(x)\n",
        "    # <--> o = ( Conv2D( nClasses ,  ( 1 , 1 ) ,kernel_initializer='he_normal' , data_format=IMAGE_ORDERING))(o)\n",
        "    # assuming that the input_height = input_width = 224 as in VGG data\n",
        "    \n",
        "    \n",
        "    vgg  = Model(  img_input , pool5  )\n",
        "    vgg.load_weights(VGG_Weights_path) ## loading VGG weights for the encoder parts of FCN8\n",
        "    \n",
        "    n = 4096\n",
        "    o = ( Conv2D( n , ( 7 , 7 ) , activation='relu' , padding='same', name=\"conv6\", data_format=IMAGE_ORDERING))(pool5)\n",
        "    conv7 = ( Conv2D( n , ( 1 , 1 ) , activation='relu' , padding='same', name=\"conv7\", data_format=IMAGE_ORDERING))(o)\n",
        "    \n",
        "    \n",
        "    ## 4 times upsamping for pool4 layer\n",
        "    conv7_4 = Conv2DTranspose( nClasses , kernel_size=(4,4) ,  strides=(4,4) , use_bias=False, data_format=IMAGE_ORDERING )(conv7)\n",
        "    ## (None, 224, 224, 10)\n",
        "    ## 2 times upsampling for pool411\n",
        "    pool411 = ( Conv2D( nClasses , ( 1 , 1 ) , activation='relu' , padding='same', name=\"pool4_11\", data_format=IMAGE_ORDERING))(pool4)\n",
        "    pool411_2 = (Conv2DTranspose( nClasses , kernel_size=(2,2) ,  strides=(2,2) , use_bias=False, data_format=IMAGE_ORDERING ))(pool411)\n",
        "    \n",
        "    pool311 = ( Conv2D( nClasses , ( 1 , 1 ) , activation='relu' , padding='same', name=\"pool3_11\", data_format=IMAGE_ORDERING))(pool3)\n",
        "        \n",
        "    o = Add(name=\"add\")([pool411_2, pool311, conv7_4 ])\n",
        "    o = Conv2DTranspose( nClasses , kernel_size=(8,8) ,  strides=(8,8) , use_bias=False, data_format=IMAGE_ORDERING )(o)\n",
        "    o = (Activation('softmax'))(o)\n",
        "    \n",
        "    \n",
        "    model = Model(img_input, o)\n",
        "\n",
        "    return model\n",
        "\n",
        "model = FCN8()\n",
        "model.summary()\n"
      ],
      "execution_count": null,
      "outputs": [
        {
          "output_type": "stream",
          "text": [
            "Model: \"model_1\"\n",
            "__________________________________________________________________________________________________\n",
            "Layer (type)                    Output Shape         Param #     Connected to                     \n",
            "==================================================================================================\n",
            "input_1 (InputLayer)            [(None, 256, 256, 3) 0                                            \n",
            "__________________________________________________________________________________________________\n",
            "block1_conv1 (Conv2D)           (None, 256, 256, 64) 1792        input_1[0][0]                    \n",
            "__________________________________________________________________________________________________\n",
            "block1_conv2 (Conv2D)           (None, 256, 256, 64) 36928       block1_conv1[0][0]               \n",
            "__________________________________________________________________________________________________\n",
            "block1_pool (MaxPooling2D)      (None, 128, 128, 64) 0           block1_conv2[0][0]               \n",
            "__________________________________________________________________________________________________\n",
            "block2_conv1 (Conv2D)           (None, 128, 128, 128 73856       block1_pool[0][0]                \n",
            "__________________________________________________________________________________________________\n",
            "block2_conv2 (Conv2D)           (None, 128, 128, 128 147584      block2_conv1[0][0]               \n",
            "__________________________________________________________________________________________________\n",
            "block2_pool (MaxPooling2D)      (None, 64, 64, 128)  0           block2_conv2[0][0]               \n",
            "__________________________________________________________________________________________________\n",
            "block3_conv1 (Conv2D)           (None, 64, 64, 256)  295168      block2_pool[0][0]                \n",
            "__________________________________________________________________________________________________\n",
            "block3_conv2 (Conv2D)           (None, 64, 64, 256)  590080      block3_conv1[0][0]               \n",
            "__________________________________________________________________________________________________\n",
            "block3_conv3 (Conv2D)           (None, 64, 64, 256)  590080      block3_conv2[0][0]               \n",
            "__________________________________________________________________________________________________\n",
            "block3_pool (MaxPooling2D)      (None, 32, 32, 256)  0           block3_conv3[0][0]               \n",
            "__________________________________________________________________________________________________\n",
            "block4_conv1 (Conv2D)           (None, 32, 32, 512)  1180160     block3_pool[0][0]                \n",
            "__________________________________________________________________________________________________\n",
            "block4_conv2 (Conv2D)           (None, 32, 32, 512)  2359808     block4_conv1[0][0]               \n",
            "__________________________________________________________________________________________________\n",
            "block4_conv3 (Conv2D)           (None, 32, 32, 512)  2359808     block4_conv2[0][0]               \n",
            "__________________________________________________________________________________________________\n",
            "block4_pool (MaxPooling2D)      (None, 16, 16, 512)  0           block4_conv3[0][0]               \n",
            "__________________________________________________________________________________________________\n",
            "block5_conv1 (Conv2D)           (None, 16, 16, 512)  2359808     block4_pool[0][0]                \n",
            "__________________________________________________________________________________________________\n",
            "block5_conv2 (Conv2D)           (None, 16, 16, 512)  2359808     block5_conv1[0][0]               \n",
            "__________________________________________________________________________________________________\n",
            "block5_conv3 (Conv2D)           (None, 16, 16, 512)  2359808     block5_conv2[0][0]               \n",
            "__________________________________________________________________________________________________\n",
            "block5_pool (MaxPooling2D)      (None, 8, 8, 512)    0           block5_conv3[0][0]               \n",
            "__________________________________________________________________________________________________\n",
            "conv6 (Conv2D)                  (None, 8, 8, 4096)   102764544   block5_pool[0][0]                \n",
            "__________________________________________________________________________________________________\n",
            "pool4_11 (Conv2D)               (None, 16, 16, 2)    1026        block4_pool[0][0]                \n",
            "__________________________________________________________________________________________________\n",
            "conv7 (Conv2D)                  (None, 8, 8, 4096)   16781312    conv6[0][0]                      \n",
            "__________________________________________________________________________________________________\n",
            "conv2d_transpose_1 (Conv2DTrans (None, 32, 32, 2)    16          pool4_11[0][0]                   \n",
            "__________________________________________________________________________________________________\n",
            "pool3_11 (Conv2D)               (None, 32, 32, 2)    514         block3_pool[0][0]                \n",
            "__________________________________________________________________________________________________\n",
            "conv2d_transpose (Conv2DTranspo (None, 32, 32, 2)    131072      conv7[0][0]                      \n",
            "__________________________________________________________________________________________________\n",
            "add (Add)                       (None, 32, 32, 2)    0           conv2d_transpose_1[0][0]         \n",
            "                                                                 pool3_11[0][0]                   \n",
            "                                                                 conv2d_transpose[0][0]           \n",
            "__________________________________________________________________________________________________\n",
            "conv2d_transpose_2 (Conv2DTrans (None, 256, 256, 2)  256         add[0][0]                        \n",
            "__________________________________________________________________________________________________\n",
            "activation (Activation)         (None, 256, 256, 2)  0           conv2d_transpose_2[0][0]         \n",
            "==================================================================================================\n",
            "Total params: 134,393,428\n",
            "Trainable params: 134,393,428\n",
            "Non-trainable params: 0\n",
            "__________________________________________________________________________________________________\n"
          ],
          "name": "stdout"
        }
      ]
    },
    {
      "cell_type": "code",
      "metadata": {
        "id": "u7mXmatBpVHv"
      },
      "source": [
        "# inheritance for training process plot \n",
        "class PlotLearning(keras.callbacks.Callback):\n",
        "\tdef on_train_begin(self, logs={}):\n",
        "\t\tprint(\"train started\")\n",
        "\t\tself.i = 0\n",
        "\t\tself.x = []\n",
        "\t\tself.losses = []\n",
        "\t\tself.val_losses = []\n",
        "\t\tself.acc = []\n",
        "\t\tself.val_acc = []\n",
        "\t\t#self.fig = plt.figure()\n",
        "\t\tself.logs = []\n",
        "\tdef on_epoch_end(self, epoch, logs={}):\n",
        "\t\tself.logs.append(logs)\n",
        "\t\tself.x.append(self.i)\n",
        "\t\tself.losses.append(logs.get('loss'))\n",
        "\t\tself.val_losses.append(logs.get('val_loss'))\n",
        "\t\tself.acc.append(logs.get('mean_iou'))\n",
        "\t\tself.val_acc.append(logs.get('val_mean_iou'))\n",
        "\t\tself.i += 1\n",
        "\t\tprint('i=',self.i,'loss=',logs.get('loss'),'val_loss=',logs.get('val_loss'),'mean_iou=',logs.get('mean_iou'),'val_mean_iou=',logs.get('val_mean_iou'))\n",
        "\n",
        "\t\t#choose a random test image and preprocess\n",
        "\t\tf = np.random.choice(test_files)\n",
        "\t\traw = Image.open(dir_img_train + f'{f[:-17]}.jpg')\n",
        "\t\traw = np.array(raw.resize((256, 256)))/255.\n",
        "\t\traw = raw[:,:,0:3]\n",
        "\n",
        "\t\t#predict the mask \n",
        "\t\tpred = model.predict(np.expand_dims(raw, 0))\n",
        "\n",
        "\t\t#mask post-processing \n",
        "\t\tmsk  = pred.squeeze()\n",
        "\t\tmsk = np.stack((msk,)*3, axis=-1)\n",
        "\t\tmsk[msk >= 0.5] = 1 \n",
        "\t\tmsk[msk < 0.5] = 0 \n",
        "\n",
        "\t\t#show the mask and the segmented image \n",
        "\t\tcombined = np.concatenate([raw, msk, raw* msk], axis = 1)\n",
        "\t\tplt.axis('off')\n",
        "\t\tplt.imshow(combined)\n",
        "\t\tplt.show()\n",
        "\n"
      ],
      "execution_count": null,
      "outputs": []
    },
    {
      "cell_type": "code",
      "metadata": {
        "colab": {
          "base_uri": "https://localhost:8080/",
          "height": 232
        },
        "id": "TevdLB7sU6cq",
        "outputId": "d44cb5e5-177c-4fad-e6b6-43331051497f"
      },
      "source": [
        "train_steps = len(train_files) //batch_size\n",
        "test_steps = len(test_files) //batch_size\n",
        "from tensorflow.keras import optimizers\n",
        "\n",
        "# DENIS COMMENT: \n",
        "#Use without decay (1) decay\n",
        "# Try another comparing with another optimizer e.g adam\n",
        "# use epoch in the order of 100 > 200 > 500 >1000\n",
        "sgd = optimizers.SGD(lr=1E-2, decay=5**(-4), momentum=0.9, nesterov=True)\n",
        "model.compile(loss='categorical_crossentropy',\n",
        "              optimizer=sgd,\n",
        "              metrics=['accuracy'])\n",
        "model.fit(x = train_generator, validation_data = test_generator, epochs = 1, batch_size=64\n",
        "\t ,verbose = 2)\n"
      ],
      "execution_count": null,
      "outputs": [
        {
          "output_type": "error",
          "ename": "NameError",
          "evalue": "ignored",
          "traceback": [
            "\u001b[0;31m---------------------------------------------------------------------------\u001b[0m",
            "\u001b[0;31mNameError\u001b[0m                                 Traceback (most recent call last)",
            "\u001b[0;32m<ipython-input-11-dacc7124a224>\u001b[0m in \u001b[0;36m<module>\u001b[0;34m()\u001b[0m\n\u001b[0;32m----> 1\u001b[0;31m \u001b[0mtrain_steps\u001b[0m \u001b[0;34m=\u001b[0m \u001b[0mlen\u001b[0m\u001b[0;34m(\u001b[0m\u001b[0mtrain_files\u001b[0m\u001b[0;34m)\u001b[0m \u001b[0;34m//\u001b[0m\u001b[0mbatch_size\u001b[0m\u001b[0;34m\u001b[0m\u001b[0;34m\u001b[0m\u001b[0m\n\u001b[0m\u001b[1;32m      2\u001b[0m \u001b[0mtest_steps\u001b[0m \u001b[0;34m=\u001b[0m \u001b[0mlen\u001b[0m\u001b[0;34m(\u001b[0m\u001b[0mtest_files\u001b[0m\u001b[0;34m)\u001b[0m \u001b[0;34m//\u001b[0m\u001b[0mbatch_size\u001b[0m\u001b[0;34m\u001b[0m\u001b[0;34m\u001b[0m\u001b[0m\n\u001b[1;32m      3\u001b[0m \u001b[0;32mfrom\u001b[0m \u001b[0mtensorflow\u001b[0m\u001b[0;34m.\u001b[0m\u001b[0mkeras\u001b[0m \u001b[0;32mimport\u001b[0m \u001b[0moptimizers\u001b[0m\u001b[0;34m\u001b[0m\u001b[0;34m\u001b[0m\u001b[0m\n\u001b[1;32m      4\u001b[0m \u001b[0;34m\u001b[0m\u001b[0m\n\u001b[1;32m      5\u001b[0m \u001b[0;31m# DENIS COMMENT: Use without decay\u001b[0m\u001b[0;34m\u001b[0m\u001b[0;34m\u001b[0m\u001b[0;34m\u001b[0m\u001b[0m\n",
            "\u001b[0;31mNameError\u001b[0m: name 'train_files' is not defined"
          ]
        }
      ]
    },
    {
      "cell_type": "code",
      "metadata": {
        "id": "bfRa1lxcovMr"
      },
      "source": [
        "# prediction burda başlıyor\n",
        "\n",
        "any_test_image = '/Users/muratkara/Desktop/yüksek lisans çalışmalar/501/ph2 dataset/PH2 Dataset images/IMD374/IMD374_Dermoscopic_Image/IMD374.bmp'\n",
        "\n",
        "\n",
        "raw = Image.open(any_test_image)\n",
        "raw = np.array(raw.resize((256, 256)))/255.\n",
        "raw = raw[:,:,0:3]\n",
        "\n",
        "#predict the mask \n",
        "pred = model.predict(np.expand_dims(raw, 0))\n",
        "\n",
        "#mask post-processing \n",
        "msk  = pred.squeeze()\n",
        "msk = np.stack((msk,)*3, axis=-1)\n",
        "msk[msk >= 0.5] = 1 \n",
        "msk[msk < 0.5] = 0 \n",
        "\n",
        "#show the mask and the segmented image \n",
        "combined = np.concatenate([raw, msk, raw* msk], axis = 1)\n",
        "plt.axis('off')\n",
        "plt.imshow(combined)\n",
        "plt.show()\n"
      ],
      "execution_count": null,
      "outputs": []
    },
    {
      "cell_type": "code",
      "metadata": {
        "id": "FFGZ7qiNqy-v"
      },
      "source": [
        ""
      ],
      "execution_count": null,
      "outputs": []
    }
  ]
}