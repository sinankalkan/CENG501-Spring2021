{
 "cells": [
  {
   "cell_type": "markdown",
   "metadata": {
    "id": "NUGQB8X3vYOf"
   },
   "source": [
    "#Definitions"
   ]
  },
  {
   "cell_type": "code",
   "execution_count": 1,
   "metadata": {
    "id": "PV-ZfxPRthEi"
   },
   "outputs": [],
   "source": [
    "import torch\n",
    "import torchvision\n",
    "import torchvision.transforms as transforms\n",
    "import numpy as np\n",
    "import matplotlib.pyplot as plt"
   ]
  },
  {
   "cell_type": "markdown",
   "metadata": {
    "id": "5OhYgAFDvgnE"
   },
   "source": [
    "##Cifar10 Loader"
   ]
  },
  {
   "cell_type": "code",
   "execution_count": 2,
   "metadata": {
    "id": "4En3HJ93pmc1"
   },
   "outputs": [],
   "source": [
    "def get_cifar10_loaders(batch_size, partial=None, random=None):\n",
    "  transform = transforms.Compose(\n",
    "      [transforms.ToTensor(),\n",
    "      transforms.Normalize((0.5, 0.5, 0.5), (0.5, 0.5, 0.5))])\n",
    "\n",
    "  trainset = torchvision.datasets.CIFAR10(root='./data', train=True,\n",
    "                                          download=True, transform=transform)\n",
    "  \n",
    "  if random is not None:\n",
    "    temp = np.random.randint(10, size=len(trainset))\n",
    "    trainset.targets = [int(label) for label in temp]\n",
    "\n",
    "  if partial is not None:\n",
    "    indices = np.arange(0,len(trainset))\n",
    "    np.random.shuffle(indices)\n",
    "    trainloader = torch.utils.data.DataLoader(trainset, batch_size=batch_size,\n",
    "                                              shuffle=False, num_workers=2, \n",
    "                                              sampler=torch.utils.data.SubsetRandomSampler(indices[:partial]))\n",
    "  else:\n",
    "    trainloader = torch.utils.data.DataLoader(trainset, batch_size=batch_size,\n",
    "                                              shuffle=True, num_workers=2)\n",
    "\n",
    "  testset = torchvision.datasets.CIFAR10(root='./data', train=False,\n",
    "                                        download=True, transform=transform)\n",
    "  testloader = torch.utils.data.DataLoader(testset, batch_size=batch_size,\n",
    "                                          shuffle=False, num_workers=2)\n",
    "  return trainloader, testloader"
   ]
  },
  {
   "cell_type": "markdown",
   "metadata": {
    "id": "UkUx77ajvkzM"
   },
   "source": [
    "##Resnet implementation\n",
    "\n",
    "It is a slight modification of code from:\n",
    "\n",
    " https://github.com/hysts/pytorch_wrn/blob/master/wrn.py"
   ]
  },
  {
   "cell_type": "code",
   "execution_count": 3,
   "metadata": {
    "colab": {
     "base_uri": "https://localhost:8080/"
    },
    "id": "7sEVkS5XrhGF",
    "outputId": "6fc5c3ef-93f5-4c14-ef16-261b463ce9d0"
   },
   "outputs": [
    {
     "name": "stdout",
     "output_type": "stream",
     "text": [
      "\u001b[33mWARNING: Value for scheme.headers does not match. Please report this to <https://github.com/pypa/pip/issues/9617>\n",
      "distutils: /opt/conda/include/python3.8/UNKNOWN\n",
      "sysconfig: /opt/conda/include/python3.8\u001b[0m\n",
      "\u001b[33mWARNING: Additional context:\n",
      "user = False\n",
      "home = None\n",
      "root = None\n",
      "prefix = None\u001b[0m\n",
      "Requirement already satisfied: torchinfo in /opt/conda/lib/python3.8/site-packages (1.5.2)\n",
      "\u001b[33mWARNING: Value for scheme.headers does not match. Please report this to <https://github.com/pypa/pip/issues/9617>\n",
      "distutils: /opt/conda/include/python3.8/UNKNOWN\n",
      "sysconfig: /opt/conda/include/python3.8\u001b[0m\n",
      "\u001b[33mWARNING: Additional context:\n",
      "user = False\n",
      "home = None\n",
      "root = None\n",
      "prefix = None\u001b[0m\n"
     ]
    }
   ],
   "source": [
    "!pip install torchinfo"
   ]
  },
  {
   "cell_type": "code",
   "execution_count": 4,
   "metadata": {
    "id": "ZHYq571NoJf0"
   },
   "outputs": [],
   "source": [
    "import torch\n",
    "import torch.nn as nn\n",
    "import torch.optim\n",
    "import torch.utils.data\n",
    "import numpy as np\n",
    "import matplotlib.pyplot as plt\n",
    "from torchinfo import summary\n",
    "\n",
    "\n",
    "def initialize_weights(module):\n",
    "    if isinstance(module, nn.Conv2d):\n",
    "        nn.init.kaiming_normal_(module.weight.data, mode='fan_in')\n",
    "    elif isinstance(module, nn.BatchNorm2d):\n",
    "        module.weight.data.uniform_()\n",
    "        module.bias.data.zero_()\n",
    "    elif isinstance(module, nn.Linear):\n",
    "        module.bias.data.zero_()\n",
    "\n",
    "class BasicBlock(nn.Module):\n",
    "    def __init__(self, in_channels, out_channels, stride, drop_rate):\n",
    "        super(BasicBlock, self).__init__()\n",
    "\n",
    "        self.drop_rate = drop_rate\n",
    "\n",
    "        self._preactivate_both = (in_channels != out_channels)\n",
    "\n",
    "        self.bn1 = nn.BatchNorm2d(in_channels)\n",
    "        self.conv1 = nn.Conv2d(\n",
    "            in_channels,\n",
    "            out_channels,\n",
    "            kernel_size=3,\n",
    "            stride=stride,  # downsample with first conv\n",
    "            padding=1,\n",
    "            bias=False)\n",
    "\n",
    "        self.bn2 = nn.BatchNorm2d(out_channels)\n",
    "        self.conv2 = nn.Conv2d(\n",
    "            out_channels,\n",
    "            out_channels,\n",
    "            kernel_size=3,\n",
    "            stride=1,\n",
    "            padding=1,\n",
    "            bias=False)\n",
    "\n",
    "        self.shortcut = nn.Sequential()\n",
    "        if in_channels != out_channels:\n",
    "            self.shortcut.add_module(\n",
    "                'conv',\n",
    "                nn.Conv2d(\n",
    "                    in_channels,\n",
    "                    out_channels,\n",
    "                    kernel_size=1,\n",
    "                    stride=stride,  # downsample\n",
    "                    padding=0,\n",
    "                    bias=False))\n",
    "\n",
    "    def forward(self, x):\n",
    "        if self._preactivate_both:\n",
    "            x = nn.functional.relu(\n",
    "                self.bn1(x), inplace=True)  # shortcut after preactivation\n",
    "            y = self.conv1(x)\n",
    "        else:\n",
    "            y = nn.functional.relu(\n",
    "                self.bn1(x),\n",
    "                inplace=True)  # preactivation only for residual path\n",
    "            y = self.conv1(y)\n",
    "        if self.drop_rate > 0:\n",
    "            y = nn.functional.dropout(\n",
    "                y, p=self.drop_rate, training=self.training, inplace=False)\n",
    "\n",
    "        y = nn.functional.relu(self.bn2(y), inplace=True)\n",
    "        y = self.conv2(y)\n",
    "        y += self.shortcut(x)\n",
    "        return y\n",
    "\n",
    "class WideResNet(nn.Module):\n",
    "    def __init__(self, depth = 28, widening_factor = 4, base_channels =  64, n_classes =  10 ,  input_shape = (1, 3, 32, 32), drop_rate = 0):\n",
    "        super(WideResNet, self).__init__()\n",
    "\n",
    "        block = BasicBlock\n",
    "        n_blocks_per_stage = (depth - 4) // 6   # 4 blocks per group as in paper\n",
    "        assert n_blocks_per_stage * 6 + 4 == depth\n",
    "\n",
    "        n_channels = [\n",
    "            (int)(base_channels), \n",
    "            (int)(base_channels * widening_factor/4),\n",
    "            (int)(base_channels * widening_factor/2),\n",
    "            (int)(base_channels * widening_factor)\n",
    "        ]\n",
    "\n",
    "#         n_channels = [\n",
    "#             base_channels, base_channels * widening_factor,\n",
    "#             base_channels * 2 * widening_factor,\n",
    "#             base_channels * 4 * widening_factor\n",
    "#         ]\n",
    "\n",
    "        self.conv = nn.Conv2d(\n",
    "            input_shape[1],\n",
    "            n_channels[0],\n",
    "            kernel_size=5,    \n",
    "            stride=1,\n",
    "            padding=1,\n",
    "            bias=False)   # 3 changed to 5 for better visualization\n",
    "\n",
    "        self.stage1 = self._make_stage(\n",
    "            n_channels[0],\n",
    "            n_channels[1],\n",
    "            n_blocks_per_stage,\n",
    "            block,\n",
    "            stride=1,\n",
    "            drop_rate=drop_rate)\n",
    "        self.stage2 = self._make_stage(\n",
    "            n_channels[1],\n",
    "            n_channels[2],\n",
    "            n_blocks_per_stage,\n",
    "            block,\n",
    "            stride=2,\n",
    "            drop_rate=drop_rate)\n",
    "        self.stage3 = self._make_stage(\n",
    "            n_channels[2],\n",
    "            n_channels[3],\n",
    "            n_blocks_per_stage,\n",
    "            block,\n",
    "            stride=2,\n",
    "            drop_rate=drop_rate)\n",
    "        self.bn = nn.BatchNorm2d(n_channels[3])\n",
    "\n",
    "        # compute conv feature size\n",
    "        with torch.no_grad():\n",
    "            self.feature_size = self._forward_conv(\n",
    "                torch.zeros(*input_shape)).view(-1).shape[0]\n",
    "\n",
    "        self.fc = nn.Linear(self.feature_size, n_classes)\n",
    "\n",
    "        # initialize weights\n",
    "        self.apply(initialize_weights)\n",
    "\n",
    "    def _make_stage(self, in_channels, out_channels, n_blocks, block, stride,\n",
    "                    drop_rate):\n",
    "        stage = nn.Sequential()\n",
    "        for index in range(n_blocks):\n",
    "            block_name = 'block{}'.format(index + 1)\n",
    "            if index == 0:\n",
    "                stage.add_module(\n",
    "                    block_name,\n",
    "                    block(\n",
    "                        in_channels,\n",
    "                        out_channels,\n",
    "                        stride=stride,\n",
    "                        drop_rate=drop_rate))\n",
    "            else:\n",
    "                stage.add_module(\n",
    "                    block_name,\n",
    "                    block(\n",
    "                        out_channels,\n",
    "                        out_channels,\n",
    "                        stride=1,\n",
    "                        drop_rate=drop_rate))\n",
    "        return stage\n",
    "\n",
    "    def _forward_conv(self, x):\n",
    "        x = self.conv(x)\n",
    "        x = self.stage1(x)\n",
    "        x = self.stage2(x)\n",
    "        x = self.stage3(x)\n",
    "        x = nn.functional.relu(self.bn(x), inplace=True)\n",
    "        x = nn.functional.adaptive_avg_pool2d(x, output_size=1)\n",
    "        return x\n",
    "\n",
    "    def forward(self, x):\n",
    "        x = self._forward_conv(x)\n",
    "        x = x.view(x.size(0), -1)\n",
    "        x = self.fc(x)\n",
    "        return x"
   ]
  },
  {
   "cell_type": "markdown",
   "metadata": {
    "id": "UiXVWREyvyWd"
   },
   "source": [
    "#Optimizer"
   ]
  },
  {
   "cell_type": "code",
   "execution_count": 5,
   "metadata": {
    "id": "uUbMeU2fuH-E"
   },
   "outputs": [],
   "source": [
    "import torch.optim as optim\n",
    "from torch.optim.lr_scheduler import StepLR\n",
    "def get_training_components(learnable_params, init_lr, step_size=None, gamma=None):\n",
    "  '''\n",
    "  Function to prepare components of the training. These are all the same\n",
    "  throughout the experiments made.\n",
    "  '''\n",
    "  # The problem always be a image classification\n",
    "  criterion = nn.CrossEntropyLoss()\n",
    "  # Which parameters to be updated depends on if the training is done from scratch\n",
    "  # or with pre-trained model.\n",
    "  optimizer = optim.SGD(learnable_params, lr=init_lr, momentum=0.9)\n",
    "  # Step size depends on the # of epoch\n",
    "  if step_size is not None:\n",
    "    scheduler = StepLR(optimizer, step_size, gamma)\n",
    "    return (criterion, optimizer, scheduler)\n",
    "  return (criterion, optimizer)"
   ]
  },
  {
   "cell_type": "code",
   "execution_count": 6,
   "metadata": {
    "id": "xTa_k0-irYWE"
   },
   "outputs": [],
   "source": [
    "def get_device():\n",
    "  if torch.cuda.is_available():\n",
    "    print(\"Cuda (GPU support) is available and enabled!\")\n",
    "    device = torch.device(\"cuda\")\n",
    "  else:\n",
    "    print(\"Cuda (GPU support) is not available :(\")\n",
    "    device = torch.device(\"cpu\")"
   ]
  },
  {
   "cell_type": "markdown",
   "metadata": {
    "id": "gkf4cH83v4cs"
   },
   "source": [
    "#Trainer"
   ]
  },
  {
   "cell_type": "code",
   "execution_count": 7,
   "metadata": {
    "id": "uEF1uiJZqzgk"
   },
   "outputs": [],
   "source": [
    "def train(model, criterion, optimizer, epochs, dataloader, device, scheduler=None, verbose=True):\n",
    "  \"\"\"\n",
    "    Define the trainer function. We can use this for training any model.\n",
    "    The parameter names are self-explanatory.\n",
    "\n",
    "    Returns: the loss history.\n",
    "  \"\"\"\n",
    "  loss_history = [] \n",
    "  #validloss_history = []\n",
    "  misalignments = []\n",
    "  for epoch in range(epochs):\n",
    "    for i, data in enumerate(dataloader, 0):    \n",
    "      \n",
    "      # Our batch:\n",
    "      inputs, labels = data\n",
    "      inputs = inputs.to(device)\n",
    "      labels = labels.to(device)\n",
    "      #inputs = inputs.to(device)\n",
    "      #labels = labels.to(device)\n",
    "\n",
    "      # zero the gradients as PyTorch accumulates them\n",
    "      optimizer.zero_grad()\n",
    "\n",
    "      # Obtain the scores\n",
    "      outputs = model.forward(inputs)\n",
    "      #validoutputs = model.forward(validinputs)\n",
    "      # Calculate loss\n",
    "      outputs = outputs.to(device)\n",
    "      loss = criterion(outputs, labels)\n",
    "      #valid_loss = criterion(validoutputs, validlabels)\n",
    "      # Backpropagate\n",
    "      loss.backward()\n",
    "\n",
    "      # Update the weights\n",
    "      optimizer.step()\n",
    "\n",
    "      loss_history.append(loss.item())\n",
    "      #validloss_history.append(valid_loss.item())\n",
    "      \n",
    "    if verbose: print(f'Epoch {epoch} / {epochs}: avg. train loss of last 5 iterations {np.sum(loss_history[:-6:-1])/5}')\n",
    "\n",
    "  return loss_history "
   ]
  },
  {
   "cell_type": "markdown",
   "metadata": {
    "id": "cgp79lFnvcvk"
   },
   "source": [
    "#Training"
   ]
  },
  {
   "cell_type": "code",
   "execution_count": 8,
   "metadata": {
    "id": "a-DDcqmXuIS0"
   },
   "outputs": [],
   "source": [
    "def get_learnable_parameters(model):\n",
    "  params_to_update = []\n",
    "  for name, param in model.named_parameters():\n",
    "    if param.requires_grad == True:\n",
    "      # print(name)\n",
    "      params_to_update.append(param)\n",
    "  return params_to_update"
   ]
  },
  {
   "cell_type": "code",
   "execution_count": 9,
   "metadata": {
    "colab": {
     "base_uri": "https://localhost:8080/",
     "height": 300
    },
    "id": "9TEDcnO7pvBb",
    "outputId": "ecdb8e16-716a-4796-8c52-b3b1da7966c6"
   },
   "outputs": [
    {
     "name": "stdout",
     "output_type": "stream",
     "text": [
      "Files already downloaded and verified\n",
      "Files already downloaded and verified\n"
     ]
    },
    {
     "data": {
      "image/png": "[encoded data removed]",
      "text/plain": [
       "<Figure size 432x288 with 16 Axes>"
      ]
     },
     "metadata": {
      "needs_background": "light"
     },
     "output_type": "display_data"
    }
   ],
   "source": [
    "trainloader, _ = get_cifar10_loaders(256,random=True)\n",
    "\n",
    "dataiter = iter(trainloader)\n",
    "classes = ['plane', 'car', 'bird', 'cat', 'deer', 'dog', 'frog', 'horse', 'ship', 'truck']\n",
    "S = 4\n",
    "\n",
    "for i in range(S):\n",
    "  for j in range(S):\n",
    "    images, labels = dataiter.next()\n",
    "    X = np.transpose(images[0].numpy()/2+0.5, (1, 2, 0))\n",
    "    y = labels[0]\n",
    "\n",
    "    plt.subplot(S, S, i*S+j+1)\n",
    "    plt.imshow(X)\n",
    "    plt.axis('off')\n",
    "    plt.title(classes[y])\n",
    "    plt.subplots_adjust(hspace = 0.5)\n",
    "\n",
    "plt.show()"
   ]
  },
  {
   "cell_type": "code",
   "execution_count": 10,
   "metadata": {
    "colab": {
     "base_uri": "https://localhost:8080/"
    },
    "id": "GEc29l0mr2C0",
    "outputId": "60ada057-fd37-42b0-e43f-dc6b47077d00"
   },
   "outputs": [
    {
     "name": "stdout",
     "output_type": "stream",
     "text": [
      "Cuda (GPU support) is available and enabled!\n"
     ]
    }
   ],
   "source": [
    "WRN_28_4 = WideResNet(depth=28,widening_factor=4)\n",
    "device = get_device()\n",
    "WRN_28_4 = WRN_28_4.to(device)\n",
    "\n",
    "#epochs = 1800\n",
    "epochs = 50\n",
    "learning_rate = 0.01"
   ]
  },
  {
   "cell_type": "code",
   "execution_count": 11,
   "metadata": {
    "id": "rkfZ20oTuXen"
   },
   "outputs": [],
   "source": [
    "learnable_parameters = get_learnable_parameters(WRN_28_4)\n",
    "criterion, optimizer = get_training_components(learnable_parameters, learning_rate)"
   ]
  },
  {
   "cell_type": "code",
   "execution_count": 20,
   "metadata": {
    "collapsed": true,
    "id": "PSIVScjuvICE",
    "jupyter": {
     "outputs_hidden": true
    },
    "tags": []
   },
   "outputs": [
    {
     "name": "stdout",
     "output_type": "stream",
     "text": [
      "Epoch 0 / 50: avg. train loss of last 5 iterations 2.30069580078125\n",
      "Epoch 1 / 50: avg. train loss of last 5 iterations 2.301179599761963\n",
      "Epoch 2 / 50: avg. train loss of last 5 iterations 2.30072021484375\n",
      "Epoch 3 / 50: avg. train loss of last 5 iterations 2.2971303462982178\n",
      "Epoch 4 / 50: avg. train loss of last 5 iterations 2.2955164909362793\n",
      "Epoch 5 / 50: avg. train loss of last 5 iterations 2.281263732910156\n",
      "Epoch 6 / 50: avg. train loss of last 5 iterations 2.2782982349395753\n",
      "Epoch 7 / 50: avg. train loss of last 5 iterations 2.2905322074890138\n",
      "Epoch 8 / 50: avg. train loss of last 5 iterations 2.2807461261749267\n",
      "Epoch 9 / 50: avg. train loss of last 5 iterations 2.280224084854126\n",
      "Epoch 10 / 50: avg. train loss of last 5 iterations 2.249559783935547\n",
      "Epoch 11 / 50: avg. train loss of last 5 iterations 2.245261526107788\n",
      "Epoch 12 / 50: avg. train loss of last 5 iterations 2.215277814865112\n",
      "Epoch 13 / 50: avg. train loss of last 5 iterations 2.180090141296387\n",
      "Epoch 14 / 50: avg. train loss of last 5 iterations 2.1276580333709716\n",
      "Epoch 15 / 50: avg. train loss of last 5 iterations 2.1036914825439452\n",
      "Epoch 16 / 50: avg. train loss of last 5 iterations 2.042492318153381\n",
      "Epoch 17 / 50: avg. train loss of last 5 iterations 1.9259574174880982\n",
      "Epoch 18 / 50: avg. train loss of last 5 iterations 1.8368178606033325\n",
      "Epoch 19 / 50: avg. train loss of last 5 iterations 1.7167566061019897\n",
      "Epoch 20 / 50: avg. train loss of last 5 iterations 1.6605225563049317\n",
      "Epoch 21 / 50: avg. train loss of last 5 iterations 1.5425235748291015\n",
      "Epoch 22 / 50: avg. train loss of last 5 iterations 1.4700274467468262\n",
      "Epoch 23 / 50: avg. train loss of last 5 iterations 1.2692719936370849\n",
      "Epoch 24 / 50: avg. train loss of last 5 iterations 1.1960716724395752\n",
      "Epoch 25 / 50: avg. train loss of last 5 iterations 1.0278401136398316\n",
      "Epoch 26 / 50: avg. train loss of last 5 iterations 1.0159929394721985\n",
      "Epoch 27 / 50: avg. train loss of last 5 iterations 0.806858241558075\n",
      "Epoch 28 / 50: avg. train loss of last 5 iterations 0.6996360301971436\n",
      "Epoch 29 / 50: avg. train loss of last 5 iterations 0.5730701804161071\n",
      "Epoch 30 / 50: avg. train loss of last 5 iterations 0.47661532163619996\n",
      "Epoch 31 / 50: avg. train loss of last 5 iterations 0.41530134677886965\n",
      "Epoch 32 / 50: avg. train loss of last 5 iterations 0.3710736513137817\n",
      "Epoch 33 / 50: avg. train loss of last 5 iterations 0.3463411509990692\n",
      "Epoch 34 / 50: avg. train loss of last 5 iterations 0.25686809718608855\n",
      "Epoch 35 / 50: avg. train loss of last 5 iterations 0.21988717913627626\n",
      "Epoch 36 / 50: avg. train loss of last 5 iterations 0.24208232164382934\n",
      "Epoch 37 / 50: avg. train loss of last 5 iterations 0.18479869067668914\n",
      "Epoch 38 / 50: avg. train loss of last 5 iterations 0.1672014534473419\n",
      "Epoch 39 / 50: avg. train loss of last 5 iterations 0.12459424287080764\n",
      "Epoch 40 / 50: avg. train loss of last 5 iterations 0.09206453189253808\n",
      "Epoch 41 / 50: avg. train loss of last 5 iterations 0.06084878668189049\n",
      "Epoch 42 / 50: avg. train loss of last 5 iterations 0.016248242929577827\n",
      "Epoch 43 / 50: avg. train loss of last 5 iterations 0.005448965076357126\n",
      "Epoch 44 / 50: avg. train loss of last 5 iterations 0.0024830181617289783\n",
      "Epoch 45 / 50: avg. train loss of last 5 iterations 0.0013620310230180622\n",
      "Epoch 46 / 50: avg. train loss of last 5 iterations 0.001079462608322501\n",
      "Epoch 47 / 50: avg. train loss of last 5 iterations 0.000775299733504653\n",
      "Epoch 48 / 50: avg. train loss of last 5 iterations 0.000854260369669646\n",
      "Epoch 49 / 50: avg. train loss of last 5 iterations 0.0005898736766539514\n"
     ]
    }
   ],
   "source": [
    "loss_history = train(WRN_28_4, criterion, optimizer, epochs, trainloader, device)\n",
    "PATH = \"WRN_28_4.pt\"\n",
    "torch.save(WRN_28_4, PATH)\n",
    "with open('LossHist.npy', 'wb') as f:\n",
    "    np.save(f, loss_history)"
   ]
  },
  {
   "cell_type": "code",
   "execution_count": 12,
   "metadata": {},
   "outputs": [],
   "source": [
    "WRN_28_4 = torch.load(\"WRN_28_4.pt\")\n",
    "loss_history = np.load('LossHist.npy')"
   ]
  },
  {
   "cell_type": "code",
   "execution_count": 13,
   "metadata": {
    "id": "-dxZONLuxCk0"
   },
   "outputs": [
    {
     "data": {
      "image/png": "[encoded data removed]",
      "text/plain": [
       "<Figure size 432x288 with 1 Axes>"
      ]
     },
     "metadata": {
      "needs_background": "light"
     },
     "output_type": "display_data"
    }
   ],
   "source": [
    "import matplotlib.pyplot as plt # For plotting\n",
    "%matplotlib inline\n",
    "\n",
    "plt.plot(loss_history)\n",
    "plt.xlabel('# of iterations')\n",
    "plt.ylabel('Loss')\n",
    "plt.show()"
   ]
  },
  {
   "cell_type": "code",
   "execution_count": 14,
   "metadata": {},
   "outputs": [
    {
     "data": {
      "image/png": "[encoded data removed]",
      "text/plain": [
       "<Figure size 432x288 with 30 Axes>"
      ]
     },
     "metadata": {
      "needs_background": "light"
     },
     "output_type": "display_data"
    }
   ],
   "source": [
    "# show random 30 filters from the first convolutional layer\n",
    "\n",
    "weights = torch.clone(WRN_28_4.conv.weight).detach()\n",
    "weights = weights.permute(0,3,2,1).numpy()\n",
    "\n",
    "min_ = np.min(weights)\n",
    "max_ = np.max(weights)\n",
    "weights = (weights-min_)/(max_-min_)\n",
    "\n",
    "count = 0\n",
    "\n",
    "np.random.shuffle(weights)\n",
    "for i in range(6):\n",
    "  for j in range(5):\n",
    "    idx = i*5+j+1\n",
    "    plt.subplot(6, 5, idx)\n",
    "    plt.imshow(weights[count])\n",
    "\n",
    "    count+=1\n",
    "    plt.axis('off')\n",
    "\n",
    "plt.show()"
   ]
  },
  {
   "cell_type": "code",
   "execution_count": 12,
   "metadata": {
    "tags": []
   },
   "outputs": [
    {
     "name": "stdout",
     "output_type": "stream",
     "text": [
      "Files already downloaded and verified\n",
      "Files already downloaded and verified\n",
      "(5000, 784, 5, 5, 3)\n",
      "(3920000, 75)\n"
     ]
    }
   ],
   "source": [
    "from sklearn.feature_extraction import image\n",
    "from numpy import linalg as LA\n",
    "\n",
    "def create_patches_data(trainloader, patch_size):\n",
    "  # 32x32 images in CIFAR10, stride is 1\n",
    "  num_patches_per_image = ((32 - patch_size + 1)**2)\n",
    "  # 3 channels  \n",
    "  flattened_patches_length = (patch_size**2) * 3\n",
    "  data_matrix = None\n",
    "  batch = 1\n",
    "  patches_list = []\n",
    "  for data in trainloader:\n",
    "    inputs, labels = data\n",
    "    for i in range(len(inputs)):\n",
    "      img = inputs[i]\n",
    "      img = img.permute(1,2,0)\n",
    "      patches = image.extract_patches_2d(img, (patch_size, patch_size))\n",
    "      patches_list.append(patches)\n",
    "    batch+=1\n",
    "  patches_list = np.stack(patches_list, axis=0)\n",
    "  print(patches_list.shape)\n",
    "  data_matrix = np.reshape(patches_list, (-1, flattened_patches_length))\n",
    "  print(data_matrix.shape)\n",
    "  return data_matrix\n",
    "\n",
    "def create_eigs(data):\n",
    "  cov_matrix = np.cov(data , rowvar=False)\n",
    "  w, v = LA.eig(cov_matrix)\n",
    "  return w,v\n",
    "\n",
    "patch_size = 5\n",
    "trainloader, _ = get_cifar10_loaders(256, partial=5000)\n",
    "patches_data = create_patches_data(trainloader, patch_size)\n",
    "eig_vals_data, eig_vecs_data = create_eigs(patches_data)"
   ]
  },
  {
   "cell_type": "code",
   "execution_count": 77,
   "metadata": {},
   "outputs": [
    {
     "data": {
      "image/png": "[encoded data removed]",
      "text/plain": [
       "<Figure size 432x288 with 10 Axes>"
      ]
     },
     "metadata": {
      "needs_background": "light"
     },
     "output_type": "display_data"
    }
   ],
   "source": [
    "# show 10 eigenvectors of weights with largest eigenvalues\n",
    "\n",
    "dim = eig_vecs_data.shape[0]\n",
    "\n",
    "WRN_28_4 = torch.load(\"WRN_28_4.pt\")\n",
    "weights = torch.clone(WRN_28_4.conv.weight).detach()\n",
    "weights = weights.permute(0,3,2,1).numpy()\n",
    "weights = np.reshape(weights, (weights.shape[0], -1))\n",
    "cov_weights = np.cov(weights , rowvar=False)\n",
    "eig_vals_weights, eig_vecs_weights = LA.eig(cov_weights)\n",
    "eig_vecs_weights = np.real_if_close(eig_vecs_weights, tol=1)\n",
    "eig_vals_weights = np.real_if_close(eig_vals_weights, tol=1)\n",
    "\n",
    "sim_matrix = np.matmul(eig_vecs_weights.T, eig_vecs_data.T)\n",
    "mask = sim_matrix > 0.20\n",
    "\n",
    "sim_map = {}\n",
    "for i in range(dim):\n",
    "  row = mask[i,:]\n",
    "  result = np.where(row == True)[0]\n",
    "  sim_map[i] = result\n",
    "\n",
    "indices = np.flip(np.argsort(eig_vals_weights))\n",
    "largest_eig_vecs_weights = eig_vecs_weights[:,indices[:10]]\n",
    "\n",
    "min_ = np.min(largest_eig_vecs_weights)\n",
    "max_ = np.max(largest_eig_vecs_weights)\n",
    "largest_eig_vecs_weights = (largest_eig_vecs_weights-min_)/(max_-min_)\n",
    "\n",
    "count = 0\n",
    "for i in range(2):\n",
    "  for j in range(5):\n",
    "    idx = i*5+j+1\n",
    "    plt.subplot(2, 5, idx)\n",
    "    filter = largest_eig_vecs_weights[:,idx-1]\n",
    "    filter = np.reshape(filter, (patch_size, patch_size, 3))\n",
    "\n",
    "    plt.imshow(filter)\n",
    "\n",
    "    count+=1\n",
    "    plt.axis('off')\n",
    "    plt.subplots_adjust(hspace = 0.1, wspace = 0.1)\n",
    "\n",
    "plt.show()"
   ]
  },
  {
   "cell_type": "code",
   "execution_count": 75,
   "metadata": {},
   "outputs": [
    {
     "data": {
      "image/png": "[encoded data removed]",
      "text/plain": [
       "<Figure size 432x288 with 10 Axes>"
      ]
     },
     "metadata": {
      "needs_background": "light"
     },
     "output_type": "display_data"
    }
   ],
   "source": [
    "# show 10 eigenvectors of data with largest eigenvalues \n",
    "indices = np.flip(np.argsort(eig_vals_data))\n",
    "largest_eig_vecs_data = eig_vecs_data[:,indices[:10]]\n",
    "\n",
    "min_ = np.min(largest_eig_vecs_data)\n",
    "max_ = np.max(largest_eig_vecs_data)\n",
    "largest_eig_vecs_data = (largest_eig_vecs_data-min_)/(max_-min_)\n",
    "\n",
    "count = 0\n",
    "for i in range(2):\n",
    "  for j in range(5):\n",
    "    idx = i*5+j+1\n",
    "    plt.subplot(2, 5, idx)\n",
    "    \n",
    "    filter = largest_eig_vecs_data[:,idx-1]\n",
    "    filter = np.reshape(filter, (patch_size, patch_size, 3))\n",
    "\n",
    "    plt.imshow(filter)\n",
    "\n",
    "    count+=1\n",
    "    plt.axis('off')\n",
    "    plt.subplots_adjust(hspace = 0.1, wspace = 0.1)\n",
    "\n",
    "plt.show()\n"
   ]
  }
 ],
 "metadata": {
  "accelerator": "GPU",
  "colab": {
   "collapsed_sections": [],
   "name": "figure3.ipynb",
   "provenance": []
  },
  "kernelspec": {
   "display_name": "Python 3",
   "language": "python",
   "name": "python3"
  },
  "language_info": {
   "codemirror_mode": {
    "name": "ipython",
    "version": 3
   },
   "file_extension": ".py",
   "mimetype": "text/x-python",
   "name": "python",
   "nbconvert_exporter": "python",
   "pygments_lexer": "ipython3",
   "version": "3.8.8"
  }
 },
 "nbformat": 4,
 "nbformat_minor": 4
}
