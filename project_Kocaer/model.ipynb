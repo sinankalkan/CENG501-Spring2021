{
  "nbformat": 4,
  "nbformat_minor": 0,
  "metadata": {
    "colab": {
      "name": "model.ipynb ",
      "provenance": [],
      "collapsed_sections": []
    },
    "kernelspec": {
      "name": "python3",
      "display_name": "Python 3"
    },
    "language_info": {
      "name": "python"
    },
    "accelerator": "GPU"
  },
  "cells": [
    {
      "cell_type": "markdown",
      "metadata": {
        "id": "IkTQ23Kty9dT"
      },
      "source": [
        "#STAR"
      ]
    },
    {
      "cell_type": "markdown",
      "metadata": {
        "id": "Zvtad6HizEdZ"
      },
      "source": [
        "## 1 Import Modules\n",
        "In project been used torch, numpy modules."
      ]
    },
    {
      "cell_type": "code",
      "metadata": {
        "id": "QPNYYdSmKZpx"
      },
      "source": [
        "import numpy as np\n",
        "import os\n",
        "import torch\n",
        "import torch.nn as nn\n",
        "import scipy.sparse as sp\n",
        "from torch.autograd import Variable"
      ],
      "execution_count": null,
      "outputs": []
    },
    {
      "cell_type": "markdown",
      "metadata": {
        "id": "huVNx07azItr"
      },
      "source": [
        "## 2 Loading Models\n",
        "In this section, project datasets (female, male, neutral in terms of gender) are loaded. The gender to be used in the project is left to the user's choice. The user will enter the gender information as a string."
      ]
    },
    {
      "cell_type": "code",
      "metadata": {
        "colab": {
          "base_uri": "https://localhost:8080/"
        },
        "id": "93pNFpy0Kee2",
        "outputId": "9ba4d58d-a970-4393-e6ec-2d4f4c73496d"
      },
      "source": [
        " # Star has three gender; male, female,neutral. \n",
        "from google.colab import drive\n",
        "drive.mount('/content/drive')\n",
        "path_male=os.path.join('/content/drive/My Drive/project/male.npz')\n",
        "path_female=os.path.join('/content/drive/My Drive/project/female.npz')\n",
        "path_neutral=os.path.join('/content/drive/My Drive/project/neutral.npz')\n",
        "gender=str(input(\"Enter a gender: \"))\n",
        "if gender == 'male':\n",
        "  path_model = path_male\n",
        "elif gender == 'female':\n",
        "  path_model = path_female\n",
        "else:\n",
        "  path_model = path_neutral\n",
        "star = np.load(path_model,allow_pickle=True)  "
      ],
      "execution_count": null,
      "outputs": [
        {
          "output_type": "stream",
          "text": [
            "Mounted at /content/drive\n",
            "Enter a gender: male\n"
          ],
          "name": "stdout"
        }
      ]
    },
    {
      "cell_type": "markdown",
      "metadata": {
        "id": "MgwRrpIDxVxY"
      },
      "source": [
        "## 3 My Model\n",
        "Star is 3D human body estimation model. It is a vertex-based LBS model."
      ]
    },
    {
      "cell_type": "markdown",
      "metadata": {
        "id": "8kXkFC2_zOis"
      },
      "source": [
        "###3.1 Kinematic Tree\n",
        "Quaternion is a set representing joints in the kinematic tree."
      ]
    },
    {
      "cell_type": "code",
      "metadata": {
        "id": "ilg4Rr50xU6B"
      },
      "source": [
        "def quaternion(theta):\n",
        "  '''\n",
        "  Quaternions are used to represent rotations. Quaternion components are (x,y,z,w) axis. w is the scalar value.\n",
        "  A Quaternion can be represented as \"a + bi + cj + dk\".\n",
        "  With the scalar value next to the 3 vector values, each rotation matrix points to a single angle in the image set.\n",
        "  Cited: Sola,J.,2017. Quaternion kinematics for the error-state Kalman filter.\n",
        "  \n",
        "  '''\n",
        "  #This code cited by dariopavllo.github \n",
        "  #L1 Normalization \n",
        "  q_norm=torch.norm(theta+1e-8,p=2,dim=1) \n",
        "  angle=torch.unsqueeze(q_norm,-1)\n",
        "  normalize=torch.div(theta,angle)\n",
        "  sin=torch.sin(angle*0.5)\n",
        "  cos=torch.cos(angle*0.5)\n",
        "  quat=torch.cat([sin*normalize,cos-1],dim=1)\n",
        "  \n",
        "  return quat\n",
        "\n",
        "def quatmat(quat):\n",
        "\n",
        "  '''\n",
        "  Converts quaternion to rotation matrix.\n",
        "  This code cited by gulvarol\n",
        "  '''\n",
        "  normalize_q=quat/quat.norm(p=2,dim=1,keepdim=True)\n",
        "  qw=normalize_q[:,0]\n",
        "  qx=normalize_q[:,1]\n",
        "  qy=normalize_q[:,2]\n",
        "  qz=normalize_q[:,3]\n",
        "  xy=2*qx*qy\n",
        "  xz=2*qx*qz\n",
        "  yz=2*qy*qz\n",
        "  wx=2*qw*qx\n",
        "  wy=2*qw*qy\n",
        "  wz=2*qz*qy\n",
        "  x2=qx.pow(2)\n",
        "  y2=qy.pow(2)\n",
        "  z2=qz.pow(2)\n",
        "  w2=qw.pow(2)\n",
        "  rotMat=torch.stack([w2+x2-y2-z2,xy-wz,wy+xz,wz+xy,w2-x2+y2-z2,yz-wx,xz-wy,wx+yz,w2-x2-y2+z2],dim=1).view(quat.size(0),3,3)\n",
        "  \n",
        "  return rotMat"
      ],
      "execution_count": null,
      "outputs": []
    },
    {
      "cell_type": "markdown",
      "metadata": {
        "id": "nrDsmLLkzU59"
      },
      "source": [
        "### 3.2 Rodrigues\n",
        "Rodrigues represent joint angles."
      ]
    },
    {
      "cell_type": "code",
      "metadata": {
        "id": "mzPbnPK9xdv3"
      },
      "source": [
        "def Rodrigues(theta):\n",
        "  '''\n",
        "  Rodrigues rotation formula that turns axis-angle vector into rotation \n",
        "  matrix in a batch-ed manner.\n",
        "  Rotation matrix of shape [batch_size, 24, 3, 3].\n",
        "  theta: batch_size x number of joints x 3\n",
        "  '''\n",
        "  #L1 Normalization\n",
        "  q_norm=torch.norm(theta+1e-8,p=2,dim=1)\n",
        "  angle=torch.unsqueeze(q_norm,-1)\n",
        "  normalize=torch.div(theta,angle)\n",
        "  sin=torch.sin(angle*0.5)\n",
        "  cos=torch.cos(angle*0.5)\n",
        "  quat=torch.cat([cos,sin*normalize],dim=1)\n",
        "  \n",
        "  return quatmat(quat)\n",
        "\n",
        "# This code cited by CalciferZh\n",
        "def with_zeros(X):\n",
        "  '''\n",
        "    Append a [0, 0, 0, 1] vector to a batch of [3, 4] matrices.     \n",
        "    x: Tensor to be appended of shape [batch_size, 3, 4]\n",
        "    Tensor after appending of shape [batch_size, 4, 4]\n",
        "  '''\n",
        "  batch_size=X.shape[0]\n",
        "  row=torch.cuda.FloatTensor(([0.0,0.0,0.0,1.0]))\n",
        "  row.requires_grad=False\n",
        "  padded=torch.cat([X,row.view(1,1,4).repeat(batch_size,1,1)],1)\n",
        "  return padded"
      ],
      "execution_count": null,
      "outputs": []
    },
    {
      "cell_type": "markdown",
      "metadata": {
        "id": "j3sjmEl1zXtV"
      },
      "source": [
        "### 3.3 Model\n",
        "Libraries that define the human body in the loaded dataset are defined in this section. Then, the functions (blend and pose shape) in the article are shown in the forward() section to create the model."
      ]
    },
    {
      "cell_type": "code",
      "metadata": {
        "id": "pWkixCnIxicP"
      },
      "source": [
        "class MyStar(nn.Module):\n",
        "  def __init__(self,gender='male',num_beta=10):\n",
        "    super(MyStar,self).__init__()\n",
        "\n",
        "    '''\n",
        "    posedirs, v_template, J_regressor, weights are model dictionary.\n",
        "    num_beta: Parameter for model shape. A vector of shape [10].\n",
        "    v_template: Template mesh.\n",
        "    shapedirs: The tensor of PCA shape displacements.\n",
        "    posedirs: The pose coefficients.\n",
        "    J_regressor: The regressor array that is used to calculate the joints from the position of the vertices.\n",
        "    parents: The array that describes the kinematic tree for the model\n",
        "    weights: The linear blend skinning weights that represent how much the rotation matrix of each part affects each vertex\n",
        "  \n",
        "    '''\n",
        "    self.num_beta=num_beta\n",
        "    J_regressor = star['J_regressor']\n",
        "    # Model sparse joints regressor, regresses joints location from a mesh\n",
        "    self.register_buffer('J_regressor', torch.cuda.FloatTensor(J_regressor))\n",
        "    # Skinning weights\n",
        "    self.register_buffer('weights', torch.cuda.FloatTensor(star['weights']))\n",
        "    # Pose corrective blend shapes\n",
        "    self.register_buffer('posedirs', torch.cuda.FloatTensor(star['posedirs'].reshape((-1,93))))\n",
        "    # Mean Shape\n",
        "    self.register_buffer('v_template', torch.cuda.FloatTensor(star['v_template']))\n",
        "    # Shape corrective blend shapes\n",
        "    self.register_buffer('shapedirs', torch.cuda.FloatTensor(np.array(star['shapedirs'][:,:,:num_beta])))\n",
        "    # Mesh traingles\n",
        "    self.register_buffer('faces', torch.from_numpy(star['f'].astype(np.int64)))\n",
        "    #self.face = star['f']\n",
        "    # Kinematic tree \n",
        "    self.register_buffer('kintree_table', torch.from_numpy(star['kintree_table'].astype(np.int64)))\n",
        "    \n",
        "    id_to_col = {self.kintree_table[1, i].item(): i for i in range(self.kintree_table.shape[1])}\n",
        "    self.register_buffer('parent', torch.LongTensor(\n",
        "            [id_to_col[self.kintree_table[0, j].item()] for j in range(1, self.kintree_table.shape[1])]))\n",
        "    \n",
        "    self.verts=None\n",
        "    self.J = None\n",
        "    self.R = None\n",
        "    self.G = None\n",
        "\n",
        "  def forward(self, pose, betas , trans):\n",
        "\n",
        "    '''\n",
        "    pose: Also known as 'theta', a [24,3] matrix.\n",
        "          Represented in a axis-angle format.\n",
        "          Batch_size x 72 (3, each joint)\n",
        "    trans: Global translation of shape [3].\n",
        "    betas: Batch_size x 3\n",
        "    '''\n",
        "    device = pose.device\n",
        "    batch_size=pose.shape[0]\n",
        "    v_template=self.v_template[None,:]\n",
        "    shapedirs=self.shapedirs.view(-1,self.num_beta)[None,:].expand(batch_size,-1,-1)\n",
        "    beta=betas[:,:,None]\n",
        "    # Shape Blend Shape\n",
        "    blend_shape=torch.matmul(shapedirs,beta)\n",
        "    # Corrective blend shape\n",
        "    v_shaped=v_template+blend_shape.view(-1,6890,3) #Vshaped=T+Bs   \n",
        "    # Pose Blend Shape\n",
        "    pose_quat=quaternion(pose.view(-1,3)).view(batch_size,-1)\n",
        "    pose_feat=torch.cat((pose_quat[:,4:],beta[:,1]),1) \n",
        "    posedirs=self.posedirs[None, :].expand(batch_size, -1, -1)\n",
        "    pose_blend=torch.matmul(posedirs,pose_feat[:,:,None]).view(-1,6890,3)\n",
        "    # Corrective pose shape\n",
        "    v_posed=v_shaped+pose_blend \n",
        "    # Joint Location\n",
        "    self.J = torch.einsum('bik,ji->bjk', [v_shaped, self.J_regressor])\n",
        "    # Rotation matrix for each joint\n",
        "    self.R=Rodrigues(pose.view(-1,3)).view(batch_size,24,3,3) #Pose Angle (24*3)\n",
        "    R=self.R.view(batch_size,24,3,3)\n",
        "    # World transformation of each joint\n",
        "    J1=self.J.clone()\n",
        "    J1[:,1:,:]=self.J[:,1:,:]-self.J[:,self.parent,:]\n",
        "    G1=torch.cat([R,J1[:,:,:,None]],dim=-1)\n",
        "    row_pad=torch.FloatTensor([0,0,0,1]).to(device).view(1,1,1,4).expand(batch_size,24,-1,-1)\n",
        "    G1=torch.cat([G1,row_pad],dim=2)\n",
        "    self.G=[G1[:,0].clone()]\n",
        "    for i in range(1,24):\n",
        "      self.G.append(torch.matmul(self.G[self.parent[i-1]],G1[:,i,:,:]))\n",
        "    G=torch.stack(self.G,dim=1)\n",
        "    rest=torch.cat([self.J,torch.zeros(batch_size,24,1).to(device)],dim=2).view(batch_size,24,4,1)\n",
        "    zeros=torch.zeros(batch_size,24,4,3).to(device)\n",
        "    rest=torch.cat([zeros,rest],dim=-1)\n",
        "    rest=torch.matmul(G,rest)\n",
        "    G=G-rest\n",
        "    # Blend Skinning\n",
        "    T=torch.matmul(self.weights,G.permute(1,0,2,3).contiguous().view(24,-1)).view(6890,batch_size,4,4).transpose(0,1)\n",
        "    rest_shape_h=torch.cat([v_posed,torch.ones_like(v_posed)[:,:,[0]]],dim=-1)\n",
        "    v=torch.matmul(T,rest_shape_h[:,:,:,None])[:,:,:3,0]\n",
        "    v=v+trans[:,None,:]\n",
        "    v.faces=self.faces\n",
        "    v.v_posed=v_posed\n",
        "    v.v_shaped=v_shaped\n",
        "    # Batch of rigid transformations to the joint\n",
        "    root_trans=with_zeros(torch.cat((R[:,0],self.J[:,0][:,:,None]),2))\n",
        "    result=[root_trans]\n",
        "    for i in range(0,self.parent.shape[0]):\n",
        "      trans_i=with_zeros(torch.cat((R[:,i+1],self.J[:,i+1][:,:,None]-self.J[:,self.parent[i]][:,:,None]),2))\n",
        "      current_rest=torch.matmul(result[self.parent[i]],trans_i)\n",
        "      result.append(current_rest)\n",
        "    result=torch.stack(result,dim=1)\n",
        "    joint=result[:,:,:3,3]\n",
        "    v.J_transformed=joint+trans[:,None,:]\n",
        "    \n",
        "    return v"
      ],
      "execution_count": null,
      "outputs": []
    },
    {
      "cell_type": "markdown",
      "metadata": {
        "id": "jkGUR9zWxPaK"
      },
      "source": [
        "### Test GPU"
      ]
    },
    {
      "cell_type": "code",
      "metadata": {
        "colab": {
          "base_uri": "https://localhost:8080/"
        },
        "id": "plNZcTeAre37",
        "outputId": "45debb0d-0603-4e7e-e69f-2a3e4e098260"
      },
      "source": [
        "from time import time\n",
        "\n",
        "def test_gpu():\n",
        "    \n",
        "  device = torch.device('cuda')\n",
        "  batch_size=1\n",
        "  np.random.seed(9608)\n",
        "  model = MyStar()\n",
        "  time_list = []\n",
        "  for i in range(10):\n",
        "      poses = torch.cuda.FloatTensor(np.zeros((batch_size,72)))\n",
        "      poses = Variable(poses,requires_grad=True)\n",
        "      betas = torch.cuda.FloatTensor(np.zeros((batch_size,10)))\n",
        "      betas = Variable(betas,requires_grad=True)\n",
        "      trans = torch.cuda.FloatTensor(np.zeros((batch_size,3)))\n",
        "      trans = Variable(trans,requires_grad=True)      \n",
        "      s = time()\n",
        "      result = model(poses, betas, trans)\n",
        "      cost_time = time() - s\n",
        "      print(cost_time)\n",
        "      time_list.append(cost_time)\n",
        "  print('mean cost:', np.mean(time_list[1:]))\n",
        "  \n",
        "if __name__ == '__main__':\n",
        "  test_gpu()"
      ],
      "execution_count": null,
      "outputs": [
        {
          "output_type": "stream",
          "text": [
            "0.18075323104858398\n",
            "0.00896763801574707\n",
            "0.007368803024291992\n",
            "0.007143974304199219\n",
            "0.00713801383972168\n",
            "0.006975889205932617\n",
            "0.007117509841918945\n",
            "0.007091999053955078\n",
            "0.007129669189453125\n",
            "0.006811618804931641\n",
            "mean cost: 0.007305012808905708\n"
          ],
          "name": "stdout"
        }
      ]
    },
    {
      "cell_type": "markdown",
      "metadata": {
        "id": "bEt-yU1fzh_e"
      },
      "source": [
        "## 4 Mesh"
      ]
    },
    {
      "cell_type": "code",
      "metadata": {
        "id": "EbN5DmwyzkJZ"
      },
      "source": [
        "# This code cited by vchoutas on github\n",
        "def row(A):\n",
        "  return A.reshape((1,-1))\n",
        "\n",
        "def col(A):\n",
        "  return A.reshape((-1,1))\n",
        "\n",
        "def get_vert_connectivity(mesh_v,mesh_f):\n",
        "    '''\n",
        "    Returns a sparse matrix (of size #verts x #verts) where each nonzero\n",
        "    element indicates a neighborhood relation. For example, if there is a\n",
        "    nonzero element in position (15,12), that means vertex 15 is connected\n",
        "    by an edge to vertex 12.\n",
        "\n",
        "    '''\n",
        "    vpv=sp.csc_matrix((len(mesh_v),len(mesh_v)))\n",
        "    # for each column in the faces...\n",
        "    for i in range(3):\n",
        "        IS = mesh_f[:, i]\n",
        "        JS = mesh_f[:, (i + 1) % 3]\n",
        "        data = np.ones(len(IS))\n",
        "        ij = np.vstack((row(IS.flatten()), row(JS.flatten())))\n",
        "        mtx = sp.csc_matrix((data, ij), shape=vpv.shape)\n",
        "        vpv = vpv + mtx + mtx.T\n",
        "    return vpv\n",
        "\n",
        "def get_vertices_per_edge(mesh_v, mesh_f):\n",
        "\n",
        "    '''\n",
        "    Returns an Ex2 array of adjacencies between vertices, where\n",
        "    each element in the array is a vertex index. Each edge is included\n",
        "    only once. If output of get_faces_per_edge is provided, this is used to\n",
        "    avoid call to get_vert_connectivity()\n",
        "    \n",
        "    '''\n",
        "    vc = sp.coo_matrix(get_vert_connectivity(mesh_v, mesh_f))\n",
        "    result = np.hstack((col(vc.row), col(vc.col)))\n",
        "    result = result[result[:, 0] < result[:, 1]]  # for uniqueness\n",
        "    return result"
      ],
      "execution_count": null,
      "outputs": []
    },
    {
      "cell_type": "markdown",
      "metadata": {
        "id": "c6C9Hraezno3"
      },
      "source": [
        "## 5 Loss\n",
        "I calculated loss functions with L1 and L2 norm."
      ]
    },
    {
      "cell_type": "code",
      "metadata": {
        "id": "hzhlQbK0zp_8"
      },
      "source": [
        "# Edge Loss \n",
        "def edge_loss(input,target):\n",
        "    vpe = get_vert_connectivity(6890,input.faces)\n",
        "    edges_red = lambda x: x[:,vpe[:,0],:] - x[:,vpe[:,1],:]\n",
        "    edge_obj = edges_red(input) - edges_red(target)\n",
        "    return edge_obj\n",
        "\n",
        "# Vertices Loss \n",
        "def vert_loss(input,target):\n",
        "  vert_obj=torch.sum((input,target).pow(2))\n",
        "  return vert_obj\n",
        "\n",
        "# Mean Absolute Error\n",
        "def v2v_loss(input,target):\n",
        "  mae=torch.mean(torch.sqrt(torch.sum((input-target).pow(2),dim=-1)))\n",
        "  return mae"
      ],
      "execution_count": null,
      "outputs": []
    },
    {
      "cell_type": "markdown",
      "metadata": {
        "id": "92q8HGUjzwC_"
      },
      "source": [
        "## 6 Smpl --> Star\n",
        "In this section, SMPL vertices are converted to STAR parameters in order to obtain SMPL and STAR output according to two different datasets in the article."
      ]
    },
    {
      "cell_type": "code",
      "metadata": {
        "id": "dVEg63pfz1RG"
      },
      "source": [
        "def smpl_2_star(target,edge_iter,vert_iter,num_beta):\n",
        "    \n",
        "    smpl = torch.cuda.FloatTensor(target)\n",
        "    batch_size = smpl.shape[0]\n",
        "    global_pose = torch.cuda.FloatTensor(np.zeros((batch_size, 3)))\n",
        "    global_pose = Variable(global_pose, requires_grad=True)\n",
        "    joint_pose = torch.cuda.FloatTensor(np.zeros((batch_size, 72 - 3)))\n",
        "    joint_pose = Variable(joint_pose, requires_grad=True)\n",
        "    betas = torch.cuda.FloatTensor(np.zeros((batch_size, num_beta)))\n",
        "    betas = Variable(betas, requires_grad=True)\n",
        "    trans = torch.cuda.FloatTensor(np.zeros((batch_size, 3)))\n",
        "    trans = Variable(trans, requires_grad=True)\n",
        "    poses=torch.cat((global_pose,joint_pose),1)\n",
        "    model=MyStar(num_beta=num_beta)\n",
        "    input=model(poses,betas,trans)\n",
        "    tr_poses = poses.detach().cpu().numpy()\n",
        "    tr_betas = betas.detach().cpu().numpy()\n",
        "    tr_trans = trans.detach().cpu().numpy()\n",
        "    tr_verts = input.detach().cpu().numpy()\n",
        "    \n",
        "    return tr_poses , tr_betas , tr_trans , tr_verts"
      ],
      "execution_count": null,
      "outputs": []
    },
    {
      "cell_type": "markdown",
      "metadata": {
        "id": "IB3uFg42z7s7"
      },
      "source": [
        "## 7 Trainer"
      ]
    },
    {
      "cell_type": "code",
      "metadata": {
        "id": "9tdYQkhW0AI2"
      },
      "source": [
        "def train(global_pose,joint_pose,poses,betas,trans,edge_iter,vert_iter,optimizer_edge,optimizer_vert,target):\n",
        "  for i in range(edge_iter):\n",
        "    input=model(poses,betas,trans)\n",
        "    loss=torch.sum(edge_loss(input,target)**2)\n",
        "    optimizer_edge.zero_grad()\n",
        "    loss.backward()\n",
        "    optimizer_edge.step()\n",
        "    return loss\n",
        "  \n",
        "  for i in range(vert_iter):\n",
        "    input=model(poses,betas,trans)\n",
        "    loss=torch.sum(vert_loss(input,target)**2)\n",
        "    optimizer_vert.zero_grad()\n",
        "    loss.backward()\n",
        "    optimizer_vert.step()\n",
        "    return loss"
      ],
      "execution_count": null,
      "outputs": []
    },
    {
      "cell_type": "code",
      "metadata": {
        "id": "5VDkQp8d0Cm1"
      },
      "source": [
        "path_smpl = os.path.join('/content/drive/My Drive/project/smpl_meshes.npy')\n",
        "edge_iter=100\n",
        "vert_iter=1500\n",
        "learning_rate=0.01\n",
        "num_beta=10\n",
        "params = {'edge_iter':edge_iter ,\n",
        "          'vert_iter':vert_iter,\n",
        "          'num_beta':num_beta}\n",
        "\n",
        "smpl = np.load(path_smpl)\n",
        "tr_poses , tr_betas , tr_trans , tr_verts= smpl_2_star(smpl,**params)\n",
        "results = {'poses':tr_poses,'betas':tr_betas,'trans':tr_trans,'verts':tr_verts}"
      ],
      "execution_count": null,
      "outputs": []
    },
    {
      "cell_type": "code",
      "metadata": {
        "id": "-lAcNXyf0EHp"
      },
      "source": [
        "# Let's save the converted SMPL parameters.\n",
        "path_save= ('save.npy')\n",
        "np.save(path_save,results)"
      ],
      "execution_count": null,
      "outputs": []
    },
    {
      "cell_type": "markdown",
      "metadata": {
        "id": "x4ScCtpMz_Fs"
      },
      "source": [
        "## 8 Visualize Model\n",
        "Model will visualized."
      ]
    },
    {
      "cell_type": "code",
      "metadata": {
        "id": "dYcSLB7Y0Hrc"
      },
      "source": [
        "# This code cited by gulvarol on github.\n",
        "from matplotlib import pyplot as plt\n",
        "from mpl_toolkits.mplot3d import Axes3D\n",
        "from mpl_toolkits.mplot3d.art3d import Poly3DCollection\n",
        "\n",
        "def display_model(model_info,model_faces=None,\n",
        "                  plot_joints=False,kintree_table=None,\n",
        "                  ax=None,batch_idx=0,show=True,savepath=None):\n",
        "  if ax is None:\n",
        "    fig=plt.figure()\n",
        "    ax=fig.add_subplot(111,projection='3d')\n",
        "    verts,joints=model_info['vertices'][batch_idx], model_info['joints'][batch_idx]\n",
        "    if model_faces is None:\n",
        "      ax.scatter(verts[:,0],verts[:,1],verts[:,2],s=0.2,c='k')\n",
        "    else:\n",
        "      mesh=Poly3DCollection(verts[model_faces],alpha=0.3)\n",
        "      face_color = (128 / 128, 128 / 128, 128 / 128)\n",
        "      edge_color = (48 / 128, 48/ 128, 48/ 128)\n",
        "      mesh.set_edgecolor(edge_color)\n",
        "      mesh.set_facecolor(face_color)\n",
        "      ax.add_collection3d(mesh)\n",
        "    \n",
        "    if plot_joints:\n",
        "        draw_skeleton(joints, kintree_table=kintree_table, ax=ax)\n",
        "    ax.set_xlabel('X')\n",
        "    ax.set_ylabel('Y')\n",
        "    ax.set_zlabel('Z')\n",
        "    ax.set_xlim(-0.7,0.7)\n",
        "    ax.set_ylim(-0.7,0.7)\n",
        "    ax.set_zlim(-0.7,0.7)\n",
        "    ax.view_init(azim=-90, elev=100)\n",
        "    fig.subplots_adjust(left=0, right=1, bottom=0, top=1)\n",
        "    ax.axis('off')\n",
        "    if savepath:\n",
        "        print('Saving figure at {}.'.format(savepath))\n",
        "        plt.savefig(savepath, bbox_inches='tight', pad_inches=0)\n",
        "    if show:\n",
        "        plt.show()\n",
        "    return ax\n",
        "    \n",
        "def draw_skeleton(joints3D, kintree_table, ax=None):\n",
        "  if ax is None:\n",
        "        fig = plt.figure(frameon=False)\n",
        "        ax = fig.add_subplot(111, projection='3d')\n",
        "  else:\n",
        "        ax = ax\n",
        "  # For each 24 joint\n",
        "  for i in range(1, 24):\n",
        "      j1 = kintree_table[0][i]\n",
        "      j2 = kintree_table[1][i]\n",
        "      ax.plot([joints3D[j1, 0], joints3D[j2, 0]],\n",
        "              [joints3D[j1, 1], joints3D[j2, 1]],\n",
        "              [joints3D[j1, 2], joints3D[j2, 2]]) \n",
        "    \n",
        "  return ax"
      ],
      "execution_count": null,
      "outputs": []
    },
    {
      "cell_type": "code",
      "metadata": {
        "colab": {
          "base_uri": "https://localhost:8080/",
          "height": 353
        },
        "id": "697JB5z00KRm",
        "outputId": "7c776711-d8fc-43e6-941f-b48f31bec653"
      },
      "source": [
        "batch_size=1\n",
        "num_beta=10\n",
        "m = MyStar(gender='male',num_beta=num_beta)\n",
        "betas=torch.cuda.FloatTensor(np.zeros((batch_size,10)))\n",
        "poses = torch.cuda.FloatTensor(np.zeros((batch_size,72)))\n",
        "trans = torch.cuda.FloatTensor(np.zeros((batch_size,3)))\n",
        "mystar = m.forward(poses,betas,trans)\n",
        "shaped = mystar.v_shaped[-1, :, :]\n",
        "display_model(\n",
        "        {'vertices': mystar.cpu().detach(),\n",
        "         'joints': mystar.cpu().detach()},\n",
        "        model_faces=m.faces,\n",
        "        plot_joints=True,\n",
        "        kintree_table=m.kintree_table,\n",
        "        savepath='image.png',\n",
        "        show=True)"
      ],
      "execution_count": null,
      "outputs": [
        {
          "output_type": "stream",
          "text": [
            "Saving figure at image.png.\n"
          ],
          "name": "stdout"
        },
        {
          "output_type": "display_data",
          "data": {
            "image/png": "[encoded data removed]",
            "text/plain": [
              "<Figure size 432x288 with 1 Axes>"
            ]
          },
          "metadata": {
            "tags": [],
            "needs_background": "light"
          }
        },
        {
          "output_type": "execute_result",
          "data": {
            "text/plain": [
              "<matplotlib.axes._subplots.Axes3DSubplot at 0x7f8ee4309190>"
            ]
          },
          "metadata": {
            "tags": []
          },
          "execution_count": 50
        }
      ]
    }
  ]
}