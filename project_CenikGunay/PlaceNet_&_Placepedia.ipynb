{
  "nbformat": 4,
  "nbformat_minor": 0,
  "metadata": {
    "colab": {
      "name": "PlaceNet & Placepedia.ipynb",
      "provenance": [],
      "collapsed_sections": [],
      "toc_visible": true
    },
    "kernelspec": {
      "display_name": "Python 3",
      "name": "python3"
    },
    "language_info": {
      "name": "python"
    },
    "accelerator": "GPU"
  },
  "cells": [
    {
      "cell_type": "markdown",
      "metadata": {
        "id": "EUQ5EpoqsOsT"
      },
      "source": [
        "# 1.Import modules"
      ]
    },
    {
      "cell_type": "code",
      "metadata": {
        "id": "XmE59tLzsRVV"
      },
      "source": [
        "import matplotlib.pyplot as plt # For plotting\n",
        "import numpy as np              # NumPy, for working with arrays/tensors \n",
        "import time                     # For measuring time\n",
        "import random                   # Python's random library\n",
        "\n",
        "import json\n",
        "import glob\n",
        "import os\n",
        "\n",
        "from PIL import Image\n",
        "\n",
        "\n",
        "# PyTorch libraries:\n",
        "import torch\n",
        "import torch.nn as nn\n",
        "import torch.nn.functional as F\n",
        "import torchvision\n",
        "import torchvision.transforms as transforms\n",
        "import torch.optim as optim\n",
        "from torch.utils.data import Dataset\n",
        "from torch.utils.data import DataLoader\n"
      ],
      "execution_count": null,
      "outputs": []
    },
    {
      "cell_type": "markdown",
      "metadata": {
        "id": "_t25r-_aQeou"
      },
      "source": [
        "# 2.Enable GPU"
      ]
    },
    {
      "cell_type": "code",
      "metadata": {
        "colab": {
          "base_uri": "https://localhost:8080/"
        },
        "id": "mZdc0zt0Qgze",
        "outputId": "131f86af-5cab-4b8a-b296-503defff21e3"
      },
      "source": [
        "if torch.cuda.is_available():\n",
        "  print(\"Cuda (GPU support) is available and enabled!\")\n",
        "  device = torch.device(\"cuda\")\n",
        "else:\n",
        "  print(\"Cuda (GPU support) is not available :(\")\n",
        "  device = torch.device(\"cpu\")"
      ],
      "execution_count": null,
      "outputs": [
        {
          "output_type": "stream",
          "text": [
            "Cuda (GPU support) is available and enabled!\n"
          ],
          "name": "stdout"
        }
      ]
    },
    {
      "cell_type": "markdown",
      "metadata": {
        "id": "pj77s3R8GCNO"
      },
      "source": [
        "# 3.Download Placepedia"
      ]
    },
    {
      "cell_type": "code",
      "metadata": {
        "colab": {
          "base_uri": "https://localhost:8080/"
        },
        "id": "b-zdu6sZGMUO",
        "outputId": "8ef5f0f1-9f00-462b-a4e2-a003c1ff943e"
      },
      "source": [
        "!wget https://download.openmmlab.com/datasets/placepedia/Places-Fine.zip\n",
        "!unzip Places-Fine.zip"
      ],
      "execution_count": null,
      "outputs": [
        {
          "output_type": "stream",
          "text": [
            "--2021-07-27 23:20:46--  https://download.openmmlab.com/datasets/placepedia/Places-Fine.zip\n",
            "Resolving download.openmmlab.com (download.openmmlab.com)... 47.88.36.78\n",
            "Connecting to download.openmmlab.com (download.openmmlab.com)|47.88.36.78|:443... connected.\n",
            "HTTP request sent, awaiting response... 200 OK\n",
            "Length: 19223705488 (18G) [application/zip]\n",
            "Saving to: ‘Places-Fine.zip’\n",
            "\n",
            "Places-Fine.zip       0%[                    ]  44.09M  10.5MB/s    eta 34m 40s^C\n",
            "Archive:  Places-Fine.zip\n",
            "  End-of-central-directory signature not found.  Either this file is not\n",
            "  a zipfile, or it constitutes one disk of a multi-part archive.  In the\n",
            "  latter case the central directory and zipfile comment will be found on\n",
            "  the last disk(s) of this archive.\n",
            "unzip:  cannot find zipfile directory in one of Places-Fine.zip or\n",
            "        Places-Fine.zip.zip, and cannot find Places-Fine.zip.ZIP, period.\n"
          ],
          "name": "stdout"
        }
      ]
    },
    {
      "cell_type": "markdown",
      "metadata": {
        "id": "Hbhni9oZu-mj"
      },
      "source": [
        "# 4.Create custom pytorch dataset"
      ]
    },
    {
      "cell_type": "code",
      "metadata": {
        "id": "yqAH9mipvBXM"
      },
      "source": [
        "class PlacepediaDataset(Dataset):\n",
        "    def __init__(self, train_json_path, image_folders_path, transform=None):\n",
        "        super().__init__()\n",
        "        self.transform = transform\n",
        "        # initialize the arrays to store the ground truth labels and paths to the images\n",
        "        self.data = []\n",
        "        self.place_labels = []\n",
        "        self.city_labels = []\n",
        "        self.country_labels = []\n",
        "        self.function_labels = []\n",
        "        self.type_labels = []\n",
        "     \n",
        "        # read labels from the JSON file\n",
        "        f = open(train_json_path)\n",
        "        train_labels = json.load(f)\n",
        " \n",
        "        print(json.dumps(train_labels,indent=4,sort_keys=False))\n",
        " \n",
        "        for key in train_labels:\n",
        "            folder_name = train_labels[key]['name_en']\n",
        "\n",
        "            for img_path in os.listdir(image_folders_path + '/' + folder_name):\n",
        "                self.data.append(image_folders_path + '/' + folder_name + '/' + img_path)\n",
        "                self.place_labels.append(int(key))\n",
        "                self.city_labels.append(train_labels[key]['city'])\n",
        "                self.country_labels.append(train_labels[key]['country'])\n",
        "                self.function_labels.append(train_labels[key]['function'])\n",
        "                self.type_labels.append(train_labels[key]['type'])\n",
        " \n",
        "    def __len__(self):\n",
        "        return len(self.data)\n",
        " \n",
        "    def __getitem__(self, idx):\n",
        "        # take the data sample by its index\n",
        "        img_path = self.data[idx]\n",
        "    \n",
        "        # read image\n",
        "        img = Image.open(img_path)\n",
        "    \n",
        "        # apply the image augmentations if needed\n",
        "        if self.transform:\n",
        "            img = self.transform(img)\n",
        "    \n",
        "        # return the image and all the associated labels\n",
        "        dict_data = {\n",
        "            'img': img,\n",
        "            'labels': {\n",
        "                'place_labels': self.place_labels[idx],\n",
        "                'city_labels': self.city_labels[idx],\n",
        "                'country_labels': self.country_labels[idx],\n",
        "                'function_labels': self.function_labels[idx],\n",
        "                'type_labels': self.type_labels[idx]\n",
        "            }\n",
        "        }\n",
        "        return dict_data"
      ],
      "execution_count": null,
      "outputs": []
    },
    {
      "cell_type": "markdown",
      "metadata": {
        "id": "JDOQv5JUcPBX"
      },
      "source": [
        "# 5.Construct PlaceNet"
      ]
    },
    {
      "cell_type": "markdown",
      "metadata": {
        "id": "muQj-SyYShV2"
      },
      "source": [
        "### 5.1 Duplicate last layers of ResNet50"
      ]
    },
    {
      "cell_type": "code",
      "metadata": {
        "id": "9R76-ACJS6Tr"
      },
      "source": [
        "model_urls = {\\\n",
        "'resnet18': 'https://download.pytorch.org/models/resnet18-5c106cde.pth',\\\n",
        "'resnet34': 'https://download.pytorch.org/models/resnet34-333f7ec4.pth',\\\n",
        "'resnet50': 'https://download.pytorch.org/models/resnet50-19c8e357.pth',\\\n",
        "'resnet101': 'https://download.pytorch.org/models/resnet101-5d3b4d8f.pth',\\\n",
        "'resnet152': 'https://download.pytorch.org/models/resnet152-b121ed2d.pth',\\\n",
        "'resnext50_32x4d': 'https://download.pytorch.org/models/resnext50_32x4d-7cdf4587.pth',\\\n",
        "'resnext101_32x8d': 'https://download.pytorch.org/models/resnext101_32x8d-8ba56ff5.pth',\\\n",
        "'wide_resnet50_2': 'https://download.pytorch.org/models/wide_resnet50_2-95faca4d.pth',\\\n",
        "'wide_resnet101_2': 'https://download.pytorch.org/models/wide_resnet101_2-32ee1156.pth',\\\n",
        "}\n",
        "\n",
        "def conv1x1(in_planes, out_planes, stride=1):\n",
        "    return nn.Conv2d(in_planes, out_planes, kernel_size=1, stride=stride, bias=False)\n",
        "\n",
        "\n",
        "def conv3x3(in_planes, out_planes, stride=1, groups=1, dilation=1):\n",
        "    return nn.Conv2d(in_planes, out_planes, kernel_size=3, stride=stride,padding=dilation, groups=groups, bias=False, dilation=dilation)\n",
        "\n",
        "\n",
        "class BasicBlock(nn.Module):\n",
        "    expansion = 1\n",
        " \n",
        "    def __init__(self, inplanes, planes, stride=1, downsample=None, groups=1,\n",
        "                 base_width=64, dilation=1, norm_layer=None):\n",
        "        super(BasicBlock, self).__init__()\n",
        "        if norm_layer is None:\n",
        "            norm_layer = nn.BatchNorm2d\n",
        "        if groups != 1 or base_width != 64:\n",
        "            raise ValueError('BasicBlock only supports groups=1 and base_width=64')\n",
        "        if dilation > 1:\n",
        "            raise NotImplementedError(\"Dilation > 1 not supported in BasicBlock\")\n",
        "        # Both self.conv1 and self.downsample layers downsample the input when stride != 1\n",
        "        self.conv1 = conv3x3(inplanes, planes, stride)\n",
        "        self.bn1 = norm_layer(planes)\n",
        "        self.relu = nn.ReLU(inplace=True)\n",
        "        self.conv2 = conv3x3(planes, planes)\n",
        "        self.bn2 = norm_layer(planes)\n",
        "        self.downsample = downsample\n",
        "        self.stride = stride\n",
        " \n",
        "    def forward(self, x):\n",
        "        identity = x\n",
        " \n",
        "        out = self.conv1(x)\n",
        "        out = self.bn1(out)\n",
        "        out = self.relu(out)\n",
        " \n",
        "        out = self.conv2(out)\n",
        "        out = self.bn2(out)\n",
        " \n",
        "        if self.downsample is not None:\n",
        "            identity = self.downsample(x)\n",
        " \n",
        "        out += identity\n",
        "        out = self.relu(out)\n",
        " \n",
        "        return out\n",
        "\n",
        "\n",
        "class Bottleneck(nn.Module):\n",
        "    # Bottleneck in torchvision places the stride for downsampling at 3x3 convolution(self.conv2)\n",
        "    # while original implementation places the stride at the first 1x1 convolution(self.conv1)\n",
        "    # according to \"Deep residual learning for image recognition\"https://arxiv.org/abs/1512.03385.\n",
        "    # This variant is also known as ResNet V1.5 and improves accuracy according to\n",
        "    # https://ngc.nvidia.com/catalog/model-scripts/nvidia:resnet_50_v1_5_for_pytorch.\n",
        " \n",
        "    expansion = 4\n",
        " \n",
        "    def __init__(self, inplanes, planes, stride=1, downsample=None, groups=1,\n",
        "                 base_width=64, dilation=1, norm_layer=None):\n",
        "        super(Bottleneck, self).__init__()\n",
        "        if norm_layer is None:\n",
        "            norm_layer = nn.BatchNorm2d\n",
        "        width = int(planes * (base_width / 64.)) * groups\n",
        "        # Both self.conv2 and self.downsample layers downsample the input when stride != 1\n",
        "        self.conv1 = conv1x1(inplanes, width)\n",
        "        self.bn1 = norm_layer(width)\n",
        "        self.conv2 = conv3x3(width, width, stride, groups, dilation)\n",
        "        self.bn2 = norm_layer(width)\n",
        "        self.conv3 = conv1x1(width, planes * self.expansion)\n",
        "        self.bn3 = norm_layer(planes * self.expansion)\n",
        "        self.relu = nn.ReLU(inplace=True)\n",
        "        self.downsample = downsample\n",
        "        self.stride = stride\n",
        " \n",
        "    def forward(self, x):\n",
        "        identity = x\n",
        " \n",
        "        out = self.conv1(x)\n",
        "        out = self.bn1(out)\n",
        "        out = self.relu(out)\n",
        " \n",
        "        out = self.conv2(out)\n",
        "        out = self.bn2(out)\n",
        "        out = self.relu(out)\n",
        " \n",
        "        out = self.conv3(out)\n",
        "        out = self.bn3(out)\n",
        " \n",
        "        if self.downsample is not None:\n",
        "            identity = self.downsample(x)\n",
        " \n",
        "        out += identity\n",
        "        out = self.relu(out)\n",
        " \n",
        "        return out\n",
        "\n",
        "\n",
        "class ResNet(nn.Module):\n",
        " \n",
        "    def __init__(self, block, layers, num_classes=1000, \n",
        "                 zero_init_residual=False,\n",
        "                 groups=1, width_per_group=64, replace_stride_with_dilation=None,\n",
        "                 norm_layer=None):\n",
        "        super(ResNet, self).__init__()\n",
        "        if norm_layer is None:\n",
        "            norm_layer = nn.BatchNorm2d\n",
        "        self._norm_layer = norm_layer\n",
        " \n",
        "        self.inplanes = 64\n",
        "        self.dilation = 1\n",
        "        if replace_stride_with_dilation is None:\n",
        "            # each element in the tuple indicates if we should replace\n",
        "            # the 2x2 stride with a dilated convolution instead\n",
        "            replace_stride_with_dilation = [False, False, False]\n",
        "        if len(replace_stride_with_dilation) != 3:\n",
        "            raise ValueError(\"replace_stride_with_dilation should be None \"\n",
        "                             \"or a 3-element tuple, got {}\".format(replace_stride_with_dilation))\n",
        "        self.groups = groups\n",
        "        self.base_width = width_per_group\n",
        "        self.conv1 = nn.Conv2d(3, self.inplanes, kernel_size=7, stride=2, padding=3,\n",
        "                               bias=False)\n",
        "        self.bn1 = norm_layer(self.inplanes)\n",
        "        self.relu = nn.ReLU(inplace=True)\n",
        "        self.maxpool = nn.MaxPool2d(kernel_size=3, stride=2, padding=1)\n",
        "        self.layer1 = self._make_layer(block, 64, layers[0])\n",
        "        self.layer2 = self._make_layer(block, 128, layers[1], stride=2,\n",
        "                                       dilate=replace_stride_with_dilation[0])\n",
        "        self.layer3 = self._make_layer(block, 256, layers[2], stride=2,\n",
        "                                       dilate=replace_stride_with_dilation[1])\n",
        "        self.layer4 = self._make_layer(block, 512, layers[3], stride=2,\n",
        "                                       dilate=replace_stride_with_dilation[2])\n",
        "        self.avgpool = nn.AdaptiveAvgPool2d((1, 1))\n",
        "        self.fc = nn.Linear(512 * block.expansion, num_classes)\n",
        " \n",
        "        for m in self.modules():\n",
        "            if isinstance(m, nn.Conv2d):\n",
        "                nn.init.kaiming_normal_(m.weight, mode='fan_out', nonlinearity='relu')\n",
        "            elif isinstance(m, (nn.BatchNorm2d, nn.GroupNorm)):\n",
        "                nn.init.constant_(m.weight, 1)\n",
        "                nn.init.constant_(m.bias, 0)\n",
        " \n",
        "        # Zero-initialize the last BN in each residual branch,\n",
        "        # so that the residual branch starts with zeros, and each residual block behaves like an identity.\n",
        "        # This improves the model by 0.2~0.3% according to https://arxiv.org/abs/1706.02677\n",
        "        if zero_init_residual:\n",
        "            for m in self.modules():\n",
        "                if isinstance(m, Bottleneck):\n",
        "                    nn.init.constant_(m.bn3.weight, 0)\n",
        "                elif isinstance(m, BasicBlock):\n",
        "                    nn.init.constant_(m.bn2.weight, 0)\n",
        " \n",
        "    def _make_layer(self, block, planes, blocks, stride=1, dilate=False):\n",
        "        norm_layer = self._norm_layer\n",
        "        downsample = None\n",
        "        previous_dilation = self.dilation\n",
        "        if dilate:\n",
        "            self.dilation *= stride\n",
        "            stride = 1\n",
        "        if stride != 1 or self.inplanes != planes * block.expansion:\n",
        "            downsample = nn.Sequential(\n",
        "                conv1x1(self.inplanes, planes * block.expansion, stride),\n",
        "                norm_layer(planes * block.expansion),\n",
        "            )\n",
        " \n",
        "        layers = []\n",
        "        layers.append(block(self.inplanes, planes, stride, downsample, self.groups,\n",
        "                            self.base_width, previous_dilation, norm_layer))\n",
        "        self.inplanes = planes * block.expansion\n",
        "        for _ in range(1, blocks):\n",
        "            layers.append(block(self.inplanes, planes, groups=self.groups,\n",
        "                                base_width=self.base_width, dilation=self.dilation,\n",
        "                                norm_layer=norm_layer))\n",
        " \n",
        "        return nn.Sequential(*layers)\n",
        " \n",
        "    def _forward_impl(self, x):\n",
        "        x = self.conv1(x)\n",
        "        x = self.bn1(x)\n",
        "        x = self.relu(x)\n",
        "        x = self.maxpool(x)\n",
        " \n",
        "        x = self.layer1(x)\n",
        "        x = self.layer2(x)\n",
        "        x = self.layer3(x)\n",
        " \n",
        "        x1 = self.layer4(x)\n",
        "        x1 = self.avgpool(x1)\n",
        "        x1 = torch.flatten(x1, 1)\n",
        "        x1 = self.fc(x1)\n",
        " \n",
        "        x2 = self.layer4(x)\n",
        "        x2 = self.avgpool(x2)\n",
        "        x2 = torch.flatten(x2, 1)\n",
        "        x2 = self.fc(x2)\n",
        " \n",
        "        x3 = self.layer4(x)\n",
        "        x3 = self.avgpool(x3)\n",
        "        x3 = torch.flatten(x3, 1)\n",
        "        x3 = self.fc(x3)\n",
        " \n",
        "        x4 = self.layer4(x)\n",
        "        x4 = self.avgpool(x4)\n",
        "        x4 = torch.flatten(x4, 1)\n",
        "        x4 = self.fc(x4)\n",
        " \n",
        "        x5 = self.layer4(x)\n",
        "        x5 = self.avgpool(x5)\n",
        "        x5 = torch.flatten(x5, 1)\n",
        "        x5 = self.fc(x5)\n",
        "        return x1,x2,x3,x4,x5\n",
        " \n",
        " \n",
        "    def forward(self, x):\n",
        "        return self._forward_impl(x)\n",
        "        \n",
        "\n",
        "def _resnet(arch, block, layers, pretrained, progress, **kwargs):\n",
        "    model = ResNet(block, layers, **kwargs)\n",
        "    if pretrained:\n",
        "        state_dict = load_state_dict_from_url(model_urls[arch],\n",
        "                                              progress=progress)\n",
        "        model.load_state_dict(state_dict)\n",
        "        \n",
        "        \n",
        "        \n",
        "    return model\n",
        "\n",
        "def PlaceNetBase(pretrained=False, progress=True, **kwargs):\n",
        "    r\"\"\"ResNet-50 model from\n",
        "    `\"Deep Residual Learning for Image Recognition\" <https://arxiv.org/pdf/1512.03385.pdf>`_\n",
        " \n",
        "    Args:\n",
        "        pretrained (bool): If True, returns a model pre-trained on ImageNet\n",
        "        progress (bool): If True, displays a progress bar of the download to stderr\n",
        "    \"\"\"\n",
        "    return _resnet('resnet50', Bottleneck, [3, 4, 6, 3], pretrained, progress,\n",
        "                   **kwargs)"
      ],
      "execution_count": null,
      "outputs": []
    },
    {
      "cell_type": "markdown",
      "metadata": {
        "id": "AEvRdxacSyof"
      },
      "source": [
        "### 5.2 Add extra fc layers"
      ]
    },
    {
      "cell_type": "code",
      "metadata": {
        "id": "vTk0OXaWcTnL"
      },
      "source": [
        "class PlaceNet(nn.Module):\n",
        "    def __init__(self, pretrained, num_classes=1000, num_place = 444, num_city = 50, num_country = 34, num_function = 10, num_type = 50):\n",
        "        super().__init__()\n",
        "        self.base_model = PlaceNetBase(pretrained)  # take the model without classifier\n",
        "        self.fc1 = nn.Linear(num_classes, num_place)\n",
        "        self.fc2 = nn.Linear(num_classes, num_city)\n",
        "        self.fc3 = nn.Linear(num_classes, num_country)\n",
        "        self.fc4 = nn.Linear(num_classes, num_function)\n",
        "        self.fc5 = nn.Linear(num_classes, num_type)\n",
        "    \n",
        "    def forward(self, x):\n",
        "        x1,x2,x3,x4,x5 = self.base_model(x)\n",
        "        x1 = self.fc1(x1)\n",
        "        x2 = self.fc2(x2)\n",
        "        x3 = self.fc3(x3)\n",
        "        x4 = self.fc4(x4)\n",
        "        x5 = self.fc5(x5)\n",
        "        \n",
        "        \n",
        "        return {'place': x1,'city': x2,'country': x3,'function': x4,'type': x5}\n",
        "    \n",
        "    def get_loss(self, net_output, ground_truth):\n",
        "\n",
        "        criterion = nn.CrossEntropyLoss()\n",
        "        place_loss = criterion(net_output['place'], ground_truth['place_labels'])\n",
        "        city_loss = criterion(net_output['city'], ground_truth['city_labels'])\n",
        "        country_loss = criterion(net_output['country'], ground_truth['country_labels'])\n",
        "        function_loss = criterion(net_output['function'], ground_truth['function_labels'])\n",
        "        type_loss = criterion(net_output['type'], ground_truth['type_labels'])\n",
        "\n",
        "        loss = place_loss + city_loss + country_loss + function_loss + type_loss\n",
        "        return loss, {'place': place_loss, 'city': city_loss, 'country': country_loss, 'function': function_loss, 'type': type_loss}\n"
      ],
      "execution_count": null,
      "outputs": []
    },
    {
      "cell_type": "markdown",
      "metadata": {
        "id": "e3pdTtMmOg3p"
      },
      "source": [
        "# 6.Hyperparameters"
      ]
    },
    {
      "cell_type": "code",
      "metadata": {
        "id": "x5UXus6JOhS3"
      },
      "source": [
        "epochs = 90\n",
        "# initial_lr = 0.05\n",
        "initial_lr = 1e-4\n",
        "lr_mult_rate = 0.1\n",
        "weight_decay = 1e-4\n",
        "momentum = 0.9\n",
        "batch_size = 64 \n",
        "\n",
        "num_workers = 0"
      ],
      "execution_count": null,
      "outputs": []
    },
    {
      "cell_type": "markdown",
      "metadata": {
        "id": "NcTFz5fWvMti"
      },
      "source": [
        "# 7.Dataloader"
      ]
    },
    {
      "cell_type": "code",
      "metadata": {
        "colab": {
          "base_uri": "https://localhost:8080/",
          "height": 361
        },
        "id": "c6CJO7RuvP-T",
        "outputId": "5132e248-84c4-4e1f-fed3-a700a240624b"
      },
      "source": [
        "train_transform = transforms.Compose([\n",
        "    transforms.Resize((224, 224)),\n",
        "    transforms.RandomHorizontalFlip(),\n",
        "    transforms.ToTensor(),\n",
        "    transforms.Normalize(mean=[123,117,109], std=[58, 56, 58]),\n",
        "])\n",
        "\n",
        "test_val_transform = transforms.Compose([\n",
        "    transforms.Resize((224, 224)),\n",
        "    transforms.ToTensor(),\n",
        "    transforms.Normalize(mean=[123,117,109], std=[58, 56, 58]),\n",
        "])\n",
        "\n",
        "train_dataset = PlacepediaDataset('Places-Fine/train_target_dict.json', 'Places-Fine/train', train_transform) # TODO: bu pathleri düzelt\n",
        "train_data_loader = DataLoader(train_dataset, batch_size=batch_size, shuffle=True, num_workers=num_workers)\n"
      ],
      "execution_count": null,
      "outputs": [
        {
          "output_type": "error",
          "ename": "FileNotFoundError",
          "evalue": "ignored",
          "traceback": [
            "\u001b[0;31m---------------------------------------------------------------------------\u001b[0m",
            "\u001b[0;31mFileNotFoundError\u001b[0m                         Traceback (most recent call last)",
            "\u001b[0;32m<ipython-input-6-654f78eaccc9>\u001b[0m in \u001b[0;36m<module>\u001b[0;34m()\u001b[0m\n\u001b[1;32m     14\u001b[0m ])\n\u001b[1;32m     15\u001b[0m \u001b[0;34m\u001b[0m\u001b[0m\n\u001b[0;32m---> 16\u001b[0;31m \u001b[0mtrain_dataset\u001b[0m \u001b[0;34m=\u001b[0m \u001b[0mPlacepediaDataset\u001b[0m\u001b[0;34m(\u001b[0m\u001b[0;34m'Places-Fine/train_target_dict.json'\u001b[0m\u001b[0;34m,\u001b[0m \u001b[0;34m'Places-Fine/train'\u001b[0m\u001b[0;34m,\u001b[0m \u001b[0mtrain_transform\u001b[0m\u001b[0;34m)\u001b[0m \u001b[0;31m# TODO: bu pathleri düzelt\u001b[0m\u001b[0;34m\u001b[0m\u001b[0;34m\u001b[0m\u001b[0m\n\u001b[0m\u001b[1;32m     17\u001b[0m \u001b[0mtrain_data_loader\u001b[0m \u001b[0;34m=\u001b[0m \u001b[0mDataLoader\u001b[0m\u001b[0;34m(\u001b[0m\u001b[0mtrain_dataset\u001b[0m\u001b[0;34m,\u001b[0m \u001b[0mbatch_size\u001b[0m\u001b[0;34m=\u001b[0m\u001b[0mbatch_size\u001b[0m\u001b[0;34m,\u001b[0m \u001b[0mshuffle\u001b[0m\u001b[0;34m=\u001b[0m\u001b[0;32mTrue\u001b[0m\u001b[0;34m,\u001b[0m \u001b[0mnum_workers\u001b[0m\u001b[0;34m=\u001b[0m\u001b[0mnum_workers\u001b[0m\u001b[0;34m)\u001b[0m\u001b[0;34m\u001b[0m\u001b[0;34m\u001b[0m\u001b[0m\n",
            "\u001b[0;32m<ipython-input-3-0ae2a49671fd>\u001b[0m in \u001b[0;36m__init__\u001b[0;34m(self, train_json_path, image_folders_path, transform)\u001b[0m\n\u001b[1;32m     12\u001b[0m \u001b[0;34m\u001b[0m\u001b[0m\n\u001b[1;32m     13\u001b[0m         \u001b[0;31m# read the annotations from the CSV file\u001b[0m\u001b[0;34m\u001b[0m\u001b[0;34m\u001b[0m\u001b[0;34m\u001b[0m\u001b[0m\n\u001b[0;32m---> 14\u001b[0;31m         \u001b[0mf\u001b[0m \u001b[0;34m=\u001b[0m \u001b[0mopen\u001b[0m\u001b[0;34m(\u001b[0m\u001b[0mtrain_json_path\u001b[0m\u001b[0;34m)\u001b[0m\u001b[0;34m\u001b[0m\u001b[0;34m\u001b[0m\u001b[0m\n\u001b[0m\u001b[1;32m     15\u001b[0m         \u001b[0mtrain_labels\u001b[0m \u001b[0;34m=\u001b[0m \u001b[0mjson\u001b[0m\u001b[0;34m.\u001b[0m\u001b[0mload\u001b[0m\u001b[0;34m(\u001b[0m\u001b[0mf\u001b[0m\u001b[0;34m)\u001b[0m\u001b[0;34m\u001b[0m\u001b[0;34m\u001b[0m\u001b[0m\n\u001b[1;32m     16\u001b[0m \u001b[0;34m\u001b[0m\u001b[0m\n",
            "\u001b[0;31mFileNotFoundError\u001b[0m: [Errno 2] No such file or directory: 'Places-Fine/train_target_dict.json'"
          ]
        }
      ]
    },
    {
      "cell_type": "markdown",
      "metadata": {
        "id": "qdDBI_jFIdVZ"
      },
      "source": [
        "# 8.Accuracy function"
      ]
    },
    {
      "cell_type": "code",
      "metadata": {
        "id": "QvsV5YL_Id7A"
      },
      "source": [
        "def calcTopKaccuracy(k,output,target):\n",
        "    batch_size = target['place_labels'].cpu().size(0)\n",
        "    _ , place_indices = torch.topk(output['place'].cpu(), k)\n",
        "    _ , city_indices = torch.topk(output['city'].cpu(), k)\n",
        "    _ , country_indices = torch.topk(output['country'].cpu(), k)\n",
        "    _ , function_indices = torch.topk(output['function'].cpu(), k)\n",
        "    _ , type_indices = torch.topk(output['type'].cpu(), k)\n",
        "    \n",
        "    place_count = 0\n",
        "    city_count = 0\n",
        "    country_count = 0\n",
        "    function_count = 0\n",
        "    type_count = 0\n",
        "    \n",
        "    for i in range(batch_size):\n",
        "        if target['place_labels'][i].cpu().item() in place_indices[i]:\n",
        "            place_count += 1\n",
        "        if target['city_labels'][i].cpu().item() in city_indices[i]:\n",
        "            city_count += 1\n",
        "        if target['country_labels'][i].cpu().item() in country_indices[i]:\n",
        "            country_count += 1\n",
        "        if target['function_labels'][i].cpu().item() in function_indices[i]:\n",
        "            function_count += 1\n",
        "        if target['type_labels'][i].cpu().item() in type_indices[i]:\n",
        "            type_count += 1\n",
        "    \n",
        "    place_acc = place_count/batch_size*100\n",
        "    city_acc = city_count/batch_size*100\n",
        "    country_acc = country_count/batch_size*100\n",
        "    function_acc = function_count/batch_size*100\n",
        "    type_acc = type_count/batch_size*100\n",
        "    \n",
        "    return {'place':place_acc,'city':city_acc,'country':country_acc,'function':function_acc,'type':type_acc}\n"
      ],
      "execution_count": null,
      "outputs": []
    },
    {
      "cell_type": "markdown",
      "metadata": {
        "id": "Fm5COCGKsNXz"
      },
      "source": [
        "# 9.Trainer"
      ]
    },
    {
      "cell_type": "code",
      "metadata": {
        "id": "-PQwwUsSrZ5f"
      },
      "source": [
        "def train(model, optimizer, scheduler, epochs, train_data_loader, batch_size, verbose=True):\n",
        "\n",
        "    total_loss_history = [] \n",
        "    loss_history_place = []\n",
        "    loss_history_city = []\n",
        "    loss_history_country = []\n",
        "    loss_history_function = []\n",
        "    loss_history_type = []\n",
        "\n",
        "    total_top5_place_acc = 0\n",
        "    total_top5_city_acc = 0\n",
        "    total_top5_country_acc = 0\n",
        "    total_top5_function_acc = 0\n",
        "    total_top5_type_acc = 0\n",
        "    \n",
        "    total_top1_place_acc = 0\n",
        "    total_top1_city_acc = 0\n",
        "    total_top1_country_acc = 0\n",
        "    total_top1_function_acc = 0\n",
        "    total_top1_type_acc = 0\n",
        "    \n",
        "    for epoch in range(epochs):\n",
        "        top5_place_acc = 0\n",
        "        top5_city_acc = 0\n",
        "        top5_country_acc = 0\n",
        "        top5_function_acc = 0\n",
        "        top5_type_acc = 0\n",
        "        \n",
        "        top1_place_acc = 0\n",
        "        top1_city_acc = 0\n",
        "        top1_country_acc = 0\n",
        "        top1_function_acc = 0\n",
        "        top1_type_acc = 0\n",
        "        \n",
        "        for i, batch in enumerate(train_data_loader,0):    \n",
        "            # Our batch:\n",
        "            img = batch['img']\n",
        "            target_labels = batch['labels']\n",
        "            target_labels = {t: target_labels[t].to(device) for t in target_labels}\n",
        "            \n",
        "            optimizer.zero_grad()\n",
        "\n",
        "            outputs = model(img.to(device))\n",
        "         \n",
        "            outputs = {t: outputs[t].to(device) for t in outputs}\n",
        "            \n",
        "            # Calculate loss\n",
        "            loss, losses = model.get_loss(outputs, target_labels)\n",
        "            \n",
        "            # Calculate top-k accuracy\n",
        "            top5_accs = calcTopKaccuracy(5,outputs,target_labels)\n",
        "            top1_accs = calcTopKaccuracy(1,outputs,target_labels)\n",
        "            \n",
        "            top5_place_acc = top5_place_acc + top5_accs['place']\n",
        "            top5_city_acc = top5_city_acc + top5_accs['city']\n",
        "            top5_country_acc = top5_country_acc + top5_accs['country']\n",
        "            top5_function_acc = top5_function_acc + top5_accs['function']\n",
        "            top5_type_acc = top5_type_acc + top5_accs['type']\n",
        "            \n",
        "            top1_place_acc = top1_place_acc + top1_accs['place']\n",
        "            top1_city_acc = top1_city_acc + top1_accs['city']\n",
        "            top1_country_acc = top1_country_acc + top1_accs['country']\n",
        "            top1_function_acc = top1_function_acc + top1_accs['function']\n",
        "            top1_type_acc = top1_type_acc + top1_accs['type']\n",
        "            \n",
        "            # save loss history\n",
        "            loss_history_place.append(losses['place'].item())\n",
        "            loss_history_city.append(losses['city'].item())\n",
        "            loss_history_country.append(losses['country'].item())\n",
        "            loss_history_function.append(losses['function'].item())\n",
        "            loss_history_type.append(losses['type'].item())\n",
        "            \n",
        "            # Backpropagate\n",
        "            loss.backward()\n",
        "            \n",
        "            # Update the weights\n",
        "            optimizer.step()\n",
        "            \n",
        "            # Update learning rate\n",
        "            scheduler.step()\n",
        "            \n",
        "            total_loss_history.append(loss.item())\n",
        "            \n",
        "        total_top5_place_acc = total_top5_place_acc + top5_place_acc\n",
        "        total_top5_city_acc = total_top5_city_acc + top5_city_acc\n",
        "        total_top5_country_acc = total_top5_country_acc + top5_country_acc\n",
        "        total_top5_function_acc = total_top5_function_acc + top5_function_acc\n",
        "        total_top5_type_acc = total_top5_type_acc + top5_type_acc\n",
        "        \n",
        "        total_top1_place_acc = total_top1_place_acc + top1_place_acc\n",
        "        total_top1_city_acc = total_top1_city_acc + top1_city_acc\n",
        "        total_top1_country_acc = total_top1_country_acc + top1_country_acc\n",
        "        total_top1_function_acc = total_top1_function_acc + top1_function_acc\n",
        "        total_top1_type_acc = total_top1_type_acc + top1_type_acc\n",
        "        \n",
        "        \n",
        "        if verbose: print(f'Epoch {epoch} / {epochs}: avg. loss of last 5 iterations {np.sum(total_loss_history[:-6:-1])/5}')\n",
        "        \n",
        "        if verbose: print('Epoch', epoch ,' /', epochs, '   loss :', loss)\n",
        "        if verbose: print('Epoch', epoch ,' /', epochs, '   top5 place accuracy : %', top5_place_acc/(i+1))\n",
        "        if verbose: print('Epoch', epoch ,' /', epochs, '   top5 city accuracy : %', top5_city_acc/(i+1))\n",
        "        if verbose: print('Epoch', epoch ,' /', epochs, '   top5 country accuracy : %', top5_country_acc/(i+1))\n",
        "        if verbose: print('Epoch', epoch ,' /', epochs, '   top5 function accuracy : %', top5_function_acc/(i+1))\n",
        "        if verbose: print('Epoch', epoch ,' /', epochs, '   top5 type accuracy : %', top5_type_acc/(i+1))\n",
        "        if verbose: print('Epoch', epoch ,' /', epochs, '   top1 place accuracy : %', top1_place_acc/(i+1))\n",
        "        if verbose: print('Epoch', epoch ,' /', epochs, '   top1 city accuracy : %', top1_city_acc/(i+1))\n",
        "        if verbose: print('Epoch', epoch ,' /', epochs, '   top1 country accuracy : %', top1_country_acc/(i+1))\n",
        "        if verbose: print('Epoch', epoch ,' /', epochs, '   top1 function accuracy : %', top1_function_acc/(i+1))\n",
        "        if verbose: print('Epoch', epoch ,' /', epochs, '   top1 type accuracy : %', top1_type_acc/(i+1))\n",
        "    \n",
        "    top5_acc = {'place':total_top5_place_acc,'city':total_top5_city_acc,'country':total_top5_country_acc,'function':total_top5_function_acc,'type':total_top5_type_acc}\n",
        "    top1_acc = {'place':total_top1_place_acc,'city':total_top1_city_acc,'country':total_top1_country_acc,'function':total_top1_function_acc,'type':total_top1_type_acc}\n",
        "    loss_history = {'place':loss_history_place,'city':loss_history_city,'country':loss_history_country,'function':loss_history_function,'type':loss_history_type}\n",
        "    \n",
        "    return total_loss_history, loss_history, top5_acc, top1_acc\n"
      ],
      "execution_count": null,
      "outputs": []
    },
    {
      "cell_type": "markdown",
      "metadata": {
        "id": "OzxCcpEyrcx3"
      },
      "source": [
        "# 10.Define and create model, optimizer, scheduler "
      ]
    },
    {
      "cell_type": "code",
      "metadata": {
        "id": "PJdMU1a_rsJR"
      },
      "source": [
        "model = PlaceNet(pretrained=True).to(device)\n",
        "optimizer = optim.SGD(model.parameters(), lr=initial_lr, momentum=momentum, weight_decay=weight_decay) #https://pytorch.org/docs/stable/generated/torch.optim.SGD.html\n",
        "scheduler = optim.lr_scheduler.MultiStepLR(optimizer, milestones=[63,81], gamma=lr_mult_rate) #https://pytorch.org/docs/stable/generated/torch.optim.lr_scheduler.MultiStepLR.html#torch.optim.lr_scheduler.MultiStepLR\n"
      ],
      "execution_count": null,
      "outputs": []
    },
    {
      "cell_type": "markdown",
      "metadata": {
        "id": "Rgmu8rp4RQN8"
      },
      "source": [
        "# 11.Train"
      ]
    },
    {
      "cell_type": "code",
      "metadata": {
        "id": "BCgg8TC1RP-z"
      },
      "source": [
        "total_loss_history, loss_history, top5_acc, top1_acc = train(model, optimizer, scheduler, num_epochs, train_data_loader, batch_size)"
      ],
      "execution_count": null,
      "outputs": []
    },
    {
      "cell_type": "markdown",
      "metadata": {
        "id": "ysOLCBhZTNiO"
      },
      "source": [
        "# 12.Total Loss Curve"
      ]
    },
    {
      "cell_type": "code",
      "metadata": {
        "id": "gALEt5NSTNBH"
      },
      "source": [
        "plt.plot(total_loss_history)\n",
        "plt.xlabel('Iteration number')\n",
        "plt.ylabel('Loss value')\n",
        "plt.show()"
      ],
      "execution_count": null,
      "outputs": []
    },
    {
      "cell_type": "markdown",
      "metadata": {
        "id": "f3wUTfimSTo5"
      },
      "source": [
        "# 13.More results (accuracy, loss per output)"
      ]
    },
    {
      "cell_type": "code",
      "metadata": {
        "id": "_U_rl7NbScpe"
      },
      "source": [
        "total_top5_place_acc = top5_acc['place'] \n",
        "total_top5_city_acc = top5_acc['city']\n",
        "total_top5_country_acc = top5_acc['country']\n",
        "total_top5_function_acc = top5_acc['function']\n",
        "total_top5_type_acc = top5_acc['type']\n",
        "\n",
        "total_top1_place_acc = top1_acc['place'] \n",
        "total_top1_city_acc = top1_acc['city']\n",
        "total_top1_country_acc = top1_acc['country']\n",
        "total_top1_function_acc = top1_acc['function']\n",
        "total_top1_type_acc = top1_acc['type']\n",
        "\n",
        "loss_history_place = loss_history['place']\n",
        "loss_history_city = loss_history['city']\n",
        "loss_history_country = loss_history['country']\n",
        "loss_history_function = loss_history['function']\n",
        "loss_history_type = loss_history['type']\n",
        "    \n",
        "plt.plot(loss_history_place)\n",
        "plt.xlabel('Iteration number')\n",
        "plt.ylabel('Place loss value')\n",
        "plt.show()\n",
        "\n",
        "plt.plot(loss_history_city)\n",
        "plt.xlabel('Iteration number')\n",
        "plt.ylabel('City loss value')\n",
        "plt.show()\n",
        "\n",
        "plt.plot(loss_history_country)\n",
        "plt.xlabel('Iteration number')\n",
        "plt.ylabel('Country loss value')\n",
        "plt.show()\n",
        "\n",
        "plt.plot(loss_history_function)\n",
        "plt.xlabel('Iteration number')\n",
        "plt.ylabel('Function loss value')\n",
        "plt.show()\n",
        "\n",
        "plt.plot(loss_history_type)\n",
        "plt.xlabel('Iteration number')\n",
        "plt.ylabel('Type loss value')\n",
        "plt.show()"
      ],
      "execution_count": null,
      "outputs": []
    }
  ]
}