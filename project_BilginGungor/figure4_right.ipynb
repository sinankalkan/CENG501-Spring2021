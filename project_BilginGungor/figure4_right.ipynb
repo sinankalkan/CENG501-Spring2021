{
  "nbformat": 4,
  "nbformat_minor": 0,
  "metadata": {
    "colab": {
      "name": "figure4_right_update.ipynb",
      "provenance": [],
      "collapsed_sections": [],
      "toc_visible": true
    },
    "kernelspec": {
      "display_name": "Python 3",
      "language": "python",
      "name": "python3"
    },
    "language_info": {
      "codemirror_mode": {
        "name": "ipython",
        "version": 3
      },
      "file_extension": ".py",
      "mimetype": "text/x-python",
      "name": "python",
      "nbconvert_exporter": "python",
      "pygments_lexer": "ipython3",
      "version": "3.7.10"
    },
    "accelerator": "GPU",
    "widgets": {
      "application/vnd.jupyter.widget-state+json": {
        "15c368b5c01f45078f826a77da37ea7f": {
          "model_module": "@jupyter-widgets/controls",
          "model_name": "HBoxModel",
          "state": {
            "_view_name": "HBoxView",
            "_dom_classes": [],
            "_model_name": "HBoxModel",
            "_view_module": "@jupyter-widgets/controls",
            "_model_module_version": "1.5.0",
            "_view_count": null,
            "_view_module_version": "1.5.0",
            "box_style": "",
            "layout": "IPY_MODEL_a5758d957dbc40dcae8ca2403c50f4e1",
            "_model_module": "@jupyter-widgets/controls",
            "children": [
              "IPY_MODEL_fea206b083194bd1b4c76c2f55742640",
              "IPY_MODEL_ea378f66c6d340248aeb6ab92f4d316b"
            ]
          }
        },
        "a5758d957dbc40dcae8ca2403c50f4e1": {
          "model_module": "@jupyter-widgets/base",
          "model_name": "LayoutModel",
          "state": {
            "_view_name": "LayoutView",
            "grid_template_rows": null,
            "right": null,
            "justify_content": null,
            "_view_module": "@jupyter-widgets/base",
            "overflow": null,
            "_model_module_version": "1.2.0",
            "_view_count": null,
            "flex_flow": null,
            "width": null,
            "min_width": null,
            "border": null,
            "align_items": null,
            "bottom": null,
            "_model_module": "@jupyter-widgets/base",
            "top": null,
            "grid_column": null,
            "overflow_y": null,
            "overflow_x": null,
            "grid_auto_flow": null,
            "grid_area": null,
            "grid_template_columns": null,
            "flex": null,
            "_model_name": "LayoutModel",
            "justify_items": null,
            "grid_row": null,
            "max_height": null,
            "align_content": null,
            "visibility": null,
            "align_self": null,
            "height": null,
            "min_height": null,
            "padding": null,
            "grid_auto_rows": null,
            "grid_gap": null,
            "max_width": null,
            "order": null,
            "_view_module_version": "1.2.0",
            "grid_template_areas": null,
            "object_position": null,
            "object_fit": null,
            "grid_auto_columns": null,
            "margin": null,
            "display": null,
            "left": null
          }
        },
        "fea206b083194bd1b4c76c2f55742640": {
          "model_module": "@jupyter-widgets/controls",
          "model_name": "FloatProgressModel",
          "state": {
            "_view_name": "ProgressView",
            "style": "IPY_MODEL_f2791bd2e8bb467d95c800a4c2e7831d",
            "_dom_classes": [],
            "description": "",
            "_model_name": "FloatProgressModel",
            "bar_style": "success",
            "max": 170498071,
            "_view_module": "@jupyter-widgets/controls",
            "_model_module_version": "1.5.0",
            "value": 170498071,
            "_view_count": null,
            "_view_module_version": "1.5.0",
            "orientation": "horizontal",
            "min": 0,
            "description_tooltip": null,
            "_model_module": "@jupyter-widgets/controls",
            "layout": "IPY_MODEL_1394e9aae83d41b990ba96f99ca0c5a9"
          }
        },
        "ea378f66c6d340248aeb6ab92f4d316b": {
          "model_module": "@jupyter-widgets/controls",
          "model_name": "HTMLModel",
          "state": {
            "_view_name": "HTMLView",
            "style": "IPY_MODEL_ea117339a3b94036836281807005c242",
            "_dom_classes": [],
            "description": "",
            "_model_name": "HTMLModel",
            "placeholder": "​",
            "_view_module": "@jupyter-widgets/controls",
            "_model_module_version": "1.5.0",
            "value": " 170499072/? [00:10&lt;00:00, 15863517.45it/s]",
            "_view_count": null,
            "_view_module_version": "1.5.0",
            "description_tooltip": null,
            "_model_module": "@jupyter-widgets/controls",
            "layout": "IPY_MODEL_ebca7ce7cfb848a7af6a37c4eee7e3ba"
          }
        },
        "f2791bd2e8bb467d95c800a4c2e7831d": {
          "model_module": "@jupyter-widgets/controls",
          "model_name": "ProgressStyleModel",
          "state": {
            "_view_name": "StyleView",
            "_model_name": "ProgressStyleModel",
            "description_width": "initial",
            "_view_module": "@jupyter-widgets/base",
            "_model_module_version": "1.5.0",
            "_view_count": null,
            "_view_module_version": "1.2.0",
            "bar_color": null,
            "_model_module": "@jupyter-widgets/controls"
          }
        },
        "1394e9aae83d41b990ba96f99ca0c5a9": {
          "model_module": "@jupyter-widgets/base",
          "model_name": "LayoutModel",
          "state": {
            "_view_name": "LayoutView",
            "grid_template_rows": null,
            "right": null,
            "justify_content": null,
            "_view_module": "@jupyter-widgets/base",
            "overflow": null,
            "_model_module_version": "1.2.0",
            "_view_count": null,
            "flex_flow": null,
            "width": null,
            "min_width": null,
            "border": null,
            "align_items": null,
            "bottom": null,
            "_model_module": "@jupyter-widgets/base",
            "top": null,
            "grid_column": null,
            "overflow_y": null,
            "overflow_x": null,
            "grid_auto_flow": null,
            "grid_area": null,
            "grid_template_columns": null,
            "flex": null,
            "_model_name": "LayoutModel",
            "justify_items": null,
            "grid_row": null,
            "max_height": null,
            "align_content": null,
            "visibility": null,
            "align_self": null,
            "height": null,
            "min_height": null,
            "padding": null,
            "grid_auto_rows": null,
            "grid_gap": null,
            "max_width": null,
            "order": null,
            "_view_module_version": "1.2.0",
            "grid_template_areas": null,
            "object_position": null,
            "object_fit": null,
            "grid_auto_columns": null,
            "margin": null,
            "display": null,
            "left": null
          }
        },
        "ea117339a3b94036836281807005c242": {
          "model_module": "@jupyter-widgets/controls",
          "model_name": "DescriptionStyleModel",
          "state": {
            "_view_name": "StyleView",
            "_model_name": "DescriptionStyleModel",
            "description_width": "",
            "_view_module": "@jupyter-widgets/base",
            "_model_module_version": "1.5.0",
            "_view_count": null,
            "_view_module_version": "1.2.0",
            "_model_module": "@jupyter-widgets/controls"
          }
        },
        "ebca7ce7cfb848a7af6a37c4eee7e3ba": {
          "model_module": "@jupyter-widgets/base",
          "model_name": "LayoutModel",
          "state": {
            "_view_name": "LayoutView",
            "grid_template_rows": null,
            "right": null,
            "justify_content": null,
            "_view_module": "@jupyter-widgets/base",
            "overflow": null,
            "_model_module_version": "1.2.0",
            "_view_count": null,
            "flex_flow": null,
            "width": null,
            "min_width": null,
            "border": null,
            "align_items": null,
            "bottom": null,
            "_model_module": "@jupyter-widgets/base",
            "top": null,
            "grid_column": null,
            "overflow_y": null,
            "overflow_x": null,
            "grid_auto_flow": null,
            "grid_area": null,
            "grid_template_columns": null,
            "flex": null,
            "_model_name": "LayoutModel",
            "justify_items": null,
            "grid_row": null,
            "max_height": null,
            "align_content": null,
            "visibility": null,
            "align_self": null,
            "height": null,
            "min_height": null,
            "padding": null,
            "grid_auto_rows": null,
            "grid_gap": null,
            "max_width": null,
            "order": null,
            "_view_module_version": "1.2.0",
            "grid_template_areas": null,
            "object_position": null,
            "object_fit": null,
            "grid_auto_columns": null,
            "margin": null,
            "display": null,
            "left": null
          }
        }
      }
    }
  },
  "cells": [
    {
      "cell_type": "markdown",
      "metadata": {
        "id": "IHaPpuziz7fo"
      },
      "source": [
        "#Obtaining Figure 4"
      ]
    },
    {
      "cell_type": "markdown",
      "metadata": {
        "id": "Kr7K0t1Eh_fy"
      },
      "source": [
        "# Trainer, Data Loader and some other functions"
      ]
    },
    {
      "cell_type": "markdown",
      "metadata": {
        "id": "aDH3lay2QrWx"
      },
      "source": [
        "###Loaders"
      ]
    },
    {
      "cell_type": "code",
      "metadata": {
        "id": "e94Imr2n-64y"
      },
      "source": [
        "import torch\n",
        "import torchvision\n",
        "import torchvision.transforms as transforms\n",
        "import numpy as np\n",
        "import matplotlib.pyplot as plt"
      ],
      "execution_count": 1,
      "outputs": []
    },
    {
      "cell_type": "code",
      "metadata": {
        "id": "lY-6daK-z7Dm"
      },
      "source": [
        "def get_cifar10_loaders(batch_size, partial=None, random=None):\n",
        "  transform = transforms.Compose(\n",
        "      [transforms.ToTensor(),\n",
        "      transforms.Normalize((0.5, 0.5, 0.5), (0.5, 0.5, 0.5))])\n",
        "\n",
        "  trainset = torchvision.datasets.CIFAR10(root='./data', train=True,\n",
        "                                          download=True, transform=transform)\n",
        "  \n",
        "  if random is not None:\n",
        "    np.random.seed(12345)\n",
        "    temp = np.random.randint(10, size=len(trainset))\n",
        "    trainset.targets = [int(label) for label in temp]\n",
        "  if partial is not None:\n",
        "    indices = np.arange(0,len(trainset))\n",
        "    np.random.seed(12345)\n",
        "    np.random.shuffle(indices)\n",
        "    trainloader = torch.utils.data.DataLoader(trainset, batch_size=batch_size,\n",
        "                                              shuffle=False, sampler=torch.utils.data.SubsetRandomSampler(indices[:partial]))\n",
        "  else:\n",
        "    trainloader = torch.utils.data.DataLoader(trainset, batch_size=batch_size,\n",
        "                                              shuffle=True)\n",
        "\n",
        "  testset = torchvision.datasets.CIFAR10(root='./data', train=False,\n",
        "                                        download=True, transform=transform)\n",
        "  testloader = torch.utils.data.DataLoader(testset, batch_size=batch_size,\n",
        "                                          shuffle=False)\n",
        "  return trainloader, testloader"
      ],
      "execution_count": null,
      "outputs": []
    },
    {
      "cell_type": "markdown",
      "metadata": {
        "id": "UXuSi0vpQyNv"
      },
      "source": [
        "### Create Image Patches"
      ]
    },
    {
      "cell_type": "code",
      "metadata": {
        "id": "8X6F8Ism0CA9"
      },
      "source": [
        "from sklearn.feature_extraction import image\n",
        "\n",
        "def create_patches_data(trainloader, patch_size):\n",
        "  # 32x32 images in CIFAR10, stride is 1\n",
        "  num_patches_per_image = ((32 - patch_size + 1)**2)\n",
        "  # 3 channels  \n",
        "  flattened_patches_length = (patch_size**2) * 3\n",
        "  data_matrix = None\n",
        "  batch = 1\n",
        "  patches_list = []\n",
        "  for data in trainloader:\n",
        "    inputs, labels = data\n",
        "    for i in range(len(inputs)):\n",
        "      img = inputs[i]\n",
        "      img = img.permute(1,2,0)\n",
        "      patches = image.extract_patches_2d(img, (patch_size, patch_size))\n",
        "      patches_list.append(patches)\n",
        "    batch+=1\n",
        "  patches_list = np.stack(patches_list, axis=0)\n",
        "  print(patches_list.shape)\n",
        "  data_matrix = np.reshape(patches_list, (-1, flattened_patches_length))\n",
        "  print(data_matrix.shape)\n",
        "  return data_matrix"
      ],
      "execution_count": null,
      "outputs": []
    },
    {
      "cell_type": "markdown",
      "metadata": {
        "id": "rn3tCD0pReIt"
      },
      "source": [
        "Use real labels:"
      ]
    },
    {
      "cell_type": "code",
      "metadata": {
        "colab": {
          "base_uri": "https://localhost:8080/",
          "height": 158,
          "referenced_widgets": [
            "15c368b5c01f45078f826a77da37ea7f",
            "a5758d957dbc40dcae8ca2403c50f4e1",
            "fea206b083194bd1b4c76c2f55742640",
            "ea378f66c6d340248aeb6ab92f4d316b",
            "f2791bd2e8bb467d95c800a4c2e7831d",
            "1394e9aae83d41b990ba96f99ca0c5a9",
            "ea117339a3b94036836281807005c242",
            "ebca7ce7cfb848a7af6a37c4eee7e3ba"
          ]
        },
        "id": "umW-1MlL0HlR",
        "outputId": "7d24a8ce-f42f-487f-a5ac-6b5977c87ece"
      },
      "source": [
        "from numpy import linalg as LA\n",
        "\n",
        "def create_eigs(data):\n",
        "  cov_matrix = np.cov(data , rowvar=False)\n",
        "  w, v = LA.eig(cov_matrix)\n",
        "  return w,v\n",
        "\n",
        "patch_size = 3\n",
        "#Use real labels:\n",
        "trainloader, _ = get_cifar10_loaders(256, partial=30000)\n",
        "patches_data = create_patches_data(trainloader, patch_size)\n",
        "eig_vals, eig_vecs = create_eigs(patches_data)"
      ],
      "execution_count": null,
      "outputs": [
        {
          "output_type": "stream",
          "text": [
            "Downloading https://www.cs.toronto.edu/~kriz/cifar-10-python.tar.gz to ./data/cifar-10-python.tar.gz\n"
          ],
          "name": "stdout"
        },
        {
          "output_type": "display_data",
          "data": {
            "application/vnd.jupyter.widget-view+json": {
              "model_id": "15c368b5c01f45078f826a77da37ea7f",
              "version_minor": 0,
              "version_major": 2
            },
            "text/plain": [
              "HBox(children=(FloatProgress(value=0.0, max=170498071.0), HTML(value='')))"
            ]
          },
          "metadata": {
            "tags": []
          }
        },
        {
          "output_type": "stream",
          "text": [
            "\n",
            "Extracting ./data/cifar-10-python.tar.gz to ./data\n",
            "Files already downloaded and verified\n",
            "(30000, 900, 3, 3, 3)\n",
            "(27000000, 27)\n"
          ],
          "name": "stdout"
        }
      ]
    },
    {
      "cell_type": "markdown",
      "metadata": {
        "id": "nV-J4krNQ2px"
      },
      "source": [
        "### CNN Architecture"
      ]
    },
    {
      "cell_type": "code",
      "metadata": {
        "id": "bNzeeu-P0KC5"
      },
      "source": [
        "\n",
        "from torch import nn\n",
        "import math\n",
        "\n",
        "class SimpleCNN(nn.Module):\n",
        "  def __init__(self):\n",
        "    super(SimpleCNN, self).__init__()\n",
        "    \n",
        "    self.conv = nn.Conv2d(in_channels=3, out_channels=256, \n",
        "                        kernel_size=3, stride=1, padding=0)\n",
        "    last_size = 30*30*256\n",
        "    self.fc = nn.Linear(last_size, 64)\n",
        "    self.classifier = nn.Linear(64, 10)\n",
        "\n",
        "  def forward(self, x):\n",
        "    forward = nn.Sequential(self.conv, nn.ReLU(),\n",
        "                            nn.Flatten(),\n",
        "                            self.fc, nn.ReLU(),\n",
        "                            self.classifier)\n",
        "    x = forward(x)\n",
        "    return x"
      ],
      "execution_count": null,
      "outputs": []
    },
    {
      "cell_type": "code",
      "metadata": {
        "id": "6ySQY6dY0L4G"
      },
      "source": [
        "from scipy.stats import ortho_group\n",
        "np.random.seed(seed=12345)\n",
        "random_basis = ortho_group.rvs(27)"
      ],
      "execution_count": null,
      "outputs": []
    },
    {
      "cell_type": "markdown",
      "metadata": {
        "id": "kl5A2ZtSQ6SS"
      },
      "source": [
        "### Trainer"
      ]
    },
    {
      "cell_type": "code",
      "metadata": {
        "id": "2gmXKzvr0NtK"
      },
      "source": [
        "from numpy.linalg import multi_dot\n",
        "from numpy.linalg import inv\n",
        "\n",
        "def calculate_misalignment(data_eig_vecs, weights):\n",
        "  weights = np.reshape(weights, (weights.shape[0], -1))\n",
        "  cov_weights = np.cov(weights , rowvar=False)\n",
        "  res = 0\n",
        "  for i in range(data_eig_vecs.shape[0]):\n",
        "    a = multi_dot([data_eig_vecs[:,i].T, cov_weights, data_eig_vecs[:,i]])\n",
        "    b = multi_dot([data_eig_vecs[:,i].T, inv(cov_weights), data_eig_vecs[:,i]])\n",
        "    res += np.sqrt(a*b) - 1\n",
        "  return res\n",
        "\n",
        "def train(model, criterion, optimizer, epochs, dataloader, device, scheduler=None, verbose=True):\n",
        "  loss_history = []\n",
        "  misalignments_real = []\n",
        "  misalignments_random = []\n",
        "  for epoch in range(epochs):\n",
        "    for i, data in enumerate(dataloader, 0):     \n",
        "      inputs, labels = data\n",
        "      inputs = inputs.to(device)\n",
        "      labels = labels.to(device)\n",
        "\n",
        "      optimizer.zero_grad()\n",
        "\n",
        "      outputs = model(inputs)\n",
        "\n",
        "      loss = criterion(outputs.to(device), labels)\n",
        "\n",
        "      loss.backward()\n",
        "\n",
        "      optimizer.step()\n",
        "\n",
        "      loss_history.append(loss.item())\n",
        "\n",
        "      weights = torch.clone(model.conv.weight).detach().numpy()\n",
        "      misalignments_real.append(calculate_misalignment(eig_vecs, weights))\n",
        "      misalignments_random.append(calculate_misalignment(random_basis, weights))\n",
        "\n",
        "    if verbose: print(f'Epoch {epoch} / {epochs}: avg. loss of last 5 iterations {np.sum(loss_history[:-6:-1])/5}')\n",
        "\n",
        "    if scheduler is not None:\n",
        "      scheduler.step()\n",
        "      print('Epoch:', epoch,'LR:', scheduler.get_last_lr())\n",
        "\n",
        "  return loss_history, misalignments_real, misalignments_random"
      ],
      "execution_count": null,
      "outputs": []
    },
    {
      "cell_type": "code",
      "metadata": {
        "id": "IPzUn-Ft0PWK"
      },
      "source": [
        "\n",
        "import torch.optim as optim\n",
        "from torch.optim.lr_scheduler import StepLR\n",
        "\n",
        "def get_training_components(learnable_params, init_lr, step_size=None, gamma=None):\n",
        "  '''\n",
        "  Function to prepare components of the training. These are all the same\n",
        "  throughout the experiments made.\n",
        "  '''\n",
        "  # The problem always be a image classification\n",
        "  criterion = nn.CrossEntropyLoss()\n",
        "  # Which parameters to be updated depends on if the training is done from scratch\n",
        "  # or with pre-trained model.\n",
        "  optimizer = optim.SGD(learnable_params, lr=init_lr, momentum=0.9)\n",
        "  # Step size depends on the # of epoch\n",
        "  if step_size is not None:\n",
        "    scheduler = StepLR(optimizer, step_size, gamma)\n",
        "    return (criterion, optimizer, scheduler)\n",
        "  return (criterion, optimizer)\n",
        "\n",
        "def get_device():\n",
        "  if torch.cuda.is_available():\n",
        "    print(\"Cuda (GPU support) is available and enabled!\")\n",
        "    device = torch.device(\"cuda\")\n",
        "  else:\n",
        "    print(\"Cuda (GPU support) is not available :(\")\n",
        "    device = torch.device(\"cpu\")\n",
        "\n",
        "def get_learnable_parameters(model):\n",
        "  params_to_update = []\n",
        "  for name, param in model.named_parameters():\n",
        "    if param.requires_grad == True:\n",
        "      params_to_update.append(param)\n",
        "  return params_to_update"
      ],
      "execution_count": null,
      "outputs": []
    },
    {
      "cell_type": "markdown",
      "metadata": {
        "id": "rVd1uHjXiF9K"
      },
      "source": [
        "#Training 1 - 5 epochs"
      ]
    },
    {
      "cell_type": "code",
      "metadata": {
        "colab": {
          "base_uri": "https://localhost:8080/"
        },
        "id": "cce000tR0RYE",
        "outputId": "1c5d6504-f641-4ebf-bd07-5a6908ee5e3b"
      },
      "source": [
        "# Misalignment between data and random-label-trained filters\n",
        "from torch import linalg as LA\n",
        "\n",
        "def init_weights_custom(param):\n",
        "  if (type(param) == nn.Conv2d or type(param) == nn.Linear):\n",
        "    fan = torch.nn.init._calculate_correct_fan(param.weight, mode='fan_in')\n",
        "    std = 0.526 / math.sqrt(fan)\n",
        "    with torch.no_grad():\n",
        "      param.weight.normal_(0, std)\n",
        "\n",
        "simple_cnn = SimpleCNN()\n",
        "\n",
        "device = get_device()\n",
        "simple_cnn = simple_cnn.to(device)\n",
        "simple_cnn.train()\n",
        "epochs = 5 #Training to 5 epochs\n",
        "learning_rate = 0.001\n",
        "\n",
        "learnable_parameters = get_learnable_parameters(simple_cnn)\n",
        "criterion, optimizer, scheduler = get_training_components(learnable_parameters, learning_rate, step_size=40, gamma=1/3)\n",
        "loss_history, mis_eig_random_labels, mis_random_basis_random_labels = train(simple_cnn, criterion, optimizer, epochs, trainloader, device, scheduler=scheduler)"
      ],
      "execution_count": null,
      "outputs": [
        {
          "output_type": "stream",
          "text": [
            "Cuda (GPU support) is available and enabled!\n",
            "Epoch 0 / 5: avg. loss of last 5 iterations 1.7622822999954224\n",
            "Epoch: 0 LR: [0.001]\n",
            "Epoch 1 / 5: avg. loss of last 5 iterations 1.6592126607894897\n",
            "Epoch: 1 LR: [0.001]\n",
            "Epoch 2 / 5: avg. loss of last 5 iterations 1.5310603857040406\n",
            "Epoch: 2 LR: [0.001]\n",
            "Epoch 3 / 5: avg. loss of last 5 iterations 1.5017570734024048\n",
            "Epoch: 3 LR: [0.001]\n",
            "Epoch 4 / 5: avg. loss of last 5 iterations 1.4202953100204467\n",
            "Epoch: 4 LR: [0.001]\n"
          ],
          "name": "stdout"
        }
      ]
    },
    {
      "cell_type": "code",
      "metadata": {
        "id": "TedUgUBy1oUb"
      },
      "source": [
        "CNN_weights = np.reshape(simple_cnn.conv.weight.detach().numpy(), (simple_cnn.conv.weight.detach().numpy().shape[0], -1))"
      ],
      "execution_count": null,
      "outputs": []
    },
    {
      "cell_type": "code",
      "metadata": {
        "id": "E_RLafRz1zta"
      },
      "source": [
        "Cov_y = np.cov(CNN_weights , rowvar=False)"
      ],
      "execution_count": null,
      "outputs": []
    },
    {
      "cell_type": "code",
      "metadata": {
        "id": "HOxbcMLY12RY"
      },
      "source": [
        "idx = eig_vals.argsort()[::-1]   \n",
        "eig_vals_ordered = eig_vals[idx]\n",
        "eig_vecs_ordered = eig_vecs[:,idx]"
      ],
      "execution_count": null,
      "outputs": []
    },
    {
      "cell_type": "code",
      "metadata": {
        "colab": {
          "base_uri": "https://localhost:8080/",
          "height": 287
        },
        "id": "HPm_v6wS2Z64",
        "outputId": "7ce1fca4-9e0a-4669-d001-36ed827d59fb"
      },
      "source": [
        "#plt.loglog( eig_vals_ordered, np.sqrt(np.diag(np.matmul(np.matmul( eig_vecs.T , Cov_y ), eig_vecs)))[idx]    )\n",
        "plt.loglog(eig_vals_ordered, np.sqrt(np.diag(np.matmul(np.matmul( eig_vecs_ordered.T , Cov_y ), eig_vecs_ordered)  )) , linestyle='--', marker='x', color=\"#3980E4\")"
      ],
      "execution_count": null,
      "outputs": [
        {
          "output_type": "execute_result",
          "data": {
            "text/plain": [
              "[<matplotlib.lines.Line2D at 0x7f93de316e50>]"
            ]
          },
          "metadata": {
            "tags": []
          },
          "execution_count": 14
        },
        {
          "output_type": "display_data",
          "data": {
            "image/png": "[encoded data removed]",
            "text/plain": [
              "<Figure size 432x288 with 1 Axes>"
            ]
          },
          "metadata": {
            "tags": [],
            "needs_background": "light"
          }
        }
      ]
    },
    {
      "cell_type": "markdown",
      "metadata": {
        "id": "IuKJrrJ4iG1O"
      },
      "source": [
        "#Training 2 - 10 epochs"
      ]
    },
    {
      "cell_type": "code",
      "metadata": {
        "colab": {
          "base_uri": "https://localhost:8080/"
        },
        "id": "G8CEo9NH2uAY",
        "outputId": "dcb2fa7e-ec13-43f8-c8ce-fb4a1ca0934c"
      },
      "source": [
        "simple_cnn.train()\n",
        "epochs = 5 #Training to 10 epochs\n",
        "learning_rate = 0.001\n",
        "\n",
        "learnable_parameters = get_learnable_parameters(simple_cnn)\n",
        "criterion, optimizer, scheduler = get_training_components(learnable_parameters, learning_rate, step_size=40, gamma=1/3)\n",
        "loss_history, mis_eig_random_labels, mis_random_basis_random_labels = train(simple_cnn, criterion, optimizer, epochs, trainloader, device, scheduler=scheduler)"
      ],
      "execution_count": null,
      "outputs": [
        {
          "output_type": "stream",
          "text": [
            "Epoch 0 / 5: avg. loss of last 5 iterations 1.3971390962600707\n",
            "Epoch: 0 LR: [0.001]\n",
            "Epoch 1 / 5: avg. loss of last 5 iterations 1.333057451248169\n",
            "Epoch: 1 LR: [0.001]\n",
            "Epoch 2 / 5: avg. loss of last 5 iterations 1.3153961420059204\n",
            "Epoch: 2 LR: [0.001]\n",
            "Epoch 3 / 5: avg. loss of last 5 iterations 1.2413222074508667\n",
            "Epoch: 3 LR: [0.001]\n",
            "Epoch 4 / 5: avg. loss of last 5 iterations 1.2908904314041139\n",
            "Epoch: 4 LR: [0.001]\n"
          ],
          "name": "stdout"
        }
      ]
    },
    {
      "cell_type": "code",
      "metadata": {
        "id": "XWsvDq9z3rTj"
      },
      "source": [
        "CNN_weights2 = np.reshape(simple_cnn.conv.weight.detach().numpy(), (simple_cnn.conv.weight.detach().numpy().shape[0], -1))\n",
        "Cov_y2 = np.cov(CNN_weights2 , rowvar=False)"
      ],
      "execution_count": null,
      "outputs": []
    },
    {
      "cell_type": "code",
      "metadata": {
        "colab": {
          "base_uri": "https://localhost:8080/",
          "height": 287
        },
        "id": "-jONEasu3036",
        "outputId": "6536b24a-17e8-4622-d44b-a89e475f7d10"
      },
      "source": [
        "plt.loglog(eig_vals_ordered, np.sqrt(np.diag(np.matmul(np.matmul( eig_vecs_ordered.T , Cov_y ), eig_vecs_ordered)  )) , linestyle='--', marker='x', color=\"#3980E4\")\n",
        "plt.loglog(eig_vals_ordered, np.sqrt(np.diag(np.matmul(np.matmul( eig_vecs_ordered.T , Cov_y2 ), eig_vecs_ordered)  )), linestyle='--', marker='d', color=\"#F19418\")"
      ],
      "execution_count": null,
      "outputs": [
        {
          "output_type": "execute_result",
          "data": {
            "text/plain": [
              "[<matplotlib.lines.Line2D at 0x7f93ddfa1350>]"
            ]
          },
          "metadata": {
            "tags": []
          },
          "execution_count": 17
        },
        {
          "output_type": "display_data",
          "data": {
            "image/png": "[encoded data removed]",
            "text/plain": [
              "<Figure size 432x288 with 1 Axes>"
            ]
          },
          "metadata": {
            "tags": [],
            "needs_background": "light"
          }
        }
      ]
    },
    {
      "cell_type": "markdown",
      "metadata": {
        "id": "xgbzmqqaiIaH"
      },
      "source": [
        "#Training 3 - 20 epochs"
      ]
    },
    {
      "cell_type": "code",
      "metadata": {
        "colab": {
          "base_uri": "https://localhost:8080/"
        },
        "id": "PUHh7Qhm4V61",
        "outputId": "60a9c2a4-b0b6-4cef-f1d5-d9236ff4bfd5"
      },
      "source": [
        "simple_cnn.train()\n",
        "epochs = 10 #Training to 20 epochs\n",
        "learning_rate = 0.001\n",
        "\n",
        "learnable_parameters = get_learnable_parameters(simple_cnn)\n",
        "criterion, optimizer, scheduler = get_training_components(learnable_parameters, learning_rate, step_size=40, gamma=1/3)\n",
        "loss_history, mis_eig_random_labels, mis_random_basis_random_labels = train(simple_cnn, criterion, optimizer, epochs, trainloader, device, scheduler=scheduler)"
      ],
      "execution_count": null,
      "outputs": [
        {
          "output_type": "stream",
          "text": [
            "Epoch 0 / 10: avg. loss of last 5 iterations 1.2443713903427125\n",
            "Epoch: 0 LR: [0.001]\n",
            "Epoch 1 / 10: avg. loss of last 5 iterations 1.2568400382995606\n",
            "Epoch: 1 LR: [0.001]\n",
            "Epoch 2 / 10: avg. loss of last 5 iterations 1.1705279111862184\n",
            "Epoch: 2 LR: [0.001]\n",
            "Epoch 3 / 10: avg. loss of last 5 iterations 1.1861342191696167\n",
            "Epoch: 3 LR: [0.001]\n",
            "Epoch 4 / 10: avg. loss of last 5 iterations 1.0812869548797608\n",
            "Epoch: 4 LR: [0.001]\n",
            "Epoch 5 / 10: avg. loss of last 5 iterations 1.115153980255127\n",
            "Epoch: 5 LR: [0.001]\n",
            "Epoch 6 / 10: avg. loss of last 5 iterations 1.0539189457893372\n",
            "Epoch: 6 LR: [0.001]\n",
            "Epoch 7 / 10: avg. loss of last 5 iterations 0.9970265030860901\n",
            "Epoch: 7 LR: [0.001]\n",
            "Epoch 8 / 10: avg. loss of last 5 iterations 1.1045477628707885\n",
            "Epoch: 8 LR: [0.001]\n",
            "Epoch 9 / 10: avg. loss of last 5 iterations 0.9750173687934875\n",
            "Epoch: 9 LR: [0.001]\n"
          ],
          "name": "stdout"
        }
      ]
    },
    {
      "cell_type": "code",
      "metadata": {
        "id": "-cibi-Hd4Xi1"
      },
      "source": [
        "CNN_weights3 = np.reshape(simple_cnn.conv.weight.detach().numpy(), (simple_cnn.conv.weight.detach().numpy().shape[0], -1))\n",
        "Cov_y3 = np.cov(CNN_weights3 , rowvar=False)"
      ],
      "execution_count": null,
      "outputs": []
    },
    {
      "cell_type": "code",
      "metadata": {
        "colab": {
          "base_uri": "https://localhost:8080/",
          "height": 287
        },
        "id": "I6bhIHit4Z3g",
        "outputId": "37fd902c-683c-4a38-c228-c7805564d2fa"
      },
      "source": [
        "plt.loglog(eig_vals_ordered, np.sqrt(np.diag(np.matmul(np.matmul( eig_vecs.T , Cov_y ), eig_vecs)  )[idx]) , linestyle='--', marker='x', color=\"#3980E4\")\n",
        "plt.loglog(eig_vals_ordered, np.sqrt(np.diag(np.matmul(np.matmul( eig_vecs.T , Cov_y2 ), eig_vecs)  )[idx]), linestyle='--', marker='d', color=\"#F19418\")\n",
        "plt.loglog(eig_vals_ordered, np.sqrt(np.diag(np.matmul(np.matmul( eig_vecs.T , Cov_y3 ), eig_vecs)  )[idx]), linestyle='--', marker='o', color=\"#2CD779\")"
      ],
      "execution_count": null,
      "outputs": [
        {
          "output_type": "execute_result",
          "data": {
            "text/plain": [
              "[<matplotlib.lines.Line2D at 0x7f93de1eadd0>]"
            ]
          },
          "metadata": {
            "tags": []
          },
          "execution_count": 20
        },
        {
          "output_type": "display_data",
          "data": {
            "image/png": "[encoded data removed]",
            "text/plain": [
              "<Figure size 432x288 with 1 Axes>"
            ]
          },
          "metadata": {
            "tags": [],
            "needs_background": "light"
          }
        }
      ]
    },
    {
      "cell_type": "markdown",
      "metadata": {
        "id": "Dyis_ZEfiKFN"
      },
      "source": [
        "#Training 4 - 40 epochs"
      ]
    },
    {
      "cell_type": "code",
      "metadata": {
        "colab": {
          "base_uri": "https://localhost:8080/"
        },
        "id": "xEKQQIvS6fIl",
        "outputId": "b25fc2c0-4c15-4783-e88d-90cf6a165b73"
      },
      "source": [
        "simple_cnn.train()\n",
        "epochs = 20 #Training to 40 epochs\n",
        "learning_rate = 0.001\n",
        "\n",
        "learnable_parameters = get_learnable_parameters(simple_cnn)\n",
        "criterion, optimizer, scheduler = get_training_components(learnable_parameters, learning_rate, step_size=40, gamma=1/3)\n",
        "loss_history, mis_eig_random_labels, mis_random_basis_random_labels = train(simple_cnn, criterion, optimizer, epochs, trainloader, device, scheduler=scheduler)"
      ],
      "execution_count": null,
      "outputs": [
        {
          "output_type": "stream",
          "text": [
            "Epoch 0 / 20: avg. loss of last 5 iterations 0.9271944165229797\n",
            "Epoch: 0 LR: [0.001]\n",
            "Epoch 1 / 20: avg. loss of last 5 iterations 0.9900496602058411\n",
            "Epoch: 1 LR: [0.001]\n",
            "Epoch 2 / 20: avg. loss of last 5 iterations 0.8942890286445617\n",
            "Epoch: 2 LR: [0.001]\n",
            "Epoch 3 / 20: avg. loss of last 5 iterations 0.9915435433387756\n",
            "Epoch: 3 LR: [0.001]\n",
            "Epoch 4 / 20: avg. loss of last 5 iterations 0.8905246615409851\n",
            "Epoch: 4 LR: [0.001]\n",
            "Epoch 5 / 20: avg. loss of last 5 iterations 0.9245244860649109\n",
            "Epoch: 5 LR: [0.001]\n",
            "Epoch 6 / 20: avg. loss of last 5 iterations 0.8130754590034485\n",
            "Epoch: 6 LR: [0.001]\n",
            "Epoch 7 / 20: avg. loss of last 5 iterations 0.8490096211433411\n",
            "Epoch: 7 LR: [0.001]\n",
            "Epoch 8 / 20: avg. loss of last 5 iterations 0.8136812925338746\n",
            "Epoch: 8 LR: [0.001]\n",
            "Epoch 9 / 20: avg. loss of last 5 iterations 0.7839349865913391\n",
            "Epoch: 9 LR: [0.001]\n",
            "Epoch 10 / 20: avg. loss of last 5 iterations 0.7679141879081726\n",
            "Epoch: 10 LR: [0.001]\n",
            "Epoch 11 / 20: avg. loss of last 5 iterations 0.7909513711929321\n",
            "Epoch: 11 LR: [0.001]\n",
            "Epoch 12 / 20: avg. loss of last 5 iterations 0.8158152222633361\n",
            "Epoch: 12 LR: [0.001]\n",
            "Epoch 13 / 20: avg. loss of last 5 iterations 0.7236564993858338\n",
            "Epoch: 13 LR: [0.001]\n",
            "Epoch 14 / 20: avg. loss of last 5 iterations 0.7122593641281127\n",
            "Epoch: 14 LR: [0.001]\n",
            "Epoch 15 / 20: avg. loss of last 5 iterations 0.6877045631408691\n",
            "Epoch: 15 LR: [0.001]\n",
            "Epoch 16 / 20: avg. loss of last 5 iterations 0.7508352756500244\n",
            "Epoch: 16 LR: [0.001]\n",
            "Epoch 17 / 20: avg. loss of last 5 iterations 0.6437588095664978\n",
            "Epoch: 17 LR: [0.001]\n",
            "Epoch 18 / 20: avg. loss of last 5 iterations 0.6634830951690673\n",
            "Epoch: 18 LR: [0.001]\n",
            "Epoch 19 / 20: avg. loss of last 5 iterations 0.6449134111404419\n",
            "Epoch: 19 LR: [0.001]\n"
          ],
          "name": "stdout"
        }
      ]
    },
    {
      "cell_type": "code",
      "metadata": {
        "id": "TsbXguvs6iYk"
      },
      "source": [
        "CNN_weights4 = np.reshape(simple_cnn.conv.weight.detach().numpy(), (simple_cnn.conv.weight.detach().numpy().shape[0], -1))\n",
        "Cov_y4 = np.cov(CNN_weights4 , rowvar=False)"
      ],
      "execution_count": null,
      "outputs": []
    },
    {
      "cell_type": "code",
      "metadata": {
        "colab": {
          "base_uri": "https://localhost:8080/",
          "height": 292
        },
        "id": "HlrMYrv96k5l",
        "outputId": "cb988447-2158-433c-c427-1fc4213c3cfc"
      },
      "source": [
        "plt.loglog(eig_vals_ordered, np.sqrt(np.diag(np.matmul(np.matmul( eig_vecs.T , Cov_y ), eig_vecs)  )[idx]) , linestyle='--', marker='x', color=\"#3980E4\")\n",
        "plt.loglog(eig_vals_ordered, np.sqrt(np.diag(np.matmul(np.matmul( eig_vecs.T , Cov_y2 ), eig_vecs)  )[idx]), linestyle='--', marker='d', color=\"#F19418\")\n",
        "plt.loglog(eig_vals_ordered, np.sqrt(np.diag(np.matmul(np.matmul( eig_vecs.T , Cov_y3 ), eig_vecs)  )[idx]), linestyle='--', marker='o', color=\"#2CD779\")\n",
        "plt.loglog(eig_vals_ordered, np.sqrt(np.diag(np.matmul(np.matmul( eig_vecs.T , Cov_y4 ), eig_vecs)  )[idx]), linestyle='--', marker='s', color=\"#E94436\")"
      ],
      "execution_count": null,
      "outputs": [
        {
          "output_type": "execute_result",
          "data": {
            "text/plain": [
              "[<matplotlib.lines.Line2D at 0x7f93d3b4f390>]"
            ]
          },
          "metadata": {
            "tags": []
          },
          "execution_count": 23
        },
        {
          "output_type": "display_data",
          "data": {
            "image/png": "[encoded data removed]",
            "text/plain": [
              "<Figure size 432x288 with 1 Axes>"
            ]
          },
          "metadata": {
            "tags": [],
            "needs_background": "light"
          }
        }
      ]
    }
  ]
}
