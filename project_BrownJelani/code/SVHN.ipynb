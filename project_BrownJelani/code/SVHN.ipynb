{
  "nbformat": 4,
  "nbformat_minor": 0,
  "metadata": {
    "colab": {
      "name": "SVHN.ipynb",
      "provenance": [],
      "collapsed_sections": [],
      "toc_visible": true,
      "machine_shape": "hm"
    },
    "kernelspec": {
      "name": "python3",
      "display_name": "Python 3"
    },
    "language_info": {
      "name": "python"
    },
    "accelerator": "GPU"
  },
  "cells": [
    {
      "cell_type": "markdown",
      "metadata": {
        "id": "G5jzoLXEm0yl"
      },
      "source": [
        "# Setup"
      ]
    },
    {
      "cell_type": "code",
      "metadata": {
        "colab": {
          "base_uri": "https://localhost:8080/"
        },
        "id": "zEC1rLZ6OHQI",
        "outputId": "8f741671-8a52-476c-e665-61a23e631350"
      },
      "source": [
        "from google.colab import drive\n",
        "drive.mount('/content/gdrive')\n",
        "import os, sys\n",
        "os.chdir('/content/gdrive/MyDrive/Colab Notebooks/CEng501 Project')"
      ],
      "execution_count": 1,
      "outputs": [
        {
          "output_type": "stream",
          "text": [
            "Drive already mounted at /content/gdrive; to attempt to forcibly remount, call drive.mount(\"/content/gdrive\", force_remount=True).\n"
          ],
          "name": "stdout"
        }
      ]
    },
    {
      "cell_type": "code",
      "metadata": {
        "id": "OJ6e9zXMMSMF"
      },
      "source": [
        "# Copy SVHN data to the shared memory for faster access.\n",
        "# If this fails, no problem. The data module will download it again.\n",
        "!cp -r SVHN/SVHN /dev/shm/"
      ],
      "execution_count": 2,
      "outputs": []
    },
    {
      "cell_type": "code",
      "metadata": {
        "id": "18ShQVAcMnGZ"
      },
      "source": [
        "%%capture\n",
        "!pip install -qqq pytorch-lightning\n",
        "!pip install -qqq foolbox\n",
        "# install and import the torchinfo library\n",
        "!pip install -qqq torchinfo\n",
        "from torchinfo import summary\n",
        "# Install torchdiffeq\n",
        "!pip install -qqq git+https://github.com/rtqichen/torchdiffeq\n",
        "#!pip install -qqq cloud-tpu-client==0.10 https://storage.googleapis.com/tpu-pytorch/wheels/torch_xla-1.8-cp37-cp37m-linux_x86_64.whl"
      ],
      "execution_count": 3,
      "outputs": []
    },
    {
      "cell_type": "code",
      "metadata": {
        "id": "CmmS2mGD3Siv"
      },
      "source": [
        "# Choose which models to train. (Trained models are afterward loaded from disk.)\n",
        "models_to_train = {'CNN', 'CNN_aug', 'CNN_FDn', 'CNN_IRd',\n",
        "                   'ODE_Net', 'ODE_Net_aug',\n",
        "                   'TisODE_aug', 'TisODE_FDn', 'TisODE_IRd'}\n",
        "seeds = [501, 56, 23]\n",
        "std_list = [15, 25, 35]"
      ],
      "execution_count": 4,
      "outputs": []
    },
    {
      "cell_type": "code",
      "metadata": {
        "id": "Gyk8C8uECztg"
      },
      "source": [
        "# Shared utility functions are in module utils.py\n",
        "# Use the autoreload extension to reload these functions if they are modified\n",
        "# https://ipython.readthedocs.io/en/stable/config/extensions/autoreload.html\n",
        "#\n",
        "# utils.py can be edited on Google Drive using commanditor\n",
        "%load_ext autoreload\n",
        "%autoreload 1\n",
        "sys.path.append('/content/gdrive/MyDrive/Colab Notebooks/CEng501 Project/')\n",
        "%aimport utils"
      ],
      "execution_count": 5,
      "outputs": []
    },
    {
      "cell_type": "code",
      "metadata": {
        "colab": {
          "base_uri": "https://localhost:8080/"
        },
        "id": "Pi1y68YPOn15",
        "outputId": "a8edfff7-311e-4275-effe-5253654a59de"
      },
      "source": [
        "from functools import partial\n",
        "import numpy as np\n",
        "import torch\n",
        "import foolbox\n",
        "from torch import nn\n",
        "from torchvision.datasets import SVHN\n",
        "from torch.utils.data import DataLoader\n",
        "import matplotlib.pyplot as plt\n",
        "import torch.nn.functional as F\n",
        "import torchvision.transforms as T\n",
        "torch.backends.cudnn.deterministic = True\n",
        "\n",
        "print('Pytorch version:', torch.__version__)\n",
        "print('Using {} device'.format(utils.device))"
      ],
      "execution_count": 6,
      "outputs": [
        {
          "output_type": "stream",
          "text": [
            "Pytorch version: 1.9.0+cu102\n",
            "Using cuda device\n"
          ],
          "name": "stdout"
        }
      ]
    },
    {
      "cell_type": "markdown",
      "metadata": {
        "id": "m5DLGEI40owT"
      },
      "source": [
        "# Define dataloader"
      ]
    },
    {
      "cell_type": "markdown",
      "metadata": {
        "id": "RG2HJNKKm_Px"
      },
      "source": [
        "The Pytorch Lightning DataModule class is used to organize the dataset loading code. A custom base class for the project is used that incorporates the addition of Gaussian noise if desired. See utils.py for details."
      ]
    },
    {
      "cell_type": "code",
      "metadata": {
        "id": "GR10W5NvM82o"
      },
      "source": [
        "class SVHNDataModule(utils.BasePLDataModule):\n",
        "  def __init__(self, data_dir: str = '/dev/shm/SVHN/', batch_size: int = 128,\n",
        "               augment_training=None,\n",
        "               test_gaussian_noise=None):\n",
        "    super().__init__(data_dir, batch_size, augment_training, test_gaussian_noise)\n",
        "    self.name = 'SVHN'\n",
        "    \n",
        "    self.get_train = partial(SVHN, self.data_dir, split='train')\n",
        "    self.get_test = partial(SVHN, self.data_dir, split='test')\n",
        "    \n",
        "    self.mean = [0.4377, 0.4438, 0.4728]\n",
        "    self.stddev = [0.1980, 0.2010, 0.1970]\n",
        "    \n",
        "    self.normalize = T.Normalize(self.mean, self.stddev)\n",
        "\n",
        "    self.dims = (3, 32, 32)\n",
        "    self.train_val_split = [65_257, 8_000]"
      ],
      "execution_count": 7,
      "outputs": []
    },
    {
      "cell_type": "code",
      "metadata": {
        "colab": {
          "base_uri": "https://localhost:8080/"
        },
        "id": "lZTGedMU7fZt",
        "outputId": "f3689f63-48b5-4946-fb52-38c777a4d018"
      },
      "source": [
        "# The mean and standard deviation of the dataset is needed for normalization\n",
        "training_data = SVHN('/dev/shm/SVHN/', split='train', download=True,\n",
        "                     transform=T.ToTensor())\n",
        "\n",
        "# Load the whole dataset in one batch to calculate the mean and std\n",
        "loader = DataLoader(training_data, batch_size=len(training_data))\n",
        "data = next(iter(loader))\n",
        "print('Max:', data[0].max())\n",
        "print('Min:', data[0].min())\n",
        "std, mean = torch.std_mean(data[0], [0, 2, 3])\n",
        "print('Mean:', mean)\n",
        "print('Std:', std)"
      ],
      "execution_count": 8,
      "outputs": [
        {
          "output_type": "stream",
          "text": [
            "Using downloaded and verified file: /dev/shm/SVHN/train_32x32.mat\n",
            "Max: tensor(1.)\n",
            "Min: tensor(0.)\n",
            "Mean: tensor([0.4377, 0.4438, 0.4728])\n",
            "Std: tensor([0.1980, 0.2010, 0.1970])\n"
          ],
          "name": "stdout"
        }
      ]
    },
    {
      "cell_type": "code",
      "metadata": {
        "colab": {
          "base_uri": "https://localhost:8080/"
        },
        "id": "Rctk0viEPUU2",
        "outputId": "8c4a87e6-0105-4000-e741-489913d4e44e"
      },
      "source": [
        "vanilla_dm = SVHNDataModule()\n",
        "vanilla_dm.prepare_data()\n",
        "vanilla_dm.setup()\n",
        "\n",
        "print('Data shape:', vanilla_dm.train_set[0][0].shape)\n",
        "print('Max:', vanilla_dm.train_set[0][0].max())\n",
        "print('Min:', vanilla_dm.train_set[0][0].min())"
      ],
      "execution_count": 9,
      "outputs": [
        {
          "output_type": "stream",
          "text": [
            "Using downloaded and verified file: /dev/shm/SVHN/train_32x32.mat\n",
            "Using downloaded and verified file: /dev/shm/SVHN/test_32x32.mat\n",
            "Data shape: torch.Size([3, 32, 32])\n",
            "Max: tensor(2.2404)\n",
            "Min: tensor(0.1528)\n"
          ],
          "name": "stdout"
        }
      ]
    },
    {
      "cell_type": "code",
      "metadata": {
        "colab": {
          "base_uri": "https://localhost:8080/"
        },
        "id": "I8u_vuQ0PWzo",
        "outputId": "02d9a633-1d16-4d5d-9f2f-1583fa1d8cd9"
      },
      "source": [
        "augmented_dm = SVHNDataModule(augment_training=std_list)\n",
        "augmented_dm.prepare_data()\n",
        "augmented_dm.setup()\n",
        "\n",
        "print('Data shape:', augmented_dm.train_set[0][0].shape)\n",
        "print('Max:', augmented_dm.train_set[0][0].max())\n",
        "print('Min:', augmented_dm.train_set[0][0].min())"
      ],
      "execution_count": 10,
      "outputs": [
        {
          "output_type": "stream",
          "text": [
            "Using downloaded and verified file: /dev/shm/SVHN/train_32x32.mat\n",
            "Using downloaded and verified file: /dev/shm/SVHN/test_32x32.mat\n",
            "Data shape: torch.Size([3, 32, 32])\n",
            "Max: tensor(1.1478)\n",
            "Min: tensor(-1.1213)\n"
          ],
          "name": "stdout"
        }
      ]
    },
    {
      "cell_type": "code",
      "metadata": {
        "colab": {
          "base_uri": "https://localhost:8080/",
          "height": 335
        },
        "id": "_KqHM35YnYi1",
        "outputId": "9446b889-5115-44e6-c8a9-414215c86da5"
      },
      "source": [
        "#lets view a few training images from the augmented dataset\n",
        "dm = augmented_dm\n",
        "normalize_saved = dm.normalize\n",
        "dm.normalize = T.Normalize([0, 0, 0], [1, 1, 1])\n",
        "dm.setup()\n",
        "examples_test = enumerate(dm.train_dataloader())\n",
        "batch_idx, (gauss_test_data_1, gauss_test_targets) = next(examples_test)\n",
        "image_list = gauss_test_data_1[:6]\n",
        "image_list = (image_list - image_list.min())/(image_list.max() - image_list.min())\n",
        "print(image_list.shape)\n",
        "print('Max:', image_list[0].max())\n",
        "print('Min:', image_list[0].min())\n",
        "fig = plt.figure()\n",
        "for i in range(6):\n",
        "  plt.subplot(2, 3, i+1)\n",
        "  plt.tight_layout()\n",
        "  plt.imshow(image_list[i].permute(1, 2, 0), interpolation='none')\n",
        "  plt.title(\"Ground Truth: {}\".format(gauss_test_targets[i]))\n",
        "  plt.xticks([])\n",
        "  plt.yticks([])\n",
        "fig.show()\n",
        "dm.normalize = normalize_saved\n",
        "dm.setup()"
      ],
      "execution_count": 11,
      "outputs": [
        {
          "output_type": "stream",
          "text": [
            "torch.Size([6, 3, 32, 32])\n",
            "Max: tensor(0.7679)\n",
            "Min: tensor(0.2739)\n"
          ],
          "name": "stdout"
        },
        {
          "output_type": "display_data",
          "data": {
            "image/png": "[encoded data removed]",
            "text/plain": [
              "<Figure size 432x288 with 6 Axes>"
            ]
          },
          "metadata": {
            "tags": []
          }
        }
      ]
    },
    {
      "cell_type": "code",
      "metadata": {
        "colab": {
          "base_uri": "https://localhost:8080/",
          "height": 335
        },
        "id": "o1wWpcnAPgod",
        "outputId": "b3cd6ca0-b7e0-4b02-c0ff-0b72b28169a5"
      },
      "source": [
        "#lets view a few test images with noise added\n",
        "dm = SVHNDataModule(test_gaussian_noise=std_list[-1])\n",
        "normalize_saved = dm.normalize\n",
        "dm.normalize = T.Normalize([0, 0, 0], [1, 1, 1])\n",
        "dm.setup()\n",
        "examples_test = enumerate(dm.test_dataloader())\n",
        "batch_idx, (gauss_test_data_1, gauss_test_targets) = next(examples_test)\n",
        "image_list = gauss_test_data_1[:6]\n",
        "image_list = (image_list - image_list.min())/(image_list.max() - image_list.min())\n",
        "print(image_list.shape)\n",
        "print('Max:', image_list[0].max())\n",
        "print('Min:', image_list[0].min())\n",
        "fig = plt.figure()\n",
        "for i in range(6):\n",
        "  plt.subplot(2, 3, i+1)\n",
        "  plt.tight_layout()\n",
        "  plt.imshow(image_list[i].permute(1, 2, 0), interpolation='none')\n",
        "  plt.title(\"Ground Truth: {}\".format(gauss_test_targets[i]))\n",
        "  plt.xticks([])\n",
        "  plt.yticks([])\n",
        "fig.show()\n",
        "dm.normalize = normalize_saved\n",
        "dm.setup()"
      ],
      "execution_count": 12,
      "outputs": [
        {
          "output_type": "stream",
          "text": [
            "torch.Size([6, 3, 32, 32])\n",
            "Max: tensor(0.9437)\n",
            "Min: tensor(0.)\n"
          ],
          "name": "stdout"
        },
        {
          "output_type": "display_data",
          "data": {
            "image/png": "[encoded data removed]",
            "text/plain": [
              "<Figure size 432x288 with 6 Axes>"
            ]
          },
          "metadata": {
            "tags": []
          }
        }
      ]
    },
    {
      "cell_type": "markdown",
      "metadata": {
        "id": "fHDPB1Jzn9wW"
      },
      "source": [
        "# Define models"
      ]
    },
    {
      "cell_type": "markdown",
      "metadata": {
        "id": "p3ynGRKmn_JT"
      },
      "source": [
        "## CNN model class"
      ]
    },
    {
      "cell_type": "code",
      "metadata": {
        "id": "IFiwjek6RXPY",
        "colab": {
          "base_uri": "https://localhost:8080/"
        },
        "outputId": "ad48e81a-8a83-4696-f713-d69462581567"
      },
      "source": [
        "def norm(dim):\n",
        "    return nn.GroupNorm(min(32, dim), dim)\n",
        "\n",
        "# Size of the IRd output not explained in the paper\n",
        "IRd_output_size = 36\n",
        "\n",
        "\n",
        "class CNN_Net(utils.BasePLSystem):\n",
        "  def __init__(self, robustness=None, **kwargs):\n",
        "    super().__init__(robustness=robustness, **kwargs)\n",
        "    self.robustness = robustness\n",
        "\n",
        "    # Optional input randomization layer\n",
        "    if robustness == 'IRd':\n",
        "      layers = [utils.InputRandomization(output_size=IRd_output_size)]\n",
        "    else:\n",
        "      layers = []\n",
        "\n",
        "    layers.extend([\n",
        "      # FE layers\n",
        "      nn.Conv2d(3, 64, 3, 1),\n",
        "      norm(64),\n",
        "      nn.ReLU(),\n",
        "      nn.Conv2d(64, 64, 4, 2),\n",
        "      norm(64),\n",
        "      nn.ReLU(),\n",
        "      # RM layers\n",
        "      nn.Conv2d(64, 64, 3, 1),\n",
        "      norm(64),\n",
        "      nn.ReLU(),\n",
        "      nn.Conv2d(64, 64, 3, 1),\n",
        "      norm(64),\n",
        "      nn.ReLU()                      \n",
        "    ])\n",
        "    \n",
        "    # Optional FDn layer\n",
        "    if robustness == 'FDn':\n",
        "      layers.append(utils.FeatureDenoising(64))\n",
        "\n",
        "    # FCC layer\n",
        "    layers.extend([ \n",
        "      nn.AdaptiveAvgPool2d((1, 1)),\n",
        "      nn.Flatten(),\n",
        "      nn.Linear(64, 10)])\n",
        "\n",
        "    self.model = nn.Sequential(*layers)\n",
        "    \n",
        "  def forward(self, x):\n",
        "    return self.model(x)\n",
        "\n",
        "model = CNN_Net().to('cpu')\n",
        "summary(model, input_size=[vanilla_dm.batch_size, *vanilla_dm.dims])"
      ],
      "execution_count": 13,
      "outputs": [
        {
          "output_type": "stream",
          "text": [
            "/usr/local/lib/python3.7/dist-packages/deprecate/deprecation.py:115: LightningDeprecationWarning: The `Accuracy` was deprecated since v1.3.0 in favor of `torchmetrics.classification.accuracy.Accuracy`. It will be removed in v1.5.0.\n",
            "  stream(template_mgs % msg_args)\n"
          ],
          "name": "stderr"
        },
        {
          "output_type": "execute_result",
          "data": {
            "text/plain": [
              "==========================================================================================\n",
              "Layer (type:depth-idx)                   Output Shape              Param #\n",
              "==========================================================================================\n",
              "CNN_Net                                  --                        --\n",
              "├─Sequential: 1-1                        [128, 10]                 --\n",
              "│    └─Conv2d: 2-1                       [128, 64, 30, 30]         1,792\n",
              "│    └─GroupNorm: 2-2                    [128, 64, 30, 30]         128\n",
              "│    └─ReLU: 2-3                         [128, 64, 30, 30]         --\n",
              "│    └─Conv2d: 2-4                       [128, 64, 14, 14]         65,600\n",
              "│    └─GroupNorm: 2-5                    [128, 64, 14, 14]         128\n",
              "│    └─ReLU: 2-6                         [128, 64, 14, 14]         --\n",
              "│    └─Conv2d: 2-7                       [128, 64, 12, 12]         36,928\n",
              "│    └─GroupNorm: 2-8                    [128, 64, 12, 12]         128\n",
              "│    └─ReLU: 2-9                         [128, 64, 12, 12]         --\n",
              "│    └─Conv2d: 2-10                      [128, 64, 10, 10]         36,928\n",
              "│    └─GroupNorm: 2-11                   [128, 64, 10, 10]         128\n",
              "│    └─ReLU: 2-12                        [128, 64, 10, 10]         --\n",
              "│    └─AdaptiveAvgPool2d: 2-13           [128, 64, 1, 1]           --\n",
              "│    └─Flatten: 2-14                     [128, 64]                 --\n",
              "│    └─Linear: 2-15                      [128, 10]                 650\n",
              "==========================================================================================\n",
              "Total params: 142,410\n",
              "Trainable params: 142,410\n",
              "Non-trainable params: 0\n",
              "Total mult-adds (G): 3.01\n",
              "==========================================================================================\n",
              "Input size (MB): 1.57\n",
              "Forward/backward pass size (MB): 175.65\n",
              "Params size (MB): 0.57\n",
              "Estimated Total Size (MB): 177.79\n",
              "=========================================================================================="
            ]
          },
          "metadata": {
            "tags": []
          },
          "execution_count": 13
        }
      ]
    },
    {
      "cell_type": "code",
      "metadata": {
        "colab": {
          "base_uri": "https://localhost:8080/"
        },
        "id": "J2U99lMaQdag",
        "outputId": "2406ed14-f46e-4143-ce1d-1e15ca9bd7c8"
      },
      "source": [
        "# Since model naming is done based on the class name, subclass to get\n",
        "# the FDn version.\n",
        "class CNN_Net_FDn(CNN_Net):\n",
        "  def __init__(self, **kwargs):\n",
        "    kwargs['robustness'] = 'FDn'\n",
        "    super().__init__(**kwargs)\n",
        "\n",
        "model = CNN_Net_FDn().to('cpu')\n",
        "summary(model, input_size=[vanilla_dm.batch_size, *vanilla_dm.dims])"
      ],
      "execution_count": 14,
      "outputs": [
        {
          "output_type": "execute_result",
          "data": {
            "text/plain": [
              "==========================================================================================\n",
              "Layer (type:depth-idx)                   Output Shape              Param #\n",
              "==========================================================================================\n",
              "CNN_Net_FDn                              --                        --\n",
              "├─Sequential: 1-1                        [128, 10]                 --\n",
              "│    └─Conv2d: 2-1                       [128, 64, 30, 30]         1,792\n",
              "│    └─GroupNorm: 2-2                    [128, 64, 30, 30]         128\n",
              "│    └─ReLU: 2-3                         [128, 64, 30, 30]         --\n",
              "│    └─Conv2d: 2-4                       [128, 64, 14, 14]         65,600\n",
              "│    └─GroupNorm: 2-5                    [128, 64, 14, 14]         128\n",
              "│    └─ReLU: 2-6                         [128, 64, 14, 14]         --\n",
              "│    └─Conv2d: 2-7                       [128, 64, 12, 12]         36,928\n",
              "│    └─GroupNorm: 2-8                    [128, 64, 12, 12]         128\n",
              "│    └─ReLU: 2-9                         [128, 64, 12, 12]         --\n",
              "│    └─Conv2d: 2-10                      [128, 64, 10, 10]         36,928\n",
              "│    └─GroupNorm: 2-11                   [128, 64, 10, 10]         128\n",
              "│    └─ReLU: 2-12                        [128, 64, 10, 10]         --\n",
              "│    └─FeatureDenoising: 2-13            [128, 64, 10, 10]         --\n",
              "│    │    └─Conv2d: 3-1                  [128, 64, 10, 10]         4,160\n",
              "│    │    └─GroupNorm: 3-2               [128, 64, 10, 10]         128\n",
              "│    └─AdaptiveAvgPool2d: 2-14           [128, 64, 1, 1]           --\n",
              "│    └─Flatten: 2-15                     [128, 64]                 --\n",
              "│    └─Linear: 2-16                      [128, 10]                 650\n",
              "==========================================================================================\n",
              "Total params: 146,698\n",
              "Trainable params: 146,698\n",
              "Non-trainable params: 0\n",
              "Total mult-adds (G): 3.06\n",
              "==========================================================================================\n",
              "Input size (MB): 1.57\n",
              "Forward/backward pass size (MB): 188.75\n",
              "Params size (MB): 0.59\n",
              "Estimated Total Size (MB): 190.91\n",
              "=========================================================================================="
            ]
          },
          "metadata": {
            "tags": []
          },
          "execution_count": 14
        }
      ]
    },
    {
      "cell_type": "code",
      "metadata": {
        "colab": {
          "base_uri": "https://localhost:8080/"
        },
        "id": "GuvZiBrMLxGV",
        "outputId": "fa483a07-26d9-433b-b8a8-afe6021eea40"
      },
      "source": [
        "class CNN_Net_IRd(CNN_Net):\n",
        "  def __init__(self, **kwargs):\n",
        "    kwargs['robustness'] = 'IRd'\n",
        "    super().__init__(**kwargs)\n",
        "\n",
        "model = CNN_Net_IRd().to('cpu')\n",
        "summary(model, input_size=[vanilla_dm.batch_size, *vanilla_dm.dims])"
      ],
      "execution_count": 15,
      "outputs": [
        {
          "output_type": "execute_result",
          "data": {
            "text/plain": [
              "==========================================================================================\n",
              "Layer (type:depth-idx)                   Output Shape              Param #\n",
              "==========================================================================================\n",
              "CNN_Net_IRd                              --                        --\n",
              "├─Sequential: 1-1                        [128, 10]                 --\n",
              "│    └─InputRandomization: 2-1           [128, 3, 36, 36]          --\n",
              "│    └─Conv2d: 2-2                       [128, 64, 34, 34]         1,792\n",
              "│    └─GroupNorm: 2-3                    [128, 64, 34, 34]         128\n",
              "│    └─ReLU: 2-4                         [128, 64, 34, 34]         --\n",
              "│    └─Conv2d: 2-5                       [128, 64, 16, 16]         65,600\n",
              "│    └─GroupNorm: 2-6                    [128, 64, 16, 16]         128\n",
              "│    └─ReLU: 2-7                         [128, 64, 16, 16]         --\n",
              "│    └─Conv2d: 2-8                       [128, 64, 14, 14]         36,928\n",
              "│    └─GroupNorm: 2-9                    [128, 64, 14, 14]         128\n",
              "│    └─ReLU: 2-10                        [128, 64, 14, 14]         --\n",
              "│    └─Conv2d: 2-11                      [128, 64, 12, 12]         36,928\n",
              "│    └─GroupNorm: 2-12                   [128, 64, 12, 12]         128\n",
              "│    └─ReLU: 2-13                        [128, 64, 12, 12]         --\n",
              "│    └─AdaptiveAvgPool2d: 2-14           [128, 64, 1, 1]           --\n",
              "│    └─Flatten: 2-15                     [128, 64]                 --\n",
              "│    └─Linear: 2-16                      [128, 10]                 650\n",
              "==========================================================================================\n",
              "Total params: 142,410\n",
              "Trainable params: 142,410\n",
              "Non-trainable params: 0\n",
              "Total mult-adds (G): 4.02\n",
              "==========================================================================================\n",
              "Input size (MB): 1.57\n",
              "Forward/backward pass size (MB): 229.65\n",
              "Params size (MB): 0.57\n",
              "Estimated Total Size (MB): 231.79\n",
              "=========================================================================================="
            ]
          },
          "metadata": {
            "tags": []
          },
          "execution_count": 15
        }
      ]
    },
    {
      "cell_type": "markdown",
      "metadata": {
        "id": "6z9mRTeGwcD2"
      },
      "source": [
        "## NeuralODE models"
      ]
    },
    {
      "cell_type": "code",
      "metadata": {
        "id": "47SbPJjpwuX3"
      },
      "source": [
        "class ODEfunc(nn.Module):\n",
        "\n",
        "    def __init__(self, dim):\n",
        "        super().__init__()\n",
        "        self.relu = nn.ReLU()\n",
        "        self.conv1 = utils.ConcatConv2d(dim, dim, 3, 1, 1)\n",
        "        self.norm1 = norm(dim)\n",
        "        self.conv2 = utils.ConcatConv2d(dim, dim, 3, 1, 1)\n",
        "        self.norm2 = norm(dim)\n",
        "        self.nfe = 0\n",
        "\n",
        "    def forward(self, t, x):\n",
        "        # t is passed as an argument but not used in evaluation since the\n",
        "        # function is time invariant.\n",
        "        self.nfe += 1\n",
        "        out = self.conv1(t, x)\n",
        "        out = self.norm1(out)\n",
        "        out = self.relu(out)\n",
        "        out = self.conv2(t, out)\n",
        "        out = self.norm2(out)\n",
        "        out = self.relu(out)\n",
        "        return out"
      ],
      "execution_count": 16,
      "outputs": []
    },
    {
      "cell_type": "code",
      "metadata": {
        "id": "4U1vwmfOkI3s",
        "colab": {
          "base_uri": "https://localhost:8080/"
        },
        "outputId": "58338dcd-f42d-4784-9a58-a165d51d9867"
      },
      "source": [
        "class ODE_Net(utils.BasePLSystem):\n",
        "  def __init__(self, robustness=None, **kwargs):\n",
        "    super().__init__(robustness=robustness, **kwargs)\n",
        "    self.robustness = robustness\n",
        "\n",
        "    # Optional input randomization layer\n",
        "    if robustness == 'IRd':\n",
        "      layers = [utils.InputRandomization(output_size=IRd_output_size)]\n",
        "    else:\n",
        "      layers = []\n",
        "\n",
        "    layers.extend([\n",
        "      # FE layers\n",
        "      nn.Conv2d(3, 64, 3, 1),\n",
        "      norm(64),\n",
        "      nn.ReLU(),\n",
        "      nn.Conv2d(64, 64, 4, 2),\n",
        "      norm(64),\n",
        "      nn.ReLU(),\n",
        "      # RM layers\n",
        "      utils.ODEBlock(ODEfunc(64))\n",
        "    ])\n",
        "    \n",
        "    # Optional feature denoising layer\n",
        "    if robustness == 'FDn':\n",
        "      layers.append(utils.FeatureDenoising(64))\n",
        "\n",
        "    # FCC layer\n",
        "    layers.extend([  \n",
        "      nn.AdaptiveAvgPool2d((1, 1)),\n",
        "      nn.Flatten(),\n",
        "      nn.Linear(64, 10)])\n",
        "    \n",
        "    self.model = nn.Sequential(*layers)\n",
        "    \n",
        "  def forward(self, x):\n",
        "    return self.model(x)\n",
        "\n",
        "model = ODE_Net().to('cpu')\n",
        "summary(model, input_size=[vanilla_dm.batch_size, *vanilla_dm.dims])"
      ],
      "execution_count": 17,
      "outputs": [
        {
          "output_type": "execute_result",
          "data": {
            "text/plain": [
              "==========================================================================================\n",
              "Layer (type:depth-idx)                   Output Shape              Param #\n",
              "==========================================================================================\n",
              "ODE_Net                                  --                        --\n",
              "├─Sequential: 1-1                        [128, 10]                 --\n",
              "│    └─Conv2d: 2-1                       [128, 64, 30, 30]         1,792\n",
              "│    └─GroupNorm: 2-2                    [128, 64, 30, 30]         128\n",
              "│    └─ReLU: 2-3                         [128, 64, 30, 30]         --\n",
              "│    └─Conv2d: 2-4                       [128, 64, 14, 14]         65,600\n",
              "│    └─GroupNorm: 2-5                    [128, 64, 14, 14]         128\n",
              "│    └─ReLU: 2-6                         [128, 64, 14, 14]         --\n",
              "│    └─ODEBlock: 2-7                     [128, 64, 14, 14]         --\n",
              "│    │    └─ODEfunc: 3-1                 [128, 64, 14, 14]         75,264\n",
              "│    │    └─ODEfunc: 3-2                 [128, 64, 14, 14]         (recursive)\n",
              "│    │    └─ODEfunc: 3-3                 [128, 64, 14, 14]         (recursive)\n",
              "│    │    └─ODEfunc: 3-4                 [128, 64, 14, 14]         (recursive)\n",
              "│    │    └─ODEfunc: 3-5                 [128, 64, 14, 14]         (recursive)\n",
              "│    │    └─ODEfunc: 3-6                 [128, 64, 14, 14]         (recursive)\n",
              "│    │    └─ODEfunc: 3-7                 [128, 64, 14, 14]         (recursive)\n",
              "│    │    └─ODEfunc: 3-8                 [128, 64, 14, 14]         (recursive)\n",
              "│    │    └─ODEfunc: 3-9                 [128, 64, 14, 14]         (recursive)\n",
              "│    │    └─ODEfunc: 3-10                [128, 64, 14, 14]         (recursive)\n",
              "│    └─AdaptiveAvgPool2d: 2-8            [128, 64, 1, 1]           --\n",
              "│    └─Flatten: 2-9                      [128, 64]                 --\n",
              "│    └─Linear: 2-10                      [128, 10]                 650\n",
              "==========================================================================================\n",
              "Total params: 143,562\n",
              "Trainable params: 143,562\n",
              "Non-trainable params: 0\n",
              "Total mult-adds (G): 20.67\n",
              "==========================================================================================\n",
              "Input size (MB): 1.57\n",
              "Forward/backward pass size (MB): 195.05\n",
              "Params size (MB): 0.57\n",
              "Estimated Total Size (MB): 197.19\n",
              "=========================================================================================="
            ]
          },
          "metadata": {
            "tags": []
          },
          "execution_count": 17
        }
      ]
    },
    {
      "cell_type": "markdown",
      "metadata": {
        "id": "5o-LYzLhxJxw"
      },
      "source": [
        "## TisODE models"
      ]
    },
    {
      "cell_type": "code",
      "metadata": {
        "id": "TX9QsNHjxR-d"
      },
      "source": [
        "class TisODEfunc(nn.Module):\n",
        "\n",
        "    def __init__(self, dim):\n",
        "        super().__init__()\n",
        "        self.relu = nn.ReLU()\n",
        "        self.conv1 = nn.Conv2d(dim, dim, 3, 1, 1)\n",
        "        self.norm1 = norm(dim)\n",
        "        self.conv2 = nn.Conv2d(dim, dim, 3, 1, 1)\n",
        "        self.norm2 = norm(dim)\n",
        "        self.nfe = 0\n",
        "\n",
        "    def forward(self, t, x):\n",
        "        # t is passed as an argument but not used in evaluation since the\n",
        "        # function is time invariant.\n",
        "        self.nfe += 1\n",
        "        out = self.conv1(x)\n",
        "        out = self.norm1(out)\n",
        "        out = self.relu(out)\n",
        "        out = self.conv2(out)\n",
        "        out = self.norm2(out)\n",
        "        out = self.relu(out)\n",
        "        return out"
      ],
      "execution_count": 18,
      "outputs": []
    },
    {
      "cell_type": "code",
      "metadata": {
        "id": "uGmoSYK4xSob",
        "colab": {
          "base_uri": "https://localhost:8080/"
        },
        "outputId": "4c50e465-b585-4e4d-f1ce-6b18145eb9b4"
      },
      "source": [
        "class TisODE_Net(utils.TisODEBase):\n",
        "  def __init__(self, robustness=None, step_size=0.1, L_ss_weight=0.01,\n",
        "               start_regularization=5, **kwargs):\n",
        "    super().__init__(robustness=robustness, step_size=step_size,\n",
        "                     L_ss_weight=L_ss_weight,\n",
        "                     start_regularization=start_regularization, **kwargs)\n",
        "\n",
        "    # Optional input randomization layer\n",
        "    if robustness == 'IRd':\n",
        "      layers1 = [utils.InputRandomization(output_size=IRd_output_size)]\n",
        "    else:\n",
        "      layers1 = []\n",
        "\n",
        "    # FE layers\n",
        "    layers1.extend([\n",
        "      nn.Conv2d(3, 64, 3, 1),\n",
        "      norm(64),\n",
        "      nn.ReLU(),\n",
        "      nn.Conv2d(64, 64, 4, 2),\n",
        "      norm(64),\n",
        "      nn.ReLU()\n",
        "    ])\n",
        "    self.model1 = nn.Sequential(*layers1)\n",
        "\n",
        "    # RM layer\n",
        "    self.odeblock = utils.ODEBlock(TisODEfunc(64))\n",
        "\n",
        "    # Optional feature denoising layer\n",
        "    layers2 = [utils.FeatureDenoising(64)] if robustness == 'FDn' else []\n",
        "\n",
        "    # FCC layer\n",
        "    layers2.extend([\n",
        "      nn.AdaptiveAvgPool2d((1, 1)),\n",
        "      nn.Flatten(),\n",
        "      nn.Linear(64, 10)])\n",
        "    \n",
        "    self.model2 = nn.Sequential(*layers2)\n",
        "\n",
        "model = TisODE_Net().to('cpu')\n",
        "summary(model, input_size=[vanilla_dm.batch_size, *vanilla_dm.dims])"
      ],
      "execution_count": 19,
      "outputs": [
        {
          "output_type": "execute_result",
          "data": {
            "text/plain": [
              "==========================================================================================\n",
              "Layer (type:depth-idx)                   Output Shape              Param #\n",
              "==========================================================================================\n",
              "TisODE_Net                               --                        --\n",
              "├─Sequential: 1-1                        [128, 64, 14, 14]         --\n",
              "│    └─Conv2d: 2-1                       [128, 64, 30, 30]         1,792\n",
              "│    └─GroupNorm: 2-2                    [128, 64, 30, 30]         128\n",
              "│    └─ReLU: 2-3                         [128, 64, 30, 30]         --\n",
              "│    └─Conv2d: 2-4                       [128, 64, 14, 14]         65,600\n",
              "│    └─GroupNorm: 2-5                    [128, 64, 14, 14]         128\n",
              "│    └─ReLU: 2-6                         [128, 64, 14, 14]         --\n",
              "├─ODEBlock: 1-2                          [128, 64, 14, 14]         --\n",
              "│    └─TisODEfunc: 2-7                   [128, 64, 14, 14]         --\n",
              "│    │    └─Conv2d: 3-1                  [128, 64, 14, 14]         36,928\n",
              "│    │    └─GroupNorm: 3-2               [128, 64, 14, 14]         128\n",
              "│    │    └─ReLU: 3-3                    [128, 64, 14, 14]         --\n",
              "│    │    └─Conv2d: 3-4                  [128, 64, 14, 14]         36,928\n",
              "│    │    └─GroupNorm: 3-5               [128, 64, 14, 14]         128\n",
              "│    │    └─ReLU: 3-6                    [128, 64, 14, 14]         --\n",
              "│    └─TisODEfunc: 2-8                   [128, 64, 14, 14]         (recursive)\n",
              "│    │    └─Conv2d: 3-7                  [128, 64, 14, 14]         (recursive)\n",
              "│    │    └─GroupNorm: 3-8               [128, 64, 14, 14]         (recursive)\n",
              "│    │    └─ReLU: 3-9                    [128, 64, 14, 14]         --\n",
              "│    │    └─Conv2d: 3-10                 [128, 64, 14, 14]         (recursive)\n",
              "│    │    └─GroupNorm: 3-11              [128, 64, 14, 14]         (recursive)\n",
              "│    │    └─ReLU: 3-12                   [128, 64, 14, 14]         --\n",
              "│    └─TisODEfunc: 2-9                   [128, 64, 14, 14]         (recursive)\n",
              "│    │    └─Conv2d: 3-13                 [128, 64, 14, 14]         (recursive)\n",
              "│    │    └─GroupNorm: 3-14              [128, 64, 14, 14]         (recursive)\n",
              "│    │    └─ReLU: 3-15                   [128, 64, 14, 14]         --\n",
              "│    │    └─Conv2d: 3-16                 [128, 64, 14, 14]         (recursive)\n",
              "│    │    └─GroupNorm: 3-17              [128, 64, 14, 14]         (recursive)\n",
              "│    │    └─ReLU: 3-18                   [128, 64, 14, 14]         --\n",
              "│    └─TisODEfunc: 2-10                  [128, 64, 14, 14]         (recursive)\n",
              "│    │    └─Conv2d: 3-19                 [128, 64, 14, 14]         (recursive)\n",
              "│    │    └─GroupNorm: 3-20              [128, 64, 14, 14]         (recursive)\n",
              "│    │    └─ReLU: 3-21                   [128, 64, 14, 14]         --\n",
              "│    │    └─Conv2d: 3-22                 [128, 64, 14, 14]         (recursive)\n",
              "│    │    └─GroupNorm: 3-23              [128, 64, 14, 14]         (recursive)\n",
              "│    │    └─ReLU: 3-24                   [128, 64, 14, 14]         --\n",
              "│    └─TisODEfunc: 2-11                  [128, 64, 14, 14]         (recursive)\n",
              "│    │    └─Conv2d: 3-25                 [128, 64, 14, 14]         (recursive)\n",
              "│    │    └─GroupNorm: 3-26              [128, 64, 14, 14]         (recursive)\n",
              "│    │    └─ReLU: 3-27                   [128, 64, 14, 14]         --\n",
              "│    │    └─Conv2d: 3-28                 [128, 64, 14, 14]         (recursive)\n",
              "│    │    └─GroupNorm: 3-29              [128, 64, 14, 14]         (recursive)\n",
              "│    │    └─ReLU: 3-30                   [128, 64, 14, 14]         --\n",
              "│    └─TisODEfunc: 2-12                  [128, 64, 14, 14]         (recursive)\n",
              "│    │    └─Conv2d: 3-31                 [128, 64, 14, 14]         (recursive)\n",
              "│    │    └─GroupNorm: 3-32              [128, 64, 14, 14]         (recursive)\n",
              "│    │    └─ReLU: 3-33                   [128, 64, 14, 14]         --\n",
              "│    │    └─Conv2d: 3-34                 [128, 64, 14, 14]         (recursive)\n",
              "│    │    └─GroupNorm: 3-35              [128, 64, 14, 14]         (recursive)\n",
              "│    │    └─ReLU: 3-36                   [128, 64, 14, 14]         --\n",
              "│    └─TisODEfunc: 2-13                  [128, 64, 14, 14]         (recursive)\n",
              "│    │    └─Conv2d: 3-37                 [128, 64, 14, 14]         (recursive)\n",
              "│    │    └─GroupNorm: 3-38              [128, 64, 14, 14]         (recursive)\n",
              "│    │    └─ReLU: 3-39                   [128, 64, 14, 14]         --\n",
              "│    │    └─Conv2d: 3-40                 [128, 64, 14, 14]         (recursive)\n",
              "│    │    └─GroupNorm: 3-41              [128, 64, 14, 14]         (recursive)\n",
              "│    │    └─ReLU: 3-42                   [128, 64, 14, 14]         --\n",
              "│    └─TisODEfunc: 2-14                  [128, 64, 14, 14]         (recursive)\n",
              "│    │    └─Conv2d: 3-43                 [128, 64, 14, 14]         (recursive)\n",
              "│    │    └─GroupNorm: 3-44              [128, 64, 14, 14]         (recursive)\n",
              "│    │    └─ReLU: 3-45                   [128, 64, 14, 14]         --\n",
              "│    │    └─Conv2d: 3-46                 [128, 64, 14, 14]         (recursive)\n",
              "│    │    └─GroupNorm: 3-47              [128, 64, 14, 14]         (recursive)\n",
              "│    │    └─ReLU: 3-48                   [128, 64, 14, 14]         --\n",
              "│    └─TisODEfunc: 2-15                  [128, 64, 14, 14]         (recursive)\n",
              "│    │    └─Conv2d: 3-49                 [128, 64, 14, 14]         (recursive)\n",
              "│    │    └─GroupNorm: 3-50              [128, 64, 14, 14]         (recursive)\n",
              "│    │    └─ReLU: 3-51                   [128, 64, 14, 14]         --\n",
              "│    │    └─Conv2d: 3-52                 [128, 64, 14, 14]         (recursive)\n",
              "│    │    └─GroupNorm: 3-53              [128, 64, 14, 14]         (recursive)\n",
              "│    │    └─ReLU: 3-54                   [128, 64, 14, 14]         --\n",
              "│    └─TisODEfunc: 2-16                  [128, 64, 14, 14]         (recursive)\n",
              "│    │    └─Conv2d: 3-55                 [128, 64, 14, 14]         (recursive)\n",
              "│    │    └─GroupNorm: 3-56              [128, 64, 14, 14]         (recursive)\n",
              "│    │    └─ReLU: 3-57                   [128, 64, 14, 14]         --\n",
              "│    │    └─Conv2d: 3-58                 [128, 64, 14, 14]         (recursive)\n",
              "│    │    └─GroupNorm: 3-59              [128, 64, 14, 14]         (recursive)\n",
              "│    │    └─ReLU: 3-60                   [128, 64, 14, 14]         --\n",
              "├─Sequential: 1-3                        [128, 10]                 --\n",
              "│    └─AdaptiveAvgPool2d: 2-17           [128, 64, 1, 1]           --\n",
              "│    └─Flatten: 2-18                     [128, 64]                 --\n",
              "│    └─Linear: 2-19                      [128, 10]                 650\n",
              "==========================================================================================\n",
              "Total params: 142,410\n",
              "Trainable params: 142,410\n",
              "Non-trainable params: 0\n",
              "Total mult-adds (G): 20.38\n",
              "==========================================================================================\n",
              "Input size (MB): 1.57\n",
              "Forward/backward pass size (MB): 195.05\n",
              "Params size (MB): 0.57\n",
              "Estimated Total Size (MB): 197.19\n",
              "=========================================================================================="
            ]
          },
          "metadata": {
            "tags": []
          },
          "execution_count": 19
        }
      ]
    },
    {
      "cell_type": "code",
      "metadata": {
        "colab": {
          "base_uri": "https://localhost:8080/"
        },
        "id": "dGeO4iI0UOMH",
        "outputId": "d7af236d-ac21-4ba0-a25a-03a3ea89870d"
      },
      "source": [
        "class TisODE_Net_FDn(TisODE_Net):\n",
        "  def __init__(self, **kwargs):\n",
        "    kwargs['robustness'] = 'FDn'\n",
        "    super().__init__(**kwargs)\n",
        "\n",
        "model = TisODE_Net_FDn().to('cpu')\n",
        "summary(model, input_size=[vanilla_dm.batch_size, *vanilla_dm.dims])"
      ],
      "execution_count": 20,
      "outputs": [
        {
          "output_type": "execute_result",
          "data": {
            "text/plain": [
              "==========================================================================================\n",
              "Layer (type:depth-idx)                   Output Shape              Param #\n",
              "==========================================================================================\n",
              "TisODE_Net_FDn                           --                        --\n",
              "├─Sequential: 1-1                        [128, 64, 14, 14]         --\n",
              "│    └─Conv2d: 2-1                       [128, 64, 30, 30]         1,792\n",
              "│    └─GroupNorm: 2-2                    [128, 64, 30, 30]         128\n",
              "│    └─ReLU: 2-3                         [128, 64, 30, 30]         --\n",
              "│    └─Conv2d: 2-4                       [128, 64, 14, 14]         65,600\n",
              "│    └─GroupNorm: 2-5                    [128, 64, 14, 14]         128\n",
              "│    └─ReLU: 2-6                         [128, 64, 14, 14]         --\n",
              "├─ODEBlock: 1-2                          [128, 64, 14, 14]         --\n",
              "│    └─TisODEfunc: 2-7                   [128, 64, 14, 14]         --\n",
              "│    │    └─Conv2d: 3-1                  [128, 64, 14, 14]         36,928\n",
              "│    │    └─GroupNorm: 3-2               [128, 64, 14, 14]         128\n",
              "│    │    └─ReLU: 3-3                    [128, 64, 14, 14]         --\n",
              "│    │    └─Conv2d: 3-4                  [128, 64, 14, 14]         36,928\n",
              "│    │    └─GroupNorm: 3-5               [128, 64, 14, 14]         128\n",
              "│    │    └─ReLU: 3-6                    [128, 64, 14, 14]         --\n",
              "│    └─TisODEfunc: 2-8                   [128, 64, 14, 14]         (recursive)\n",
              "│    │    └─Conv2d: 3-7                  [128, 64, 14, 14]         (recursive)\n",
              "│    │    └─GroupNorm: 3-8               [128, 64, 14, 14]         (recursive)\n",
              "│    │    └─ReLU: 3-9                    [128, 64, 14, 14]         --\n",
              "│    │    └─Conv2d: 3-10                 [128, 64, 14, 14]         (recursive)\n",
              "│    │    └─GroupNorm: 3-11              [128, 64, 14, 14]         (recursive)\n",
              "│    │    └─ReLU: 3-12                   [128, 64, 14, 14]         --\n",
              "│    └─TisODEfunc: 2-9                   [128, 64, 14, 14]         (recursive)\n",
              "│    │    └─Conv2d: 3-13                 [128, 64, 14, 14]         (recursive)\n",
              "│    │    └─GroupNorm: 3-14              [128, 64, 14, 14]         (recursive)\n",
              "│    │    └─ReLU: 3-15                   [128, 64, 14, 14]         --\n",
              "│    │    └─Conv2d: 3-16                 [128, 64, 14, 14]         (recursive)\n",
              "│    │    └─GroupNorm: 3-17              [128, 64, 14, 14]         (recursive)\n",
              "│    │    └─ReLU: 3-18                   [128, 64, 14, 14]         --\n",
              "│    └─TisODEfunc: 2-10                  [128, 64, 14, 14]         (recursive)\n",
              "│    │    └─Conv2d: 3-19                 [128, 64, 14, 14]         (recursive)\n",
              "│    │    └─GroupNorm: 3-20              [128, 64, 14, 14]         (recursive)\n",
              "│    │    └─ReLU: 3-21                   [128, 64, 14, 14]         --\n",
              "│    │    └─Conv2d: 3-22                 [128, 64, 14, 14]         (recursive)\n",
              "│    │    └─GroupNorm: 3-23              [128, 64, 14, 14]         (recursive)\n",
              "│    │    └─ReLU: 3-24                   [128, 64, 14, 14]         --\n",
              "│    └─TisODEfunc: 2-11                  [128, 64, 14, 14]         (recursive)\n",
              "│    │    └─Conv2d: 3-25                 [128, 64, 14, 14]         (recursive)\n",
              "│    │    └─GroupNorm: 3-26              [128, 64, 14, 14]         (recursive)\n",
              "│    │    └─ReLU: 3-27                   [128, 64, 14, 14]         --\n",
              "│    │    └─Conv2d: 3-28                 [128, 64, 14, 14]         (recursive)\n",
              "│    │    └─GroupNorm: 3-29              [128, 64, 14, 14]         (recursive)\n",
              "│    │    └─ReLU: 3-30                   [128, 64, 14, 14]         --\n",
              "│    └─TisODEfunc: 2-12                  [128, 64, 14, 14]         (recursive)\n",
              "│    │    └─Conv2d: 3-31                 [128, 64, 14, 14]         (recursive)\n",
              "│    │    └─GroupNorm: 3-32              [128, 64, 14, 14]         (recursive)\n",
              "│    │    └─ReLU: 3-33                   [128, 64, 14, 14]         --\n",
              "│    │    └─Conv2d: 3-34                 [128, 64, 14, 14]         (recursive)\n",
              "│    │    └─GroupNorm: 3-35              [128, 64, 14, 14]         (recursive)\n",
              "│    │    └─ReLU: 3-36                   [128, 64, 14, 14]         --\n",
              "│    └─TisODEfunc: 2-13                  [128, 64, 14, 14]         (recursive)\n",
              "│    │    └─Conv2d: 3-37                 [128, 64, 14, 14]         (recursive)\n",
              "│    │    └─GroupNorm: 3-38              [128, 64, 14, 14]         (recursive)\n",
              "│    │    └─ReLU: 3-39                   [128, 64, 14, 14]         --\n",
              "│    │    └─Conv2d: 3-40                 [128, 64, 14, 14]         (recursive)\n",
              "│    │    └─GroupNorm: 3-41              [128, 64, 14, 14]         (recursive)\n",
              "│    │    └─ReLU: 3-42                   [128, 64, 14, 14]         --\n",
              "│    └─TisODEfunc: 2-14                  [128, 64, 14, 14]         (recursive)\n",
              "│    │    └─Conv2d: 3-43                 [128, 64, 14, 14]         (recursive)\n",
              "│    │    └─GroupNorm: 3-44              [128, 64, 14, 14]         (recursive)\n",
              "│    │    └─ReLU: 3-45                   [128, 64, 14, 14]         --\n",
              "│    │    └─Conv2d: 3-46                 [128, 64, 14, 14]         (recursive)\n",
              "│    │    └─GroupNorm: 3-47              [128, 64, 14, 14]         (recursive)\n",
              "│    │    └─ReLU: 3-48                   [128, 64, 14, 14]         --\n",
              "│    └─TisODEfunc: 2-15                  [128, 64, 14, 14]         (recursive)\n",
              "│    │    └─Conv2d: 3-49                 [128, 64, 14, 14]         (recursive)\n",
              "│    │    └─GroupNorm: 3-50              [128, 64, 14, 14]         (recursive)\n",
              "│    │    └─ReLU: 3-51                   [128, 64, 14, 14]         --\n",
              "│    │    └─Conv2d: 3-52                 [128, 64, 14, 14]         (recursive)\n",
              "│    │    └─GroupNorm: 3-53              [128, 64, 14, 14]         (recursive)\n",
              "│    │    └─ReLU: 3-54                   [128, 64, 14, 14]         --\n",
              "│    └─TisODEfunc: 2-16                  [128, 64, 14, 14]         (recursive)\n",
              "│    │    └─Conv2d: 3-55                 [128, 64, 14, 14]         (recursive)\n",
              "│    │    └─GroupNorm: 3-56              [128, 64, 14, 14]         (recursive)\n",
              "│    │    └─ReLU: 3-57                   [128, 64, 14, 14]         --\n",
              "│    │    └─Conv2d: 3-58                 [128, 64, 14, 14]         (recursive)\n",
              "│    │    └─GroupNorm: 3-59              [128, 64, 14, 14]         (recursive)\n",
              "│    │    └─ReLU: 3-60                   [128, 64, 14, 14]         --\n",
              "├─Sequential: 1-3                        [128, 10]                 --\n",
              "│    └─FeatureDenoising: 2-17            [128, 64, 14, 14]         --\n",
              "│    │    └─Conv2d: 3-61                 [128, 64, 14, 14]         4,160\n",
              "│    │    └─GroupNorm: 3-62              [128, 64, 14, 14]         128\n",
              "│    └─AdaptiveAvgPool2d: 2-18           [128, 64, 1, 1]           --\n",
              "│    └─Flatten: 2-19                     [128, 64]                 --\n",
              "│    └─Linear: 2-20                      [128, 10]                 650\n",
              "==========================================================================================\n",
              "Total params: 146,698\n",
              "Trainable params: 146,698\n",
              "Non-trainable params: 0\n",
              "Total mult-adds (G): 20.49\n",
              "==========================================================================================\n",
              "Input size (MB): 1.57\n",
              "Forward/backward pass size (MB): 220.74\n",
              "Params size (MB): 0.59\n",
              "Estimated Total Size (MB): 222.90\n",
              "=========================================================================================="
            ]
          },
          "metadata": {
            "tags": []
          },
          "execution_count": 20
        }
      ]
    },
    {
      "cell_type": "code",
      "metadata": {
        "colab": {
          "base_uri": "https://localhost:8080/"
        },
        "id": "X-6WhntxMGzf",
        "outputId": "0d33029d-b0cc-4822-83a2-7e2a7f968cdf"
      },
      "source": [
        "class TisODE_Net_IRd(TisODE_Net):\n",
        "  def __init__(self, **kwargs):\n",
        "    kwargs['robustness'] = 'IRd'\n",
        "    super().__init__(**kwargs)\n",
        "\n",
        "model = TisODE_Net_IRd().to('cpu')\n",
        "summary(model, input_size=[vanilla_dm.batch_size, *vanilla_dm.dims])"
      ],
      "execution_count": 21,
      "outputs": [
        {
          "output_type": "execute_result",
          "data": {
            "text/plain": [
              "==========================================================================================\n",
              "Layer (type:depth-idx)                   Output Shape              Param #\n",
              "==========================================================================================\n",
              "TisODE_Net_IRd                           --                        --\n",
              "├─Sequential: 1-1                        [128, 64, 16, 16]         --\n",
              "│    └─InputRandomization: 2-1           [128, 3, 36, 36]          --\n",
              "│    └─Conv2d: 2-2                       [128, 64, 34, 34]         1,792\n",
              "│    └─GroupNorm: 2-3                    [128, 64, 34, 34]         128\n",
              "│    └─ReLU: 2-4                         [128, 64, 34, 34]         --\n",
              "│    └─Conv2d: 2-5                       [128, 64, 16, 16]         65,600\n",
              "│    └─GroupNorm: 2-6                    [128, 64, 16, 16]         128\n",
              "│    └─ReLU: 2-7                         [128, 64, 16, 16]         --\n",
              "├─ODEBlock: 1-2                          [128, 64, 16, 16]         --\n",
              "│    └─TisODEfunc: 2-8                   [128, 64, 16, 16]         --\n",
              "│    │    └─Conv2d: 3-1                  [128, 64, 16, 16]         36,928\n",
              "│    │    └─GroupNorm: 3-2               [128, 64, 16, 16]         128\n",
              "│    │    └─ReLU: 3-3                    [128, 64, 16, 16]         --\n",
              "│    │    └─Conv2d: 3-4                  [128, 64, 16, 16]         36,928\n",
              "│    │    └─GroupNorm: 3-5               [128, 64, 16, 16]         128\n",
              "│    │    └─ReLU: 3-6                    [128, 64, 16, 16]         --\n",
              "│    └─TisODEfunc: 2-9                   [128, 64, 16, 16]         (recursive)\n",
              "│    │    └─Conv2d: 3-7                  [128, 64, 16, 16]         (recursive)\n",
              "│    │    └─GroupNorm: 3-8               [128, 64, 16, 16]         (recursive)\n",
              "│    │    └─ReLU: 3-9                    [128, 64, 16, 16]         --\n",
              "│    │    └─Conv2d: 3-10                 [128, 64, 16, 16]         (recursive)\n",
              "│    │    └─GroupNorm: 3-11              [128, 64, 16, 16]         (recursive)\n",
              "│    │    └─ReLU: 3-12                   [128, 64, 16, 16]         --\n",
              "│    └─TisODEfunc: 2-10                  [128, 64, 16, 16]         (recursive)\n",
              "│    │    └─Conv2d: 3-13                 [128, 64, 16, 16]         (recursive)\n",
              "│    │    └─GroupNorm: 3-14              [128, 64, 16, 16]         (recursive)\n",
              "│    │    └─ReLU: 3-15                   [128, 64, 16, 16]         --\n",
              "│    │    └─Conv2d: 3-16                 [128, 64, 16, 16]         (recursive)\n",
              "│    │    └─GroupNorm: 3-17              [128, 64, 16, 16]         (recursive)\n",
              "│    │    └─ReLU: 3-18                   [128, 64, 16, 16]         --\n",
              "│    └─TisODEfunc: 2-11                  [128, 64, 16, 16]         (recursive)\n",
              "│    │    └─Conv2d: 3-19                 [128, 64, 16, 16]         (recursive)\n",
              "│    │    └─GroupNorm: 3-20              [128, 64, 16, 16]         (recursive)\n",
              "│    │    └─ReLU: 3-21                   [128, 64, 16, 16]         --\n",
              "│    │    └─Conv2d: 3-22                 [128, 64, 16, 16]         (recursive)\n",
              "│    │    └─GroupNorm: 3-23              [128, 64, 16, 16]         (recursive)\n",
              "│    │    └─ReLU: 3-24                   [128, 64, 16, 16]         --\n",
              "│    └─TisODEfunc: 2-12                  [128, 64, 16, 16]         (recursive)\n",
              "│    │    └─Conv2d: 3-25                 [128, 64, 16, 16]         (recursive)\n",
              "│    │    └─GroupNorm: 3-26              [128, 64, 16, 16]         (recursive)\n",
              "│    │    └─ReLU: 3-27                   [128, 64, 16, 16]         --\n",
              "│    │    └─Conv2d: 3-28                 [128, 64, 16, 16]         (recursive)\n",
              "│    │    └─GroupNorm: 3-29              [128, 64, 16, 16]         (recursive)\n",
              "│    │    └─ReLU: 3-30                   [128, 64, 16, 16]         --\n",
              "│    └─TisODEfunc: 2-13                  [128, 64, 16, 16]         (recursive)\n",
              "│    │    └─Conv2d: 3-31                 [128, 64, 16, 16]         (recursive)\n",
              "│    │    └─GroupNorm: 3-32              [128, 64, 16, 16]         (recursive)\n",
              "│    │    └─ReLU: 3-33                   [128, 64, 16, 16]         --\n",
              "│    │    └─Conv2d: 3-34                 [128, 64, 16, 16]         (recursive)\n",
              "│    │    └─GroupNorm: 3-35              [128, 64, 16, 16]         (recursive)\n",
              "│    │    └─ReLU: 3-36                   [128, 64, 16, 16]         --\n",
              "│    └─TisODEfunc: 2-14                  [128, 64, 16, 16]         (recursive)\n",
              "│    │    └─Conv2d: 3-37                 [128, 64, 16, 16]         (recursive)\n",
              "│    │    └─GroupNorm: 3-38              [128, 64, 16, 16]         (recursive)\n",
              "│    │    └─ReLU: 3-39                   [128, 64, 16, 16]         --\n",
              "│    │    └─Conv2d: 3-40                 [128, 64, 16, 16]         (recursive)\n",
              "│    │    └─GroupNorm: 3-41              [128, 64, 16, 16]         (recursive)\n",
              "│    │    └─ReLU: 3-42                   [128, 64, 16, 16]         --\n",
              "│    └─TisODEfunc: 2-15                  [128, 64, 16, 16]         (recursive)\n",
              "│    │    └─Conv2d: 3-43                 [128, 64, 16, 16]         (recursive)\n",
              "│    │    └─GroupNorm: 3-44              [128, 64, 16, 16]         (recursive)\n",
              "│    │    └─ReLU: 3-45                   [128, 64, 16, 16]         --\n",
              "│    │    └─Conv2d: 3-46                 [128, 64, 16, 16]         (recursive)\n",
              "│    │    └─GroupNorm: 3-47              [128, 64, 16, 16]         (recursive)\n",
              "│    │    └─ReLU: 3-48                   [128, 64, 16, 16]         --\n",
              "│    └─TisODEfunc: 2-16                  [128, 64, 16, 16]         (recursive)\n",
              "│    │    └─Conv2d: 3-49                 [128, 64, 16, 16]         (recursive)\n",
              "│    │    └─GroupNorm: 3-50              [128, 64, 16, 16]         (recursive)\n",
              "│    │    └─ReLU: 3-51                   [128, 64, 16, 16]         --\n",
              "│    │    └─Conv2d: 3-52                 [128, 64, 16, 16]         (recursive)\n",
              "│    │    └─GroupNorm: 3-53              [128, 64, 16, 16]         (recursive)\n",
              "│    │    └─ReLU: 3-54                   [128, 64, 16, 16]         --\n",
              "│    └─TisODEfunc: 2-17                  [128, 64, 16, 16]         (recursive)\n",
              "│    │    └─Conv2d: 3-55                 [128, 64, 16, 16]         (recursive)\n",
              "│    │    └─GroupNorm: 3-56              [128, 64, 16, 16]         (recursive)\n",
              "│    │    └─ReLU: 3-57                   [128, 64, 16, 16]         --\n",
              "│    │    └─Conv2d: 3-58                 [128, 64, 16, 16]         (recursive)\n",
              "│    │    └─GroupNorm: 3-59              [128, 64, 16, 16]         (recursive)\n",
              "│    │    └─ReLU: 3-60                   [128, 64, 16, 16]         --\n",
              "├─Sequential: 1-3                        [128, 10]                 --\n",
              "│    └─AdaptiveAvgPool2d: 2-18           [128, 64, 1, 1]           --\n",
              "│    └─Flatten: 2-19                     [128, 64]                 --\n",
              "│    └─Linear: 2-20                      [128, 10]                 650\n",
              "==========================================================================================\n",
              "Total params: 142,410\n",
              "Trainable params: 142,410\n",
              "Non-trainable params: 0\n",
              "Total mult-adds (G): 26.62\n",
              "==========================================================================================\n",
              "Input size (MB): 1.57\n",
              "Forward/backward pass size (MB): 252.19\n",
              "Params size (MB): 0.57\n",
              "Estimated Total Size (MB): 254.34\n",
              "=========================================================================================="
            ]
          },
          "metadata": {
            "tags": []
          },
          "execution_count": 21
        }
      ]
    },
    {
      "cell_type": "markdown",
      "metadata": {
        "id": "fI_nTBbQUVIc"
      },
      "source": [
        "# Train models"
      ]
    },
    {
      "cell_type": "code",
      "metadata": {
        "id": "SFAE6BEuUYEo"
      },
      "source": [
        "#Hyperparameters\n",
        "hp = {'optimizer': 'Adam',\n",
        "  'weight_decay': 0.0005,\n",
        "  'epochs': 250,  # But it can stop early if not improving\n",
        "  'learning_rate': 0.001,\n",
        "  'plateau_min_delta': 0.01,\n",
        "  'plateau_patience': 2,\n",
        "  'plateau_cooldown': 0,\n",
        "  'early_stopping_min_delta': 0.02,\n",
        "  'early_stopping_patience': 5}"
      ],
      "execution_count": 22,
      "outputs": []
    },
    {
      "cell_type": "markdown",
      "metadata": {
        "id": "tCeqTrPwUgoU"
      },
      "source": [
        "## Train CNN models"
      ]
    },
    {
      "cell_type": "code",
      "metadata": {
        "id": "YNHfAt8aUYKg"
      },
      "source": [
        "if 'CNN' in models_to_train:\n",
        "  systems, trainers = utils.train_and_save(CNN_Net, vanilla_dm, seeds, **hp)"
      ],
      "execution_count": null,
      "outputs": []
    },
    {
      "cell_type": "code",
      "metadata": {
        "id": "UoIYfZhuUkt6"
      },
      "source": [
        "if 'CNN_aug' in models_to_train:\n",
        "  systems, trainers = utils.train_and_save(CNN_Net, augmented_dm, seeds, **hp)"
      ],
      "execution_count": null,
      "outputs": []
    },
    {
      "cell_type": "code",
      "metadata": {
        "id": "eAjlHQ0mUv12"
      },
      "source": [
        "if 'CNN_FDn' in models_to_train:\n",
        "  systems, trainers = utils.train_and_save(CNN_Net_FDn, augmented_dm, seeds, **hp)"
      ],
      "execution_count": null,
      "outputs": []
    },
    {
      "cell_type": "code",
      "metadata": {
        "id": "IhE-Nsh7L4-8"
      },
      "source": [
        "if 'CNN_IRd' in models_to_train:\n",
        "  systems, trainers = utils.train_and_save(CNN_Net_IRd, augmented_dm, seeds, **hp)"
      ],
      "execution_count": null,
      "outputs": []
    },
    {
      "cell_type": "markdown",
      "metadata": {
        "id": "_ahu6qlPUnDF"
      },
      "source": [
        "## Train NeuralODE models"
      ]
    },
    {
      "cell_type": "code",
      "metadata": {
        "id": "hbXqv8bcUq6O"
      },
      "source": [
        "if 'ODE_Net' in models_to_train:\n",
        "  systems, trainers = utils.train_and_save(ODE_Net, vanilla_dm, seeds, **hp)"
      ],
      "execution_count": null,
      "outputs": []
    },
    {
      "cell_type": "code",
      "metadata": {
        "id": "_PWum_wwU1ss"
      },
      "source": [
        "if 'ODE_Net_aug' in models_to_train:\n",
        "  systems, trainers = utils.train_and_save(ODE_Net, augmented_dm, seeds, **hp)"
      ],
      "execution_count": null,
      "outputs": []
    },
    {
      "cell_type": "markdown",
      "metadata": {
        "id": "lHrf2M3nU5GR"
      },
      "source": [
        "## Train TisODE models"
      ]
    },
    {
      "cell_type": "code",
      "metadata": {
        "id": "chttbpsV6ISH"
      },
      "source": [
        "#Hyperparameters\n",
        "hp = {'optimizer': 'Adam',\n",
        "  'weight_decay': 0.0005,\n",
        "  'epochs': 50,\n",
        "  'learning_rate': 0.001,\n",
        "  'plateau_min_delta': 0.01,\n",
        "  'plateau_patience': 2,\n",
        "  'plateau_cooldown': 0,\n",
        "  'early_stopping_min_delta': 0.02,\n",
        "  'early_stopping_patience': 5,\n",
        "  'start_regularization': 5}"
      ],
      "execution_count": 29,
      "outputs": []
    },
    {
      "cell_type": "code",
      "metadata": {
        "id": "NkJWQyZAU7K1"
      },
      "source": [
        "if 'TisODE_aug' in models_to_train:\n",
        "  systems, trainers = utils.train_and_save(TisODE_Net, augmented_dm, seeds, **hp)"
      ],
      "execution_count": 30,
      "outputs": []
    },
    {
      "cell_type": "code",
      "metadata": {
        "id": "CxiVUbIWU9cf"
      },
      "source": [
        "if 'TisODE_FDn' in models_to_train:\n",
        "  systems, trainers = utils.train_and_save(TisODE_Net_FDn, augmented_dm, seeds, **hp)"
      ],
      "execution_count": 31,
      "outputs": []
    },
    {
      "cell_type": "code",
      "metadata": {
        "id": "a8S12LISL8U-"
      },
      "source": [
        "if 'TisODE_IRd' in models_to_train:\n",
        "  systems, trainers = utils.train_and_save(TisODE_Net_IRd, augmented_dm, seeds, **hp)"
      ],
      "execution_count": 32,
      "outputs": []
    },
    {
      "cell_type": "markdown",
      "metadata": {
        "id": "Q4O0oOTaAa4D"
      },
      "source": [
        "# Results"
      ]
    },
    {
      "cell_type": "markdown",
      "metadata": {
        "id": "a9xb01Ir6Kvl"
      },
      "source": [
        "## Models trained on non-perturbed images\n",
        "\n",
        "Compare to Table 1 in Section 3.2 of the paper."
      ]
    },
    {
      "cell_type": "code",
      "metadata": {
        "id": "Q6SACgDer7Ah",
        "colab": {
          "base_uri": "https://localhost:8080/"
        },
        "outputId": "c1f85a0d-21a0-445e-fdf6-bb1da1b18ec6"
      },
      "source": [
        "# Verify model against unmodified dataset test data\n",
        "models = utils.load_models(vanilla_dm, CNN_Net, seeds)\n",
        "results = utils.test_models(models, vanilla_dm, {0: vanilla_dm})"
      ],
      "execution_count": 33,
      "outputs": [
        {
          "output_type": "stream",
          "text": [
            "CNN_Net gaussian=0: accuracy=93.4 ± 0.3\n"
          ],
          "name": "stderr"
        }
      ]
    },
    {
      "cell_type": "code",
      "metadata": {
        "id": "eQuGDqm41k00"
      },
      "source": [
        "gauss_test_sets1 = {std: SVHNDataModule(test_gaussian_noise=std) for std in std_list}\n",
        "for gauss_strength, dm in gauss_test_sets1.items():\n",
        "  dm.setup()"
      ],
      "execution_count": 34,
      "outputs": []
    },
    {
      "cell_type": "code",
      "metadata": {
        "id": "Ztge_53DtNSr",
        "colab": {
          "base_uri": "https://localhost:8080/"
        },
        "outputId": "7597cb71-8949-4bd6-ff14-f7366c81c8df"
      },
      "source": [
        "models = utils.load_models(vanilla_dm, CNN_Net, seeds)\n",
        "results = utils.test_models(models, vanilla_dm, gauss_test_sets1,\n",
        "                            [3/255, 5/255, 8/255])\n"
      ],
      "execution_count": 35,
      "outputs": [
        {
          "output_type": "stream",
          "text": [
            "CNN_Net gaussian=15: accuracy=87.4 ± 0.4\n",
            "CNN_Net gaussian=25: accuracy=75.2 ± 1.0\n",
            "CNN_Net gaussian=35: accuracy=61.8 ± 1.4\n",
            "CNN_Net fgsm=0.011764705882352941: accuracy=35.2 ± 0.7\n",
            "CNN_Net fgsm=0.0196078431372549: accuracy=18.0 ± 0.3\n",
            "CNN_Net fgsm=0.03137254901960784: accuracy=7.7 ± 0.3\n"
          ],
          "name": "stderr"
        }
      ]
    },
    {
      "cell_type": "code",
      "metadata": {
        "id": "Cniztx57BSH3",
        "colab": {
          "base_uri": "https://localhost:8080/"
        },
        "outputId": "14bdb329-ec40-412c-dcac-494456643b7e"
      },
      "source": [
        "models = utils.load_models(vanilla_dm, ODE_Net, seeds)\n",
        "results = utils.test_models(models, vanilla_dm, gauss_test_sets1,\n",
        "                            [3/255, 5/255, 8/255])"
      ],
      "execution_count": 36,
      "outputs": [
        {
          "output_type": "stream",
          "text": [
            "ODE_Net gaussian=15: accuracy=90.8 ± 0.7\n",
            "ODE_Net gaussian=25: accuracy=82.7 ± 1.6\n",
            "ODE_Net gaussian=35: accuracy=72.1 ± 2.2\n",
            "ODE_Net fgsm=0.011764705882352941: accuracy=62.8 ± 0.9\n",
            "ODE_Net fgsm=0.0196078431372549: accuracy=46.2 ± 0.5\n",
            "ODE_Net fgsm=0.03137254901960784: accuracy=31.0 ± 0.6\n"
          ],
          "name": "stderr"
        }
      ]
    },
    {
      "cell_type": "markdown",
      "metadata": {
        "id": "crgKNtC_vtmD"
      },
      "source": [
        "## Models trained on original images together with Gaussian perturbations\n",
        "\n",
        "Compare to Table 2 in Section 3.3 of the paper and Table 3 in Section 4.2 of the paper."
      ]
    },
    {
      "cell_type": "code",
      "metadata": {
        "id": "7IgpwDBlCC8-"
      },
      "source": [
        "gauss_test_sets2 = {std: SVHNDataModule(test_gaussian_noise=std) for std in [35]}\n",
        "for gauss_strength, dm in gauss_test_sets2.items():\n",
        "  dm.setup()"
      ],
      "execution_count": 37,
      "outputs": []
    },
    {
      "cell_type": "code",
      "metadata": {
        "id": "peYprvpmA5yS",
        "colab": {
          "base_uri": "https://localhost:8080/"
        },
        "outputId": "3d984e24-92f4-4ae0-d0bb-00b4365227ff"
      },
      "source": [
        "models = utils.load_models(augmented_dm, CNN_Net, seeds)\n",
        "results = utils.test_models(models, vanilla_dm, gauss_test_sets2,\n",
        "                            [5/255, 8/255],\n",
        "                            [3/255, 5/255])"
      ],
      "execution_count": 38,
      "outputs": [
        {
          "output_type": "stream",
          "text": [
            "CNN_Net_aug gaussian=35: accuracy=85.5 ± 0.3\n",
            "CNN_Net_aug fgsm=0.0196078431372549: accuracy=32.4 ± 0.8\n",
            "CNN_Net_aug fgsm=0.03137254901960784: accuracy=16.7 ± 0.8\n",
            "CNN_Net_aug pdg=0.011764705882352941: accuracy=48.1 ± 0.1\n",
            "CNN_Net_aug pdg=0.0196078431372549: accuracy=24.5 ± 0.3\n"
          ],
          "name": "stderr"
        }
      ]
    },
    {
      "cell_type": "code",
      "metadata": {
        "id": "k0hL-D_ywKa8",
        "colab": {
          "base_uri": "https://localhost:8080/"
        },
        "outputId": "b90ceb8e-3d3f-4982-8a5b-8fc6bdc15891"
      },
      "source": [
        "models = utils.load_models(augmented_dm, ODE_Net, seeds)\n",
        "results = utils.test_models(models, vanilla_dm, gauss_test_sets2,\n",
        "                            [5/255, 8/255],\n",
        "                            [3/255, 5/255])"
      ],
      "execution_count": 39,
      "outputs": [
        {
          "output_type": "stream",
          "text": [
            "ODE_Net_aug gaussian=35: accuracy=86.0 ± 1.7\n",
            "ODE_Net_aug fgsm=0.0196078431372549: accuracy=53.4 ± 4.0\n",
            "ODE_Net_aug fgsm=0.03137254901960784: accuracy=36.7 ± 4.0\n",
            "ODE_Net_aug pdg=0.011764705882352941: accuracy=67.9 ± 3.6\n",
            "ODE_Net_aug pdg=0.0196078431372549: accuracy=47.5 ± 4.2\n"
          ],
          "name": "stderr"
        }
      ]
    },
    {
      "cell_type": "code",
      "metadata": {
        "id": "qtD1qgRPCdZx",
        "colab": {
          "base_uri": "https://localhost:8080/"
        },
        "outputId": "c62c670e-97b1-4f15-e181-c137fe490fba"
      },
      "source": [
        "models = utils.load_models(augmented_dm, TisODE_Net, seeds)\n",
        "results = utils.test_models(models, vanilla_dm, gauss_test_sets2,\n",
        "                            [5/255, 8/255],\n",
        "                            [3/255, 5/255])"
      ],
      "execution_count": 40,
      "outputs": [
        {
          "output_type": "stream",
          "text": [
            "/usr/local/lib/python3.7/dist-packages/torchdiffeq/_impl/misc.py:296: UserWarning: t is not on the same device as y0. Coercing to y0.device.\n",
            "  warnings.warn(\"t is not on the same device as y0. Coercing to y0.device.\")\n",
            "TisODE_Net_aug gaussian=35: accuracy=66.4 ± 5.4\n",
            "TisODE_Net_aug fgsm=0.0196078431372549: accuracy=38.2 ± 5.3\n",
            "TisODE_Net_aug fgsm=0.03137254901960784: accuracy=24.6 ± 4.1\n",
            "TisODE_Net_aug pdg=0.011764705882352941: accuracy=51.7 ± 5.7\n",
            "TisODE_Net_aug pdg=0.0196078431372549: accuracy=34.8 ± 5.2\n"
          ],
          "name": "stderr"
        }
      ]
    },
    {
      "cell_type": "markdown",
      "metadata": {
        "id": "vCYh7fFSiPbY"
      },
      "source": [
        "## Models with added layers to improve robustness\n",
        "\n",
        "Compare to Table 4 in Section 4.3 of the paper."
      ]
    },
    {
      "cell_type": "code",
      "metadata": {
        "id": "z1lDvw55C8Rk",
        "colab": {
          "base_uri": "https://localhost:8080/"
        },
        "outputId": "e7b4ba57-f4ad-4b93-e69e-5135b1d7cb17"
      },
      "source": [
        "# This is a repeat of above\n",
        "models = utils.load_models(augmented_dm, CNN_Net, seeds)\n",
        "results = utils.test_models(models, vanilla_dm, gauss_test_sets2,\n",
        "                            [5/255, 8/255],\n",
        "                            [3/255, 5/255])"
      ],
      "execution_count": 41,
      "outputs": [
        {
          "output_type": "stream",
          "text": [
            "CNN_Net_aug gaussian=35: accuracy=85.5 ± 0.3\n",
            "CNN_Net_aug fgsm=0.0196078431372549: accuracy=32.4 ± 0.8\n",
            "CNN_Net_aug fgsm=0.03137254901960784: accuracy=16.7 ± 0.8\n",
            "CNN_Net_aug pdg=0.011764705882352941: accuracy=48.1 ± 0.1\n",
            "CNN_Net_aug pdg=0.0196078431372549: accuracy=24.5 ± 0.3\n"
          ],
          "name": "stderr"
        }
      ]
    },
    {
      "cell_type": "code",
      "metadata": {
        "id": "-eKzunDXDCHI",
        "colab": {
          "base_uri": "https://localhost:8080/"
        },
        "outputId": "7046af28-abd8-4ede-83e0-40c9f20a5d9e"
      },
      "source": [
        "models = utils.load_models(augmented_dm, CNN_Net_FDn, seeds)\n",
        "results = utils.test_models(models, vanilla_dm, gauss_test_sets2,\n",
        "                            [5/255, 8/255],\n",
        "                            [3/255, 5/255])"
      ],
      "execution_count": 42,
      "outputs": [
        {
          "output_type": "stream",
          "text": [
            "CNN_Net_FDn_aug gaussian=35: accuracy=85.7 ± 1.4\n",
            "CNN_Net_FDn_aug fgsm=0.0196078431372549: accuracy=39.4 ± 0.4\n",
            "CNN_Net_FDn_aug fgsm=0.03137254901960784: accuracy=24.5 ± 0.7\n",
            "CNN_Net_FDn_aug pdg=0.011764705882352941: accuracy=49.9 ± 2.3\n",
            "CNN_Net_FDn_aug pdg=0.0196078431372549: accuracy=27.1 ± 2.2\n"
          ],
          "name": "stderr"
        }
      ]
    },
    {
      "cell_type": "code",
      "metadata": {
        "id": "p1N39pmtP4ch",
        "colab": {
          "base_uri": "https://localhost:8080/"
        },
        "outputId": "51236eb7-2e3b-4aa8-9eb6-e60cb150c2da"
      },
      "source": [
        "models = utils.load_models(augmented_dm, TisODE_Net_FDn, seeds)\n",
        "results = utils.test_models(models, vanilla_dm, gauss_test_sets2,\n",
        "                            [5/255, 8/255],\n",
        "                            [3/255, 5/255])"
      ],
      "execution_count": 44,
      "outputs": [
        {
          "output_type": "stream",
          "text": [
            "/usr/local/lib/python3.7/dist-packages/torchdiffeq/_impl/misc.py:296: UserWarning: t is not on the same device as y0. Coercing to y0.device.\n",
            "  warnings.warn(\"t is not on the same device as y0. Coercing to y0.device.\")\n",
            "TisODE_Net_FDn_aug gaussian=35: accuracy=66.7 ± 1.1\n",
            "TisODE_Net_FDn_aug fgsm=0.0196078431372549: accuracy=39.3 ± 0.2\n",
            "TisODE_Net_FDn_aug fgsm=0.03137254901960784: accuracy=26.5 ± 0.6\n",
            "TisODE_Net_FDn_aug pdg=0.011764705882352941: accuracy=51.7 ± 0.7\n",
            "TisODE_Net_FDn_aug pdg=0.0196078431372549: accuracy=34.5 ± 0.7\n"
          ],
          "name": "stderr"
        }
      ]
    },
    {
      "cell_type": "code",
      "metadata": {
        "id": "Mg62EM3aQFI8",
        "colab": {
          "base_uri": "https://localhost:8080/"
        },
        "outputId": "e2bbdbc3-2fa2-4f15-fda0-ed723c2e5375"
      },
      "source": [
        "models = utils.load_models(augmented_dm, CNN_Net_IRd, seeds)\n",
        "results = utils.test_models(models, vanilla_dm, gauss_test_sets2,\n",
        "                            [5/255, 8/255],\n",
        "                            [3/255, 5/255])"
      ],
      "execution_count": 45,
      "outputs": [
        {
          "output_type": "stream",
          "text": [
            "CNN_Net_IRd_aug gaussian=35: accuracy=83.4 ± 2.1\n",
            "CNN_Net_IRd_aug fgsm=0.0196078431372549: accuracy=39.1 ± 2.3\n",
            "CNN_Net_IRd_aug fgsm=0.03137254901960784: accuracy=22.1 ± 1.9\n",
            "CNN_Net_IRd_aug pdg=0.011764705882352941: accuracy=56.9 ± 1.4\n",
            "CNN_Net_IRd_aug pdg=0.0196078431372549: accuracy=32.6 ± 1.5\n"
          ],
          "name": "stderr"
        }
      ]
    },
    {
      "cell_type": "code",
      "metadata": {
        "id": "Wbi4XU2wQHFN",
        "colab": {
          "base_uri": "https://localhost:8080/"
        },
        "outputId": "382679ed-66fa-4762-dd2b-8aea0c83eaed"
      },
      "source": [
        "models = utils.load_models(augmented_dm, TisODE_Net_IRd, seeds)\n",
        "results = utils.test_models(models, vanilla_dm, gauss_test_sets2,\n",
        "                            [5/255, 8/255],\n",
        "                            [3/255, 5/255])"
      ],
      "execution_count": 46,
      "outputs": [
        {
          "output_type": "stream",
          "text": [
            "/usr/local/lib/python3.7/dist-packages/torchdiffeq/_impl/misc.py:296: UserWarning: t is not on the same device as y0. Coercing to y0.device.\n",
            "  warnings.warn(\"t is not on the same device as y0. Coercing to y0.device.\")\n",
            "TisODE_Net_IRd_aug gaussian=35: accuracy=52.2 ± 10.8\n",
            "TisODE_Net_IRd_aug fgsm=0.0196078431372549: accuracy=31.2 ± 5.9\n",
            "TisODE_Net_IRd_aug fgsm=0.03137254901960784: accuracy=20.1 ± 4.1\n",
            "TisODE_Net_IRd_aug pdg=0.011764705882352941: accuracy=42.5 ± 7.6\n",
            "TisODE_Net_IRd_aug pdg=0.0196078431372549: accuracy=29.0 ± 4.9\n"
          ],
          "name": "stderr"
        }
      ]
    }
  ]
}